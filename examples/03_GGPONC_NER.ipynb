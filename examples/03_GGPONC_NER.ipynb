{
 "cells": [
  {
   "cell_type": "markdown",
   "id": "6a3e8444-54ec-41a2-aaef-3849a22cde57",
   "metadata": {},
   "source": [
    "# Combinining NER models with xMEN for German Clinical Entity Linking"
   ]
  },
  {
   "cell_type": "markdown",
   "id": "eace0372-6610-4a03-bab6-32e186911bac",
   "metadata": {},
   "source": [
    "## Preparation"
   ]
  },
  {
   "cell_type": "markdown",
   "id": "eea526a0-3ee4-4a8c-87e2-b5420c33934a",
   "metadata": {},
   "source": [
    "### Get access to GGPONC Models\n",
    "\n",
    "https://www.leitlinienprogramm-onkologie.de/projekte/ggponc-english/\n",
    "\n",
    "Download the spaCy model from the v2.0 release (`models` folder) into a location of your choice (we assume `../local_files/ggponc/spacy`)."
   ]
  },
  {
   "cell_type": "markdown",
   "id": "f216b159-7112-473e-a09e-6eff33fa7a34",
   "metadata": {},
   "source": [
    "### Prepare dicts and index\n",
    "\n",
    "`xmen dict conf/ggponc.yaml`\n",
    "\n",
    "`xmen index conf/ggponc.yaml --all --overwrite`"
   ]
  },
  {
   "cell_type": "code",
   "execution_count": 1,
   "id": "36ccc48a-b6fa-4f89-8152-38b336560d92",
   "metadata": {},
   "outputs": [
    {
     "name": "stdout",
     "output_type": "stream",
     "text": [
      "Requirement already satisfied: spacy-transformers in /home/Florian.Borchert/miniconda3/envs/xmen_notebooks/lib/python3.10/site-packages (1.1.5)\n",
      "Requirement already satisfied: srsly<3.0.0,>=2.4.0 in /home/Florian.Borchert/miniconda3/envs/xmen_notebooks/lib/python3.10/site-packages (from spacy-transformers) (2.4.6)\n",
      "Requirement already satisfied: spacy-alignments<1.0.0,>=0.7.2 in /home/Florian.Borchert/miniconda3/envs/xmen_notebooks/lib/python3.10/site-packages (from spacy-transformers) (0.9.0)\n",
      "Requirement already satisfied: torch>=1.6.0 in /home/Florian.Borchert/miniconda3/envs/xmen_notebooks/lib/python3.10/site-packages (from spacy-transformers) (1.13.1)\n",
      "Requirement already satisfied: spacy<4.0.0,>=3.1.3 in /home/Florian.Borchert/miniconda3/envs/xmen_notebooks/lib/python3.10/site-packages (from spacy-transformers) (3.4.4)\n",
      "Requirement already satisfied: transformers<4.18.0,>=3.4.0 in /home/Florian.Borchert/miniconda3/envs/xmen_notebooks/lib/python3.10/site-packages (from spacy-transformers) (4.17.0)\n",
      "Requirement already satisfied: tqdm<5.0.0,>=4.38.0 in /home/Florian.Borchert/miniconda3/envs/xmen_notebooks/lib/python3.10/site-packages (from spacy<4.0.0,>=3.1.3->spacy-transformers) (4.65.0)\n",
      "Requirement already satisfied: langcodes<4.0.0,>=3.2.0 in /home/Florian.Borchert/miniconda3/envs/xmen_notebooks/lib/python3.10/site-packages (from spacy<4.0.0,>=3.1.3->spacy-transformers) (3.3.0)\n",
      "Requirement already satisfied: setuptools in /home/Florian.Borchert/miniconda3/envs/xmen_notebooks/lib/python3.10/site-packages (from spacy<4.0.0,>=3.1.3->spacy-transformers) (67.7.2)\n",
      "Requirement already satisfied: pathy>=0.3.5 in /home/Florian.Borchert/miniconda3/envs/xmen_notebooks/lib/python3.10/site-packages (from spacy<4.0.0,>=3.1.3->spacy-transformers) (0.10.1)\n",
      "Requirement already satisfied: packaging>=20.0 in /home/Florian.Borchert/miniconda3/envs/xmen_notebooks/lib/python3.10/site-packages (from spacy<4.0.0,>=3.1.3->spacy-transformers) (23.1)\n",
      "Requirement already satisfied: spacy-legacy<3.1.0,>=3.0.10 in /home/Florian.Borchert/miniconda3/envs/xmen_notebooks/lib/python3.10/site-packages (from spacy<4.0.0,>=3.1.3->spacy-transformers) (3.0.12)\n",
      "Requirement already satisfied: smart-open<7.0.0,>=5.2.1 in /home/Florian.Borchert/miniconda3/envs/xmen_notebooks/lib/python3.10/site-packages (from spacy<4.0.0,>=3.1.3->spacy-transformers) (6.3.0)\n",
      "Requirement already satisfied: wasabi<1.1.0,>=0.9.1 in /home/Florian.Borchert/miniconda3/envs/xmen_notebooks/lib/python3.10/site-packages (from spacy<4.0.0,>=3.1.3->spacy-transformers) (0.10.1)\n",
      "Requirement already satisfied: pydantic!=1.8,!=1.8.1,<1.11.0,>=1.7.4 in /home/Florian.Borchert/miniconda3/envs/xmen_notebooks/lib/python3.10/site-packages (from spacy<4.0.0,>=3.1.3->spacy-transformers) (1.10.7)\n",
      "Requirement already satisfied: typer<0.8.0,>=0.3.0 in /home/Florian.Borchert/miniconda3/envs/xmen_notebooks/lib/python3.10/site-packages (from spacy<4.0.0,>=3.1.3->spacy-transformers) (0.7.0)\n",
      "Requirement already satisfied: spacy-loggers<2.0.0,>=1.0.0 in /home/Florian.Borchert/miniconda3/envs/xmen_notebooks/lib/python3.10/site-packages (from spacy<4.0.0,>=3.1.3->spacy-transformers) (1.0.4)\n",
      "Requirement already satisfied: requests<3.0.0,>=2.13.0 in /home/Florian.Borchert/miniconda3/envs/xmen_notebooks/lib/python3.10/site-packages (from spacy<4.0.0,>=3.1.3->spacy-transformers) (2.30.0)\n",
      "Requirement already satisfied: thinc<8.2.0,>=8.1.0 in /home/Florian.Borchert/miniconda3/envs/xmen_notebooks/lib/python3.10/site-packages (from spacy<4.0.0,>=3.1.3->spacy-transformers) (8.1.10)\n",
      "Requirement already satisfied: jinja2 in /home/Florian.Borchert/miniconda3/envs/xmen_notebooks/lib/python3.10/site-packages (from spacy<4.0.0,>=3.1.3->spacy-transformers) (3.1.2)\n",
      "Requirement already satisfied: numpy>=1.15.0 in /home/Florian.Borchert/miniconda3/envs/xmen_notebooks/lib/python3.10/site-packages (from spacy<4.0.0,>=3.1.3->spacy-transformers) (1.24.3)\n",
      "Requirement already satisfied: cymem<2.1.0,>=2.0.2 in /home/Florian.Borchert/miniconda3/envs/xmen_notebooks/lib/python3.10/site-packages (from spacy<4.0.0,>=3.1.3->spacy-transformers) (2.0.7)\n",
      "Requirement already satisfied: catalogue<2.1.0,>=2.0.6 in /home/Florian.Borchert/miniconda3/envs/xmen_notebooks/lib/python3.10/site-packages (from spacy<4.0.0,>=3.1.3->spacy-transformers) (2.0.8)\n",
      "Requirement already satisfied: preshed<3.1.0,>=3.0.2 in /home/Florian.Borchert/miniconda3/envs/xmen_notebooks/lib/python3.10/site-packages (from spacy<4.0.0,>=3.1.3->spacy-transformers) (3.0.8)\n",
      "Requirement already satisfied: murmurhash<1.1.0,>=0.28.0 in /home/Florian.Borchert/miniconda3/envs/xmen_notebooks/lib/python3.10/site-packages (from spacy<4.0.0,>=3.1.3->spacy-transformers) (1.0.9)\n",
      "Requirement already satisfied: nvidia-cudnn-cu11==8.5.0.96 in /home/Florian.Borchert/miniconda3/envs/xmen_notebooks/lib/python3.10/site-packages (from torch>=1.6.0->spacy-transformers) (8.5.0.96)\n",
      "Requirement already satisfied: nvidia-cuda-nvrtc-cu11==11.7.99 in /home/Florian.Borchert/miniconda3/envs/xmen_notebooks/lib/python3.10/site-packages (from torch>=1.6.0->spacy-transformers) (11.7.99)\n",
      "Requirement already satisfied: nvidia-cublas-cu11==11.10.3.66 in /home/Florian.Borchert/miniconda3/envs/xmen_notebooks/lib/python3.10/site-packages (from torch>=1.6.0->spacy-transformers) (11.10.3.66)\n",
      "Requirement already satisfied: typing-extensions in /home/Florian.Borchert/miniconda3/envs/xmen_notebooks/lib/python3.10/site-packages (from torch>=1.6.0->spacy-transformers) (4.6.3)\n",
      "Requirement already satisfied: nvidia-cuda-runtime-cu11==11.7.99 in /home/Florian.Borchert/miniconda3/envs/xmen_notebooks/lib/python3.10/site-packages (from torch>=1.6.0->spacy-transformers) (11.7.99)\n",
      "Requirement already satisfied: wheel in /home/Florian.Borchert/miniconda3/envs/xmen_notebooks/lib/python3.10/site-packages (from nvidia-cublas-cu11==11.10.3.66->torch>=1.6.0->spacy-transformers) (0.40.0)\n",
      "Requirement already satisfied: sacremoses in /home/Florian.Borchert/miniconda3/envs/xmen_notebooks/lib/python3.10/site-packages (from transformers<4.18.0,>=3.4.0->spacy-transformers) (0.0.53)\n",
      "Requirement already satisfied: regex!=2019.12.17 in /home/Florian.Borchert/miniconda3/envs/xmen_notebooks/lib/python3.10/site-packages (from transformers<4.18.0,>=3.4.0->spacy-transformers) (2023.5.5)\n",
      "Requirement already satisfied: huggingface-hub<1.0,>=0.1.0 in /home/Florian.Borchert/miniconda3/envs/xmen_notebooks/lib/python3.10/site-packages (from transformers<4.18.0,>=3.4.0->spacy-transformers) (0.14.1)\n",
      "Requirement already satisfied: pyyaml>=5.1 in /home/Florian.Borchert/miniconda3/envs/xmen_notebooks/lib/python3.10/site-packages (from transformers<4.18.0,>=3.4.0->spacy-transformers) (6.0)\n",
      "Requirement already satisfied: filelock in /home/Florian.Borchert/miniconda3/envs/xmen_notebooks/lib/python3.10/site-packages (from transformers<4.18.0,>=3.4.0->spacy-transformers) (3.12.0)\n",
      "Requirement already satisfied: tokenizers!=0.11.3,>=0.11.1 in /home/Florian.Borchert/miniconda3/envs/xmen_notebooks/lib/python3.10/site-packages (from transformers<4.18.0,>=3.4.0->spacy-transformers) (0.13.3)\n",
      "Requirement already satisfied: fsspec in /home/Florian.Borchert/miniconda3/envs/xmen_notebooks/lib/python3.10/site-packages (from huggingface-hub<1.0,>=0.1.0->transformers<4.18.0,>=3.4.0->spacy-transformers) (2023.5.0)\n",
      "Requirement already satisfied: idna<4,>=2.5 in /home/Florian.Borchert/miniconda3/envs/xmen_notebooks/lib/python3.10/site-packages (from requests<3.0.0,>=2.13.0->spacy<4.0.0,>=3.1.3->spacy-transformers) (3.4)\n",
      "Requirement already satisfied: urllib3<3,>=1.21.1 in /home/Florian.Borchert/miniconda3/envs/xmen_notebooks/lib/python3.10/site-packages (from requests<3.0.0,>=2.13.0->spacy<4.0.0,>=3.1.3->spacy-transformers) (2.0.2)\n",
      "Requirement already satisfied: charset-normalizer<4,>=2 in /home/Florian.Borchert/miniconda3/envs/xmen_notebooks/lib/python3.10/site-packages (from requests<3.0.0,>=2.13.0->spacy<4.0.0,>=3.1.3->spacy-transformers) (3.1.0)\n",
      "Requirement already satisfied: certifi>=2017.4.17 in /home/Florian.Borchert/miniconda3/envs/xmen_notebooks/lib/python3.10/site-packages (from requests<3.0.0,>=2.13.0->spacy<4.0.0,>=3.1.3->spacy-transformers) (2023.5.7)\n",
      "Requirement already satisfied: blis<0.8.0,>=0.7.8 in /home/Florian.Borchert/miniconda3/envs/xmen_notebooks/lib/python3.10/site-packages (from thinc<8.2.0,>=8.1.0->spacy<4.0.0,>=3.1.3->spacy-transformers) (0.7.9)\n",
      "Requirement already satisfied: confection<1.0.0,>=0.0.1 in /home/Florian.Borchert/miniconda3/envs/xmen_notebooks/lib/python3.10/site-packages (from thinc<8.2.0,>=8.1.0->spacy<4.0.0,>=3.1.3->spacy-transformers) (0.0.4)\n",
      "Requirement already satisfied: click<9.0.0,>=7.1.1 in /home/Florian.Borchert/miniconda3/envs/xmen_notebooks/lib/python3.10/site-packages (from typer<0.8.0,>=0.3.0->spacy<4.0.0,>=3.1.3->spacy-transformers) (8.1.3)\n",
      "Requirement already satisfied: MarkupSafe>=2.0 in /home/Florian.Borchert/miniconda3/envs/xmen_notebooks/lib/python3.10/site-packages (from jinja2->spacy<4.0.0,>=3.1.3->spacy-transformers) (2.1.2)\n",
      "Requirement already satisfied: six in /home/Florian.Borchert/miniconda3/envs/xmen_notebooks/lib/python3.10/site-packages (from sacremoses->transformers<4.18.0,>=3.4.0->spacy-transformers) (1.16.0)\n",
      "Requirement already satisfied: joblib in /home/Florian.Borchert/miniconda3/envs/xmen_notebooks/lib/python3.10/site-packages (from sacremoses->transformers<4.18.0,>=3.4.0->spacy-transformers) (1.2.0)\n"
     ]
    }
   ],
   "source": [
    "!pip install spacy-transformers"
   ]
  },
  {
   "cell_type": "code",
   "execution_count": 2,
   "id": "90f3383e-69f6-4128-8dee-5743d7595ebf",
   "metadata": {},
   "outputs": [
    {
     "name": "stdout",
     "output_type": "stream",
     "text": [
      "fatal: destination path '../local_files/ggponc/ggponc_annotation' already exists and is not an empty directory.\n"
     ]
    }
   ],
   "source": [
    "!git clone https://github.com/hpi-dhc/ggponc_annotation ../local_files/ggponc/ggponc_annotation"
   ]
  },
  {
   "cell_type": "markdown",
   "id": "407e49a2-7a40-4982-bf1b-d15de505d039",
   "metadata": {},
   "source": [
    "# Run GGPONC NER Model on sample data"
   ]
  },
  {
   "cell_type": "code",
   "execution_count": 3,
   "id": "5793b041-e0c2-4671-bce4-1d957ac35a4a",
   "metadata": {},
   "outputs": [],
   "source": [
    "from pathlib import Path\n",
    "GGPONC_PROJECT_PATH = Path(\"../local_files/ggponc/ggponc_annotation\")\n",
    "GGPONC_MODEL_PATH = Path('../local_files/ggponc/spacy')"
   ]
  },
  {
   "cell_type": "code",
   "execution_count": 4,
   "id": "de30f132-1482-4ad7-adf7-4d598852f3c0",
   "metadata": {},
   "outputs": [],
   "source": [
    "import sys\n",
    "sys.path.append(str(GGPONC_PROJECT_PATH / 'spacy'))"
   ]
  },
  {
   "cell_type": "code",
   "execution_count": 5,
   "id": "521b389e-ce31-4e1f-9e37-29986d475a82",
   "metadata": {},
   "outputs": [
    {
     "name": "stderr",
     "output_type": "stream",
     "text": [
      "/home/Florian.Borchert/miniconda3/envs/xmen_notebooks/lib/python3.10/site-packages/spacy/util.py:877: UserWarning: [W095] Model 'de_pipeline' (0.0.0) was trained with spaCy v3.2 and may not be 100% compatible with the current version (3.4.4). If you see errors or degraded performance, download a newer compatible model or retrain your custom model with the current spaCy version. For more details and available updates, run: python -m spacy validate\n",
      "  warnings.warn(warn_msg)\n"
     ]
    }
   ],
   "source": [
    "import spacy\n",
    "import snomed_spans # Import custom span suggester and scorer for spaCy spancat \n",
    "\n",
    "nlp = spacy.load(GGPONC_MODEL_PATH)"
   ]
  },
  {
   "cell_type": "code",
   "execution_count": 6,
   "id": "8049cf19-4a70-4bac-af9a-416c4e7a60e5",
   "metadata": {},
   "outputs": [
    {
     "data": {
      "text/plain": [
       "['Cetuximab ist ein monoklonaler Antikörper, der gegen den epidermalen Wachstumsfaktorrezeptor (EGFR) gerichtet ist unddient zur Therapie des fortgeschrittenen kolorektalen Karzinoms zusammen mit Irinotecan oder in Kombination mit FOLFOX bzw. allein nach Versagen einer Behandlung mit Oxaliplatin und Irinotecan.',\n",
       " 'Die HPV-Diagnostik hat beim Plattenepithelkarzinom der Mundhöhle keinen validen Nutzen als prognostischer Faktor.',\n",
       " 'Als Alternative empfiehlt die ASCCP bei zytologischem Verdacht auf CIN 1/2 die sofortige Kolposkopie.']"
      ]
     },
     "execution_count": 6,
     "metadata": {},
     "output_type": "execute_result"
    }
   ],
   "source": [
    "sentences = [\n",
    "    \"Cetuximab ist ein monoklonaler Antikörper, der gegen den epidermalen Wachstumsfaktorrezeptor (EGFR) gerichtet ist und\" \\\n",
    "       \"dient zur Therapie des fortgeschrittenen kolorektalen Karzinoms zusammen mit Irinotecan oder in Kombination mit FOLFOX bzw. \" \\\n",
    "       \"allein nach Versagen einer Behandlung mit Oxaliplatin und Irinotecan.\",\n",
    "    \"Die HPV-Diagnostik hat beim Plattenepithelkarzinom der Mundhöhle keinen validen Nutzen als prognostischer Faktor.\",\n",
    "    \"Als Alternative empfiehlt die ASCCP bei zytologischem Verdacht auf CIN 1/2 die sofortige Kolposkopie.\"\n",
    "]\n",
    "sentences"
   ]
  },
  {
   "cell_type": "code",
   "execution_count": 7,
   "id": "5feca36d-cff3-4e02-858e-8d46c0c3d579",
   "metadata": {},
   "outputs": [],
   "source": [
    "docs = list(nlp.pipe(sentences))"
   ]
  },
  {
   "cell_type": "code",
   "execution_count": 8,
   "id": "4a663fcf-c369-4e0c-9b90-c51fecba6019",
   "metadata": {},
   "outputs": [],
   "source": [
    "import pandas as pd"
   ]
  },
  {
   "cell_type": "code",
   "execution_count": 9,
   "id": "bd0ab2ae-bd78-4c4f-bec7-e8fc119690e1",
   "metadata": {},
   "outputs": [
    {
     "data": {
      "text/html": [
       "<div>\n",
       "<style scoped>\n",
       "    .dataframe tbody tr th:only-of-type {\n",
       "        vertical-align: middle;\n",
       "    }\n",
       "\n",
       "    .dataframe tbody tr th {\n",
       "        vertical-align: top;\n",
       "    }\n",
       "\n",
       "    .dataframe thead th {\n",
       "        text-align: right;\n",
       "    }\n",
       "</style>\n",
       "<table border=\"1\" class=\"dataframe\">\n",
       "  <thead>\n",
       "    <tr style=\"text-align: right;\">\n",
       "      <th></th>\n",
       "      <th>mention</th>\n",
       "      <th>class</th>\n",
       "    </tr>\n",
       "  </thead>\n",
       "  <tbody>\n",
       "    <tr>\n",
       "      <th>0</th>\n",
       "      <td>Cetuximab</td>\n",
       "      <td>Clinical_Drug</td>\n",
       "    </tr>\n",
       "    <tr>\n",
       "      <th>1</th>\n",
       "      <td>monoklonaler Antikörper</td>\n",
       "      <td>Clinical_Drug</td>\n",
       "    </tr>\n",
       "    <tr>\n",
       "      <th>2</th>\n",
       "      <td>epidermalen Wachstumsfaktorrezeptor</td>\n",
       "      <td>Nutrient_or_Body_Substance</td>\n",
       "    </tr>\n",
       "    <tr>\n",
       "      <th>3</th>\n",
       "      <td>EGFR</td>\n",
       "      <td>Nutrient_or_Body_Substance</td>\n",
       "    </tr>\n",
       "    <tr>\n",
       "      <th>4</th>\n",
       "      <td>Therapie des fortgeschrittenen kolorektalen Ka...</td>\n",
       "      <td>Therapeutic</td>\n",
       "    </tr>\n",
       "    <tr>\n",
       "      <th>5</th>\n",
       "      <td>fortgeschrittenen kolorektalen Karzinoms</td>\n",
       "      <td>Diagnosis_or_Pathology</td>\n",
       "    </tr>\n",
       "    <tr>\n",
       "      <th>6</th>\n",
       "      <td>Irinotecan</td>\n",
       "      <td>Clinical_Drug</td>\n",
       "    </tr>\n",
       "    <tr>\n",
       "      <th>7</th>\n",
       "      <td>FOLFOX</td>\n",
       "      <td>Therapeutic</td>\n",
       "    </tr>\n",
       "    <tr>\n",
       "      <th>8</th>\n",
       "      <td>Versagen</td>\n",
       "      <td>Diagnosis_or_Pathology</td>\n",
       "    </tr>\n",
       "    <tr>\n",
       "      <th>9</th>\n",
       "      <td>Behandlung mit Oxaliplatin und Irinotecan</td>\n",
       "      <td>Therapeutic</td>\n",
       "    </tr>\n",
       "    <tr>\n",
       "      <th>10</th>\n",
       "      <td>Oxaliplatin</td>\n",
       "      <td>Clinical_Drug</td>\n",
       "    </tr>\n",
       "    <tr>\n",
       "      <th>11</th>\n",
       "      <td>Irinotecan</td>\n",
       "      <td>Clinical_Drug</td>\n",
       "    </tr>\n",
       "    <tr>\n",
       "      <th>12</th>\n",
       "      <td>HPV-Diagnostik</td>\n",
       "      <td>Diagnostic</td>\n",
       "    </tr>\n",
       "    <tr>\n",
       "      <th>13</th>\n",
       "      <td>Plattenepithelkarzinom der Mundhöhle</td>\n",
       "      <td>Diagnosis_or_Pathology</td>\n",
       "    </tr>\n",
       "    <tr>\n",
       "      <th>14</th>\n",
       "      <td>zytologischem Verdacht auf CIN 1/2</td>\n",
       "      <td>Other_Finding</td>\n",
       "    </tr>\n",
       "    <tr>\n",
       "      <th>15</th>\n",
       "      <td>sofortige Kolposkopie</td>\n",
       "      <td>Diagnostic</td>\n",
       "    </tr>\n",
       "  </tbody>\n",
       "</table>\n",
       "</div>"
      ],
      "text/plain": [
       "                                              mention   \n",
       "0                                           Cetuximab  \\\n",
       "1                             monoklonaler Antikörper   \n",
       "2                 epidermalen Wachstumsfaktorrezeptor   \n",
       "3                                                EGFR   \n",
       "4   Therapie des fortgeschrittenen kolorektalen Ka...   \n",
       "5            fortgeschrittenen kolorektalen Karzinoms   \n",
       "6                                          Irinotecan   \n",
       "7                                              FOLFOX   \n",
       "8                                            Versagen   \n",
       "9           Behandlung mit Oxaliplatin und Irinotecan   \n",
       "10                                        Oxaliplatin   \n",
       "11                                         Irinotecan   \n",
       "12                                     HPV-Diagnostik   \n",
       "13               Plattenepithelkarzinom der Mundhöhle   \n",
       "14                 zytologischem Verdacht auf CIN 1/2   \n",
       "15                              sofortige Kolposkopie   \n",
       "\n",
       "                         class  \n",
       "0                Clinical_Drug  \n",
       "1                Clinical_Drug  \n",
       "2   Nutrient_or_Body_Substance  \n",
       "3   Nutrient_or_Body_Substance  \n",
       "4                  Therapeutic  \n",
       "5       Diagnosis_or_Pathology  \n",
       "6                Clinical_Drug  \n",
       "7                  Therapeutic  \n",
       "8       Diagnosis_or_Pathology  \n",
       "9                  Therapeutic  \n",
       "10               Clinical_Drug  \n",
       "11               Clinical_Drug  \n",
       "12                  Diagnostic  \n",
       "13      Diagnosis_or_Pathology  \n",
       "14               Other_Finding  \n",
       "15                  Diagnostic  "
      ]
     },
     "execution_count": 9,
     "metadata": {},
     "output_type": "execute_result"
    }
   ],
   "source": [
    "ents = []\n",
    "for d in docs:\n",
    "    for span in sorted(d.spans['snomed'], key=lambda s: s.start):\n",
    "        ents.append({'mention' : span.text, 'class' : span.label_})\n",
    "pd.DataFrame(ents)"
   ]
  },
  {
   "cell_type": "markdown",
   "id": "0ae82793-8135-41a2-b6f5-75e39e1e57b1",
   "metadata": {},
   "source": [
    "# Run Entity Linker"
   ]
  },
  {
   "cell_type": "code",
   "execution_count": 10,
   "id": "f5b0add5-9fb7-4eb4-9495-91ee5a5c95ea",
   "metadata": {},
   "outputs": [],
   "source": [
    "from xmen.data import from_spacy\n",
    "from xmen.linkers import SapBERTLinker, TFIDFNGramLinker, EnsembleLinker\n",
    "from xmen import load_config"
   ]
  },
  {
   "cell_type": "code",
   "execution_count": 11,
   "id": "46831d66-e521-4225-9b92-a40d7b7582e4",
   "metadata": {},
   "outputs": [],
   "source": [
    "dataset = from_spacy(docs, span_key='snomed')"
   ]
  },
  {
   "cell_type": "code",
   "execution_count": 12,
   "id": "fe0976ee-7951-49cf-b582-08489f8b2918",
   "metadata": {},
   "outputs": [
    {
     "data": {
      "text/plain": [
       "{'id': 0,\n",
       " 'document_id': 0,\n",
       " 'passages': [{'id': 0,\n",
       "   'offsets': [[0, 310]],\n",
       "   'text': ['Cetuximab ist ein monoklonaler Antikörper, der gegen den epidermalen Wachstumsfaktorrezeptor (EGFR) gerichtet ist unddient zur Therapie des fortgeschrittenen kolorektalen Karzinoms zusammen mit Irinotecan oder in Kombination mit FOLFOX bzw. allein nach Versagen einer Behandlung mit Oxaliplatin und Irinotecan.'],\n",
       "   'type': 'sentence'}],\n",
       " 'entities': [{'id': 0,\n",
       "   'normalized': [],\n",
       "   'offsets': [[0, 9]],\n",
       "   'text': ['Cetuximab'],\n",
       "   'type': 'Clinical_Drug'},\n",
       "  {'id': 1,\n",
       "   'normalized': [],\n",
       "   'offsets': [[18, 41]],\n",
       "   'text': ['monoklonaler Antikörper'],\n",
       "   'type': 'Clinical_Drug'},\n",
       "  {'id': 2,\n",
       "   'normalized': [],\n",
       "   'offsets': [[57, 92]],\n",
       "   'text': ['epidermalen Wachstumsfaktorrezeptor'],\n",
       "   'type': 'Nutrient_or_Body_Substance'},\n",
       "  {'id': 3,\n",
       "   'normalized': [],\n",
       "   'offsets': [[94, 98]],\n",
       "   'text': ['EGFR'],\n",
       "   'type': 'Nutrient_or_Body_Substance'},\n",
       "  {'id': 4,\n",
       "   'normalized': [],\n",
       "   'offsets': [[127, 180]],\n",
       "   'text': ['Therapie des fortgeschrittenen kolorektalen Karzinoms'],\n",
       "   'type': 'Therapeutic'},\n",
       "  {'id': 5,\n",
       "   'normalized': [],\n",
       "   'offsets': [[140, 180]],\n",
       "   'text': ['fortgeschrittenen kolorektalen Karzinoms'],\n",
       "   'type': 'Diagnosis_or_Pathology'},\n",
       "  {'id': 6,\n",
       "   'normalized': [],\n",
       "   'offsets': [[194, 204]],\n",
       "   'text': ['Irinotecan'],\n",
       "   'type': 'Clinical_Drug'},\n",
       "  {'id': 7,\n",
       "   'normalized': [],\n",
       "   'offsets': [[229, 235]],\n",
       "   'text': ['FOLFOX'],\n",
       "   'type': 'Therapeutic'},\n",
       "  {'id': 8,\n",
       "   'normalized': [],\n",
       "   'offsets': [[253, 261]],\n",
       "   'text': ['Versagen'],\n",
       "   'type': 'Diagnosis_or_Pathology'},\n",
       "  {'id': 9,\n",
       "   'normalized': [],\n",
       "   'offsets': [[268, 309]],\n",
       "   'text': ['Behandlung mit Oxaliplatin und Irinotecan'],\n",
       "   'type': 'Therapeutic'},\n",
       "  {'id': 10,\n",
       "   'normalized': [],\n",
       "   'offsets': [[283, 294]],\n",
       "   'text': ['Oxaliplatin'],\n",
       "   'type': 'Clinical_Drug'},\n",
       "  {'id': 11,\n",
       "   'normalized': [],\n",
       "   'offsets': [[299, 309]],\n",
       "   'text': ['Irinotecan'],\n",
       "   'type': 'Clinical_Drug'}]}"
      ]
     },
     "execution_count": 12,
     "metadata": {},
     "output_type": "execute_result"
    }
   ],
   "source": [
    "dataset[0]"
   ]
  },
  {
   "cell_type": "code",
   "execution_count": 13,
   "id": "286a07dc-e5a3-42af-89f7-b48e035f0d25",
   "metadata": {},
   "outputs": [],
   "source": [
    "conf = load_config('../conf/ggponc.yaml')"
   ]
  },
  {
   "cell_type": "code",
   "execution_count": 14,
   "id": "e3abe18e-4774-4832-972c-5ad80c305f8c",
   "metadata": {},
   "outputs": [],
   "source": [
    "ngram_linker = TFIDFNGramLinker(**conf.linker.candidate_generation.ngram)"
   ]
  },
  {
   "cell_type": "code",
   "execution_count": 15,
   "id": "c932a252-1fd0-4f3c-bf7d-ac20095aa440",
   "metadata": {},
   "outputs": [
    {
     "data": {
      "text/html": [
       "<pre style=\"white-space:pre;overflow-x:auto;line-height:normal;font-family:Menlo,'DejaVu Sans Mono',consolas,'Courier New',monospace\"><span style=\"color: #7fbfbf; text-decoration-color: #7fbfbf\">[06/29/23 11:32:25] </span><span style=\"color: #000080; text-decoration-color: #000080\">INFO    </span> Loading hierarchical faiss index                                <a href=\"file:///home/Florian.Borchert/miniconda3/envs/xmen_notebooks/lib/python3.10/site-packages/xmen/linkers/sap_bert_linker.py\" target=\"_blank\"><span style=\"color: #7f7f7f; text-decoration-color: #7f7f7f\">sap_bert_linker.py</span></a><span style=\"color: #7f7f7f; text-decoration-color: #7f7f7f\">:</span><a href=\"file:///home/Florian.Borchert/miniconda3/envs/xmen_notebooks/lib/python3.10/site-packages/xmen/linkers/sap_bert_linker.py#143\" target=\"_blank\"><span style=\"color: #7f7f7f; text-decoration-color: #7f7f7f\">143</span></a>\n",
       "</pre>\n"
      ],
      "text/plain": [
       "\u001b[2;36m[06/29/23 11:32:25]\u001b[0m\u001b[2;36m \u001b[0m\u001b[34mINFO    \u001b[0m Loading hierarchical faiss index                                \u001b]8;id=692848;file:///home/Florian.Borchert/miniconda3/envs/xmen_notebooks/lib/python3.10/site-packages/xmen/linkers/sap_bert_linker.py\u001b\\\u001b[2msap_bert_linker.py\u001b[0m\u001b]8;;\u001b\\\u001b[2m:\u001b[0m\u001b]8;id=496509;file:///home/Florian.Borchert/miniconda3/envs/xmen_notebooks/lib/python3.10/site-packages/xmen/linkers/sap_bert_linker.py#143\u001b\\\u001b[2m143\u001b[0m\u001b]8;;\u001b\\\n"
      ]
     },
     "metadata": {},
     "output_type": "display_data"
    },
    {
     "data": {
      "text/html": [
       "<pre style=\"white-space:pre;overflow-x:auto;line-height:normal;font-family:Menlo,'DejaVu Sans Mono',consolas,'Courier New',monospace\"><span style=\"color: #7fbfbf; text-decoration-color: #7fbfbf\">                    </span><span style=\"color: #000080; text-decoration-color: #000080\">INFO    </span> Loading index from                                                 <a href=\"file:///home/Florian.Borchert/miniconda3/envs/xmen_notebooks/lib/python3.10/site-packages/xmen/linkers/faiss_indexer.py\" target=\"_blank\"><span style=\"color: #7f7f7f; text-decoration-color: #7f7f7f\">faiss_indexer.py</span></a><span style=\"color: #7f7f7f; text-decoration-color: #7f7f7f\">:</span><a href=\"file:///home/Florian.Borchert/miniconda3/envs/xmen_notebooks/lib/python3.10/site-packages/xmen/linkers/faiss_indexer.py#64\" target=\"_blank\"><span style=\"color: #7f7f7f; text-decoration-color: #7f7f7f\">64</span></a>\n",
       "<span style=\"color: #7fbfbf; text-decoration-color: #7fbfbf\">                    </span>         <span style=\"color: #800080; text-decoration-color: #800080\">/home/Florian.Borchert/.cache/xmen/ggponc/index/sapbert/</span><span style=\"color: #ff00ff; text-decoration-color: #ff00ff\">embed_fais</span> <span style=\"color: #7f7f7f; text-decoration-color: #7f7f7f\">                   </span>\n",
       "<span style=\"color: #7fbfbf; text-decoration-color: #7fbfbf\">                    </span>         <span style=\"color: #ff00ff; text-decoration-color: #ff00ff\">s_hier.pickle</span>                                                      <span style=\"color: #7f7f7f; text-decoration-color: #7f7f7f\">                   </span>\n",
       "</pre>\n"
      ],
      "text/plain": [
       "\u001b[2;36m                   \u001b[0m\u001b[2;36m \u001b[0m\u001b[34mINFO    \u001b[0m Loading index from                                                 \u001b]8;id=796099;file:///home/Florian.Borchert/miniconda3/envs/xmen_notebooks/lib/python3.10/site-packages/xmen/linkers/faiss_indexer.py\u001b\\\u001b[2mfaiss_indexer.py\u001b[0m\u001b]8;;\u001b\\\u001b[2m:\u001b[0m\u001b]8;id=39986;file:///home/Florian.Borchert/miniconda3/envs/xmen_notebooks/lib/python3.10/site-packages/xmen/linkers/faiss_indexer.py#64\u001b\\\u001b[2m64\u001b[0m\u001b]8;;\u001b\\\n",
       "\u001b[2;36m                    \u001b[0m         \u001b[35m/home/Florian.Borchert/.cache/xmen/ggponc/index/sapbert/\u001b[0m\u001b[95membed_fais\u001b[0m \u001b[2m                   \u001b[0m\n",
       "\u001b[2;36m                    \u001b[0m         \u001b[95ms_hier.pickle\u001b[0m                                                      \u001b[2m                   \u001b[0m\n"
      ]
     },
     "metadata": {},
     "output_type": "display_data"
    },
    {
     "data": {
      "text/html": [
       "<pre style=\"white-space:pre;overflow-x:auto;line-height:normal;font-family:Menlo,'DejaVu Sans Mono',consolas,'Courier New',monospace\"><span style=\"color: #7fbfbf; text-decoration-color: #7fbfbf\">[06/29/23 11:33:18] </span><span style=\"color: #000080; text-decoration-color: #000080\">INFO    </span> Loaded index of type <span style=\"font-weight: bold\">&lt;</span><span style=\"color: #ff00ff; text-decoration-color: #ff00ff; font-weight: bold\">class</span><span style=\"color: #000000; text-decoration-color: #000000\"> </span><span style=\"color: #008000; text-decoration-color: #008000\">'faiss.swigfaiss.IndexHNSWFlat'</span><span style=\"font-weight: bold\">&gt;</span> and   <a href=\"file:///home/Florian.Borchert/miniconda3/envs/xmen_notebooks/lib/python3.10/site-packages/xmen/linkers/faiss_indexer.py\" target=\"_blank\"><span style=\"color: #7f7f7f; text-decoration-color: #7f7f7f\">faiss_indexer.py</span></a><span style=\"color: #7f7f7f; text-decoration-color: #7f7f7f\">:</span><a href=\"file:///home/Florian.Borchert/miniconda3/envs/xmen_notebooks/lib/python3.10/site-packages/xmen/linkers/faiss_indexer.py#66\" target=\"_blank\"><span style=\"color: #7f7f7f; text-decoration-color: #7f7f7f\">66</span></a>\n",
       "<span style=\"color: #7fbfbf; text-decoration-color: #7fbfbf\">                    </span>         size <span style=\"color: #008080; text-decoration-color: #008080; font-weight: bold\">2906321</span>                                                       <span style=\"color: #7f7f7f; text-decoration-color: #7f7f7f\">                   </span>\n",
       "</pre>\n"
      ],
      "text/plain": [
       "\u001b[2;36m[06/29/23 11:33:18]\u001b[0m\u001b[2;36m \u001b[0m\u001b[34mINFO    \u001b[0m Loaded index of type \u001b[1m<\u001b[0m\u001b[1;95mclass\u001b[0m\u001b[39m \u001b[0m\u001b[32m'faiss.swigfaiss.IndexHNSWFlat'\u001b[0m\u001b[1m>\u001b[0m and   \u001b]8;id=195596;file:///home/Florian.Borchert/miniconda3/envs/xmen_notebooks/lib/python3.10/site-packages/xmen/linkers/faiss_indexer.py\u001b\\\u001b[2mfaiss_indexer.py\u001b[0m\u001b]8;;\u001b\\\u001b[2m:\u001b[0m\u001b]8;id=42119;file:///home/Florian.Borchert/miniconda3/envs/xmen_notebooks/lib/python3.10/site-packages/xmen/linkers/faiss_indexer.py#66\u001b\\\u001b[2m66\u001b[0m\u001b]8;;\u001b\\\n",
       "\u001b[2;36m                    \u001b[0m         size \u001b[1;36m2906321\u001b[0m                                                       \u001b[2m                   \u001b[0m\n"
      ]
     },
     "metadata": {},
     "output_type": "display_data"
    }
   ],
   "source": [
    "SapBERTLinker.clear()\n",
    "sap_linker = SapBERTLinker(cuda=False, **conf.linker.candidate_generation.sapbert)"
   ]
  },
  {
   "cell_type": "code",
   "execution_count": 16,
   "id": "ec6cd089-3a63-45e8-9178-86999e7f0441",
   "metadata": {},
   "outputs": [
    {
     "data": {
      "application/vnd.jupyter.widget-view+json": {
       "model_id": "",
       "version_major": 2,
       "version_minor": 0
      },
      "text/plain": [
       "Map:   0%|          | 0/3 [00:00<?, ? examples/s]"
      ]
     },
     "metadata": {},
     "output_type": "display_data"
    }
   ],
   "source": [
    "linker = EnsembleLinker()\n",
    "linker.add_linker('ngram', ngram_linker, k=conf.linker.candidate_generation.ngram.k, threshold=0.9)\n",
    "linker.add_linker('sap', sap_linker, k=conf.linker.candidate_generation.sapbert.k, threshold=0.8)\n",
    "\n",
    "prediction = linker.predict_batch(dataset, batch_size=1)"
   ]
  },
  {
   "cell_type": "markdown",
   "id": "b3689a61-2ee1-4c81-afc7-6f6751654020",
   "metadata": {},
   "source": [
    "## Semantic Type Filtering\n",
    "\n",
    "We filter the generated output to make sure the semantic type of the predicted concepts actually matches the semantic class of the named entity.\n",
    "\n",
    "As the GGPONC entity classes are based on SNOMED CT top level concepts, while we link against UMLS CUIS, we provide a mapping of GGPONC enitity types to UMLS TUIs in `ggponc2tui.tsv`\n",
    "\n",
    "Semantic Type Filtering is particularly useful for ambiguous abbreviations (e.g., \"EGFR\" as in the example)"
   ]
  },
  {
   "cell_type": "code",
   "execution_count": 17,
   "id": "515adb34-e2de-4f7f-b133-41ddf8ca421d",
   "metadata": {},
   "outputs": [],
   "source": [
    "from xmen.kb import load_kb\n",
    "from xmen.data import SemanticTypeFilter\n",
    "import pandas as pd"
   ]
  },
  {
   "cell_type": "code",
   "execution_count": 18,
   "id": "29f28a60-d5d4-4ee3-bedb-55e71d15fe84",
   "metadata": {},
   "outputs": [],
   "source": [
    "kb = load_kb(Path(conf.cache_dir) / 'ggponc' / 'ggponc.jsonl')"
   ]
  },
  {
   "cell_type": "code",
   "execution_count": 19,
   "id": "df540489-bdb6-4e60-a4bf-59860861d284",
   "metadata": {},
   "outputs": [],
   "source": [
    "tui_df = pd.read_csv('ggponc2tui.csv')\n",
    "type2tui = {}\n",
    "for c in ['Diagnosis_or_Pathology', 'Other_Finding', 'Clinical_Drug', 'Nutrient_or_Body_Substance',\n",
    "       'External_Substance', 'Therapeutic', 'Diagnostic']:\n",
    "    type2tui[c] = list(tui_df.TUI[tui_df[c] == 'x'].values)"
   ]
  },
  {
   "cell_type": "code",
   "execution_count": 20,
   "id": "0b7f48f2-9b8d-41f7-a526-49b9ff318170",
   "metadata": {},
   "outputs": [],
   "source": [
    "type_filter = SemanticTypeFilter(type2tui, kb)"
   ]
  },
  {
   "cell_type": "code",
   "execution_count": 21,
   "id": "14ebda62-a868-4bc9-8c84-a0580935b0c7",
   "metadata": {},
   "outputs": [
    {
     "data": {
      "application/vnd.jupyter.widget-view+json": {
       "model_id": "",
       "version_major": 2,
       "version_minor": 0
      },
      "text/plain": [
       "Map:   0%|          | 0/3 [00:00<?, ? examples/s]"
      ]
     },
     "metadata": {},
     "output_type": "display_data"
    }
   ],
   "source": [
    "filtered_prediction = type_filter.transform_batch(prediction)"
   ]
  },
  {
   "cell_type": "code",
   "execution_count": 22,
   "id": "308b40e7-d97a-4b58-b933-ecc8083fcc97",
   "metadata": {},
   "outputs": [
    {
     "name": "stdout",
     "output_type": "stream",
     "text": [
      "['EGFR']\n",
      "{'db_id': 'C3811844', 'db_name': 'UMLS', 'predicted_by': ['ngram', 'sap'], 'score': 1.0}\n",
      "CUI: C3811844, Name: Geschaetzte glomerulaere Filtrationsrate\n",
      "Definition: A laboratory test that estimates kidney function. It is calculated using an individual's serum creatinine measurement, age, gender, and race. Actual results are reported when the estimated glomerular filtration rate is less than 60 ml/min.\n",
      "TUI(s): T059\n",
      "Aliases: (total: 3): \n",
      "\t eGFR, Estimated Glomerular Filtration Rate, Estimated glomerular filtration rate\n"
     ]
    }
   ],
   "source": [
    "# Before Filtering\n",
    "entity = prediction[0]['entities'][3]\n",
    "print(entity['text'])\n",
    "print(entity['normalized'][0])\n",
    "print(kb.cui_to_entity['C3811844'])"
   ]
  },
  {
   "cell_type": "code",
   "execution_count": 23,
   "id": "bc358d6c-c1a6-4b8a-9839-3a527c3f2a67",
   "metadata": {},
   "outputs": [
    {
     "name": "stdout",
     "output_type": "stream",
     "text": [
      "['EGFR']\n",
      "{'db_id': 'C1739039', 'db_name': 'UMLS', 'predicted_by': ['ngram', 'sap'], 'score': 1.0}\n",
      "CUI: C1739039, Name: EGFR\n",
      "Definition: The protein found on the surface of some cells and to which epidermal growth factor binds, causing the cells to divide. It is found at abnormally high levels on the surface of many types of cancer cells, so these cells may divide excessively in the presence of epidermal growth factor.\n",
      "TUI(s): T116, T192\n",
      "Aliases (abbreviated, total: 20): \n",
      "\t EGF Receptor, ERBB Protein, HER1 protein, human, epidermal growth factor receptor related protein, human, EGFR protein, human, HER-1, epidermal growth factor receptor (erythroblastic leukemia viral (v-erb-b) oncogene homolog, avian) protein, human, Proto-Oncogene c-erbB-1, ERRP protein, human, Erb-B2 Receptor Tyrosine Kinase 1\n"
     ]
    }
   ],
   "source": [
    "# After Filtering\n",
    "entity = filtered_prediction[0]['entities'][3]\n",
    "print(entity['text'])\n",
    "print(entity['normalized'][0])\n",
    "print(kb.cui_to_entity['C1739039'])"
   ]
  },
  {
   "cell_type": "markdown",
   "id": "b43d94d5-63b6-478a-8bc6-fdee335c9046",
   "metadata": {},
   "source": [
    "# Final Output"
   ]
  },
  {
   "cell_type": "code",
   "execution_count": 24,
   "id": "c3a659c4-0371-4b6f-9544-8b1fc6615c61",
   "metadata": {},
   "outputs": [
    {
     "data": {
      "text/html": [
       "<div>\n",
       "<style scoped>\n",
       "    .dataframe tbody tr th:only-of-type {\n",
       "        vertical-align: middle;\n",
       "    }\n",
       "\n",
       "    .dataframe tbody tr th {\n",
       "        vertical-align: top;\n",
       "    }\n",
       "\n",
       "    .dataframe thead th {\n",
       "        text-align: right;\n",
       "    }\n",
       "</style>\n",
       "<table border=\"1\" class=\"dataframe\">\n",
       "  <thead>\n",
       "    <tr style=\"text-align: right;\">\n",
       "      <th></th>\n",
       "      <th>mention</th>\n",
       "      <th>class</th>\n",
       "      <th>cui</th>\n",
       "      <th>canonical name</th>\n",
       "      <th>linked by</th>\n",
       "      <th>score</th>\n",
       "    </tr>\n",
       "  </thead>\n",
       "  <tbody>\n",
       "    <tr>\n",
       "      <th>0</th>\n",
       "      <td>Cetuximab</td>\n",
       "      <td>Clinical_Drug</td>\n",
       "      <td>C0995188</td>\n",
       "      <td>Cetuximab</td>\n",
       "      <td>[ngram, sap]</td>\n",
       "      <td>1.000000</td>\n",
       "    </tr>\n",
       "    <tr>\n",
       "      <th>1</th>\n",
       "      <td>monoklonaler Antikörper</td>\n",
       "      <td>Clinical_Drug</td>\n",
       "      <td>C0003250</td>\n",
       "      <td>Antikörper, monoklonale</td>\n",
       "      <td>[ngram, sap]</td>\n",
       "      <td>0.982318</td>\n",
       "    </tr>\n",
       "    <tr>\n",
       "      <th>2</th>\n",
       "      <td>epidermalen Wachstumsfaktorrezeptor</td>\n",
       "      <td>Nutrient_or_Body_Substance</td>\n",
       "      <td>C3812393</td>\n",
       "      <td>ErbB-Rezeptoren</td>\n",
       "      <td>[ngram, sap]</td>\n",
       "      <td>0.957236</td>\n",
       "    </tr>\n",
       "    <tr>\n",
       "      <th>3</th>\n",
       "      <td>EGFR</td>\n",
       "      <td>Nutrient_or_Body_Substance</td>\n",
       "      <td>C1739039</td>\n",
       "      <td>EGFR</td>\n",
       "      <td>[ngram, sap]</td>\n",
       "      <td>1.000000</td>\n",
       "    </tr>\n",
       "    <tr>\n",
       "      <th>4</th>\n",
       "      <td>Therapie des fortgeschrittenen kolorektalen Ka...</td>\n",
       "      <td>Therapeutic</td>\n",
       "      <td>Not linkable</td>\n",
       "      <td>NaN</td>\n",
       "      <td>NaN</td>\n",
       "      <td>NaN</td>\n",
       "    </tr>\n",
       "    <tr>\n",
       "      <th>5</th>\n",
       "      <td>fortgeschrittenen kolorektalen Karzinoms</td>\n",
       "      <td>Diagnosis_or_Pathology</td>\n",
       "      <td>C4721579</td>\n",
       "      <td>Kolorektalkarzinom mit Metastasen</td>\n",
       "      <td>[sap]</td>\n",
       "      <td>0.843411</td>\n",
       "    </tr>\n",
       "    <tr>\n",
       "      <th>6</th>\n",
       "      <td>Irinotecan</td>\n",
       "      <td>Clinical_Drug</td>\n",
       "      <td>C0123931</td>\n",
       "      <td>Irinotecan</td>\n",
       "      <td>[ngram, sap]</td>\n",
       "      <td>1.000000</td>\n",
       "    </tr>\n",
       "    <tr>\n",
       "      <th>7</th>\n",
       "      <td>FOLFOX</td>\n",
       "      <td>Therapeutic</td>\n",
       "      <td>C0309154</td>\n",
       "      <td>FUROX</td>\n",
       "      <td>[sap]</td>\n",
       "      <td>0.842153</td>\n",
       "    </tr>\n",
       "    <tr>\n",
       "      <th>8</th>\n",
       "      <td>Versagen</td>\n",
       "      <td>Diagnosis_or_Pathology</td>\n",
       "      <td>Not linkable</td>\n",
       "      <td>NaN</td>\n",
       "      <td>NaN</td>\n",
       "      <td>NaN</td>\n",
       "    </tr>\n",
       "    <tr>\n",
       "      <th>9</th>\n",
       "      <td>Behandlung mit Oxaliplatin und Irinotecan</td>\n",
       "      <td>Therapeutic</td>\n",
       "      <td>C0796324</td>\n",
       "      <td>IROX Regimen</td>\n",
       "      <td>[sap]</td>\n",
       "      <td>0.879975</td>\n",
       "    </tr>\n",
       "    <tr>\n",
       "      <th>10</th>\n",
       "      <td>Oxaliplatin</td>\n",
       "      <td>Clinical_Drug</td>\n",
       "      <td>C0069717</td>\n",
       "      <td>Oxaliplatin</td>\n",
       "      <td>[ngram, sap]</td>\n",
       "      <td>1.000000</td>\n",
       "    </tr>\n",
       "    <tr>\n",
       "      <th>11</th>\n",
       "      <td>Irinotecan</td>\n",
       "      <td>Clinical_Drug</td>\n",
       "      <td>C0123931</td>\n",
       "      <td>Irinotecan</td>\n",
       "      <td>[ngram, sap]</td>\n",
       "      <td>1.000000</td>\n",
       "    </tr>\n",
       "    <tr>\n",
       "      <th>12</th>\n",
       "      <td>HPV-Diagnostik</td>\n",
       "      <td>Diagnostic</td>\n",
       "      <td>C3839551</td>\n",
       "      <td>Human papilloma virus screening</td>\n",
       "      <td>[sap]</td>\n",
       "      <td>0.913146</td>\n",
       "    </tr>\n",
       "    <tr>\n",
       "      <th>13</th>\n",
       "      <td>Plattenepithelkarzinom der Mundhöhle</td>\n",
       "      <td>Diagnosis_or_Pathology</td>\n",
       "      <td>C0585362</td>\n",
       "      <td>Plattenepithelkarzinom der Mundhoehle</td>\n",
       "      <td>[sap]</td>\n",
       "      <td>0.987126</td>\n",
       "    </tr>\n",
       "    <tr>\n",
       "      <th>14</th>\n",
       "      <td>zytologischem Verdacht auf CIN 1/2</td>\n",
       "      <td>Other_Finding</td>\n",
       "      <td>Not linkable</td>\n",
       "      <td>NaN</td>\n",
       "      <td>NaN</td>\n",
       "      <td>NaN</td>\n",
       "    </tr>\n",
       "    <tr>\n",
       "      <th>15</th>\n",
       "      <td>sofortige Kolposkopie</td>\n",
       "      <td>Diagnostic</td>\n",
       "      <td>C0009417</td>\n",
       "      <td>Kolposkopie</td>\n",
       "      <td>[sap]</td>\n",
       "      <td>0.816261</td>\n",
       "    </tr>\n",
       "  </tbody>\n",
       "</table>\n",
       "</div>"
      ],
      "text/plain": [
       "                                              mention   \n",
       "0                                           Cetuximab  \\\n",
       "1                             monoklonaler Antikörper   \n",
       "2                 epidermalen Wachstumsfaktorrezeptor   \n",
       "3                                                EGFR   \n",
       "4   Therapie des fortgeschrittenen kolorektalen Ka...   \n",
       "5            fortgeschrittenen kolorektalen Karzinoms   \n",
       "6                                          Irinotecan   \n",
       "7                                              FOLFOX   \n",
       "8                                            Versagen   \n",
       "9           Behandlung mit Oxaliplatin und Irinotecan   \n",
       "10                                        Oxaliplatin   \n",
       "11                                         Irinotecan   \n",
       "12                                     HPV-Diagnostik   \n",
       "13               Plattenepithelkarzinom der Mundhöhle   \n",
       "14                 zytologischem Verdacht auf CIN 1/2   \n",
       "15                              sofortige Kolposkopie   \n",
       "\n",
       "                         class           cui   \n",
       "0                Clinical_Drug      C0995188  \\\n",
       "1                Clinical_Drug      C0003250   \n",
       "2   Nutrient_or_Body_Substance      C3812393   \n",
       "3   Nutrient_or_Body_Substance      C1739039   \n",
       "4                  Therapeutic  Not linkable   \n",
       "5       Diagnosis_or_Pathology      C4721579   \n",
       "6                Clinical_Drug      C0123931   \n",
       "7                  Therapeutic      C0309154   \n",
       "8       Diagnosis_or_Pathology  Not linkable   \n",
       "9                  Therapeutic      C0796324   \n",
       "10               Clinical_Drug      C0069717   \n",
       "11               Clinical_Drug      C0123931   \n",
       "12                  Diagnostic      C3839551   \n",
       "13      Diagnosis_or_Pathology      C0585362   \n",
       "14               Other_Finding  Not linkable   \n",
       "15                  Diagnostic      C0009417   \n",
       "\n",
       "                           canonical name     linked by     score  \n",
       "0                               Cetuximab  [ngram, sap]  1.000000  \n",
       "1                 Antikörper, monoklonale  [ngram, sap]  0.982318  \n",
       "2                         ErbB-Rezeptoren  [ngram, sap]  0.957236  \n",
       "3                                    EGFR  [ngram, sap]  1.000000  \n",
       "4                                     NaN           NaN       NaN  \n",
       "5       Kolorektalkarzinom mit Metastasen         [sap]  0.843411  \n",
       "6                              Irinotecan  [ngram, sap]  1.000000  \n",
       "7                                   FUROX         [sap]  0.842153  \n",
       "8                                     NaN           NaN       NaN  \n",
       "9                            IROX Regimen         [sap]  0.879975  \n",
       "10                            Oxaliplatin  [ngram, sap]  1.000000  \n",
       "11                             Irinotecan  [ngram, sap]  1.000000  \n",
       "12        Human papilloma virus screening         [sap]  0.913146  \n",
       "13  Plattenepithelkarzinom der Mundhoehle         [sap]  0.987126  \n",
       "14                                    NaN           NaN       NaN  \n",
       "15                            Kolposkopie         [sap]  0.816261  "
      ]
     },
     "execution_count": 24,
     "metadata": {},
     "output_type": "execute_result"
    }
   ],
   "source": [
    "ents = []\n",
    "for d in filtered_prediction:\n",
    "    for e in d['entities']:\n",
    "        span = ' '.join(e['text'])\n",
    "        label = e['type']\n",
    "        top_concept = e['normalized'][0] if len(e['normalized']) > 0 else None        \n",
    "        if top_concept:\n",
    "            cui = top_concept['db_id']\n",
    "            ents.append({'mention' : span, 'class' :  label, 'cui' : cui, 'canonical name' : kb.cui_to_entity[cui].canonical_name, 'linked by' : top_concept['predicted_by'], 'score' : top_concept['score']})\n",
    "        else:\n",
    "            ents.append({'mention' : span, 'class' :  label, 'cui' : 'Not linkable'})\n",
    "pd.DataFrame(ents)"
   ]
  },
  {
   "cell_type": "code",
   "execution_count": null,
   "id": "805ac193-f451-44ac-9647-6e96e5bf9f16",
   "metadata": {},
   "outputs": [],
   "source": []
  }
 ],
 "metadata": {
  "kernelspec": {
   "display_name": "Python [conda env:xmen_notebooks]",
   "language": "python",
   "name": "conda-env-xmen_notebooks-py"
  },
  "language_info": {
   "codemirror_mode": {
    "name": "ipython",
    "version": 3
   },
   "file_extension": ".py",
   "mimetype": "text/x-python",
   "name": "python",
   "nbconvert_exporter": "python",
   "pygments_lexer": "ipython3",
   "version": "3.10.11"
  }
 },
 "nbformat": 4,
 "nbformat_minor": 5
}
