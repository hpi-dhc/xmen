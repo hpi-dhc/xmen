{
 "cells": [
  {
   "cell_type": "markdown",
   "id": "62ff831a-ce8b-4fc0-89e6-d910b31c5f85",
   "metadata": {},
   "source": [
    "# Linking Drug Mentions in German (without Context) to ATC\n",
    "\n",
    "## Preparation\n",
    "\n",
    "- Get German ATC 2023 version from: https://www.wido.de/publikationen-produkte/arzneimittel-klassifikation/ \n",
    "- Optional: get access to DrugBank (https://go.drugbank.com/releases/latest) for much more aliases (e.g., trade names)\n",
    "- Prepare xMEN KB and indices:\n",
    "    - `xmen dict examples/conf/atc.yaml --code examples/dicts/atc2023_de.py`\n",
    "    - `xmen index examples/conf/atc.yaml --all`"
   ]
  },
  {
   "cell_type": "code",
   "execution_count": null,
   "id": "2cbdaaa9-1b2d-4f6b-a193-554da8226217",
   "metadata": {
    "tags": []
   },
   "outputs": [],
   "source": [
    "from xmen import load_kb\n",
    "from xmen.linkers import default_ensemble\n",
    "import os\n",
    "from pathlib import Path"
   ]
  },
  {
   "cell_type": "code",
   "execution_count": null,
   "id": "0756e7cf-9478-4bb2-bdf0-2cc147c44e55",
   "metadata": {
    "tags": []
   },
   "outputs": [],
   "source": [
    "base_path = Path(os.path.expanduser('~/.cache/xmen/atc/'))\n",
    "kb = load_kb(base_path / 'atc.jsonl')"
   ]
  },
  {
   "cell_type": "code",
   "execution_count": null,
   "id": "449f6fe0-bcbd-4572-b48a-8f47a98c52f2",
   "metadata": {
    "tags": []
   },
   "outputs": [],
   "source": [
    "linker = default_ensemble(base_path / 'index')"
   ]
  },
  {
   "cell_type": "code",
   "execution_count": null,
   "id": "89561707-0f5e-480e-b96c-c29229e1fd70",
   "metadata": {
    "tags": []
   },
   "outputs": [],
   "source": [
    "drug_mentions = [\n",
    " 'Ursodeoxycholsäure, 250 mg - Kapsel',\n",
    " 'Propofol 2%, 20 mg/ml 1000 mg/50 ml Injektionslösung',\n",
    " 'Norepinephrin 20 µg/ml',\n",
    " 'Amphotericin B, 10 mg - Lutschtablette',\n",
    " 'Fentanyl (50 µg/ml) i.v.',\n",
    " 'Vollelektrolyt-Lösung',\n",
    " 'Sufentanil 5µg/ml 250 µg/50 ml Injektionslösung'\n",
    "]"
   ]
  },
  {
   "cell_type": "code",
   "execution_count": null,
   "id": "2c09eda3-462c-4f6b-b055-52ff77a6ba65",
   "metadata": {
    "tags": []
   },
   "outputs": [],
   "source": [
    "predictions = linker.predict_no_context(drug_mentions)"
   ]
  },
  {
   "cell_type": "code",
   "execution_count": null,
   "id": "8158be67-5c2e-4358-b986-c72b9a74e43c",
   "metadata": {
    "tags": []
   },
   "outputs": [],
   "source": [
    "for d, p in zip(drug_mentions, predictions):\n",
    "    print('Input:', d)\n",
    "    top_candidate = p[0]['normalized'][0]\n",
    "    print('Confidence:', top_candidate['score'])\n",
    "    print(kb.cui_to_entity[top_candidate['db_id']])\n",
    "    print('------')"
   ]
  },
  {
   "cell_type": "code",
   "execution_count": null,
   "id": "eb7e79b7-06b9-4fed-a603-8a63cb77b97d",
   "metadata": {},
   "outputs": [],
   "source": []
  }
 ],
 "metadata": {
  "kernelspec": {
   "display_name": "Python [conda env:xmen_notebooks]",
   "language": "python",
   "name": "conda-env-xmen_notebooks-py"
  },
  "language_info": {
   "codemirror_mode": {
    "name": "ipython",
    "version": 3
   },
   "file_extension": ".py",
   "mimetype": "text/x-python",
   "name": "python",
   "nbconvert_exporter": "python",
   "pygments_lexer": "ipython3",
   "version": "3.10.11"
  }
 },
 "nbformat": 4,
 "nbformat_minor": 5
}
