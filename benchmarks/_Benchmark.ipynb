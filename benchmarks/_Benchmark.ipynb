{
 "cells": [
  {
   "cell_type": "code",
   "execution_count": null,
   "metadata": {},
   "outputs": [],
   "source": [
    "# Distemist -> Easy\n",
    "# Quaero -> MEDLINE / EMEA (2016)\n",
    "# MM -> ML and CL\n",
    "#\n",
    "# MantraGSC -> DE, EN, ES, FR, NL * EMEA, MEDLINE, PATENTS"
   ]
  },
  {
   "cell_type": "code",
   "execution_count": 1,
   "metadata": {},
   "outputs": [],
   "source": [
    "from pathlib import Path\n",
    "from xmen import load_kb, load_config\n",
    "from xmen.log import logger\n",
    "from dataloaders import load_dataset"
   ]
  },
  {
   "cell_type": "code",
   "execution_count": null,
   "metadata": {},
   "outputs": [],
   "source": [
    "from xmen.linkers import SapBERTLinker"
   ]
  },
  {
   "cell_type": "code",
   "execution_count": null,
   "metadata": {},
   "outputs": [],
   "source": [
    "broncos = load_dataset(\"bronco_diagnosis\", data_dir=\"../local_files/BRONCO150/\")"
   ]
  },
  {
   "cell_type": "code",
   "execution_count": null,
   "metadata": {},
   "outputs": [],
   "source": [
    "config_name = \"benchmark/bronco_medications.yaml\"\n",
    "# config_name = 'medmentions/medmentions_monoling.yaml'"
   ]
  },
  {
   "cell_type": "code",
   "execution_count": null,
   "metadata": {},
   "outputs": [],
   "source": [
    "config = load_config(config_name)"
   ]
  },
  {
   "cell_type": "code",
   "execution_count": null,
   "metadata": {},
   "outputs": [],
   "source": [
    "config"
   ]
  },
  {
   "cell_type": "code",
   "execution_count": null,
   "metadata": {},
   "outputs": [],
   "source": [
    "config = load_config(config_name)\n",
    "base_path = Path(config.work_dir)"
   ]
  },
  {
   "cell_type": "code",
   "execution_count": null,
   "metadata": {},
   "outputs": [],
   "source": [
    "dict_name = base_path / f\"{config.name}.jsonl\"\n",
    "\n",
    "if not dict_name.exists():\n",
    "    logger.error(f\"{dict_name} does not exist, please run: xmen dict path/to/config.yaml\")\n",
    "\n",
    "index_base_path = base_path / \"index\"\n",
    "\n",
    "if not index_base_path.exists():\n",
    "    logger.error(f\"{index_base_path} does not exist, please run: xmen index path/to/config.yaml --all\")"
   ]
  },
  {
   "cell_type": "code",
   "execution_count": null,
   "metadata": {},
   "outputs": [],
   "source": [
    "%%time\n",
    "kb = load_kb(dict_name)"
   ]
  },
  {
   "cell_type": "code",
   "execution_count": null,
   "metadata": {},
   "outputs": [],
   "source": [
    "%%time\n",
    "from xmen.kb import KnowledgeBase\n",
    "\n",
    "kb2 = KnowledgeBase(str(dict_name))"
   ]
  },
  {
   "cell_type": "code",
   "execution_count": null,
   "metadata": {},
   "outputs": [],
   "source": [
    "import orjson"
   ]
  },
  {
   "cell_type": "code",
   "execution_count": null,
   "metadata": {},
   "outputs": [],
   "source": [
    "%%time\n",
    "raw = [orjson.loads(line) for line in open(dict_name)]"
   ]
  },
  {
   "cell_type": "code",
   "execution_count": null,
   "metadata": {},
   "outputs": [],
   "source": [
    "from dataclasses import dataclass, field\n",
    "from typing import Optional, List\n",
    "\n",
    "\n",
    "class MyEntity:\n",
    "    def __init__(\n",
    "        self,\n",
    "        concept_id: str,\n",
    "        canonical_name: str,\n",
    "        aliases: List[str],\n",
    "        types: List[str] = [],\n",
    "        definition: Optional[str] = None,\n",
    "    ):\n",
    "        pass\n",
    "\n",
    "    def __repr__(self):\n",
    "        rep = \"\"\n",
    "        num_aliases = len(self.aliases)\n",
    "        rep = rep + f\"CUI: {self.concept_id}, Name: {self.canonical_name}\\n\"\n",
    "        rep = rep + f\"Definition: {self.definition}\\n\"\n",
    "        rep = rep + f\"TUI(s): {', '.join(self.types)}\\n\"\n",
    "        if num_aliases > 10:\n",
    "            rep = rep + f\"Aliases (abbreviated, total: {num_aliases}): \\n\\t {', '.join(self.aliases[:10])}\"\n",
    "        else:\n",
    "            rep = rep + f\"Aliases: (total: {num_aliases}): \\n\\t {', '.join(self.aliases)}\"\n",
    "        return rep"
   ]
  },
  {
   "cell_type": "code",
   "execution_count": null,
   "metadata": {},
   "outputs": [],
   "source": [
    "%%timeit\n",
    "from scispacy.linking_utils import KnowledgeBase, Entity\n",
    "from collections import defaultdict\n",
    "import sys\n",
    "\n",
    "alias_to_cuis = defaultdict(set)\n",
    "cui_to_entity = {}\n",
    "\n",
    "for entry in raw:\n",
    "    if not entry:\n",
    "        continue\n",
    "    if type(entry) != list:\n",
    "        entry = [entry]\n",
    "    for concept in entry:\n",
    "        if type(concept[\"concept_id\"]) == int:\n",
    "            concept[\"concept_id\"] = str(concept[\"concept_id\"])\n",
    "        unique_aliases = set(concept[\"aliases\"])\n",
    "        if \"canonical_name\" in concept:\n",
    "            unique_aliases.add(concept[\"canonical_name\"])\n",
    "        for alias in unique_aliases:\n",
    "            alias_to_cuis[alias].add(concept[\"concept_id\"])\n",
    "        concept_id = concept[\"concept_id\"]\n",
    "        if not concept_id in cui_to_entity:\n",
    "            cui_to_entity[concept_id] = Entity(**concept)\n",
    "        else:\n",
    "            cui_to_entity[concept_id] = _merge_entities(Entity(**concept), self.cui_to_entity[concept_id])"
   ]
  },
  {
   "cell_type": "code",
   "execution_count": null,
   "metadata": {},
   "outputs": [],
   "source": [
    "dataset = load_dataset(config.dataset)"
   ]
  },
  {
   "cell_type": "code",
   "execution_count": null,
   "metadata": {},
   "outputs": [],
   "source": [
    "if  in dataset.keys():\n",
    "    print(foo)"
   ]
  },
  {
   "cell_type": "code",
   "execution_count": null,
   "metadata": {},
   "outputs": [],
   "source": [
    "kb = load_kb(dict_name)"
   ]
  },
  {
   "cell_type": "code",
   "execution_count": null,
   "metadata": {},
   "outputs": [],
   "source": [
    "from xmen.data import CUIReplacer"
   ]
  },
  {
   "cell_type": "code",
   "execution_count": null,
   "metadata": {},
   "outputs": [],
   "source": [
    "from xmen.linkers import SapB"
   ]
  }
 ],
 "metadata": {
  "kernelspec": {
   "display_name": "Python [conda env:xmen]",
   "language": "python",
   "name": "conda-env-xmen-py"
  },
  "language_info": {
   "codemirror_mode": {
    "name": "ipython",
    "version": 3
   },
   "file_extension": ".py",
   "mimetype": "text/x-python",
   "name": "python",
   "nbconvert_exporter": "python",
   "pygments_lexer": "ipython3",
   "version": "3.10.11"
  }
 },
 "nbformat": 4,
 "nbformat_minor": 4
}
