{
 "cells": [
  {
   "cell_type": "code",
   "execution_count": 1,
   "metadata": {},
   "outputs": [],
   "source": [
    "# Distemist -> Easy\n",
    "# Quaero -> MEDLINE / EMEA (2016)\n",
    "# MM -> ML and CL\n",
    "# \n",
    "# MantraGSC -> DE, EN, ES, FR, NL * EMEA, MEDLINE, PATENTS"
   ]
  },
  {
   "cell_type": "code",
   "execution_count": 2,
   "metadata": {},
   "outputs": [],
   "source": [
    "from pathlib import Path\n",
    "from xmen import load_kb, load_config\n",
    "from xmen.log import logger\n",
    "from dataloaders import load_dataset"
   ]
  },
  {
   "cell_type": "code",
   "execution_count": 3,
   "metadata": {},
   "outputs": [],
   "source": [
    "config_name = 'benchmark/quaero.yaml'\n",
    "#config_name = 'medmentions/medmentions_monoling.yaml'"
   ]
  },
  {
   "cell_type": "code",
   "execution_count": 4,
   "metadata": {},
   "outputs": [],
   "source": [
    "config = load_config(config_name)"
   ]
  },
  {
   "cell_type": "code",
   "execution_count": 5,
   "metadata": {},
   "outputs": [
    {
     "data": {
      "text/plain": [
       "{'defaults': [{'benchmark': '???'}, '_self_'], 'base_dir': '${oc.env:HOME}/runs/xmen/', 'hydra_work_dir': '${base_dir}/${benchmark.name}/', 'hydra': {'job': {'chdir': True}, 'run': {'dir': '${hydra_work_dir}/outputs/${now:%Y-%m-%d_%H-%M-%S}'}}, 'work_dir': '${base_dir}/${name}/', 'linker': {'batch_size': 128, 'candidate_generation': {'sapbert': {'index_base_path': '${hydra_work_dir}/index/sapbert/', 'model_name': 'cambridgeltl/SapBERT-UMLS-2020AB-all-lang-from-XLMR', 'k': 1000}, 'ngram': {'index_base_path': '${hydra_work_dir}/index/ngrams/', 'k': 100}}}, 'save_intermediate': True, 'random_seed': 42, 'data': {'expand_abbreviations': True}, 'base_config': '../benchmark.yaml', 'name': 'quaero_benchmark', 'dataset': 'quaero', 'dict': {'umls': {'lang': ['fr', 'en'], 'meta_path': '${oc.env:UMLS_HOME}/2014AB/META', 'semantic_groups': ['ANAT', 'CHEM', 'DEVI', 'DISO', 'GEOG', 'LIVB', 'OBJC', 'PHEN', 'PHYS', 'PROC']}}}"
      ]
     },
     "execution_count": 5,
     "metadata": {},
     "output_type": "execute_result"
    }
   ],
   "source": [
    "config"
   ]
  },
  {
   "cell_type": "code",
   "execution_count": null,
   "metadata": {},
   "outputs": [],
   "source": [
    "config = load_config(config_name)\n",
    "base_path = Path(config.work_dir)"
   ]
  },
  {
   "cell_type": "code",
   "execution_count": null,
   "metadata": {},
   "outputs": [],
   "source": [
    "dict_name = base_path / f\"{config.name}.jsonl\"\n",
    "\n",
    "if not dict_name.exists():\n",
    "    logger.error(f\"{dict_name} does not exist, please run: xmen dict path/to/config.yaml\")\n",
    "    \n",
    "index_base_path = base_path / 'index'\n",
    "\n",
    "if not index_base_path.exists():\n",
    "    logger.error(f\"{index_base_path} does not exist, please run: xmen index path/to/config.yaml --all\")"
   ]
  },
  {
   "cell_type": "code",
   "execution_count": null,
   "metadata": {},
   "outputs": [],
   "source": [
    "%%time\n",
    "kb = load_kb(dict_name)"
   ]
  },
  {
   "cell_type": "code",
   "execution_count": null,
   "metadata": {},
   "outputs": [],
   "source": [
    "%%time\n",
    "from xmen.kb import KnowledgeBase\n",
    "kb2 = KnowledgeBase(str(dict_name))"
   ]
  },
  {
   "cell_type": "code",
   "execution_count": null,
   "metadata": {},
   "outputs": [],
   "source": [
    "import orjson"
   ]
  },
  {
   "cell_type": "code",
   "execution_count": null,
   "metadata": {},
   "outputs": [],
   "source": [
    "%%time\n",
    "raw = [orjson.loads(line) for line in open(dict_name)]"
   ]
  },
  {
   "cell_type": "code",
   "execution_count": null,
   "metadata": {},
   "outputs": [],
   "source": [
    "from dataclasses import dataclass, field\n",
    "from typing import Optional, List\n",
    "\n",
    "class MyEntity():\n",
    "    \n",
    "    def __init__(self,    \n",
    "        concept_id: str,\n",
    "        canonical_name: str,\n",
    "        aliases: List[str],\n",
    "        types: List[str] = [],\n",
    "        definition: Optional[str] = None\n",
    "    ):\n",
    "        pass\n",
    "\n",
    "    def __repr__(self):\n",
    "        rep = \"\"\n",
    "        num_aliases = len(self.aliases)\n",
    "        rep = rep + f\"CUI: {self.concept_id}, Name: {self.canonical_name}\\n\"\n",
    "        rep = rep + f\"Definition: {self.definition}\\n\"\n",
    "        rep = rep + f\"TUI(s): {', '.join(self.types)}\\n\"\n",
    "        if num_aliases > 10:\n",
    "            rep = (\n",
    "                rep\n",
    "                + f\"Aliases (abbreviated, total: {num_aliases}): \\n\\t {', '.join(self.aliases[:10])}\"\n",
    "            )\n",
    "        else:\n",
    "            rep = (\n",
    "                rep + f\"Aliases: (total: {num_aliases}): \\n\\t {', '.join(self.aliases)}\"\n",
    "            )\n",
    "        return rep"
   ]
  },
  {
   "cell_type": "code",
   "execution_count": null,
   "metadata": {},
   "outputs": [],
   "source": [
    "%%timeit\n",
    "from scispacy.linking_utils import KnowledgeBase, Entity\n",
    "from collections import defaultdict\n",
    "import sys\n",
    "\n",
    "alias_to_cuis = defaultdict(set)\n",
    "cui_to_entity = {}\n",
    "\n",
    "for entry in raw:\n",
    "    if not entry:\n",
    "        continue\n",
    "    if type(entry) != list:\n",
    "        entry = [entry]\n",
    "    for concept in entry:\n",
    "        if type(concept[\"concept_id\"]) == int:\n",
    "            concept[\"concept_id\"] = str(concept[\"concept_id\"])\n",
    "        unique_aliases = set(concept[\"aliases\"])\n",
    "        if \"canonical_name\" in concept:\n",
    "            unique_aliases.add(concept[\"canonical_name\"])\n",
    "        for alias in unique_aliases:\n",
    "            alias_to_cuis[alias].add(concept[\"concept_id\"])\n",
    "        concept_id = concept[\"concept_id\"]\n",
    "        if not concept_id in cui_to_entity:\n",
    "            cui_to_entity[concept_id] = Entity(**concept)\n",
    "        else:\n",
    "            cui_to_entity[concept_id] = _merge_entities(\n",
    "                Entity(**concept), self.cui_to_entity[concept_id]\n",
    "            )"
   ]
  },
  {
   "cell_type": "code",
   "execution_count": 6,
   "metadata": {},
   "outputs": [
    {
     "name": "stderr",
     "output_type": "stream",
     "text": [
      "Found cached dataset quaero (/home/Florian.Borchert/.cache/huggingface/datasets/bigscience-biomedical___quaero/quaero_emea_bigbio_kb/1.0.0/c215a01af5fd15163e392e2f78a4f67f1fe3567d92f53b7f907c95e55dcdfe93)\n"
     ]
    },
    {
     "data": {
      "application/vnd.jupyter.widget-view+json": {
       "model_id": "ce72fc7d858943e799caf35eac59ab37",
       "version_major": 2,
       "version_minor": 0
      },
      "text/plain": [
       "  0%|          | 0/3 [00:00<?, ?it/s]"
      ]
     },
     "metadata": {},
     "output_type": "display_data"
    },
    {
     "name": "stderr",
     "output_type": "stream",
     "text": [
      "Found cached dataset quaero (/home/Florian.Borchert/.cache/huggingface/datasets/bigscience-biomedical___quaero/quaero_medline_bigbio_kb/1.0.0/c215a01af5fd15163e392e2f78a4f67f1fe3567d92f53b7f907c95e55dcdfe93)\n"
     ]
    },
    {
     "data": {
      "application/vnd.jupyter.widget-view+json": {
       "model_id": "8af3af8d0139420794b0f0f6127fcce7",
       "version_major": 2,
       "version_minor": 0
      },
      "text/plain": [
       "  0%|          | 0/3 [00:00<?, ?it/s]"
      ]
     },
     "metadata": {},
     "output_type": "display_data"
    }
   ],
   "source": [
    "dataset = load_dataset(config.dataset)"
   ]
  },
  {
   "cell_type": "code",
   "execution_count": 7,
   "metadata": {},
   "outputs": [
    {
     "ename": "TypeError",
     "evalue": "unhashable type: 'list'",
     "output_type": "error",
     "traceback": [
      "\u001b[0;31m---------------------------------------------------------------------------\u001b[0m",
      "\u001b[0;31mTypeError\u001b[0m                                 Traceback (most recent call last)",
      "Cell \u001b[0;32mIn[7], line 1\u001b[0m\n\u001b[0;32m----> 1\u001b[0m \u001b[38;5;28;01mif\u001b[39;00m \u001b[43m[\u001b[49m\u001b[38;5;124;43m'\u001b[39;49m\u001b[38;5;124;43mtrain\u001b[39;49m\u001b[38;5;124;43m'\u001b[39;49m\u001b[43m,\u001b[49m\u001b[43m \u001b[49m\u001b[38;5;124;43m'\u001b[39;49m\u001b[38;5;124;43mvalidation\u001b[39;49m\u001b[38;5;124;43m'\u001b[39;49m\u001b[43m,\u001b[49m\u001b[43m \u001b[49m\u001b[38;5;124;43m'\u001b[39;49m\u001b[38;5;124;43mtest\u001b[39;49m\u001b[38;5;124;43m'\u001b[39;49m\u001b[43m]\u001b[49m\u001b[43m \u001b[49m\u001b[38;5;129;43;01min\u001b[39;49;00m\u001b[43m \u001b[49m\u001b[43mdataset\u001b[49m\u001b[38;5;241;43m.\u001b[39;49m\u001b[43mkeys\u001b[49m\u001b[43m(\u001b[49m\u001b[43m)\u001b[49m:\n\u001b[1;32m      2\u001b[0m     \u001b[38;5;28mprint\u001b[39m(foo)\n",
      "\u001b[0;31mTypeError\u001b[0m: unhashable type: 'list'"
     ]
    }
   ],
   "source": [
    "if  in dataset.keys():\n",
    "    print(foo)"
   ]
  },
  {
   "cell_type": "code",
   "execution_count": null,
   "metadata": {},
   "outputs": [],
   "source": [
    "kb = load_kb(dict_name)"
   ]
  },
  {
   "cell_type": "code",
   "execution_count": null,
   "metadata": {},
   "outputs": [],
   "source": [
    "from xmen.data import CUIReplacer"
   ]
  },
  {
   "cell_type": "code",
   "execution_count": null,
   "metadata": {},
   "outputs": [],
   "source": []
  }
 ],
 "metadata": {
  "kernelspec": {
   "display_name": "Python [conda env:xmen_notebooks]",
   "language": "python",
   "name": "conda-env-xmen_notebooks-py"
  },
  "language_info": {
   "codemirror_mode": {
    "name": "ipython",
    "version": 3
   },
   "file_extension": ".py",
   "mimetype": "text/x-python",
   "name": "python",
   "nbconvert_exporter": "python",
   "pygments_lexer": "ipython3",
   "version": "3.10.11"
  }
 },
 "nbformat": 4,
 "nbformat_minor": 4
}
