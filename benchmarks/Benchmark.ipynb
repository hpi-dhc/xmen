{
 "cells": [
  {
   "cell_type": "code",
   "execution_count": 1,
   "metadata": {},
   "outputs": [],
   "source": [
    "# Distemist -> Easy\n",
    "# Quaero -> MEDLINE / EMEA (2016)\n",
    "# MM -> ML and CL\n",
    "# \n",
    "# MantraGSC -> DE, EN, ES, FR, NL * EMEA, MEDLINE, PATENTS"
   ]
  },
  {
   "cell_type": "code",
   "execution_count": 2,
   "metadata": {},
   "outputs": [],
   "source": [
    "from pathlib import Path\n",
    "from xmen import load_kb, load_config\n",
    "from xmen.log import logger\n",
    "from dataloaders import load_dataset"
   ]
  },
  {
   "cell_type": "code",
   "execution_count": 3,
   "metadata": {},
   "outputs": [],
   "source": [
    "config_name = 'benchmark/quaero.yaml'\n",
    "#config_name = 'medmentions/medmentions_monoling.yaml'"
   ]
  },
  {
   "cell_type": "code",
   "execution_count": 4,
   "metadata": {},
   "outputs": [],
   "source": [
    "config = load_config(config_name)"
   ]
  },
  {
   "cell_type": "code",
   "execution_count": 5,
   "metadata": {},
   "outputs": [
    {
     "data": {
      "text/plain": [
       "{'defaults': [{'benchmark': '???'}, '_self_'], 'base_dir': '${oc.env:HOME}/runs/xmen/', 'work_dir': '${base_dir}/${name}/', 'linker': {'candidate_generation': {'sapbert': {'k': 1000}, 'ngram': {'k': 100}}}, 'save_intermediate': True, 'data': {'expand_abbreviations': True}, 'hydra_work_dir': '${base_dir}/${benchmark.name}/', 'hydra': {'job': {'chdir': True}, 'run': {'dir': '${hydra_work_dir}/outputs/${now:%Y-%m-%d_%H-%M-%S}'}}, 'base_config': '../benchmark.yaml', 'name': 'quaero_benchmark', 'dataset': 'quaero', 'dict': {'umls': {'lang': ['fr', 'en'], 'meta_path': '${oc.env:UMLS_HOME}/2014AB/META', 'semantic_groups': ['ANAT', 'CHEM', 'DEVI', 'DISO', 'GEOG', 'LIVB', 'OBJC', 'PHEN', 'PHYS', 'PROC']}}}"
      ]
     },
     "execution_count": 5,
     "metadata": {},
     "output_type": "execute_result"
    }
   ],
   "source": [
    "config"
   ]
  },
  {
   "cell_type": "code",
   "execution_count": 6,
   "metadata": {},
   "outputs": [],
   "source": [
    "config = load_config(config_name)\n",
    "base_path = Path(config.work_dir)"
   ]
  },
  {
   "cell_type": "code",
   "execution_count": 7,
   "metadata": {},
   "outputs": [],
   "source": [
    "dict_name = base_path / f\"{config.name}.jsonl\"\n",
    "\n",
    "if not dict_name.exists():\n",
    "    logger.error(f\"{dict_name} does not exist, please run: xmen dict path/to/config.yaml\")\n",
    "    \n",
    "index_base_path = base_path / 'index'\n",
    "\n",
    "if not index_base_path.exists():\n",
    "    logger.error(f\"{index_base_path} does not exist, please run: xmen index path/to/config.yaml --all\")"
   ]
  },
  {
   "cell_type": "code",
   "execution_count": 8,
   "metadata": {},
   "outputs": [
    {
     "name": "stdout",
     "output_type": "stream",
     "text": [
      "CPU times: user 22.1 s, sys: 1.6 s, total: 23.7 s\n",
      "Wall time: 23.7 s\n"
     ]
    }
   ],
   "source": [
    "%%time\n",
    "kb = load_kb(dict_name)"
   ]
  },
  {
   "cell_type": "code",
   "execution_count": null,
   "metadata": {},
   "outputs": [],
   "source": [
    "%%time\n",
    "from xmen.kb import KnowledgeBase\n",
    "kb2 = KnowledgeBase(str(dict_name))"
   ]
  },
  {
   "cell_type": "code",
   "execution_count": null,
   "metadata": {},
   "outputs": [],
   "source": [
    "import orjson"
   ]
  },
  {
   "cell_type": "code",
   "execution_count": null,
   "metadata": {},
   "outputs": [],
   "source": [
    "%%time\n",
    "raw = [orjson.loads(line) for line in open(dict_name)]"
   ]
  },
  {
   "cell_type": "code",
   "execution_count": null,
   "metadata": {},
   "outputs": [],
   "source": [
    "from dataclasses import dataclass, field\n",
    "from typing import Optional, List\n",
    "\n",
    "class MyEntity():\n",
    "    \n",
    "    def __init__(self,    \n",
    "        concept_id: str,\n",
    "        canonical_name: str,\n",
    "        aliases: List[str],\n",
    "        types: List[str] = [],\n",
    "        definition: Optional[str] = None\n",
    "    ):\n",
    "        pass\n",
    "\n",
    "    def __repr__(self):\n",
    "        rep = \"\"\n",
    "        num_aliases = len(self.aliases)\n",
    "        rep = rep + f\"CUI: {self.concept_id}, Name: {self.canonical_name}\\n\"\n",
    "        rep = rep + f\"Definition: {self.definition}\\n\"\n",
    "        rep = rep + f\"TUI(s): {', '.join(self.types)}\\n\"\n",
    "        if num_aliases > 10:\n",
    "            rep = (\n",
    "                rep\n",
    "                + f\"Aliases (abbreviated, total: {num_aliases}): \\n\\t {', '.join(self.aliases[:10])}\"\n",
    "            )\n",
    "        else:\n",
    "            rep = (\n",
    "                rep + f\"Aliases: (total: {num_aliases}): \\n\\t {', '.join(self.aliases)}\"\n",
    "            )\n",
    "        return rep"
   ]
  },
  {
   "cell_type": "code",
   "execution_count": null,
   "metadata": {},
   "outputs": [],
   "source": [
    "%%timeit\n",
    "from scispacy.linking_utils import KnowledgeBase, Entity\n",
    "from collections import defaultdict\n",
    "import sys\n",
    "\n",
    "alias_to_cuis = defaultdict(set)\n",
    "cui_to_entity = {}\n",
    "\n",
    "for entry in raw:\n",
    "    if not entry:\n",
    "        continue\n",
    "    if type(entry) != list:\n",
    "        entry = [entry]\n",
    "    for concept in entry:\n",
    "        if type(concept[\"concept_id\"]) == int:\n",
    "            concept[\"concept_id\"] = str(concept[\"concept_id\"])\n",
    "        unique_aliases = set(concept[\"aliases\"])\n",
    "        if \"canonical_name\" in concept:\n",
    "            unique_aliases.add(concept[\"canonical_name\"])\n",
    "        for alias in unique_aliases:\n",
    "            alias_to_cuis[alias].add(concept[\"concept_id\"])\n",
    "        concept_id = concept[\"concept_id\"]\n",
    "        if not concept_id in cui_to_entity:\n",
    "            cui_to_entity[concept_id] = Entity(**concept)\n",
    "        else:\n",
    "            cui_to_entity[concept_id] = _merge_entities(\n",
    "                Entity(**concept), self.cui_to_entity[concept_id]\n",
    "            )"
   ]
  },
  {
   "cell_type": "code",
   "execution_count": null,
   "metadata": {},
   "outputs": [],
   "source": [
    "dataset = load_dataset(config.dataset)"
   ]
  },
  {
   "cell_type": "code",
   "execution_count": null,
   "metadata": {},
   "outputs": [],
   "source": [
    "kb = load_kb(dict_name)"
   ]
  },
  {
   "cell_type": "code",
   "execution_count": null,
   "metadata": {},
   "outputs": [],
   "source": [
    "from xmen.data import CUIReplacer"
   ]
  },
  {
   "cell_type": "code",
   "execution_count": null,
   "metadata": {},
   "outputs": [],
   "source": []
  }
 ],
 "metadata": {
  "kernelspec": {
   "display_name": "Python [conda env:xmen_notebooks]",
   "language": "python",
   "name": "conda-env-xmen_notebooks-py"
  },
  "language_info": {
   "codemirror_mode": {
    "name": "ipython",
    "version": 3
   },
   "file_extension": ".py",
   "mimetype": "text/x-python",
   "name": "python",
   "nbconvert_exporter": "python",
   "pygments_lexer": "ipython3",
   "version": "3.10.11"
  }
 },
 "nbformat": 4,
 "nbformat_minor": 4
}
