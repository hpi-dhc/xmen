{
 "cells": [
  {
   "cell_type": "code",
   "execution_count": 1,
   "metadata": {},
   "outputs": [],
   "source": [
    "# Distemist -> Easy\n",
    "# Quaero -> MEDLINE / EMEA (2016)\n",
    "# MM -> ML and CL\n",
    "# \n",
    "# MantraGSC -> DE, EN, ES, FR, NL * EMEA, MEDLINE, PATENTS"
   ]
  },
  {
   "cell_type": "code",
   "execution_count": 3,
   "metadata": {},
   "outputs": [],
   "source": [
    "from pathlib import Path\n",
    "from xmen import load_kb, load_config\n",
    "from xmen.log import logger\n",
    "from dataloaders import load_dataset"
   ]
  },
  {
   "cell_type": "code",
   "execution_count": 4,
   "metadata": {},
   "outputs": [],
   "source": [
    "config_name = 'mantra/mantra_benchmark.yaml'\n",
    "#config_name = 'medmentions/medmentions_monoling.yaml'"
   ]
  },
  {
   "cell_type": "code",
   "execution_count": null,
   "metadata": {},
   "outputs": [],
   "source": [
    "run_name = "
   ]
  },
  {
   "cell_type": "code",
   "execution_count": 5,
   "metadata": {},
   "outputs": [],
   "source": [
    "config = load_config(config_name)"
   ]
  },
  {
   "cell_type": "code",
   "execution_count": 6,
   "metadata": {},
   "outputs": [
    {
     "data": {
      "text/plain": [
       "{'work_dir': '${oc.env:HOME}/runs/xmen/${name}/', 'linker': {'candidate_generation': {'sapbert': None, 'ngram': None}}, 'base_config': '../benchmark_base.yaml', 'name': 'mantra_benchmark', 'dataset': 'mantra_gsc', 'dict': {'umls': {'lang': ['en', 'fr', 'de', 'nl', 'es'], 'version': '2014AB', 'meta_path': '${oc.env:UMLS_HOME}/${dict.umls.version}/META', 'semantic_groups': ['ANAT', 'CHEM', 'CONC', 'DEVI', 'DISO', 'GEOG', 'LIVB', 'OBJC', 'PHEN', 'PHYS', 'PROC'], 'sabs': ['SNOMEDCT_US', 'SCTSPA', 'MSH', 'MSHGER', 'MSHFRE', 'MSHSPA', 'MSHDUT', 'MDR', 'MDRGER', 'MDRFRE', 'MDRSPA', 'MDADUT']}}}"
      ]
     },
     "execution_count": 6,
     "metadata": {},
     "output_type": "execute_result"
    }
   ],
   "source": [
    "config"
   ]
  },
  {
   "cell_type": "code",
   "execution_count": 7,
   "metadata": {},
   "outputs": [],
   "source": [
    "config = load_config(config_name)\n",
    "base_path = Path(config.work_dir)"
   ]
  },
  {
   "cell_type": "code",
   "execution_count": 8,
   "metadata": {},
   "outputs": [],
   "source": [
    "dict_name = base_path / f\"{config.name}.jsonl\"\n",
    "\n",
    "if not dict_name.exists():\n",
    "    logger.error(f\"{dict_name} does not exist, please run: xmen dict path/to/config.yaml\")\n",
    "    \n",
    "index_base_path = base_path / 'index'\n",
    "\n",
    "if not index_base_path.exists():\n",
    "    logger.error(f\"{index_base_path} does not exist, please run: xmen index path/to/config.yaml --all\")"
   ]
  },
  {
   "cell_type": "code",
   "execution_count": 9,
   "metadata": {},
   "outputs": [
    {
     "name": "stderr",
     "output_type": "stream",
     "text": [
      "Found cached dataset mantra_gsc (/home/Florian.Borchert/.cache/huggingface/datasets/mantra_gsc/mantra_gsc_es_emea_bigbio_kb/1.0.0/7e442f3531d6990d7ebcb6382ff75257856f0bcc3e8941f3dc3b474d6ea7ce79)\n"
     ]
    },
    {
     "data": {
      "application/vnd.jupyter.widget-view+json": {
       "model_id": "3ad1c13a3e374f029edcc77bd323e937",
       "version_major": 2,
       "version_minor": 0
      },
      "text/plain": [
       "  0%|          | 0/1 [00:00<?, ?it/s]"
      ]
     },
     "metadata": {},
     "output_type": "display_data"
    },
    {
     "name": "stderr",
     "output_type": "stream",
     "text": [
      "Found cached dataset mantra_gsc (/home/Florian.Borchert/.cache/huggingface/datasets/mantra_gsc/mantra_gsc_es_medline_bigbio_kb/1.0.0/7e442f3531d6990d7ebcb6382ff75257856f0bcc3e8941f3dc3b474d6ea7ce79)\n"
     ]
    },
    {
     "data": {
      "application/vnd.jupyter.widget-view+json": {
       "model_id": "e73187138e474d1ea3ea8ade3b8e4e9c",
       "version_major": 2,
       "version_minor": 0
      },
      "text/plain": [
       "  0%|          | 0/1 [00:00<?, ?it/s]"
      ]
     },
     "metadata": {},
     "output_type": "display_data"
    },
    {
     "name": "stderr",
     "output_type": "stream",
     "text": [
      "Found cached dataset mantra_gsc (/home/Florian.Borchert/.cache/huggingface/datasets/mantra_gsc/mantra_gsc_fr_emea_bigbio_kb/1.0.0/7e442f3531d6990d7ebcb6382ff75257856f0bcc3e8941f3dc3b474d6ea7ce79)\n"
     ]
    },
    {
     "data": {
      "application/vnd.jupyter.widget-view+json": {
       "model_id": "9523f1e5d2b942c2b2287aecf793ce63",
       "version_major": 2,
       "version_minor": 0
      },
      "text/plain": [
       "  0%|          | 0/1 [00:00<?, ?it/s]"
      ]
     },
     "metadata": {},
     "output_type": "display_data"
    },
    {
     "name": "stderr",
     "output_type": "stream",
     "text": [
      "Found cached dataset mantra_gsc (/home/Florian.Borchert/.cache/huggingface/datasets/mantra_gsc/mantra_gsc_fr_medline_bigbio_kb/1.0.0/7e442f3531d6990d7ebcb6382ff75257856f0bcc3e8941f3dc3b474d6ea7ce79)\n"
     ]
    },
    {
     "data": {
      "application/vnd.jupyter.widget-view+json": {
       "model_id": "9147185481ce40458acfe01f5a301290",
       "version_major": 2,
       "version_minor": 0
      },
      "text/plain": [
       "  0%|          | 0/1 [00:00<?, ?it/s]"
      ]
     },
     "metadata": {},
     "output_type": "display_data"
    },
    {
     "name": "stderr",
     "output_type": "stream",
     "text": [
      "Found cached dataset mantra_gsc (/home/Florian.Borchert/.cache/huggingface/datasets/mantra_gsc/mantra_gsc_fr_patents_bigbio_kb/1.0.0/7e442f3531d6990d7ebcb6382ff75257856f0bcc3e8941f3dc3b474d6ea7ce79)\n"
     ]
    },
    {
     "data": {
      "application/vnd.jupyter.widget-view+json": {
       "model_id": "f67eaf3f847a4794a6f573bbb1b6b446",
       "version_major": 2,
       "version_minor": 0
      },
      "text/plain": [
       "  0%|          | 0/1 [00:00<?, ?it/s]"
      ]
     },
     "metadata": {},
     "output_type": "display_data"
    },
    {
     "name": "stderr",
     "output_type": "stream",
     "text": [
      "Found cached dataset mantra_gsc (/home/Florian.Borchert/.cache/huggingface/datasets/mantra_gsc/mantra_gsc_de_emea_bigbio_kb/1.0.0/7e442f3531d6990d7ebcb6382ff75257856f0bcc3e8941f3dc3b474d6ea7ce79)\n"
     ]
    },
    {
     "data": {
      "application/vnd.jupyter.widget-view+json": {
       "model_id": "2e2749851b97429db35c3839b1a8f7fa",
       "version_major": 2,
       "version_minor": 0
      },
      "text/plain": [
       "  0%|          | 0/1 [00:00<?, ?it/s]"
      ]
     },
     "metadata": {},
     "output_type": "display_data"
    },
    {
     "name": "stderr",
     "output_type": "stream",
     "text": [
      "Found cached dataset mantra_gsc (/home/Florian.Borchert/.cache/huggingface/datasets/mantra_gsc/mantra_gsc_de_medline_bigbio_kb/1.0.0/7e442f3531d6990d7ebcb6382ff75257856f0bcc3e8941f3dc3b474d6ea7ce79)\n"
     ]
    },
    {
     "data": {
      "application/vnd.jupyter.widget-view+json": {
       "model_id": "a91639b9b3d24077b2289e4c7ecd72b7",
       "version_major": 2,
       "version_minor": 0
      },
      "text/plain": [
       "  0%|          | 0/1 [00:00<?, ?it/s]"
      ]
     },
     "metadata": {},
     "output_type": "display_data"
    },
    {
     "name": "stderr",
     "output_type": "stream",
     "text": [
      "Found cached dataset mantra_gsc (/home/Florian.Borchert/.cache/huggingface/datasets/mantra_gsc/mantra_gsc_de_patents_bigbio_kb/1.0.0/7e442f3531d6990d7ebcb6382ff75257856f0bcc3e8941f3dc3b474d6ea7ce79)\n"
     ]
    },
    {
     "data": {
      "application/vnd.jupyter.widget-view+json": {
       "model_id": "9436a2da563b42e8a7ebca95f3dfcf50",
       "version_major": 2,
       "version_minor": 0
      },
      "text/plain": [
       "  0%|          | 0/1 [00:00<?, ?it/s]"
      ]
     },
     "metadata": {},
     "output_type": "display_data"
    },
    {
     "name": "stderr",
     "output_type": "stream",
     "text": [
      "Found cached dataset mantra_gsc (/home/Florian.Borchert/.cache/huggingface/datasets/mantra_gsc/mantra_gsc_nl_emea_bigbio_kb/1.0.0/7e442f3531d6990d7ebcb6382ff75257856f0bcc3e8941f3dc3b474d6ea7ce79)\n"
     ]
    },
    {
     "data": {
      "application/vnd.jupyter.widget-view+json": {
       "model_id": "720778344a294b7496a9f69c595a3368",
       "version_major": 2,
       "version_minor": 0
      },
      "text/plain": [
       "  0%|          | 0/1 [00:00<?, ?it/s]"
      ]
     },
     "metadata": {},
     "output_type": "display_data"
    },
    {
     "name": "stderr",
     "output_type": "stream",
     "text": [
      "Found cached dataset mantra_gsc (/home/Florian.Borchert/.cache/huggingface/datasets/mantra_gsc/mantra_gsc_nl_medline_bigbio_kb/1.0.0/7e442f3531d6990d7ebcb6382ff75257856f0bcc3e8941f3dc3b474d6ea7ce79)\n"
     ]
    },
    {
     "data": {
      "application/vnd.jupyter.widget-view+json": {
       "model_id": "d77c23b5bc7249678df3e419c5d6338e",
       "version_major": 2,
       "version_minor": 0
      },
      "text/plain": [
       "  0%|          | 0/1 [00:00<?, ?it/s]"
      ]
     },
     "metadata": {},
     "output_type": "display_data"
    },
    {
     "name": "stderr",
     "output_type": "stream",
     "text": [
      "Found cached dataset mantra_gsc (/home/Florian.Borchert/.cache/huggingface/datasets/mantra_gsc/mantra_gsc_en_emea_bigbio_kb/1.0.0/7e442f3531d6990d7ebcb6382ff75257856f0bcc3e8941f3dc3b474d6ea7ce79)\n"
     ]
    },
    {
     "data": {
      "application/vnd.jupyter.widget-view+json": {
       "model_id": "03ee77a050424a88b556a77d090fd4dc",
       "version_major": 2,
       "version_minor": 0
      },
      "text/plain": [
       "  0%|          | 0/1 [00:00<?, ?it/s]"
      ]
     },
     "metadata": {},
     "output_type": "display_data"
    },
    {
     "name": "stderr",
     "output_type": "stream",
     "text": [
      "Found cached dataset mantra_gsc (/home/Florian.Borchert/.cache/huggingface/datasets/mantra_gsc/mantra_gsc_en_medline_bigbio_kb/1.0.0/7e442f3531d6990d7ebcb6382ff75257856f0bcc3e8941f3dc3b474d6ea7ce79)\n"
     ]
    },
    {
     "data": {
      "application/vnd.jupyter.widget-view+json": {
       "model_id": "872877d7b12943aa9d18573a7cc309ba",
       "version_major": 2,
       "version_minor": 0
      },
      "text/plain": [
       "  0%|          | 0/1 [00:00<?, ?it/s]"
      ]
     },
     "metadata": {},
     "output_type": "display_data"
    },
    {
     "name": "stderr",
     "output_type": "stream",
     "text": [
      "Found cached dataset mantra_gsc (/home/Florian.Borchert/.cache/huggingface/datasets/mantra_gsc/mantra_gsc_en_patents_bigbio_kb/1.0.0/7e442f3531d6990d7ebcb6382ff75257856f0bcc3e8941f3dc3b474d6ea7ce79)\n"
     ]
    },
    {
     "data": {
      "application/vnd.jupyter.widget-view+json": {
       "model_id": "5eb5a8ac60894162af850a1bd5dbe4ba",
       "version_major": 2,
       "version_minor": 0
      },
      "text/plain": [
       "  0%|          | 0/1 [00:00<?, ?it/s]"
      ]
     },
     "metadata": {},
     "output_type": "display_data"
    }
   ],
   "source": [
    "dataset = load_dataset(config.dataset)"
   ]
  },
  {
   "cell_type": "code",
   "execution_count": 11,
   "metadata": {},
   "outputs": [],
   "source": [
    "kb = load_kb(dict_name)"
   ]
  },
  {
   "cell_type": "code",
   "execution_count": 12,
   "metadata": {},
   "outputs": [],
   "source": [
    "from xmen.data import CUIReplacer"
   ]
  },
  {
   "cell_type": "code",
   "execution_count": null,
   "metadata": {},
   "outputs": [],
   "source": []
  }
 ],
 "metadata": {
  "kernelspec": {
   "display_name": "Python [conda env:xmen_notebooks]",
   "language": "python",
   "name": "conda-env-xmen_notebooks-py"
  },
  "language_info": {
   "codemirror_mode": {
    "name": "ipython",
    "version": 3
   },
   "file_extension": ".py",
   "mimetype": "text/x-python",
   "name": "python",
   "nbconvert_exporter": "python",
   "pygments_lexer": "ipython3",
   "version": "3.10.11"
  }
 },
 "nbformat": 4,
 "nbformat_minor": 4
}
