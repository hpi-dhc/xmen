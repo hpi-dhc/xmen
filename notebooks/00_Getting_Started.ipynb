{
 "cells": [
  {
   "cell_type": "markdown",
   "id": "85c0c045-2900-47d5-8c9b-5ebe0b4c01c1",
   "metadata": {},
   "source": [
    "# Getting Started\n",
    "\n",
    "In this notebook, we will walk you through a minimal example for candidate generation and re-reranking with the [Quaero](https://quaerofrenchmed.limsi.fr/) corpus."
   ]
  },
  {
   "cell_type": "markdown",
   "id": "b6a05ddc-a8b0-444d-890b-898ce9e5f302",
   "metadata": {},
   "source": [
    "## Preparation\n",
    "\n",
    "Go to the root folder of the repository and run the following commands\n",
    "\n",
    "`xmen dict conf/quaero.yaml`\n",
    "\n",
    "This command creates the Quaero-specific UMLS subset as a jsonl file.\n",
    "If you don't have access to UMLS metathesaurus 2014AB release, you can adapt the yaml file to point to any other release.\n",
    "\n",
    "`xmen index conf/quaero.yaml --all`\n",
    "\n",
    "This command creates the indices used candidate generations (both TF-IDF and SapBERT).\n",
    "\n",
    "By default, all files are written to `~/.cache/xmen`, unless configured otherwise."
   ]
  },
  {
   "cell_type": "markdown",
   "id": "482b215a-9a15-4227-8c88-da811c0c0fe9",
   "metadata": {},
   "source": [
    "## Loading Knowledge Base and Dataset"
   ]
  },
  {
   "cell_type": "code",
   "execution_count": 2,
   "id": "46917412-c6e3-48c6-8e45-278aab09202c",
   "metadata": {},
   "outputs": [],
   "source": [
    "from pathlib import Path\n",
    "base_path = Path.home() / \".cache/xmen/quaero\""
   ]
  },
  {
   "cell_type": "code",
   "execution_count": 3,
   "id": "8c419ff7-306f-4522-811c-cffadea0010d",
   "metadata": {},
   "outputs": [
    {
     "name": "stderr",
     "output_type": "stream",
     "text": [
      "Found cached dataset quaero (/home/Florian.Borchert/.cache/huggingface/datasets/bigbio___quaero/quaero_medline_bigbio_kb/1.0.0/c215a01af5fd15163e392e2f78a4f67f1fe3567d92f53b7f907c95e55dcdfe93)\n"
     ]
    },
    {
     "data": {
      "application/vnd.jupyter.widget-view+json": {
       "model_id": "1466bfffe5814a0bb7d9f6571a29a44e",
       "version_major": 2,
       "version_minor": 0
      },
      "text/plain": [
       "  0%|          | 0/3 [00:00<?, ?it/s]"
      ]
     },
     "metadata": {},
     "output_type": "display_data"
    }
   ],
   "source": [
    "# Load Quaero MEDLINE subset through BigBIO dataloader\n",
    "from datasets import load_dataset\n",
    "dataset = load_dataset(\"bigbio/quaero\", \"quaero_medline_bigbio_kb\")"
   ]
  },
  {
   "cell_type": "code",
   "execution_count": 4,
   "id": "540bb862-7d66-4216-bf22-1943b2fa654c",
   "metadata": {},
   "outputs": [],
   "source": [
    "# Load knowledge base\n",
    "from xmen import load_kb\n",
    "kb = load_kb(base_path / \"quaero.jsonl\")"
   ]
  },
  {
   "cell_type": "markdown",
   "id": "ad987400-dfc7-4ecc-8fd0-5aeb408904e2",
   "metadata": {},
   "source": [
    "# Candidate Generation\n",
    "\n",
    "We use the pre-computed indices to retrieve the 64 most similar concepts for each mention"
   ]
  },
  {
   "cell_type": "code",
   "execution_count": 5,
   "id": "37d5d24c-7bbf-4254-9d74-52b983c24d12",
   "metadata": {},
   "outputs": [
    {
     "data": {
      "text/html": [
       "<pre style=\"white-space:pre;overflow-x:auto;line-height:normal;font-family:Menlo,'DejaVu Sans Mono',consolas,'Courier New',monospace\"><span style=\"color: #7fbfbf; text-decoration-color: #7fbfbf\">[09/20/23 14:32:55] </span><span style=\"color: #000080; text-decoration-color: #000080\">INFO    </span> Loading hierarchical faiss index                                <a href=\"file:///mnt/nfs/home/Florian.Borchert/workspace/xmen/xmen/linkers/sap_bert_linker.py\" target=\"_blank\"><span style=\"color: #7f7f7f; text-decoration-color: #7f7f7f\">sap_bert_linker.py</span></a><span style=\"color: #7f7f7f; text-decoration-color: #7f7f7f\">:</span><a href=\"file:///mnt/nfs/home/Florian.Borchert/workspace/xmen/xmen/linkers/sap_bert_linker.py#153\" target=\"_blank\"><span style=\"color: #7f7f7f; text-decoration-color: #7f7f7f\">153</span></a>\n",
       "</pre>\n"
      ],
      "text/plain": [
       "\u001b[2;36m[09/20/23 14:32:55]\u001b[0m\u001b[2;36m \u001b[0m\u001b[34mINFO    \u001b[0m Loading hierarchical faiss index                                \u001b]8;id=423745;file:///mnt/nfs/home/Florian.Borchert/workspace/xmen/xmen/linkers/sap_bert_linker.py\u001b\\\u001b[2msap_bert_linker.py\u001b[0m\u001b]8;;\u001b\\\u001b[2m:\u001b[0m\u001b]8;id=169665;file:///mnt/nfs/home/Florian.Borchert/workspace/xmen/xmen/linkers/sap_bert_linker.py#153\u001b\\\u001b[2m153\u001b[0m\u001b]8;;\u001b\\\n"
      ]
     },
     "metadata": {},
     "output_type": "display_data"
    },
    {
     "data": {
      "text/html": [
       "<pre style=\"white-space:pre;overflow-x:auto;line-height:normal;font-family:Menlo,'DejaVu Sans Mono',consolas,'Courier New',monospace\"><span style=\"color: #7fbfbf; text-decoration-color: #7fbfbf\">                    </span><span style=\"color: #000080; text-decoration-color: #000080\">INFO    </span> Loading index from                                                 <a href=\"file:///mnt/nfs/home/Florian.Borchert/workspace/xmen/xmen/linkers/faiss_indexer.py\" target=\"_blank\"><span style=\"color: #7f7f7f; text-decoration-color: #7f7f7f\">faiss_indexer.py</span></a><span style=\"color: #7f7f7f; text-decoration-color: #7f7f7f\">:</span><a href=\"file:///mnt/nfs/home/Florian.Borchert/workspace/xmen/xmen/linkers/faiss_indexer.py#64\" target=\"_blank\"><span style=\"color: #7f7f7f; text-decoration-color: #7f7f7f\">64</span></a>\n",
       "<span style=\"color: #7fbfbf; text-decoration-color: #7fbfbf\">                    </span>         <span style=\"color: #800080; text-decoration-color: #800080\">/home/Florian.Borchert/.cache/xmen/quaero/index/sapbert/</span><span style=\"color: #ff00ff; text-decoration-color: #ff00ff\">embed_fais</span> <span style=\"color: #7f7f7f; text-decoration-color: #7f7f7f\">                   </span>\n",
       "<span style=\"color: #7fbfbf; text-decoration-color: #7fbfbf\">                    </span>         <span style=\"color: #ff00ff; text-decoration-color: #ff00ff\">s_hier.pickle</span>                                                      <span style=\"color: #7f7f7f; text-decoration-color: #7f7f7f\">                   </span>\n",
       "</pre>\n"
      ],
      "text/plain": [
       "\u001b[2;36m                   \u001b[0m\u001b[2;36m \u001b[0m\u001b[34mINFO    \u001b[0m Loading index from                                                 \u001b]8;id=67971;file:///mnt/nfs/home/Florian.Borchert/workspace/xmen/xmen/linkers/faiss_indexer.py\u001b\\\u001b[2mfaiss_indexer.py\u001b[0m\u001b]8;;\u001b\\\u001b[2m:\u001b[0m\u001b]8;id=587136;file:///mnt/nfs/home/Florian.Borchert/workspace/xmen/xmen/linkers/faiss_indexer.py#64\u001b\\\u001b[2m64\u001b[0m\u001b]8;;\u001b\\\n",
       "\u001b[2;36m                    \u001b[0m         \u001b[35m/home/Florian.Borchert/.cache/xmen/quaero/index/sapbert/\u001b[0m\u001b[95membed_fais\u001b[0m \u001b[2m                   \u001b[0m\n",
       "\u001b[2;36m                    \u001b[0m         \u001b[95ms_hier.pickle\u001b[0m                                                      \u001b[2m                   \u001b[0m\n"
      ]
     },
     "metadata": {},
     "output_type": "display_data"
    },
    {
     "data": {
      "text/html": [
       "<pre style=\"white-space:pre;overflow-x:auto;line-height:normal;font-family:Menlo,'DejaVu Sans Mono',consolas,'Courier New',monospace\"><span style=\"color: #7fbfbf; text-decoration-color: #7fbfbf\">[09/20/23 14:33:03] </span><span style=\"color: #000080; text-decoration-color: #000080\">INFO    </span> Loaded index of type <span style=\"font-weight: bold\">&lt;</span><span style=\"color: #ff00ff; text-decoration-color: #ff00ff; font-weight: bold\">class</span><span style=\"color: #000000; text-decoration-color: #000000\"> </span><span style=\"color: #008000; text-decoration-color: #008000\">'faiss.swigfaiss.IndexHNSWFlat'</span><span style=\"font-weight: bold\">&gt;</span> and   <a href=\"file:///mnt/nfs/home/Florian.Borchert/workspace/xmen/xmen/linkers/faiss_indexer.py\" target=\"_blank\"><span style=\"color: #7f7f7f; text-decoration-color: #7f7f7f\">faiss_indexer.py</span></a><span style=\"color: #7f7f7f; text-decoration-color: #7f7f7f\">:</span><a href=\"file:///mnt/nfs/home/Florian.Borchert/workspace/xmen/xmen/linkers/faiss_indexer.py#66\" target=\"_blank\"><span style=\"color: #7f7f7f; text-decoration-color: #7f7f7f\">66</span></a>\n",
       "<span style=\"color: #7fbfbf; text-decoration-color: #7fbfbf\">                    </span>         size <span style=\"color: #008080; text-decoration-color: #008080; font-weight: bold\">6910830</span>                                                       <span style=\"color: #7f7f7f; text-decoration-color: #7f7f7f\">                   </span>\n",
       "</pre>\n"
      ],
      "text/plain": [
       "\u001b[2;36m[09/20/23 14:33:03]\u001b[0m\u001b[2;36m \u001b[0m\u001b[34mINFO    \u001b[0m Loaded index of type \u001b[1m<\u001b[0m\u001b[1;95mclass\u001b[0m\u001b[39m \u001b[0m\u001b[32m'faiss.swigfaiss.IndexHNSWFlat'\u001b[0m\u001b[1m>\u001b[0m and   \u001b]8;id=421559;file:///mnt/nfs/home/Florian.Borchert/workspace/xmen/xmen/linkers/faiss_indexer.py\u001b\\\u001b[2mfaiss_indexer.py\u001b[0m\u001b]8;;\u001b\\\u001b[2m:\u001b[0m\u001b]8;id=621692;file:///mnt/nfs/home/Florian.Borchert/workspace/xmen/xmen/linkers/faiss_indexer.py#66\u001b\\\u001b[2m66\u001b[0m\u001b]8;;\u001b\\\n",
       "\u001b[2;36m                    \u001b[0m         size \u001b[1;36m6910830\u001b[0m                                                       \u001b[2m                   \u001b[0m\n"
      ]
     },
     "metadata": {},
     "output_type": "display_data"
    }
   ],
   "source": [
    "# Generate candidates with Ensemble of TF-IDF + SapBERT\n",
    "from xmen.linkers import default_ensemble\n",
    "linker = default_ensemble(base_path / \"index\")"
   ]
  },
  {
   "cell_type": "code",
   "execution_count": 6,
   "id": "276af3a6-e245-4364-9ef6-d9fd8cbb862a",
   "metadata": {},
   "outputs": [
    {
     "data": {
      "application/vnd.jupyter.widget-view+json": {
       "model_id": "",
       "version_major": 2,
       "version_minor": 0
      },
      "text/plain": [
       "Map:   0%|          | 0/833 [00:00<?, ? examples/s]"
      ]
     },
     "metadata": {},
     "output_type": "display_data"
    },
    {
     "data": {
      "application/vnd.jupyter.widget-view+json": {
       "model_id": "",
       "version_major": 2,
       "version_minor": 0
      },
      "text/plain": [
       "Map:   0%|          | 0/833 [00:00<?, ? examples/s]"
      ]
     },
     "metadata": {},
     "output_type": "display_data"
    },
    {
     "data": {
      "application/vnd.jupyter.widget-view+json": {
       "model_id": "",
       "version_major": 2,
       "version_minor": 0
      },
      "text/plain": [
       "Map:   0%|          | 0/832 [00:00<?, ? examples/s]"
      ]
     },
     "metadata": {},
     "output_type": "display_data"
    }
   ],
   "source": [
    "candidates = linker.predict_batch(dataset, top_k=64)"
   ]
  },
  {
   "cell_type": "code",
   "execution_count": 7,
   "id": "4526ee50-a9d1-48c1-8e08-f676f2ef6da4",
   "metadata": {},
   "outputs": [
    {
     "data": {
      "text/plain": [
       "{'strict': {'precision': 0.5802389409105586,\n",
       "  'recall': 0.5804263565891473,\n",
       "  'fscore': 0.5803326336186015,\n",
       "  'ptp': 1797,\n",
       "  'fp': 1300,\n",
       "  'rtp': 1797,\n",
       "  'fn': 1299,\n",
       "  'n_docs_system': 833,\n",
       "  'n_annos_system': 3103,\n",
       "  'n_docs_gold': 833,\n",
       "  'n_annos_gold': 3097}}"
      ]
     },
     "execution_count": 7,
     "metadata": {},
     "output_type": "execute_result"
    }
   ],
   "source": [
    "from xmen.evaluation import evaluate\n",
    "evaluate(dataset['test'], candidates['test'])"
   ]
  },
  {
   "cell_type": "markdown",
   "id": "4da2e1d1-2ed2-4f14-b3f7-a19a2e45190f",
   "metadata": {},
   "source": [
    "# Semantic Group Filtering"
   ]
  },
  {
   "cell_type": "code",
   "execution_count": 8,
   "id": "c4249662",
   "metadata": {},
   "outputs": [
    {
     "data": {
      "application/vnd.jupyter.widget-view+json": {
       "model_id": "",
       "version_major": 2,
       "version_minor": 0
      },
      "text/plain": [
       "Map:   0%|          | 0/833 [00:00<?, ? examples/s]"
      ]
     },
     "metadata": {},
     "output_type": "display_data"
    },
    {
     "data": {
      "application/vnd.jupyter.widget-view+json": {
       "model_id": "",
       "version_major": 2,
       "version_minor": 0
      },
      "text/plain": [
       "Map:   0%|          | 0/833 [00:00<?, ? examples/s]"
      ]
     },
     "metadata": {},
     "output_type": "display_data"
    },
    {
     "data": {
      "application/vnd.jupyter.widget-view+json": {
       "model_id": "",
       "version_major": 2,
       "version_minor": 0
      },
      "text/plain": [
       "Map:   0%|          | 0/832 [00:00<?, ? examples/s]"
      ]
     },
     "metadata": {},
     "output_type": "display_data"
    }
   ],
   "source": [
    "from xmen.data import SemanticGroupFilter\n",
    "candidates = SemanticGroupFilter(kb).transform_batch(candidates)"
   ]
  },
  {
   "cell_type": "code",
   "execution_count": 9,
   "id": "86221f29",
   "metadata": {},
   "outputs": [
    {
     "data": {
      "text/plain": [
       "{'strict': {'precision': 0.6606276285991588,\n",
       "  'recall': 0.6595607235142119,\n",
       "  'fscore': 0.6600937449490868,\n",
       "  'ptp': 2042,\n",
       "  'fp': 1049,\n",
       "  'rtp': 2042,\n",
       "  'fn': 1054,\n",
       "  'n_docs_system': 833,\n",
       "  'n_annos_system': 3095,\n",
       "  'n_docs_gold': 833,\n",
       "  'n_annos_gold': 3097}}"
      ]
     },
     "execution_count": 9,
     "metadata": {},
     "output_type": "execute_result"
    }
   ],
   "source": [
    "evaluate(dataset['test'], candidates['test'])"
   ]
  },
  {
   "cell_type": "markdown",
   "id": "b8617e85-44af-456d-a9eb-62e2ea6d9a88",
   "metadata": {},
   "source": [
    "# Reranking"
   ]
  },
  {
   "cell_type": "markdown",
   "id": "f26c4831-7b61-4e68-8bd6-2c40c8ecfe6d",
   "metadata": {},
   "source": [
    "## Using a Pre-trained Model for Reranking\n",
    "\n",
    "When no are little annotated training data is available, a pre-trained model can provide good re-ranking performance.\n",
    "Here, we use a cross-encoder that was trained on an automatically translated version of MedMentions (see the notebook [01_Translation.ipynb](01_Translation.ipynb))"
   ]
  },
  {
   "cell_type": "code",
   "execution_count": 10,
   "id": "cacadea0-079d-4d04-8ca0-d56de356c431",
   "metadata": {},
   "outputs": [
    {
     "name": "stdout",
     "output_type": "stream",
     "text": [
      "Context length: 128\n",
      "Use NIL values: True\n"
     ]
    },
    {
     "data": {
      "application/vnd.jupyter.widget-view+json": {
       "model_id": "0a5789bddf114271a591a28b756217b4",
       "version_major": 2,
       "version_minor": 0
      },
      "text/plain": [
       "  0%|          | 0/2994 [00:00<?, ?it/s]"
      ]
     },
     "metadata": {},
     "output_type": "display_data"
    },
    {
     "data": {
      "application/vnd.jupyter.widget-view+json": {
       "model_id": "96c18429f7134da5a1fc3e038df34517",
       "version_major": 2,
       "version_minor": 0
      },
      "text/plain": [
       "  0%|          | 0/2994 [00:00<?, ?it/s]"
      ]
     },
     "metadata": {},
     "output_type": "display_data"
    },
    {
     "data": {
      "application/vnd.jupyter.widget-view+json": {
       "model_id": "84a7148e720b4828ac2c2a4cbbaf236a",
       "version_major": 2,
       "version_minor": 0
      },
      "text/plain": [
       "  0%|          | 0/2994 [00:00<?, ?it/s]"
      ]
     },
     "metadata": {},
     "output_type": "display_data"
    },
    {
     "data": {
      "application/vnd.jupyter.widget-view+json": {
       "model_id": "b15b0a1e478b400c9f8dbcc9b4289fe3",
       "version_major": 2,
       "version_minor": 0
      },
      "text/plain": [
       "  0%|          | 0/3103 [00:00<?, ?it/s]"
      ]
     },
     "metadata": {},
     "output_type": "display_data"
    },
    {
     "data": {
      "application/vnd.jupyter.widget-view+json": {
       "model_id": "d492e67be910433b885bef9ecba700da",
       "version_major": 2,
       "version_minor": 0
      },
      "text/plain": [
       "  0%|          | 0/3103 [00:00<?, ?it/s]"
      ]
     },
     "metadata": {},
     "output_type": "display_data"
    },
    {
     "data": {
      "application/vnd.jupyter.widget-view+json": {
       "model_id": "63776830a5874f2ab03b6002be647b28",
       "version_major": 2,
       "version_minor": 0
      },
      "text/plain": [
       "  0%|          | 0/3103 [00:00<?, ?it/s]"
      ]
     },
     "metadata": {},
     "output_type": "display_data"
    },
    {
     "data": {
      "application/vnd.jupyter.widget-view+json": {
       "model_id": "d2df5b28f87f4180b9f3e46bbbf484e5",
       "version_major": 2,
       "version_minor": 0
      },
      "text/plain": [
       "  0%|          | 0/2977 [00:00<?, ?it/s]"
      ]
     },
     "metadata": {},
     "output_type": "display_data"
    },
    {
     "data": {
      "application/vnd.jupyter.widget-view+json": {
       "model_id": "6c8d88edd2534a6582794af2c3146f8d",
       "version_major": 2,
       "version_minor": 0
      },
      "text/plain": [
       "  0%|          | 0/2977 [00:00<?, ?it/s]"
      ]
     },
     "metadata": {},
     "output_type": "display_data"
    },
    {
     "data": {
      "application/vnd.jupyter.widget-view+json": {
       "model_id": "9ccbf75b8dfd40b6a018edc601d4517a",
       "version_major": 2,
       "version_minor": 0
      },
      "text/plain": [
       "  0%|          | 0/2977 [00:00<?, ?it/s]"
      ]
     },
     "metadata": {},
     "output_type": "display_data"
    }
   ],
   "source": [
    "from xmen.reranking.cross_encoder import *\n",
    "ce_dataset = CrossEncoderReranker.prepare_data(candidates, dataset, kb)"
   ]
  },
  {
   "cell_type": "code",
   "execution_count": 11,
   "id": "82de6969-0899-4422-b06c-7f95db789299",
   "metadata": {},
   "outputs": [],
   "source": [
    "# CE re-ranker, pre-trained on French translation of MedMentions\n",
    "rr = CrossEncoderReranker.load('../models/fr_ce_medmentions', device=0)"
   ]
  },
  {
   "cell_type": "code",
   "execution_count": 12,
   "id": "21d793c8-6b05-47b4-8f3f-6948fb46c15f",
   "metadata": {},
   "outputs": [
    {
     "data": {
      "application/vnd.jupyter.widget-view+json": {
       "model_id": "6004093473854048b75cb62c3632c733",
       "version_major": 2,
       "version_minor": 0
      },
      "text/plain": [
       "Batches:   0%|          | 0/3095 [00:00<?, ?it/s]"
      ]
     },
     "metadata": {},
     "output_type": "display_data"
    },
    {
     "data": {
      "application/vnd.jupyter.widget-view+json": {
       "model_id": "",
       "version_major": 2,
       "version_minor": 0
      },
      "text/plain": [
       "Map:   0%|          | 0/833 [00:00<?, ? examples/s]"
      ]
     },
     "metadata": {},
     "output_type": "display_data"
    },
    {
     "data": {
      "application/vnd.jupyter.widget-view+json": {
       "model_id": "",
       "version_major": 2,
       "version_minor": 0
      },
      "text/plain": [
       "Map:   0%|          | 0/833 [00:00<?, ? examples/s]"
      ]
     },
     "metadata": {},
     "output_type": "display_data"
    }
   ],
   "source": [
    "# Predict on test set\n",
    "prediction = rr.rerank_batch(candidates[\"test\"], ce_dataset[\"test\"], allow_nil=False)"
   ]
  },
  {
   "cell_type": "code",
   "execution_count": 13,
   "id": "a818b24d-c3b9-4290-8dbc-7f0d74bbcf75",
   "metadata": {},
   "outputs": [
    {
     "data": {
      "text/plain": [
       "{'strict': {'precision': 0.7234248788368336,\n",
       "  'recall': 0.7231912144702842,\n",
       "  'fscore': 0.7233080277822647,\n",
       "  'ptp': 2239,\n",
       "  'fp': 856,\n",
       "  'rtp': 2239,\n",
       "  'fn': 857,\n",
       "  'n_docs_system': 833,\n",
       "  'n_annos_system': 3095,\n",
       "  'n_docs_gold': 833,\n",
       "  'n_annos_gold': 3097}}"
      ]
     },
     "execution_count": 13,
     "metadata": {},
     "output_type": "execute_result"
    }
   ],
   "source": [
    "evaluate(dataset['test'], prediction)"
   ]
  },
  {
   "cell_type": "markdown",
   "id": "74aef74d-58a7-400e-ba8f-a31e4a9fb3b6",
   "metadata": {},
   "source": [
    "## Training a Fully-supervised Model\n",
    "\n",
    "Finally, with enough training data, we can also train a fully supervsied cross-encoder to learn a better task-specific ranking.\n",
    "\n",
    "The cross-encoder is trained with batches of 64 candidates. \n",
    "We keep the checkpoint that maximizes accuracy@1 on the validation set."
   ]
  },
  {
   "cell_type": "code",
   "execution_count": 14,
   "id": "ab585f3c-c829-4fbb-912f-c826545a362b",
   "metadata": {},
   "outputs": [
    {
     "name": "stdout",
     "output_type": "stream",
     "text": [
      "model_name := bert-base-multilingual-cased\n",
      "num_train_epochs := 3\n",
      "fp16 := True\n",
      "label_smoothing := False\n",
      "rank_regularization := 1.0\n",
      "train_layers := None\n",
      "softmax_loss := True\n",
      "random_seed := 42\n",
      "learning_rate := 2e-05\n"
     ]
    },
    {
     "name": "stderr",
     "output_type": "stream",
     "text": [
      "Some weights of the model checkpoint at bert-base-multilingual-cased were not used when initializing BertForSequenceClassification: ['cls.predictions.transform.LayerNorm.weight', 'cls.predictions.transform.dense.weight', 'cls.predictions.transform.LayerNorm.bias', 'cls.seq_relationship.bias', 'cls.seq_relationship.weight', 'cls.predictions.transform.dense.bias', 'cls.predictions.bias']\n",
      "- This IS expected if you are initializing BertForSequenceClassification from the checkpoint of a model trained on another task or with another architecture (e.g. initializing a BertForSequenceClassification model from a BertForPreTraining model).\n",
      "- This IS NOT expected if you are initializing BertForSequenceClassification from the checkpoint of a model that you expect to be exactly identical (initializing a BertForSequenceClassification model from a BertForSequenceClassification model).\n",
      "Some weights of BertForSequenceClassification were not initialized from the model checkpoint at bert-base-multilingual-cased and are newly initialized: ['classifier.bias', 'classifier.weight']\n",
      "You should probably TRAIN this model on a down-stream task to be able to use it for predictions and inference.\n"
     ]
    },
    {
     "name": "stdout",
     "output_type": "stream",
     "text": [
      "2023-09-20 15:21:33 - EntityLinkingEvaluator: Evaluating the model on eval dataset after epoch 0:\n",
      "2023-09-20 15:32:15 - Accuracy: 0.7236842105263158\n",
      "2023-09-20 15:32:15 - Accuracy @ 5: 0.8609986504723347\n",
      "2023-09-20 15:32:15 - Accuracy @ 64: 0.9946018893387314\n",
      "2023-09-20 15:32:16 - Baseline Accuracy: 0.6686909581646424\n",
      "2023-09-20 15:32:16 - Save model to ./output/cross_encoder\n",
      "2023-09-20 15:50:03 - EntityLinkingEvaluator: Evaluating the model on eval dataset after epoch 1:\n",
      "2023-09-20 16:00:46 - Accuracy: 0.7419028340080972\n",
      "2023-09-20 16:00:46 - Accuracy @ 5: 0.8657219973009447\n",
      "2023-09-20 16:00:46 - Accuracy @ 64: 0.9946018893387314\n",
      "2023-09-20 16:00:46 - Baseline Accuracy: 0.6686909581646424\n",
      "2023-09-20 16:00:46 - Save model to ./output/cross_encoder\n",
      "2023-09-20 16:18:35 - EntityLinkingEvaluator: Evaluating the model on eval dataset after epoch 2:\n",
      "2023-09-20 16:29:18 - Accuracy: 0.7493252361673415\n",
      "2023-09-20 16:29:18 - Accuracy @ 5: 0.8728070175438597\n",
      "2023-09-20 16:29:18 - Accuracy @ 64: 0.9946018893387314\n",
      "2023-09-20 16:29:18 - Baseline Accuracy: 0.6686909581646424\n",
      "2023-09-20 16:29:18 - Save model to ./output/cross_encoder\n"
     ]
    }
   ],
   "source": [
    "# Train the cross-encoder on the training set and use the validation set for model selection\n",
    "rr_fs = CrossEncoderReranker()\n",
    "# Note: we train for 3 epochs only (you likely want to increase this for better performance)\n",
    "args = CrossEncoderTrainingArgs(num_train_epochs=3)\n",
    "rr_fs.fit(args, ce_dataset[\"train\"].dataset, ce_dataset[\"validation\"].dataset, show_progress_bar=False)"
   ]
  },
  {
   "cell_type": "code",
   "execution_count": 15,
   "id": "d09c3b36-bf23-4284-a67f-d832614f2424",
   "metadata": {},
   "outputs": [
    {
     "data": {
      "application/vnd.jupyter.widget-view+json": {
       "model_id": "dac77a6bd8714ddabc67074271ddd96a",
       "version_major": 2,
       "version_minor": 0
      },
      "text/plain": [
       "Batches:   0%|          | 0/3095 [00:00<?, ?it/s]"
      ]
     },
     "metadata": {},
     "output_type": "display_data"
    },
    {
     "data": {
      "application/vnd.jupyter.widget-view+json": {
       "model_id": "",
       "version_major": 2,
       "version_minor": 0
      },
      "text/plain": [
       "Map:   0%|          | 0/833 [00:00<?, ? examples/s]"
      ]
     },
     "metadata": {},
     "output_type": "display_data"
    },
    {
     "data": {
      "application/vnd.jupyter.widget-view+json": {
       "model_id": "",
       "version_major": 2,
       "version_minor": 0
      },
      "text/plain": [
       "Map:   0%|          | 0/833 [00:00<?, ? examples/s]"
      ]
     },
     "metadata": {},
     "output_type": "display_data"
    }
   ],
   "source": [
    "# Predict on test set\n",
    "prediction_fs = rr_fs.rerank_batch(candidates[\"test\"], ce_dataset[\"test\"])"
   ]
  },
  {
   "cell_type": "markdown",
   "id": "2e8a75f0-7b64-4cdb-87f3-f6b739cb320e",
   "metadata": {},
   "source": [
    "# Evaluation\n",
    "\n",
    "## Metrics\n",
    "\n",
    "We compute metrics for the predicted concepts vs. the gold-standard for different values of k"
   ]
  },
  {
   "cell_type": "code",
   "execution_count": 16,
   "id": "8ac9da12-8d38-4364-96f2-be5a1e1b9fc5",
   "metadata": {},
   "outputs": [
    {
     "data": {
      "text/plain": [
       "{'strict': {'precision': 0.7534426229508197,\n",
       "  'recall': 0.7422480620155039,\n",
       "  'fscore': 0.7478034493979824,\n",
       "  'ptp': 2298,\n",
       "  'fp': 752,\n",
       "  'rtp': 2298,\n",
       "  'fn': 798,\n",
       "  'n_docs_system': 833,\n",
       "  'n_annos_system': 3050,\n",
       "  'n_docs_gold': 833,\n",
       "  'n_annos_gold': 3097}}"
      ]
     },
     "execution_count": 16,
     "metadata": {},
     "output_type": "execute_result"
    }
   ],
   "source": [
    "evaluate(dataset['test'], prediction_fs)"
   ]
  },
  {
   "cell_type": "code",
   "execution_count": 17,
   "id": "f38d2530-642f-4d0a-95ec-94f21de52483",
   "metadata": {},
   "outputs": [
    {
     "name": "stdout",
     "output_type": "stream",
     "text": [
      "Recall@1 0.6595607235142119\n",
      "Recall@2 0.790374677002584\n",
      "Recall@4 0.8449612403100775\n",
      "Recall@8 0.8656330749354005\n",
      "Recall@16 0.8853359173126615\n",
      "Recall@32 0.8963178294573644\n",
      "Recall@64 0.8998708010335917\n"
     ]
    }
   ],
   "source": [
    "from xmen.evaluation import evaluate_at_k\n",
    "_ = evaluate_at_k(dataset['test'], candidates['test'])"
   ]
  },
  {
   "cell_type": "code",
   "execution_count": 18,
   "id": "12421a31-eb88-4394-85d1-42295178ed4b",
   "metadata": {},
   "outputs": [
    {
     "name": "stdout",
     "output_type": "stream",
     "text": [
      "Recall@1 0.7422480620155039\n",
      "Recall@2 0.8042635658914729\n",
      "Recall@4 0.8394702842377261\n",
      "Recall@8 0.8636950904392765\n",
      "Recall@16 0.8788759689922481\n",
      "Recall@32 0.8914728682170543\n",
      "Recall@64 0.8959948320413437\n"
     ]
    }
   ],
   "source": [
    "_ = evaluate_at_k(dataset['test'], prediction_fs)"
   ]
  },
  {
   "cell_type": "markdown",
   "id": "d3f94940-fb36-4d72-adf5-6e3e60450a19",
   "metadata": {},
   "source": [
    "## Error Analysis\n",
    "\n",
    "To gain more insights into the ranking errors (and potential NER errors, which do not apply here), we use the `error_analysis` functionality of xmen"
   ]
  },
  {
   "cell_type": "code",
   "execution_count": 19,
   "id": "b84234f7-ee2c-449d-988c-6c6b60f2dd5d",
   "metadata": {},
   "outputs": [],
   "source": [
    "from xmen.evaluation import error_analysis"
   ]
  },
  {
   "cell_type": "code",
   "execution_count": 20,
   "id": "fc535571-0e7c-49f6-a87b-6d61aa0c3c2d",
   "metadata": {},
   "outputs": [
    {
     "data": {
      "text/html": [
       "<div>\n",
       "<style scoped>\n",
       "    .dataframe tbody tr th:only-of-type {\n",
       "        vertical-align: middle;\n",
       "    }\n",
       "\n",
       "    .dataframe tbody tr th {\n",
       "        vertical-align: top;\n",
       "    }\n",
       "\n",
       "    .dataframe thead th {\n",
       "        text-align: right;\n",
       "    }\n",
       "</style>\n",
       "<table border=\"1\" class=\"dataframe\">\n",
       "  <thead>\n",
       "    <tr style=\"text-align: right;\">\n",
       "      <th></th>\n",
       "      <th>_word_len</th>\n",
       "      <th>_abbrev</th>\n",
       "      <th>pred_start</th>\n",
       "      <th>pred_end</th>\n",
       "      <th>pred_text</th>\n",
       "      <th>gt_start</th>\n",
       "      <th>gt_end</th>\n",
       "      <th>gt_text</th>\n",
       "      <th>entity_match_type</th>\n",
       "      <th>gold_concept</th>\n",
       "      <th>gold_type</th>\n",
       "      <th>pred_index</th>\n",
       "      <th>pred_index_score</th>\n",
       "      <th>pred_top</th>\n",
       "      <th>pred_top_score</th>\n",
       "      <th>document_id</th>\n",
       "    </tr>\n",
       "  </thead>\n",
       "  <tbody>\n",
       "    <tr>\n",
       "      <th>0</th>\n",
       "      <td>1</td>\n",
       "      <td>False</td>\n",
       "      <td>0.0</td>\n",
       "      <td>5.0</td>\n",
       "      <td>[Etude]</td>\n",
       "      <td>0.0</td>\n",
       "      <td>5.0</td>\n",
       "      <td>[Etude]</td>\n",
       "      <td>tp</td>\n",
       "      <td>{'db_name': 'UMLS', 'db_id': 'C0008972'}</td>\n",
       "      <td>PROC</td>\n",
       "      <td>-1.0</td>\n",
       "      <td>NaN</td>\n",
       "      <td>C0013621</td>\n",
       "      <td>0.692185</td>\n",
       "      <td>1009657</td>\n",
       "    </tr>\n",
       "    <tr>\n",
       "      <th>1</th>\n",
       "      <td>1</td>\n",
       "      <td>False</td>\n",
       "      <td>47.0</td>\n",
       "      <td>55.0</td>\n",
       "      <td>[Africain]</td>\n",
       "      <td>47.0</td>\n",
       "      <td>55.0</td>\n",
       "      <td>[Africain]</td>\n",
       "      <td>tp</td>\n",
       "      <td>{'db_name': 'UMLS', 'db_id': 'C0027567'}</td>\n",
       "      <td>LIVB</td>\n",
       "      <td>0.0</td>\n",
       "      <td>0.863724</td>\n",
       "      <td>C0027567</td>\n",
       "      <td>0.863724</td>\n",
       "      <td>1009657</td>\n",
       "    </tr>\n",
       "    <tr>\n",
       "      <th>2</th>\n",
       "      <td>1</td>\n",
       "      <td>False</td>\n",
       "      <td>4.0</td>\n",
       "      <td>13.0</td>\n",
       "      <td>[gangrènes]</td>\n",
       "      <td>4.0</td>\n",
       "      <td>13.0</td>\n",
       "      <td>[gangrènes]</td>\n",
       "      <td>tp</td>\n",
       "      <td>{'db_name': 'UMLS', 'db_id': 'C0017086'}</td>\n",
       "      <td>DISO</td>\n",
       "      <td>0.0</td>\n",
       "      <td>0.973051</td>\n",
       "      <td>C0017086</td>\n",
       "      <td>0.973051</td>\n",
       "      <td>1009808</td>\n",
       "    </tr>\n",
       "    <tr>\n",
       "      <th>3</th>\n",
       "      <td>2</td>\n",
       "      <td>False</td>\n",
       "      <td>4.0</td>\n",
       "      <td>22.0</td>\n",
       "      <td>[gangrènes gazeuses]</td>\n",
       "      <td>4.0</td>\n",
       "      <td>22.0</td>\n",
       "      <td>[gangrènes gazeuses]</td>\n",
       "      <td>tp</td>\n",
       "      <td>{'db_name': 'UMLS', 'db_id': 'C0017105'}</td>\n",
       "      <td>DISO</td>\n",
       "      <td>0.0</td>\n",
       "      <td>0.935468</td>\n",
       "      <td>C0017105</td>\n",
       "      <td>0.935468</td>\n",
       "      <td>1009808</td>\n",
       "    </tr>\n",
       "    <tr>\n",
       "      <th>4</th>\n",
       "      <td>1</td>\n",
       "      <td>False</td>\n",
       "      <td>14.0</td>\n",
       "      <td>22.0</td>\n",
       "      <td>[gazeuses]</td>\n",
       "      <td>14.0</td>\n",
       "      <td>22.0</td>\n",
       "      <td>[gazeuses]</td>\n",
       "      <td>tp</td>\n",
       "      <td>{'db_name': 'UMLS', 'db_id': 'C0017110'}</td>\n",
       "      <td>CHEM</td>\n",
       "      <td>2.0</td>\n",
       "      <td>0.808053</td>\n",
       "      <td>C0537495</td>\n",
       "      <td>0.858877</td>\n",
       "      <td>1009808</td>\n",
       "    </tr>\n",
       "    <tr>\n",
       "      <th>5</th>\n",
       "      <td>1</td>\n",
       "      <td>False</td>\n",
       "      <td>35.0</td>\n",
       "      <td>46.0</td>\n",
       "      <td>[tuberculose]</td>\n",
       "      <td>35.0</td>\n",
       "      <td>46.0</td>\n",
       "      <td>[tuberculose]</td>\n",
       "      <td>tp</td>\n",
       "      <td>{'db_name': 'UMLS', 'db_id': 'C0041296'}</td>\n",
       "      <td>DISO</td>\n",
       "      <td>0.0</td>\n",
       "      <td>1.0</td>\n",
       "      <td>C0041296</td>\n",
       "      <td>1.0</td>\n",
       "      <td>1019393</td>\n",
       "    </tr>\n",
       "    <tr>\n",
       "      <th>6</th>\n",
       "      <td>2</td>\n",
       "      <td>False</td>\n",
       "      <td>35.0</td>\n",
       "      <td>53.0</td>\n",
       "      <td>[tuberculose bovine]</td>\n",
       "      <td>35.0</td>\n",
       "      <td>53.0</td>\n",
       "      <td>[tuberculose bovine]</td>\n",
       "      <td>tp</td>\n",
       "      <td>{'db_name': 'UMLS', 'db_id': 'C0041307'}</td>\n",
       "      <td>DISO</td>\n",
       "      <td>0.0</td>\n",
       "      <td>1.0</td>\n",
       "      <td>C0041307</td>\n",
       "      <td>1.0</td>\n",
       "      <td>1019393</td>\n",
       "    </tr>\n",
       "    <tr>\n",
       "      <th>7</th>\n",
       "      <td>1</td>\n",
       "      <td>False</td>\n",
       "      <td>47.0</td>\n",
       "      <td>53.0</td>\n",
       "      <td>[bovine]</td>\n",
       "      <td>47.0</td>\n",
       "      <td>53.0</td>\n",
       "      <td>[bovine]</td>\n",
       "      <td>tp</td>\n",
       "      <td>{'db_name': 'UMLS', 'db_id': 'C0007452'}</td>\n",
       "      <td>LIVB</td>\n",
       "      <td>3.0</td>\n",
       "      <td>1.0</td>\n",
       "      <td>C3667982</td>\n",
       "      <td>1.0</td>\n",
       "      <td>1019393</td>\n",
       "    </tr>\n",
       "    <tr>\n",
       "      <th>8</th>\n",
       "      <td>2</td>\n",
       "      <td>False</td>\n",
       "      <td>56.0</td>\n",
       "      <td>75.0</td>\n",
       "      <td>[Mycobacterium bovis]</td>\n",
       "      <td>56.0</td>\n",
       "      <td>75.0</td>\n",
       "      <td>[Mycobacterium bovis]</td>\n",
       "      <td>tp</td>\n",
       "      <td>{'db_name': 'UMLS', 'db_id': 'C0026917'}</td>\n",
       "      <td>DISO</td>\n",
       "      <td>-1.0</td>\n",
       "      <td>NaN</td>\n",
       "      <td>C0041307</td>\n",
       "      <td>0.825099</td>\n",
       "      <td>1019393</td>\n",
       "    </tr>\n",
       "    <tr>\n",
       "      <th>9</th>\n",
       "      <td>1</td>\n",
       "      <td>False</td>\n",
       "      <td>78.0</td>\n",
       "      <td>86.0</td>\n",
       "      <td>[observés]</td>\n",
       "      <td>78.0</td>\n",
       "      <td>86.0</td>\n",
       "      <td>[observés]</td>\n",
       "      <td>tp</td>\n",
       "      <td>{'db_name': 'UMLS', 'db_id': 'C0302523'}</td>\n",
       "      <td>PROC</td>\n",
       "      <td>1.0</td>\n",
       "      <td>0.852574</td>\n",
       "      <td>C0700325</td>\n",
       "      <td>0.852574</td>\n",
       "      <td>1019393</td>\n",
       "    </tr>\n",
       "  </tbody>\n",
       "</table>\n",
       "</div>"
      ],
      "text/plain": [
       "   _word_len  _abbrev  pred_start  pred_end              pred_text  gt_start  \\\n",
       "0          1    False         0.0       5.0                [Etude]       0.0   \n",
       "1          1    False        47.0      55.0             [Africain]      47.0   \n",
       "2          1    False         4.0      13.0            [gangrènes]       4.0   \n",
       "3          2    False         4.0      22.0   [gangrènes gazeuses]       4.0   \n",
       "4          1    False        14.0      22.0             [gazeuses]      14.0   \n",
       "5          1    False        35.0      46.0          [tuberculose]      35.0   \n",
       "6          2    False        35.0      53.0   [tuberculose bovine]      35.0   \n",
       "7          1    False        47.0      53.0               [bovine]      47.0   \n",
       "8          2    False        56.0      75.0  [Mycobacterium bovis]      56.0   \n",
       "9          1    False        78.0      86.0             [observés]      78.0   \n",
       "\n",
       "   gt_end                gt_text entity_match_type  \\\n",
       "0     5.0                [Etude]                tp   \n",
       "1    55.0             [Africain]                tp   \n",
       "2    13.0            [gangrènes]                tp   \n",
       "3    22.0   [gangrènes gazeuses]                tp   \n",
       "4    22.0             [gazeuses]                tp   \n",
       "5    46.0          [tuberculose]                tp   \n",
       "6    53.0   [tuberculose bovine]                tp   \n",
       "7    53.0               [bovine]                tp   \n",
       "8    75.0  [Mycobacterium bovis]                tp   \n",
       "9    86.0             [observés]                tp   \n",
       "\n",
       "                               gold_concept gold_type  pred_index  \\\n",
       "0  {'db_name': 'UMLS', 'db_id': 'C0008972'}      PROC        -1.0   \n",
       "1  {'db_name': 'UMLS', 'db_id': 'C0027567'}      LIVB         0.0   \n",
       "2  {'db_name': 'UMLS', 'db_id': 'C0017086'}      DISO         0.0   \n",
       "3  {'db_name': 'UMLS', 'db_id': 'C0017105'}      DISO         0.0   \n",
       "4  {'db_name': 'UMLS', 'db_id': 'C0017110'}      CHEM         2.0   \n",
       "5  {'db_name': 'UMLS', 'db_id': 'C0041296'}      DISO         0.0   \n",
       "6  {'db_name': 'UMLS', 'db_id': 'C0041307'}      DISO         0.0   \n",
       "7  {'db_name': 'UMLS', 'db_id': 'C0007452'}      LIVB         3.0   \n",
       "8  {'db_name': 'UMLS', 'db_id': 'C0026917'}      DISO        -1.0   \n",
       "9  {'db_name': 'UMLS', 'db_id': 'C0302523'}      PROC         1.0   \n",
       "\n",
       "  pred_index_score  pred_top pred_top_score document_id  \n",
       "0              NaN  C0013621       0.692185     1009657  \n",
       "1         0.863724  C0027567       0.863724     1009657  \n",
       "2         0.973051  C0017086       0.973051     1009808  \n",
       "3         0.935468  C0017105       0.935468     1009808  \n",
       "4         0.808053  C0537495       0.858877     1009808  \n",
       "5              1.0  C0041296            1.0     1019393  \n",
       "6              1.0  C0041307            1.0     1019393  \n",
       "7              1.0  C3667982            1.0     1019393  \n",
       "8              NaN  C0041307       0.825099     1019393  \n",
       "9         0.852574  C0700325       0.852574     1019393  "
      ]
     },
     "execution_count": 20,
     "metadata": {},
     "output_type": "execute_result"
    }
   ],
   "source": [
    "# Before re-ranking\n",
    "ea_df = error_analysis(dataset['test'], candidates['test'])\n",
    "ea_df.head(10)"
   ]
  },
  {
   "cell_type": "code",
   "execution_count": 21,
   "id": "56e3d2a6-0cb5-43d6-94e5-e5a25c36926b",
   "metadata": {},
   "outputs": [
    {
     "data": {
      "text/html": [
       "<div>\n",
       "<style scoped>\n",
       "    .dataframe tbody tr th:only-of-type {\n",
       "        vertical-align: middle;\n",
       "    }\n",
       "\n",
       "    .dataframe tbody tr th {\n",
       "        vertical-align: top;\n",
       "    }\n",
       "\n",
       "    .dataframe thead th {\n",
       "        text-align: right;\n",
       "    }\n",
       "</style>\n",
       "<table border=\"1\" class=\"dataframe\">\n",
       "  <thead>\n",
       "    <tr style=\"text-align: right;\">\n",
       "      <th></th>\n",
       "      <th>_word_len</th>\n",
       "      <th>_abbrev</th>\n",
       "      <th>pred_start</th>\n",
       "      <th>pred_end</th>\n",
       "      <th>pred_text</th>\n",
       "      <th>gt_start</th>\n",
       "      <th>gt_end</th>\n",
       "      <th>gt_text</th>\n",
       "      <th>entity_match_type</th>\n",
       "      <th>gold_concept</th>\n",
       "      <th>gold_type</th>\n",
       "      <th>pred_index</th>\n",
       "      <th>pred_index_score</th>\n",
       "      <th>pred_top</th>\n",
       "      <th>pred_top_score</th>\n",
       "      <th>document_id</th>\n",
       "    </tr>\n",
       "  </thead>\n",
       "  <tbody>\n",
       "    <tr>\n",
       "      <th>0</th>\n",
       "      <td>1</td>\n",
       "      <td>False</td>\n",
       "      <td>0.0</td>\n",
       "      <td>5.0</td>\n",
       "      <td>[Etude]</td>\n",
       "      <td>0.0</td>\n",
       "      <td>5.0</td>\n",
       "      <td>[Etude]</td>\n",
       "      <td>tp</td>\n",
       "      <td>{'db_name': 'UMLS', 'db_id': 'C0008972'}</td>\n",
       "      <td>PROC</td>\n",
       "      <td>-1.0</td>\n",
       "      <td>NaN</td>\n",
       "      <td>NIL</td>\n",
       "      <td>NaN</td>\n",
       "      <td>1009657</td>\n",
       "    </tr>\n",
       "    <tr>\n",
       "      <th>1</th>\n",
       "      <td>1</td>\n",
       "      <td>False</td>\n",
       "      <td>47.0</td>\n",
       "      <td>55.0</td>\n",
       "      <td>[Africain]</td>\n",
       "      <td>47.0</td>\n",
       "      <td>55.0</td>\n",
       "      <td>[Africain]</td>\n",
       "      <td>tp</td>\n",
       "      <td>{'db_name': 'UMLS', 'db_id': 'C0027567'}</td>\n",
       "      <td>LIVB</td>\n",
       "      <td>1.0</td>\n",
       "      <td>0.037974</td>\n",
       "      <td>C0085756</td>\n",
       "      <td>0.042189</td>\n",
       "      <td>1009657</td>\n",
       "    </tr>\n",
       "    <tr>\n",
       "      <th>2</th>\n",
       "      <td>1</td>\n",
       "      <td>False</td>\n",
       "      <td>4.0</td>\n",
       "      <td>13.0</td>\n",
       "      <td>[gangrènes]</td>\n",
       "      <td>4.0</td>\n",
       "      <td>13.0</td>\n",
       "      <td>[gangrènes]</td>\n",
       "      <td>tp</td>\n",
       "      <td>{'db_name': 'UMLS', 'db_id': 'C0017086'}</td>\n",
       "      <td>DISO</td>\n",
       "      <td>0.0</td>\n",
       "      <td>0.04899</td>\n",
       "      <td>C0017086</td>\n",
       "      <td>0.04899</td>\n",
       "      <td>1009808</td>\n",
       "    </tr>\n",
       "    <tr>\n",
       "      <th>3</th>\n",
       "      <td>2</td>\n",
       "      <td>False</td>\n",
       "      <td>4.0</td>\n",
       "      <td>22.0</td>\n",
       "      <td>[gangrènes gazeuses]</td>\n",
       "      <td>4.0</td>\n",
       "      <td>22.0</td>\n",
       "      <td>[gangrènes gazeuses]</td>\n",
       "      <td>tp</td>\n",
       "      <td>{'db_name': 'UMLS', 'db_id': 'C0017105'}</td>\n",
       "      <td>DISO</td>\n",
       "      <td>0.0</td>\n",
       "      <td>0.054722</td>\n",
       "      <td>C0017105</td>\n",
       "      <td>0.054722</td>\n",
       "      <td>1009808</td>\n",
       "    </tr>\n",
       "    <tr>\n",
       "      <th>4</th>\n",
       "      <td>1</td>\n",
       "      <td>False</td>\n",
       "      <td>14.0</td>\n",
       "      <td>22.0</td>\n",
       "      <td>[gazeuses]</td>\n",
       "      <td>14.0</td>\n",
       "      <td>22.0</td>\n",
       "      <td>[gazeuses]</td>\n",
       "      <td>tp</td>\n",
       "      <td>{'db_name': 'UMLS', 'db_id': 'C0017110'}</td>\n",
       "      <td>CHEM</td>\n",
       "      <td>0.0</td>\n",
       "      <td>0.062369</td>\n",
       "      <td>C0017110</td>\n",
       "      <td>0.062369</td>\n",
       "      <td>1009808</td>\n",
       "    </tr>\n",
       "    <tr>\n",
       "      <th>5</th>\n",
       "      <td>1</td>\n",
       "      <td>False</td>\n",
       "      <td>35.0</td>\n",
       "      <td>46.0</td>\n",
       "      <td>[tuberculose]</td>\n",
       "      <td>35.0</td>\n",
       "      <td>46.0</td>\n",
       "      <td>[tuberculose]</td>\n",
       "      <td>tp</td>\n",
       "      <td>{'db_name': 'UMLS', 'db_id': 'C0041296'}</td>\n",
       "      <td>DISO</td>\n",
       "      <td>0.0</td>\n",
       "      <td>0.050489</td>\n",
       "      <td>C0041296</td>\n",
       "      <td>0.050489</td>\n",
       "      <td>1019393</td>\n",
       "    </tr>\n",
       "    <tr>\n",
       "      <th>6</th>\n",
       "      <td>2</td>\n",
       "      <td>False</td>\n",
       "      <td>35.0</td>\n",
       "      <td>53.0</td>\n",
       "      <td>[tuberculose bovine]</td>\n",
       "      <td>35.0</td>\n",
       "      <td>53.0</td>\n",
       "      <td>[tuberculose bovine]</td>\n",
       "      <td>tp</td>\n",
       "      <td>{'db_name': 'UMLS', 'db_id': 'C0041307'}</td>\n",
       "      <td>DISO</td>\n",
       "      <td>0.0</td>\n",
       "      <td>0.04899</td>\n",
       "      <td>C0041307</td>\n",
       "      <td>0.04899</td>\n",
       "      <td>1019393</td>\n",
       "    </tr>\n",
       "    <tr>\n",
       "      <th>7</th>\n",
       "      <td>1</td>\n",
       "      <td>False</td>\n",
       "      <td>47.0</td>\n",
       "      <td>53.0</td>\n",
       "      <td>[bovine]</td>\n",
       "      <td>47.0</td>\n",
       "      <td>53.0</td>\n",
       "      <td>[bovine]</td>\n",
       "      <td>tp</td>\n",
       "      <td>{'db_name': 'UMLS', 'db_id': 'C0007452'}</td>\n",
       "      <td>LIVB</td>\n",
       "      <td>0.0</td>\n",
       "      <td>0.072256</td>\n",
       "      <td>C0007452</td>\n",
       "      <td>0.072256</td>\n",
       "      <td>1019393</td>\n",
       "    </tr>\n",
       "    <tr>\n",
       "      <th>8</th>\n",
       "      <td>2</td>\n",
       "      <td>False</td>\n",
       "      <td>56.0</td>\n",
       "      <td>75.0</td>\n",
       "      <td>[Mycobacterium bovis]</td>\n",
       "      <td>56.0</td>\n",
       "      <td>75.0</td>\n",
       "      <td>[Mycobacterium bovis]</td>\n",
       "      <td>tp</td>\n",
       "      <td>{'db_name': 'UMLS', 'db_id': 'C0026917'}</td>\n",
       "      <td>DISO</td>\n",
       "      <td>-1.0</td>\n",
       "      <td>NaN</td>\n",
       "      <td>C0041307</td>\n",
       "      <td>0.433185</td>\n",
       "      <td>1019393</td>\n",
       "    </tr>\n",
       "    <tr>\n",
       "      <th>9</th>\n",
       "      <td>1</td>\n",
       "      <td>False</td>\n",
       "      <td>78.0</td>\n",
       "      <td>86.0</td>\n",
       "      <td>[observés]</td>\n",
       "      <td>78.0</td>\n",
       "      <td>86.0</td>\n",
       "      <td>[observés]</td>\n",
       "      <td>tp</td>\n",
       "      <td>{'db_name': 'UMLS', 'db_id': 'C0302523'}</td>\n",
       "      <td>PROC</td>\n",
       "      <td>0.0</td>\n",
       "      <td>0.067624</td>\n",
       "      <td>C0302523</td>\n",
       "      <td>0.067624</td>\n",
       "      <td>1019393</td>\n",
       "    </tr>\n",
       "  </tbody>\n",
       "</table>\n",
       "</div>"
      ],
      "text/plain": [
       "   _word_len  _abbrev  pred_start  pred_end              pred_text  gt_start  \\\n",
       "0          1    False         0.0       5.0                [Etude]       0.0   \n",
       "1          1    False        47.0      55.0             [Africain]      47.0   \n",
       "2          1    False         4.0      13.0            [gangrènes]       4.0   \n",
       "3          2    False         4.0      22.0   [gangrènes gazeuses]       4.0   \n",
       "4          1    False        14.0      22.0             [gazeuses]      14.0   \n",
       "5          1    False        35.0      46.0          [tuberculose]      35.0   \n",
       "6          2    False        35.0      53.0   [tuberculose bovine]      35.0   \n",
       "7          1    False        47.0      53.0               [bovine]      47.0   \n",
       "8          2    False        56.0      75.0  [Mycobacterium bovis]      56.0   \n",
       "9          1    False        78.0      86.0             [observés]      78.0   \n",
       "\n",
       "   gt_end                gt_text entity_match_type  \\\n",
       "0     5.0                [Etude]                tp   \n",
       "1    55.0             [Africain]                tp   \n",
       "2    13.0            [gangrènes]                tp   \n",
       "3    22.0   [gangrènes gazeuses]                tp   \n",
       "4    22.0             [gazeuses]                tp   \n",
       "5    46.0          [tuberculose]                tp   \n",
       "6    53.0   [tuberculose bovine]                tp   \n",
       "7    53.0               [bovine]                tp   \n",
       "8    75.0  [Mycobacterium bovis]                tp   \n",
       "9    86.0             [observés]                tp   \n",
       "\n",
       "                               gold_concept gold_type  pred_index  \\\n",
       "0  {'db_name': 'UMLS', 'db_id': 'C0008972'}      PROC        -1.0   \n",
       "1  {'db_name': 'UMLS', 'db_id': 'C0027567'}      LIVB         1.0   \n",
       "2  {'db_name': 'UMLS', 'db_id': 'C0017086'}      DISO         0.0   \n",
       "3  {'db_name': 'UMLS', 'db_id': 'C0017105'}      DISO         0.0   \n",
       "4  {'db_name': 'UMLS', 'db_id': 'C0017110'}      CHEM         0.0   \n",
       "5  {'db_name': 'UMLS', 'db_id': 'C0041296'}      DISO         0.0   \n",
       "6  {'db_name': 'UMLS', 'db_id': 'C0041307'}      DISO         0.0   \n",
       "7  {'db_name': 'UMLS', 'db_id': 'C0007452'}      LIVB         0.0   \n",
       "8  {'db_name': 'UMLS', 'db_id': 'C0026917'}      DISO        -1.0   \n",
       "9  {'db_name': 'UMLS', 'db_id': 'C0302523'}      PROC         0.0   \n",
       "\n",
       "  pred_index_score  pred_top pred_top_score document_id  \n",
       "0              NaN       NIL            NaN     1009657  \n",
       "1         0.037974  C0085756       0.042189     1009657  \n",
       "2          0.04899  C0017086        0.04899     1009808  \n",
       "3         0.054722  C0017105       0.054722     1009808  \n",
       "4         0.062369  C0017110       0.062369     1009808  \n",
       "5         0.050489  C0041296       0.050489     1019393  \n",
       "6          0.04899  C0041307        0.04899     1019393  \n",
       "7         0.072256  C0007452       0.072256     1019393  \n",
       "8              NaN  C0041307       0.433185     1019393  \n",
       "9         0.067624  C0302523       0.067624     1019393  "
      ]
     },
     "execution_count": 21,
     "metadata": {},
     "output_type": "execute_result"
    }
   ],
   "source": [
    "# After Re-Ranking\n",
    "ea_df = error_analysis(dataset['test'], prediction_fs)\n",
    "ea_df.head(10)"
   ]
  },
  {
   "cell_type": "code",
   "execution_count": 22,
   "id": "d473f20a-998e-401b-bc16-42466d4de8b7",
   "metadata": {},
   "outputs": [
    {
     "data": {
      "text/plain": [
       "<Axes: xlabel='pred_index'>"
      ]
     },
     "execution_count": 22,
     "metadata": {},
     "output_type": "execute_result"
    },
    {
     "data": {
      "image/png": "[encoded data removed]",
      "text/plain": [
       "<Figure size 640x480 with 1 Axes>"
      ]
     },
     "metadata": {},
     "output_type": "display_data"
    }
   ],
   "source": [
    "ea_df.pred_index.value_counts().sort_index().iloc[0:10].plot.bar()"
   ]
  },
  {
   "cell_type": "code",
   "execution_count": null,
   "id": "28b9f456-52d9-4de0-9647-60a3fa84f0b2",
   "metadata": {},
   "outputs": [],
   "source": []
  }
 ],
 "metadata": {
  "kernelspec": {
   "display_name": "Python [conda env:xmen_notebooks]",
   "language": "python",
   "name": "conda-env-xmen_notebooks-py"
  },
  "language_info": {
   "codemirror_mode": {
    "name": "ipython",
    "version": 3
   },
   "file_extension": ".py",
   "mimetype": "text/x-python",
   "name": "python",
   "nbconvert_exporter": "python",
   "pygments_lexer": "ipython3",
   "version": "3.10.11"
  }
 },
 "nbformat": 4,
 "nbformat_minor": 5
}
