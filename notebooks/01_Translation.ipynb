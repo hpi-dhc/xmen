{
 "cells": [
  {
   "cell_type": "code",
   "execution_count": 1,
   "id": "7035088e-2063-45d9-a895-e9b1fe3053aa",
   "metadata": {},
   "outputs": [],
   "source": [
    "%load_ext autoreload\n",
    "%autoreload 2"
   ]
  },
  {
   "cell_type": "code",
   "execution_count": 2,
   "id": "77f3c8bc-a336-4916-b5e5-6e5f5ee95b01",
   "metadata": {},
   "outputs": [],
   "source": [
    "import os\n",
    "os.environ['CUDA_VISIBLE_DEVICES'] = '0'"
   ]
  },
  {
   "cell_type": "code",
   "execution_count": 3,
   "id": "89bdab23-f8ce-4238-a7a5-22c04046b9f4",
   "metadata": {},
   "outputs": [],
   "source": [
    "import sys\n",
    "sys.path.append('../benchmarks')\n",
    "sys.path.append('../xmen/data/')"
   ]
  },
  {
   "cell_type": "code",
   "execution_count": 4,
   "id": "b5a4978d-f44c-4acb-9712-a2f8a1c67486",
   "metadata": {},
   "outputs": [],
   "source": [
    "from translation import Translator"
   ]
  },
  {
   "cell_type": "code",
   "execution_count": 42,
   "id": "3ba856d6-1e64-42c1-8f93-fd5496cecd32",
   "metadata": {},
   "outputs": [
    {
     "name": "stderr",
     "output_type": "stream",
     "text": [
      "Found cached dataset medmentions (/home/Florian.Borchert/.cache/huggingface/datasets/bigbio___medmentions/medmentions_st21pv_bigbio_kb/1.0.0/4ed5b6a69d807969022e559198c5a7386b9a978268a558758a090db6b451d6c4)\n"
     ]
    },
    {
     "data": {
      "application/vnd.jupyter.widget-view+json": {
       "model_id": "81c0f3451b7744439a32fbb1bc7b9585",
       "version_major": 2,
       "version_minor": 0
      },
      "text/plain": [
       "  0%|          | 0/3 [00:00<?, ?it/s]"
      ]
     },
     "metadata": {},
     "output_type": "display_data"
    },
    {
     "name": "stderr",
     "output_type": "stream",
     "text": [
      "Loading cached processed dataset at /home/Florian.Borchert/.cache/huggingface/datasets/bigbio___medmentions/medmentions_st21pv_bigbio_kb/1.0.0/4ed5b6a69d807969022e559198c5a7386b9a978268a558758a090db6b451d6c4/cache-0e35495cd8cfaafb.arrow\n",
      "Loading cached processed dataset at /home/Florian.Borchert/.cache/huggingface/datasets/bigbio___medmentions/medmentions_st21pv_bigbio_kb/1.0.0/4ed5b6a69d807969022e559198c5a7386b9a978268a558758a090db6b451d6c4/cache-7960cf2ca563a297.arrow\n",
      "Loading cached processed dataset at /home/Florian.Borchert/.cache/huggingface/datasets/bigbio___medmentions/medmentions_st21pv_bigbio_kb/1.0.0/4ed5b6a69d807969022e559198c5a7386b9a978268a558758a090db6b451d6c4/cache-d2cb5e7ea2381bfd.arrow\n"
     ]
    }
   ],
   "source": [
    "import dataloaders\n",
    "dataset = dataloaders.load_medmentions_st21pv()[0]"
   ]
  },
  {
   "cell_type": "code",
   "execution_count": 43,
   "id": "08b2c08f-a556-4bdf-8167-e262d1d61525",
   "metadata": {},
   "outputs": [],
   "source": [
    "for k in dataset.keys():\n",
    "    dataset[k] = dataset[k].shuffle().select(range(0, 50))"
   ]
  },
  {
   "cell_type": "code",
   "execution_count": 44,
   "id": "69adfbe6-b4a4-4c97-a4ef-f0d3d1b61461",
   "metadata": {},
   "outputs": [
    {
     "data": {
      "text/html": [
       "<pre style=\"white-space:pre;overflow-x:auto;line-height:normal;font-family:Menlo,'DejaVu Sans Mono',consolas,'Courier New',monospace\"><span style=\"color: #7fbfbf; text-decoration-color: #7fbfbf\">[07/17/23 22:36:28] </span><span style=\"color: #000080; text-decoration-color: #000080\">INFO    </span> Initializing Translation Model                                       <a href=\"file:///mnt/nfs/home/Florian.Borchert/workspace/xmen/notebooks/../xmen/data/translation.py\" target=\"_blank\"><span style=\"color: #7f7f7f; text-decoration-color: #7f7f7f\">translation.py</span></a><span style=\"color: #7f7f7f; text-decoration-color: #7f7f7f\">:</span><a href=\"file:///mnt/nfs/home/Florian.Borchert/workspace/xmen/notebooks/../xmen/data/translation.py#22\" target=\"_blank\"><span style=\"color: #7f7f7f; text-decoration-color: #7f7f7f\">22</span></a>\n",
       "</pre>\n"
      ],
      "text/plain": [
       "\u001b[2;36m[07/17/23 22:36:28]\u001b[0m\u001b[2;36m \u001b[0m\u001b[34mINFO    \u001b[0m Initializing Translation Model                                       \u001b]8;id=664662;file:///mnt/nfs/home/Florian.Borchert/workspace/xmen/notebooks/../xmen/data/translation.py\u001b\\\u001b[2mtranslation.py\u001b[0m\u001b]8;;\u001b\\\u001b[2m:\u001b[0m\u001b]8;id=136547;file:///mnt/nfs/home/Florian.Borchert/workspace/xmen/notebooks/../xmen/data/translation.py#22\u001b\\\u001b[2m22\u001b[0m\u001b]8;;\u001b\\\n"
      ]
     },
     "metadata": {},
     "output_type": "display_data"
    },
    {
     "data": {
      "application/vnd.jupyter.widget-view+json": {
       "model_id": "8ab9252ae45247db9ce07b854a5359fa",
       "version_major": 2,
       "version_minor": 0
      },
      "text/plain": [
       "Loading checkpoint shards:   0%|          | 0/3 [00:00<?, ?it/s]"
      ]
     },
     "metadata": {},
     "output_type": "display_data"
    }
   ],
   "source": [
    "t = Translator(Translator.ENGLISH, Translator.FRENCH)"
   ]
  },
  {
   "cell_type": "code",
   "execution_count": 45,
   "id": "6d7a4b43-b0dd-4693-b8ac-e47d2c45ba2e",
   "metadata": {},
   "outputs": [],
   "source": [
    "from xmen.log import shell_handler\n",
    "import logging\n",
    "shell_handler.setLevel(logging.INFO)"
   ]
  },
  {
   "cell_type": "code",
   "execution_count": 46,
   "id": "0b375abe-a526-49ad-b101-c35b68b59d09",
   "metadata": {},
   "outputs": [
    {
     "data": {
      "application/vnd.jupyter.widget-view+json": {
       "model_id": "",
       "version_major": 2,
       "version_minor": 0
      },
      "text/plain": [
       "Map:   0%|          | 0/50 [00:00<?, ? examples/s]"
      ]
     },
     "metadata": {},
     "output_type": "display_data"
    },
    {
     "data": {
      "application/vnd.jupyter.widget-view+json": {
       "model_id": "",
       "version_major": 2,
       "version_minor": 0
      },
      "text/plain": [
       "Map:   0%|          | 0/50 [00:00<?, ? examples/s]"
      ]
     },
     "metadata": {},
     "output_type": "display_data"
    },
    {
     "data": {
      "application/vnd.jupyter.widget-view+json": {
       "model_id": "",
       "version_major": 2,
       "version_minor": 0
      },
      "text/plain": [
       "Map:   0%|          | 0/50 [00:00<?, ? examples/s]"
      ]
     },
     "metadata": {},
     "output_type": "display_data"
    },
    {
     "data": {
      "text/html": [
       "<pre style=\"white-space:pre;overflow-x:auto;line-height:normal;font-family:Menlo,'DejaVu Sans Mono',consolas,'Courier New',monospace\"><span style=\"color: #7fbfbf; text-decoration-color: #7fbfbf\">[07/17/23 22:37:09] </span><span style=\"color: #000080; text-decoration-color: #000080\">INFO    </span> Translating documents                                               <a href=\"file:///mnt/nfs/home/Florian.Borchert/workspace/xmen/notebooks/../xmen/data/translation.py\" target=\"_blank\"><span style=\"color: #7f7f7f; text-decoration-color: #7f7f7f\">translation.py</span></a><span style=\"color: #7f7f7f; text-decoration-color: #7f7f7f\">:</span><a href=\"file:///mnt/nfs/home/Florian.Borchert/workspace/xmen/notebooks/../xmen/data/translation.py#198\" target=\"_blank\"><span style=\"color: #7f7f7f; text-decoration-color: #7f7f7f\">198</span></a>\n",
       "</pre>\n"
      ],
      "text/plain": [
       "\u001b[2;36m[07/17/23 22:37:09]\u001b[0m\u001b[2;36m \u001b[0m\u001b[34mINFO    \u001b[0m Translating documents                                               \u001b]8;id=700027;file:///mnt/nfs/home/Florian.Borchert/workspace/xmen/notebooks/../xmen/data/translation.py\u001b\\\u001b[2mtranslation.py\u001b[0m\u001b]8;;\u001b\\\u001b[2m:\u001b[0m\u001b]8;id=384427;file:///mnt/nfs/home/Florian.Borchert/workspace/xmen/notebooks/../xmen/data/translation.py#198\u001b\\\u001b[2m198\u001b[0m\u001b]8;;\u001b\\\n"
      ]
     },
     "metadata": {},
     "output_type": "display_data"
    },
    {
     "data": {
      "application/vnd.jupyter.widget-view+json": {
       "model_id": "",
       "version_major": 2,
       "version_minor": 0
      },
      "text/plain": [
       "Map:   0%|          | 0/50 [00:00<?, ? examples/s]"
      ]
     },
     "metadata": {},
     "output_type": "display_data"
    },
    {
     "data": {
      "application/vnd.jupyter.widget-view+json": {
       "model_id": "",
       "version_major": 2,
       "version_minor": 0
      },
      "text/plain": [
       "Map:   0%|          | 0/50 [00:00<?, ? examples/s]"
      ]
     },
     "metadata": {},
     "output_type": "display_data"
    },
    {
     "data": {
      "application/vnd.jupyter.widget-view+json": {
       "model_id": "",
       "version_major": 2,
       "version_minor": 0
      },
      "text/plain": [
       "Map:   0%|          | 0/50 [00:00<?, ? examples/s]"
      ]
     },
     "metadata": {},
     "output_type": "display_data"
    }
   ],
   "source": [
    "translated_dataset = t._translate_batch(dataset)"
   ]
  },
  {
   "cell_type": "code",
   "execution_count": 58,
   "id": "6b80c843-3d5d-4750-9f86-1418e67bd14a",
   "metadata": {},
   "outputs": [
    {
     "name": "stderr",
     "output_type": "stream",
     "text": [
      "Loading cached processed dataset at /home/Florian.Borchert/.cache/huggingface/datasets/bigbio___medmentions/medmentions_st21pv_bigbio_kb/1.0.0/4ed5b6a69d807969022e559198c5a7386b9a978268a558758a090db6b451d6c4/cache-8e10bf814bb4af8d.arrow\n",
      "Loading cached processed dataset at /home/Florian.Borchert/.cache/huggingface/datasets/bigbio___medmentions/medmentions_st21pv_bigbio_kb/1.0.0/4ed5b6a69d807969022e559198c5a7386b9a978268a558758a090db6b451d6c4/cache-e6d31382880ab0d9.arrow\n",
      "Loading cached processed dataset at /home/Florian.Borchert/.cache/huggingface/datasets/bigbio___medmentions/medmentions_st21pv_bigbio_kb/1.0.0/4ed5b6a69d807969022e559198c5a7386b9a978268a558758a090db6b451d6c4/cache-dec0f4e27b03ba18.arrow\n"
     ]
    }
   ],
   "source": [
    "tagged = dataset.map(t._annos_to_tagged)"
   ]
  },
  {
   "cell_type": "code",
   "execution_count": 47,
   "id": "efbdbe69-709d-4e3d-a508-14acf4e6a138",
   "metadata": {},
   "outputs": [
    {
     "data": {
      "application/vnd.jupyter.widget-view+json": {
       "model_id": "",
       "version_major": 2,
       "version_minor": 0
      },
      "text/plain": [
       "Saving the dataset (0/1 shards):   0%|          | 0/50 [00:00<?, ? examples/s]"
      ]
     },
     "metadata": {},
     "output_type": "display_data"
    },
    {
     "data": {
      "application/vnd.jupyter.widget-view+json": {
       "model_id": "",
       "version_major": 2,
       "version_minor": 0
      },
      "text/plain": [
       "Saving the dataset (0/1 shards):   0%|          | 0/50 [00:00<?, ? examples/s]"
      ]
     },
     "metadata": {},
     "output_type": "display_data"
    },
    {
     "data": {
      "application/vnd.jupyter.widget-view+json": {
       "model_id": "",
       "version_major": 2,
       "version_minor": 0
      },
      "text/plain": [
       "Saving the dataset (0/1 shards):   0%|          | 0/50 [00:00<?, ? examples/s]"
      ]
     },
     "metadata": {},
     "output_type": "display_data"
    }
   ],
   "source": [
    "translated_dataset.save_to_disk('translated_50')"
   ]
  },
  {
   "cell_type": "code",
   "execution_count": 48,
   "id": "2f67a92e-1ff5-4c7c-835e-4a58d3ed636a",
   "metadata": {},
   "outputs": [
    {
     "data": {
      "application/vnd.jupyter.widget-view+json": {
       "model_id": "",
       "version_major": 2,
       "version_minor": 0
      },
      "text/plain": [
       "Map:   0%|          | 0/50 [00:00<?, ? examples/s]"
      ]
     },
     "metadata": {},
     "output_type": "display_data"
    },
    {
     "data": {
      "application/vnd.jupyter.widget-view+json": {
       "model_id": "",
       "version_major": 2,
       "version_minor": 0
      },
      "text/plain": [
       "Map:   0%|          | 0/50 [00:00<?, ? examples/s]"
      ]
     },
     "metadata": {},
     "output_type": "display_data"
    },
    {
     "data": {
      "application/vnd.jupyter.widget-view+json": {
       "model_id": "",
       "version_major": 2,
       "version_minor": 0
      },
      "text/plain": [
       "Map:   0%|          | 0/50 [00:00<?, ? examples/s]"
      ]
     },
     "metadata": {},
     "output_type": "display_data"
    },
    {
     "data": {
      "application/vnd.jupyter.widget-view+json": {
       "model_id": "",
       "version_major": 2,
       "version_minor": 0
      },
      "text/plain": [
       "Map:   0%|          | 0/50 [00:00<?, ? examples/s]"
      ]
     },
     "metadata": {},
     "output_type": "display_data"
    },
    {
     "data": {
      "application/vnd.jupyter.widget-view+json": {
       "model_id": "",
       "version_major": 2,
       "version_minor": 0
      },
      "text/plain": [
       "Map:   0%|          | 0/50 [00:00<?, ? examples/s]"
      ]
     },
     "metadata": {},
     "output_type": "display_data"
    },
    {
     "data": {
      "application/vnd.jupyter.widget-view+json": {
       "model_id": "",
       "version_major": 2,
       "version_minor": 0
      },
      "text/plain": [
       "Map:   0%|          | 0/50 [00:00<?, ? examples/s]"
      ]
     },
     "metadata": {},
     "output_type": "display_data"
    }
   ],
   "source": [
    "final_dataset = t._tags_to_entities(translated_dataset)"
   ]
  },
  {
   "cell_type": "code",
   "execution_count": 49,
   "id": "42bc19c3-7ba7-45b4-bfcd-7d6f5c0f0876",
   "metadata": {},
   "outputs": [
    {
     "data": {
      "text/plain": [
       "7211"
      ]
     },
     "execution_count": 49,
     "metadata": {},
     "output_type": "execute_result"
    }
   ],
   "source": [
    "len([e for v in dataset.values() for d in v for e in d['entities']])"
   ]
  },
  {
   "cell_type": "code",
   "execution_count": 50,
   "id": "b64db612-0135-48f9-a4c4-b71a78d9b9d4",
   "metadata": {},
   "outputs": [
    {
     "data": {
      "text/plain": [
       "6484"
      ]
     },
     "execution_count": 50,
     "metadata": {},
     "output_type": "execute_result"
    }
   ],
   "source": [
    "len([e for v in final_dataset.values() for d in v for e in d['entities']])"
   ]
  },
  {
   "cell_type": "code",
   "execution_count": 72,
   "id": "1e350be0-542f-4ec6-8c6e-ec63a1d187b3",
   "metadata": {},
   "outputs": [],
   "source": [
    "import pandas as pd\n",
    "def to_ent_df(ds_dict):\n",
    "    df = []\n",
    "    for ds in ds_dict.values():\n",
    "        for d in ds:\n",
    "            text = \"\"\n",
    "            for p in d['passages']:\n",
    "                for txt in p['text']:\n",
    "                    text += (txt + \" \")\n",
    "            for e in d['entities']:\n",
    "                e = e.copy()\n",
    "                e['normalized'] = [n['db_id'] for n in e['normalized']]\n",
    "                df.append({'document_id': d['document_id']} | e)\n",
    "                for o, txt in zip(e['offsets'], e['text']):\n",
    "                    assert text[o[0]:o[1]] == txt\n",
    "    return pd.DataFrame(df).set_index(['document_id', 'id'])"
   ]
  },
  {
   "cell_type": "code",
   "execution_count": 73,
   "id": "2fe202f7-9d21-4365-ab01-78db45ae53af",
   "metadata": {},
   "outputs": [],
   "source": [
    "df_en = to_ent_df(dataset)\n",
    "df_fr = to_ent_df(final_dataset)"
   ]
  },
  {
   "cell_type": "code",
   "execution_count": 76,
   "id": "b9a88c17-906b-43ea-9949-ed7982e44034",
   "metadata": {},
   "outputs": [
    {
     "data": {
      "text/html": [
       "<div>\n",
       "<style scoped>\n",
       "    .dataframe tbody tr th:only-of-type {\n",
       "        vertical-align: middle;\n",
       "    }\n",
       "\n",
       "    .dataframe tbody tr th {\n",
       "        vertical-align: top;\n",
       "    }\n",
       "\n",
       "    .dataframe thead th {\n",
       "        text-align: right;\n",
       "    }\n",
       "</style>\n",
       "<table border=\"1\" class=\"dataframe\">\n",
       "  <thead>\n",
       "    <tr style=\"text-align: right;\">\n",
       "      <th></th>\n",
       "      <th></th>\n",
       "      <th>type_en</th>\n",
       "      <th>text_en</th>\n",
       "      <th>offsets_en</th>\n",
       "      <th>normalized_en</th>\n",
       "      <th>type_fr</th>\n",
       "      <th>text_fr</th>\n",
       "      <th>offsets_fr</th>\n",
       "      <th>normalized_fr</th>\n",
       "    </tr>\n",
       "    <tr>\n",
       "      <th>document_id</th>\n",
       "      <th>id</th>\n",
       "      <th></th>\n",
       "      <th></th>\n",
       "      <th></th>\n",
       "      <th></th>\n",
       "      <th></th>\n",
       "      <th></th>\n",
       "      <th></th>\n",
       "      <th></th>\n",
       "    </tr>\n",
       "  </thead>\n",
       "  <tbody>\n",
       "    <tr>\n",
       "      <th>27819344</th>\n",
       "      <th>18514</th>\n",
       "      <td>T103</td>\n",
       "      <td>[cdc25C]</td>\n",
       "      <td>[[1276, 1282]]</td>\n",
       "      <td>[C0213045]</td>\n",
       "      <td>T103</td>\n",
       "      <td>[cdc25C]</td>\n",
       "      <td>[[1401, 1407]]</td>\n",
       "      <td>[C0213045]</td>\n",
       "    </tr>\n",
       "    <tr>\n",
       "      <th>27513357</th>\n",
       "      <th>9887</th>\n",
       "      <td>T038</td>\n",
       "      <td>[inflammatory response]</td>\n",
       "      <td>[[1151, 1172]]</td>\n",
       "      <td>[C1155266]</td>\n",
       "      <td>T038</td>\n",
       "      <td>[réponse inflammatoire]</td>\n",
       "      <td>[[1489, 1510]]</td>\n",
       "      <td>[C1155266]</td>\n",
       "    </tr>\n",
       "    <tr>\n",
       "      <th>27403338</th>\n",
       "      <th>5403</th>\n",
       "      <td>T017</td>\n",
       "      <td>[Choroidal]</td>\n",
       "      <td>[[14, 23]]</td>\n",
       "      <td>[C0008520]</td>\n",
       "      <td>T017</td>\n",
       "      <td>[l'épaisseur choroïdale]</td>\n",
       "      <td>[[14, 36]]</td>\n",
       "      <td>[C0008520]</td>\n",
       "    </tr>\n",
       "    <tr>\n",
       "      <th>28017476</th>\n",
       "      <th>26065</th>\n",
       "      <td>T017</td>\n",
       "      <td>[Foci]</td>\n",
       "      <td>[[1234, 1238]]</td>\n",
       "      <td>[C3159064]</td>\n",
       "      <td>T017</td>\n",
       "      <td>[Les foci]</td>\n",
       "      <td>[[1486, 1494]]</td>\n",
       "      <td>[C3159064]</td>\n",
       "    </tr>\n",
       "    <tr>\n",
       "      <th>27995352</th>\n",
       "      <th>23439</th>\n",
       "      <td>T033</td>\n",
       "      <td>[present]</td>\n",
       "      <td>[[1364, 1371]]</td>\n",
       "      <td>[C0150312]</td>\n",
       "      <td>T033</td>\n",
       "      <td>[présentent]</td>\n",
       "      <td>[[1699, 1709]]</td>\n",
       "      <td>[C0150312]</td>\n",
       "    </tr>\n",
       "    <tr>\n",
       "      <th>...</th>\n",
       "      <th>...</th>\n",
       "      <td>...</td>\n",
       "      <td>...</td>\n",
       "      <td>...</td>\n",
       "      <td>...</td>\n",
       "      <td>...</td>\n",
       "      <td>...</td>\n",
       "      <td>...</td>\n",
       "      <td>...</td>\n",
       "    </tr>\n",
       "    <tr>\n",
       "      <th>28417422</th>\n",
       "      <th>38243</th>\n",
       "      <td>T168</td>\n",
       "      <td>[diet]</td>\n",
       "      <td>[[807, 811]]</td>\n",
       "      <td>[C0012155]</td>\n",
       "      <td>T168</td>\n",
       "      <td>[régime]</td>\n",
       "      <td>[[899, 905]]</td>\n",
       "      <td>[C0012155]</td>\n",
       "    </tr>\n",
       "    <tr>\n",
       "      <th>27995352</th>\n",
       "      <th>23441</th>\n",
       "      <td>T038</td>\n",
       "      <td>[type 2 diabetes]</td>\n",
       "      <td>[[1426, 1441]]</td>\n",
       "      <td>[C0011860]</td>\n",
       "      <td>T038</td>\n",
       "      <td>[diabète de type 2]</td>\n",
       "      <td>[[1769, 1786]]</td>\n",
       "      <td>[C0011860]</td>\n",
       "    </tr>\n",
       "    <tr>\n",
       "      <th>28347719</th>\n",
       "      <th>107931</th>\n",
       "      <td>T033</td>\n",
       "      <td>[positively]</td>\n",
       "      <td>[[752, 762]]</td>\n",
       "      <td>[C1446409]</td>\n",
       "      <td>T033</td>\n",
       "      <td>[positivement]</td>\n",
       "      <td>[[843, 855]]</td>\n",
       "      <td>[C1446409]</td>\n",
       "    </tr>\n",
       "    <tr>\n",
       "      <th>27832581</th>\n",
       "      <th>20509</th>\n",
       "      <td>T103</td>\n",
       "      <td>[UNSAT1]</td>\n",
       "      <td>[[1275, 1281]]</td>\n",
       "      <td>[C0012172]</td>\n",
       "      <td>T103</td>\n",
       "      <td>[UNSAT1]</td>\n",
       "      <td>[[1486, 1492]]</td>\n",
       "      <td>[C0012172]</td>\n",
       "    </tr>\n",
       "    <tr>\n",
       "      <th>27977731</th>\n",
       "      <th>70149</th>\n",
       "      <td>T103</td>\n",
       "      <td>[negatively charged small molecules]</td>\n",
       "      <td>[[893, 927]]</td>\n",
       "      <td>[C0022023]</td>\n",
       "      <td>T103</td>\n",
       "      <td>[ chargées négativement]</td>\n",
       "      <td>[[1009, 1031]]</td>\n",
       "      <td>[C0022023]</td>\n",
       "    </tr>\n",
       "  </tbody>\n",
       "</table>\n",
       "<p>100 rows × 8 columns</p>\n",
       "</div>"
      ],
      "text/plain": [
       "                   type_en                               text_en  \\\n",
       "document_id id                                                     \n",
       "27819344    18514     T103                              [cdc25C]   \n",
       "27513357    9887      T038               [inflammatory response]   \n",
       "27403338    5403      T017                           [Choroidal]   \n",
       "28017476    26065     T017                                [Foci]   \n",
       "27995352    23439     T033                             [present]   \n",
       "...                    ...                                   ...   \n",
       "28417422    38243     T168                                [diet]   \n",
       "27995352    23441     T038                     [type 2 diabetes]   \n",
       "28347719    107931    T033                          [positively]   \n",
       "27832581    20509     T103                              [UNSAT1]   \n",
       "27977731    70149     T103  [negatively charged small molecules]   \n",
       "\n",
       "                        offsets_en normalized_en type_fr  \\\n",
       "document_id id                                             \n",
       "27819344    18514   [[1276, 1282]]    [C0213045]    T103   \n",
       "27513357    9887    [[1151, 1172]]    [C1155266]    T038   \n",
       "27403338    5403        [[14, 23]]    [C0008520]    T017   \n",
       "28017476    26065   [[1234, 1238]]    [C3159064]    T017   \n",
       "27995352    23439   [[1364, 1371]]    [C0150312]    T033   \n",
       "...                            ...           ...     ...   \n",
       "28417422    38243     [[807, 811]]    [C0012155]    T168   \n",
       "27995352    23441   [[1426, 1441]]    [C0011860]    T038   \n",
       "28347719    107931    [[752, 762]]    [C1446409]    T033   \n",
       "27832581    20509   [[1275, 1281]]    [C0012172]    T103   \n",
       "27977731    70149     [[893, 927]]    [C0022023]    T103   \n",
       "\n",
       "                                     text_fr      offsets_fr normalized_fr  \n",
       "document_id id                                                              \n",
       "27819344    18514                   [cdc25C]  [[1401, 1407]]    [C0213045]  \n",
       "27513357    9887     [réponse inflammatoire]  [[1489, 1510]]    [C1155266]  \n",
       "27403338    5403    [l'épaisseur choroïdale]      [[14, 36]]    [C0008520]  \n",
       "28017476    26065                 [Les foci]  [[1486, 1494]]    [C3159064]  \n",
       "27995352    23439               [présentent]  [[1699, 1709]]    [C0150312]  \n",
       "...                                      ...             ...           ...  \n",
       "28417422    38243                   [régime]    [[899, 905]]    [C0012155]  \n",
       "27995352    23441        [diabète de type 2]  [[1769, 1786]]    [C0011860]  \n",
       "28347719    107931            [positivement]    [[843, 855]]    [C1446409]  \n",
       "27832581    20509                   [UNSAT1]  [[1486, 1492]]    [C0012172]  \n",
       "27977731    70149   [ chargées négativement]  [[1009, 1031]]    [C0022023]  \n",
       "\n",
       "[100 rows x 8 columns]"
      ]
     },
     "execution_count": 76,
     "metadata": {},
     "output_type": "execute_result"
    }
   ],
   "source": [
    "pd.merge(df_en, df_fr, left_index=True, right_index=True, suffixes=['_en', '_fr']).sample(100)"
   ]
  },
  {
   "cell_type": "code",
   "execution_count": null,
   "id": "8498615b-e5cf-439e-92e1-700537e3e815",
   "metadata": {},
   "outputs": [],
   "source": []
  }
 ],
 "metadata": {
  "kernelspec": {
   "display_name": "Python [conda env:xmen_notebooks]",
   "language": "python",
   "name": "conda-env-xmen_notebooks-py"
  },
  "language_info": {
   "codemirror_mode": {
    "name": "ipython",
    "version": 3
   },
   "file_extension": ".py",
   "mimetype": "text/x-python",
   "name": "python",
   "nbconvert_exporter": "python",
   "pygments_lexer": "ipython3",
   "version": "3.10.11"
  }
 },
 "nbformat": 4,
 "nbformat_minor": 5
}
