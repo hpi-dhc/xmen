{
 "cells": [
  {
   "cell_type": "markdown",
   "id": "85c0c045-2900-47d5-8c9b-5ebe0b4c01c1",
   "metadata": {},
   "source": [
    "# Getting Started\n",
    "\n",
    "In this notebook, we will walk you through a minimal example for candidate generation and re-reranking with the [Quaero](https://quaerofrenchmed.limsi.fr/) corpus."
   ]
  },
  {
   "cell_type": "markdown",
   "id": "b6a05ddc-a8b0-444d-890b-898ce9e5f302",
   "metadata": {},
   "source": [
    "## Preparation\n",
    "\n",
    "Go to the root folder of the repository and run the following commands\n",
    "\n",
    "`xmen dict conf/quaero.yaml`\n",
    "\n",
    "This command creates the Quaero-specific UMLS subset as a jsonl file.\n",
    "If you don't have access to UMLS metathesaurus 2014AB release, you can adapt the yaml file to point to any other release.\n",
    "\n",
    "`xmen index conf/quaero.yaml --sapbert`\n",
    "\n",
    "This command creates the FAISS index of SapBERT embeddings for candidate generation.\n",
    "\n",
    "By default, all files are written to `~/.cache/xmen`, unless configured otherwise."
   ]
  },
  {
   "cell_type": "markdown",
   "id": "482b215a-9a15-4227-8c88-da811c0c0fe9",
   "metadata": {},
   "source": [
    "## Loading Knowledge Base and Dataset"
   ]
  },
  {
   "cell_type": "code",
   "execution_count": 2,
   "id": "46917412-c6e3-48c6-8e45-278aab09202c",
   "metadata": {},
   "outputs": [],
   "source": [
    "from pathlib import Path\n",
    "base_path = Path.home() / \".cache/xmen/quaero\""
   ]
  },
  {
   "cell_type": "code",
   "execution_count": 3,
   "id": "2cc7d5fb-0928-4d91-b83a-ad558f81f490",
   "metadata": {},
   "outputs": [],
   "source": [
    "# Load knowledge base\n",
    "from xmen.kb import *\n",
    "kb = load_kb(base_path / \"quaero.jsonl\")"
   ]
  },
  {
   "cell_type": "code",
   "execution_count": 4,
   "id": "8c419ff7-306f-4522-811c-cffadea0010d",
   "metadata": {},
   "outputs": [
    {
     "name": "stderr",
     "output_type": "stream",
     "text": [
      "Found cached dataset quaero (/home/Florian.Borchert/.cache/huggingface/datasets/bigbio___quaero/quaero_medline_bigbio_kb/1.0.0/c215a01af5fd15163e392e2f78a4f67f1fe3567d92f53b7f907c95e55dcdfe93)\n"
     ]
    },
    {
     "data": {
      "application/vnd.jupyter.widget-view+json": {
       "model_id": "3adbb614ee96470cbefa09b08424b513",
       "version_major": 2,
       "version_minor": 0
      },
      "text/plain": [
       "  0%|          | 0/3 [00:00<?, ?it/s]"
      ]
     },
     "metadata": {},
     "output_type": "display_data"
    }
   ],
   "source": [
    "# Load Quaero MEDLINE subset through BigBIO dataloader\n",
    "from datasets import load_dataset\n",
    "dataset = load_dataset(\"bigbio/quaero\", \"quaero_medline_bigbio_kb\")"
   ]
  },
  {
   "cell_type": "markdown",
   "id": "ad987400-dfc7-4ecc-8fd0-5aeb408904e2",
   "metadata": {},
   "source": [
    "# Candidate Generation\n",
    "\n",
    "We use the pre-computed FAISS index to retrieve the most similar concepts in the cross-lingual SapBERT embedding space"
   ]
  },
  {
   "cell_type": "code",
   "execution_count": 5,
   "id": "37d5d24c-7bbf-4254-9d74-52b983c24d12",
   "metadata": {},
   "outputs": [
    {
     "data": {
      "text/html": [
       "<pre style=\"white-space:pre;overflow-x:auto;line-height:normal;font-family:Menlo,'DejaVu Sans Mono',consolas,'Courier New',monospace\"><span style=\"color: #7fbfbf; text-decoration-color: #7fbfbf\">[06/01/23 11:30:20] </span><span style=\"color: #000080; text-decoration-color: #000080\">INFO    </span> Loading hierarchical faiss index                                <a href=\"file:///home/Florian.Borchert/miniconda3/envs/xmen_notebooks/lib/python3.10/site-packages/xmen/linkers/sap_bert_linker.py\" target=\"_blank\"><span style=\"color: #7f7f7f; text-decoration-color: #7f7f7f\">sap_bert_linker.py</span></a><span style=\"color: #7f7f7f; text-decoration-color: #7f7f7f\">:</span><a href=\"file:///home/Florian.Borchert/miniconda3/envs/xmen_notebooks/lib/python3.10/site-packages/xmen/linkers/sap_bert_linker.py#148\" target=\"_blank\"><span style=\"color: #7f7f7f; text-decoration-color: #7f7f7f\">148</span></a>\n",
       "</pre>\n"
      ],
      "text/plain": [
       "\u001b[2;36m[06/01/23 11:30:20]\u001b[0m\u001b[2;36m \u001b[0m\u001b[34mINFO    \u001b[0m Loading hierarchical faiss index                                \u001b]8;id=794760;file:///home/Florian.Borchert/miniconda3/envs/xmen_notebooks/lib/python3.10/site-packages/xmen/linkers/sap_bert_linker.py\u001b\\\u001b[2msap_bert_linker.py\u001b[0m\u001b]8;;\u001b\\\u001b[2m:\u001b[0m\u001b]8;id=719136;file:///home/Florian.Borchert/miniconda3/envs/xmen_notebooks/lib/python3.10/site-packages/xmen/linkers/sap_bert_linker.py#148\u001b\\\u001b[2m148\u001b[0m\u001b]8;;\u001b\\\n"
      ]
     },
     "metadata": {},
     "output_type": "display_data"
    },
    {
     "data": {
      "text/html": [
       "<pre style=\"white-space:pre;overflow-x:auto;line-height:normal;font-family:Menlo,'DejaVu Sans Mono',consolas,'Courier New',monospace\"><span style=\"color: #7fbfbf; text-decoration-color: #7fbfbf\">                    </span><span style=\"color: #000080; text-decoration-color: #000080\">INFO    </span> Loading index from                                                 <a href=\"file:///home/Florian.Borchert/miniconda3/envs/xmen_notebooks/lib/python3.10/site-packages/xmen/linkers/faiss_indexer.py\" target=\"_blank\"><span style=\"color: #7f7f7f; text-decoration-color: #7f7f7f\">faiss_indexer.py</span></a><span style=\"color: #7f7f7f; text-decoration-color: #7f7f7f\">:</span><a href=\"file:///home/Florian.Borchert/miniconda3/envs/xmen_notebooks/lib/python3.10/site-packages/xmen/linkers/faiss_indexer.py#64\" target=\"_blank\"><span style=\"color: #7f7f7f; text-decoration-color: #7f7f7f\">64</span></a>\n",
       "<span style=\"color: #7fbfbf; text-decoration-color: #7fbfbf\">                    </span>         <span style=\"color: #800080; text-decoration-color: #800080\">/home/Florian.Borchert/.cache/xmen/quaero/index/sapbert/</span><span style=\"color: #ff00ff; text-decoration-color: #ff00ff\">embed_fais</span> <span style=\"color: #7f7f7f; text-decoration-color: #7f7f7f\">                   </span>\n",
       "<span style=\"color: #7fbfbf; text-decoration-color: #7fbfbf\">                    </span>         <span style=\"color: #ff00ff; text-decoration-color: #ff00ff\">s_hier.pickle</span>                                                      <span style=\"color: #7f7f7f; text-decoration-color: #7f7f7f\">                   </span>\n",
       "</pre>\n"
      ],
      "text/plain": [
       "\u001b[2;36m                   \u001b[0m\u001b[2;36m \u001b[0m\u001b[34mINFO    \u001b[0m Loading index from                                                 \u001b]8;id=323004;file:///home/Florian.Borchert/miniconda3/envs/xmen_notebooks/lib/python3.10/site-packages/xmen/linkers/faiss_indexer.py\u001b\\\u001b[2mfaiss_indexer.py\u001b[0m\u001b]8;;\u001b\\\u001b[2m:\u001b[0m\u001b]8;id=135436;file:///home/Florian.Borchert/miniconda3/envs/xmen_notebooks/lib/python3.10/site-packages/xmen/linkers/faiss_indexer.py#64\u001b\\\u001b[2m64\u001b[0m\u001b]8;;\u001b\\\n",
       "\u001b[2;36m                    \u001b[0m         \u001b[35m/home/Florian.Borchert/.cache/xmen/quaero/index/sapbert/\u001b[0m\u001b[95membed_fais\u001b[0m \u001b[2m                   \u001b[0m\n",
       "\u001b[2;36m                    \u001b[0m         \u001b[95ms_hier.pickle\u001b[0m                                                      \u001b[2m                   \u001b[0m\n"
      ]
     },
     "metadata": {},
     "output_type": "display_data"
    },
    {
     "data": {
      "text/html": [
       "<pre style=\"white-space:pre;overflow-x:auto;line-height:normal;font-family:Menlo,'DejaVu Sans Mono',consolas,'Courier New',monospace\"><span style=\"color: #7fbfbf; text-decoration-color: #7fbfbf\">[06/01/23 11:30:28] </span><span style=\"color: #000080; text-decoration-color: #000080\">INFO    </span> Loaded index of type <span style=\"font-weight: bold\">&lt;</span><span style=\"color: #ff00ff; text-decoration-color: #ff00ff; font-weight: bold\">class</span><span style=\"color: #000000; text-decoration-color: #000000\"> </span><span style=\"color: #008000; text-decoration-color: #008000\">'faiss.swigfaiss.IndexHNSWFlat'</span><span style=\"font-weight: bold\">&gt;</span> and   <a href=\"file:///home/Florian.Borchert/miniconda3/envs/xmen_notebooks/lib/python3.10/site-packages/xmen/linkers/faiss_indexer.py\" target=\"_blank\"><span style=\"color: #7f7f7f; text-decoration-color: #7f7f7f\">faiss_indexer.py</span></a><span style=\"color: #7f7f7f; text-decoration-color: #7f7f7f\">:</span><a href=\"file:///home/Florian.Borchert/miniconda3/envs/xmen_notebooks/lib/python3.10/site-packages/xmen/linkers/faiss_indexer.py#66\" target=\"_blank\"><span style=\"color: #7f7f7f; text-decoration-color: #7f7f7f\">66</span></a>\n",
       "<span style=\"color: #7fbfbf; text-decoration-color: #7fbfbf\">                    </span>         size <span style=\"color: #008080; text-decoration-color: #008080; font-weight: bold\">6910830</span>                                                       <span style=\"color: #7f7f7f; text-decoration-color: #7f7f7f\">                   </span>\n",
       "</pre>\n"
      ],
      "text/plain": [
       "\u001b[2;36m[06/01/23 11:30:28]\u001b[0m\u001b[2;36m \u001b[0m\u001b[34mINFO    \u001b[0m Loaded index of type \u001b[1m<\u001b[0m\u001b[1;95mclass\u001b[0m\u001b[39m \u001b[0m\u001b[32m'faiss.swigfaiss.IndexHNSWFlat'\u001b[0m\u001b[1m>\u001b[0m and   \u001b]8;id=37270;file:///home/Florian.Borchert/miniconda3/envs/xmen_notebooks/lib/python3.10/site-packages/xmen/linkers/faiss_indexer.py\u001b\\\u001b[2mfaiss_indexer.py\u001b[0m\u001b]8;;\u001b\\\u001b[2m:\u001b[0m\u001b]8;id=396295;file:///home/Florian.Borchert/miniconda3/envs/xmen_notebooks/lib/python3.10/site-packages/xmen/linkers/faiss_indexer.py#66\u001b\\\u001b[2m66\u001b[0m\u001b]8;;\u001b\\\n",
       "\u001b[2;36m                    \u001b[0m         size \u001b[1;36m6910830\u001b[0m                                                       \u001b[2m                   \u001b[0m\n"
      ]
     },
     "metadata": {},
     "output_type": "display_data"
    }
   ],
   "source": [
    "# Generate candidates with cross-lingual SapBERT\n",
    "from xmen.linkers import *\n",
    "\n",
    "linker = SapBERTLinker(index_base_path=base_path / \"index\" / \"sapbert\", k=1000)"
   ]
  },
  {
   "cell_type": "code",
   "execution_count": 6,
   "id": "276af3a6-e245-4364-9ef6-d9fd8cbb862a",
   "metadata": {},
   "outputs": [
    {
     "data": {
      "application/vnd.jupyter.widget-view+json": {
       "model_id": "",
       "version_major": 2,
       "version_minor": 0
      },
      "text/plain": [
       "Map:   0%|          | 0/833 [00:00<?, ? examples/s]"
      ]
     },
     "metadata": {},
     "output_type": "display_data"
    },
    {
     "data": {
      "application/vnd.jupyter.widget-view+json": {
       "model_id": "",
       "version_major": 2,
       "version_minor": 0
      },
      "text/plain": [
       "Map:   0%|          | 0/833 [00:00<?, ? examples/s]"
      ]
     },
     "metadata": {},
     "output_type": "display_data"
    },
    {
     "data": {
      "application/vnd.jupyter.widget-view+json": {
       "model_id": "",
       "version_major": 2,
       "version_minor": 0
      },
      "text/plain": [
       "Map:   0%|          | 0/832 [00:00<?, ? examples/s]"
      ]
     },
     "metadata": {},
     "output_type": "display_data"
    }
   ],
   "source": [
    "candidates = linker.predict_batch(dataset, batch_size=128)"
   ]
  },
  {
   "cell_type": "code",
   "execution_count": 7,
   "id": "4526ee50-a9d1-48c1-8e08-f676f2ef6da4",
   "metadata": {},
   "outputs": [
    {
     "data": {
      "text/plain": [
       "{'strict': {'precision': 0.6154342912495964,\n",
       "  'recall': 0.6156330749354005,\n",
       "  'fscore': 0.6155336670434362,\n",
       "  'ptp': 1906,\n",
       "  'fp': 1191,\n",
       "  'rtp': 1906,\n",
       "  'fn': 1190,\n",
       "  'n_docs_system': 833,\n",
       "  'n_annos_system': 3103,\n",
       "  'n_docs_gold': 833,\n",
       "  'n_annos_gold': 3097}}"
      ]
     },
     "execution_count": 7,
     "metadata": {},
     "output_type": "execute_result"
    }
   ],
   "source": [
    "from xmen.evaluation import *\n",
    "\n",
    "evaluate(dataset['test'], candidates['test'], top_k_predictions=1)"
   ]
  },
  {
   "cell_type": "markdown",
   "id": "b8617e85-44af-456d-a9eb-62e2ea6d9a88",
   "metadata": {},
   "source": [
    "# Reranking\n",
    "\n",
    "Finally, we train a cross-encoder to learn a better ranking from the training dataset.\n",
    "\n",
    "Here, we consider batches of 64 candidates. The cross-encoder is trained for 3 epochs (you want to increase this for better performance). We keep the checkpoint that maximizes accuracy@1 on the validation set."
   ]
  },
  {
   "cell_type": "code",
   "execution_count": 8,
   "id": "c751cd6d-2f1b-43f6-83df-cb4cd2003894",
   "metadata": {},
   "outputs": [
    {
     "data": {
      "application/vnd.jupyter.widget-view+json": {
       "model_id": "",
       "version_major": 2,
       "version_minor": 0
      },
      "text/plain": [
       "Map:   0%|          | 0/833 [00:00<?, ? examples/s]"
      ]
     },
     "metadata": {},
     "output_type": "display_data"
    },
    {
     "data": {
      "application/vnd.jupyter.widget-view+json": {
       "model_id": "",
       "version_major": 2,
       "version_minor": 0
      },
      "text/plain": [
       "Map:   0%|          | 0/833 [00:00<?, ? examples/s]"
      ]
     },
     "metadata": {},
     "output_type": "display_data"
    },
    {
     "data": {
      "application/vnd.jupyter.widget-view+json": {
       "model_id": "",
       "version_major": 2,
       "version_minor": 0
      },
      "text/plain": [
       "Map:   0%|          | 0/832 [00:00<?, ? examples/s]"
      ]
     },
     "metadata": {},
     "output_type": "display_data"
    }
   ],
   "source": [
    "from xmen.linkers.util import filter_and_apply_threshold\n",
    "candidates_64 = filter_and_apply_threshold(candidates, k=64, threshold=0.0)"
   ]
  },
  {
   "cell_type": "code",
   "execution_count": 9,
   "id": "cacadea0-079d-4d04-8ca0-d56de356c431",
   "metadata": {},
   "outputs": [
    {
     "name": "stdout",
     "output_type": "stream",
     "text": [
      "Context length: 128\n"
     ]
    },
    {
     "data": {
      "application/vnd.jupyter.widget-view+json": {
       "model_id": "57cfe2edbc544f35a25e9da2cd4b12c6",
       "version_major": 2,
       "version_minor": 0
      },
      "text/plain": [
       "  0%|          | 0/2994 [00:00<?, ?it/s]"
      ]
     },
     "metadata": {},
     "output_type": "display_data"
    },
    {
     "data": {
      "application/vnd.jupyter.widget-view+json": {
       "model_id": "7353cae2726f48eb9c8177fb659d1fb9",
       "version_major": 2,
       "version_minor": 0
      },
      "text/plain": [
       "  0%|          | 0/2994 [00:00<?, ?it/s]"
      ]
     },
     "metadata": {},
     "output_type": "display_data"
    },
    {
     "data": {
      "application/vnd.jupyter.widget-view+json": {
       "model_id": "ca888e189e294ab0b9de88d601942c68",
       "version_major": 2,
       "version_minor": 0
      },
      "text/plain": [
       "  0%|          | 0/2994 [00:00<?, ?it/s]"
      ]
     },
     "metadata": {},
     "output_type": "display_data"
    },
    {
     "data": {
      "application/vnd.jupyter.widget-view+json": {
       "model_id": "b9aae5ab3e0948f58bd959052b0b086b",
       "version_major": 2,
       "version_minor": 0
      },
      "text/plain": [
       "  0%|          | 0/3103 [00:00<?, ?it/s]"
      ]
     },
     "metadata": {},
     "output_type": "display_data"
    },
    {
     "data": {
      "application/vnd.jupyter.widget-view+json": {
       "model_id": "7738be3d96f1414c97e695d23fbec10a",
       "version_major": 2,
       "version_minor": 0
      },
      "text/plain": [
       "  0%|          | 0/3103 [00:00<?, ?it/s]"
      ]
     },
     "metadata": {},
     "output_type": "display_data"
    },
    {
     "data": {
      "application/vnd.jupyter.widget-view+json": {
       "model_id": "7ed1a6cb3d854c5baaf1574825d65551",
       "version_major": 2,
       "version_minor": 0
      },
      "text/plain": [
       "  0%|          | 0/3103 [00:00<?, ?it/s]"
      ]
     },
     "metadata": {},
     "output_type": "display_data"
    },
    {
     "data": {
      "application/vnd.jupyter.widget-view+json": {
       "model_id": "b36d61631a554fc08c4697f2988e2c1c",
       "version_major": 2,
       "version_minor": 0
      },
      "text/plain": [
       "  0%|          | 0/2977 [00:00<?, ?it/s]"
      ]
     },
     "metadata": {},
     "output_type": "display_data"
    },
    {
     "data": {
      "application/vnd.jupyter.widget-view+json": {
       "model_id": "5f4297d8c9ef4aef8bcfd2b75a9e91d5",
       "version_major": 2,
       "version_minor": 0
      },
      "text/plain": [
       "  0%|          | 0/2977 [00:00<?, ?it/s]"
      ]
     },
     "metadata": {},
     "output_type": "display_data"
    },
    {
     "data": {
      "application/vnd.jupyter.widget-view+json": {
       "model_id": "5bb3c62d01c24f3285f54c3e232b609f",
       "version_major": 2,
       "version_minor": 0
      },
      "text/plain": [
       "  0%|          | 0/2977 [00:00<?, ?it/s]"
      ]
     },
     "metadata": {},
     "output_type": "display_data"
    }
   ],
   "source": [
    "from xmen.reranking.cross_encoder import *\n",
    "ce_dataset = CrossEncoderReranker.prepare_data(candidates_64, dataset, kb)"
   ]
  },
  {
   "cell_type": "code",
   "execution_count": 11,
   "id": "ab585f3c-c829-4fbb-912f-c826545a362b",
   "metadata": {},
   "outputs": [
    {
     "name": "stdout",
     "output_type": "stream",
     "text": [
      "model_name := bert-base-multilingual-cased\n",
      "num_train_epochs := 3\n",
      "fp16 := True\n",
      "label_smoothing := False\n",
      "score_regularization := False\n",
      "train_layers := None\n",
      "softmax_loss := True\n"
     ]
    },
    {
     "name": "stderr",
     "output_type": "stream",
     "text": [
      "Some weights of the model checkpoint at bert-base-multilingual-cased were not used when initializing BertForSequenceClassification: ['cls.predictions.transform.LayerNorm.weight', 'cls.predictions.decoder.weight', 'cls.predictions.transform.dense.bias', 'cls.predictions.transform.LayerNorm.bias', 'cls.seq_relationship.weight', 'cls.seq_relationship.bias', 'cls.predictions.bias', 'cls.predictions.transform.dense.weight']\n",
      "- This IS expected if you are initializing BertForSequenceClassification from the checkpoint of a model trained on another task or with another architecture (e.g. initializing a BertForSequenceClassification model from a BertForPreTraining model).\n",
      "- This IS NOT expected if you are initializing BertForSequenceClassification from the checkpoint of a model that you expect to be exactly identical (initializing a BertForSequenceClassification model from a BertForSequenceClassification model).\n",
      "Some weights of BertForSequenceClassification were not initialized from the model checkpoint at bert-base-multilingual-cased and are newly initialized: ['classifier.weight', 'classifier.bias']\n",
      "You should probably TRAIN this model on a down-stream task to be able to use it for predictions and inference.\n"
     ]
    },
    {
     "name": "stdout",
     "output_type": "stream",
     "text": [
      "2023-06-01 13:43:11 - Use pytorch device: cuda\n",
      "Using score regularization: False\n",
      "Using label smoothing factor: False\n"
     ]
    },
    {
     "data": {
      "application/vnd.jupyter.widget-view+json": {
       "model_id": "62c74dea0f374da5ae5e632fe36be88b",
       "version_major": 2,
       "version_minor": 0
      },
      "text/plain": [
       "Epoch:   0%|          | 0/3 [00:00<?, ?it/s]"
      ]
     },
     "metadata": {},
     "output_type": "display_data"
    },
    {
     "data": {
      "application/vnd.jupyter.widget-view+json": {
       "model_id": "764dfb96f932429f963e60bc9df76dc4",
       "version_major": 2,
       "version_minor": 0
      },
      "text/plain": [
       "Iteration:   0%|          | 0/2994 [00:00<?, ?it/s]"
      ]
     },
     "metadata": {},
     "output_type": "display_data"
    },
    {
     "name": "stdout",
     "output_type": "stream",
     "text": [
      "2023-06-01 14:13:47 - EntityLinkingEvaluator: Evaluating the model on eval dataset after epoch 0:\n",
      "2023-06-01 14:33:54 - Accuracy: 0.6597245549210615\n",
      "2023-06-01 14:33:54 - Accuracy @ 5: 0.8034934497816594\n",
      "2023-06-01 14:33:54 - Accuracy @ 64: 0.8972119583473295\n",
      "2023-06-01 14:33:54 - Baseline Accuracy: 0.6150487067517635\n",
      "2023-06-01 14:33:54 - Save model to ./output/cross_encoder\n"
     ]
    },
    {
     "data": {
      "application/vnd.jupyter.widget-view+json": {
       "model_id": "494a4adb8ceb497daadd9f022353874f",
       "version_major": 2,
       "version_minor": 0
      },
      "text/plain": [
       "Iteration:   0%|          | 0/2994 [00:00<?, ?it/s]"
      ]
     },
     "metadata": {},
     "output_type": "display_data"
    },
    {
     "name": "stdout",
     "output_type": "stream",
     "text": [
      "2023-06-01 15:04:33 - EntityLinkingEvaluator: Evaluating the model on eval dataset after epoch 1:\n",
      "2023-06-01 15:24:39 - Accuracy: 0.6899563318777293\n",
      "2023-06-01 15:24:39 - Accuracy @ 5: 0.8125629828686597\n",
      "2023-06-01 15:24:39 - Accuracy @ 64: 0.8972119583473295\n",
      "2023-06-01 15:24:39 - Baseline Accuracy: 0.6150487067517635\n",
      "2023-06-01 15:24:39 - Save model to ./output/cross_encoder\n"
     ]
    },
    {
     "data": {
      "application/vnd.jupyter.widget-view+json": {
       "model_id": "699c6186c60a4c8a825309330f49b5e8",
       "version_major": 2,
       "version_minor": 0
      },
      "text/plain": [
       "Iteration:   0%|          | 0/2994 [00:00<?, ?it/s]"
      ]
     },
     "metadata": {},
     "output_type": "display_data"
    },
    {
     "name": "stdout",
     "output_type": "stream",
     "text": [
      "2023-06-01 15:55:18 - EntityLinkingEvaluator: Evaluating the model on eval dataset after epoch 2:\n",
      "2023-06-01 16:15:24 - Accuracy: 0.6892845146120256\n",
      "2023-06-01 16:15:24 - Accuracy @ 5: 0.8152502519314746\n",
      "2023-06-01 16:15:24 - Accuracy @ 64: 0.8972119583473295\n",
      "2023-06-01 16:15:24 - Baseline Accuracy: 0.6150487067517635\n"
     ]
    }
   ],
   "source": [
    "# Train the cross-encoder on the training set and use the validation set for model selection\n",
    "rr = CrossEncoderReranker()\n",
    "args = CrossEncoderTrainingArgs(num_train_epochs=3)\n",
    "rr.fit(args, ce_dataset[\"train\"].dataset, ce_dataset[\"validation\"].dataset)"
   ]
  },
  {
   "cell_type": "code",
   "execution_count": 12,
   "id": "d09c3b36-bf23-4284-a67f-d832614f2424",
   "metadata": {},
   "outputs": [
    {
     "data": {
      "application/vnd.jupyter.widget-view+json": {
       "model_id": "0f75ebd875444df08bb70f8c7ac26ae5",
       "version_major": 2,
       "version_minor": 0
      },
      "text/plain": [
       "Batches:   0%|          | 0/3103 [00:00<?, ?it/s]"
      ]
     },
     "metadata": {},
     "output_type": "display_data"
    },
    {
     "data": {
      "application/vnd.jupyter.widget-view+json": {
       "model_id": "",
       "version_major": 2,
       "version_minor": 0
      },
      "text/plain": [
       "Map:   0%|          | 0/833 [00:00<?, ? examples/s]"
      ]
     },
     "metadata": {},
     "output_type": "display_data"
    }
   ],
   "source": [
    "# Predict on test set\n",
    "prediction = rr.rerank_batch(candidates_64[\"test\"], ce_dataset[\"test\"])"
   ]
  },
  {
   "cell_type": "markdown",
   "id": "2e8a75f0-7b64-4cdb-87f3-f6b739cb320e",
   "metadata": {},
   "source": [
    "# Evaluation\n",
    "\n",
    "We compute metrics for the predicted concepts vs. the gold-standard for different values of k"
   ]
  },
  {
   "cell_type": "code",
   "execution_count": 13,
   "id": "9c3bbaaf-b68c-446a-a873-8dd78da8a658",
   "metadata": {},
   "outputs": [
    {
     "data": {
      "text/plain": [
       "{'strict': {'precision': 0.7093961898611559,\n",
       "  'recall': 0.709625322997416,\n",
       "  'fscore': 0.7095107379299209,\n",
       "  'ptp': 2197,\n",
       "  'fp': 900,\n",
       "  'rtp': 2197,\n",
       "  'fn': 899,\n",
       "  'n_docs_system': 833,\n",
       "  'n_annos_system': 3103,\n",
       "  'n_docs_gold': 833,\n",
       "  'n_annos_gold': 3097}}"
      ]
     },
     "execution_count": 13,
     "metadata": {},
     "output_type": "execute_result"
    }
   ],
   "source": [
    "evaluate(dataset['test'], prediction, top_k_predictions=1)"
   ]
  },
  {
   "cell_type": "code",
   "execution_count": 15,
   "id": "f38d2530-642f-4d0a-95ec-94f21de52483",
   "metadata": {},
   "outputs": [
    {
     "name": "stdout",
     "output_type": "stream",
     "text": [
      "Recall@1 0.709625322997416\n",
      "Recall@2 0.7822997416020672\n",
      "Recall@4 0.8242894056847545\n",
      "Recall@8 0.851421188630491\n",
      "Recall@16 0.8837209302325582\n",
      "Recall@32 0.9031007751937985\n",
      "Recall@64 0.915374677002584\n"
     ]
    }
   ],
   "source": [
    "for i in [1,2,4,8,16,32,64]:\n",
    "    print(f'Recall@{i}', evaluate(dataset['test'], prediction, top_k_predictions=i)['strict']['recall'])"
   ]
  },
  {
   "cell_type": "markdown",
   "id": "d3f94940-fb36-4d72-adf5-6e3e60450a19",
   "metadata": {},
   "source": [
    "# Error Analysis\n",
    "\n",
    "To gain more insights into the ranking errors (and potential NER errors, which do not apply here), we use `entity_linking_error_analysis`"
   ]
  },
  {
   "cell_type": "code",
   "execution_count": 27,
   "id": "fc535571-0e7c-49f6-a87b-6d61aa0c3c2d",
   "metadata": {},
   "outputs": [
    {
     "data": {
      "text/html": [
       "<div>\n",
       "<style scoped>\n",
       "    .dataframe tbody tr th:only-of-type {\n",
       "        vertical-align: middle;\n",
       "    }\n",
       "\n",
       "    .dataframe tbody tr th {\n",
       "        vertical-align: top;\n",
       "    }\n",
       "\n",
       "    .dataframe thead th {\n",
       "        text-align: right;\n",
       "    }\n",
       "</style>\n",
       "<table border=\"1\" class=\"dataframe\">\n",
       "  <thead>\n",
       "    <tr style=\"text-align: right;\">\n",
       "      <th></th>\n",
       "      <th>pred_start</th>\n",
       "      <th>pred_end</th>\n",
       "      <th>pred_text</th>\n",
       "      <th>gt_start</th>\n",
       "      <th>gt_end</th>\n",
       "      <th>gt_text</th>\n",
       "      <th>entity_match_type</th>\n",
       "      <th>gold_concept</th>\n",
       "      <th>gold_type</th>\n",
       "      <th>pred_index</th>\n",
       "      <th>pred_index_score</th>\n",
       "      <th>pred_top</th>\n",
       "      <th>pred_top_score</th>\n",
       "      <th>document_id</th>\n",
       "    </tr>\n",
       "  </thead>\n",
       "  <tbody>\n",
       "    <tr>\n",
       "      <th>0</th>\n",
       "      <td>0.0</td>\n",
       "      <td>5.0</td>\n",
       "      <td>[Etude]</td>\n",
       "      <td>0.0</td>\n",
       "      <td>5.0</td>\n",
       "      <td>[Etude]</td>\n",
       "      <td>tp</td>\n",
       "      <td>{'db_name': 'UMLS', 'db_id': 'C0008972'}</td>\n",
       "      <td>PROC</td>\n",
       "      <td>-1.0</td>\n",
       "      <td>NaN</td>\n",
       "      <td>C1552232</td>\n",
       "      <td>0.795262</td>\n",
       "      <td>1009657</td>\n",
       "    </tr>\n",
       "    <tr>\n",
       "      <th>1</th>\n",
       "      <td>47.0</td>\n",
       "      <td>55.0</td>\n",
       "      <td>[Africain]</td>\n",
       "      <td>47.0</td>\n",
       "      <td>55.0</td>\n",
       "      <td>[Africain]</td>\n",
       "      <td>tp</td>\n",
       "      <td>{'db_name': 'UMLS', 'db_id': 'C0027567'}</td>\n",
       "      <td>LIVB</td>\n",
       "      <td>1.0</td>\n",
       "      <td>0.863724</td>\n",
       "      <td>C1452383</td>\n",
       "      <td>0.865642</td>\n",
       "      <td>1009657</td>\n",
       "    </tr>\n",
       "    <tr>\n",
       "      <th>2</th>\n",
       "      <td>4.0</td>\n",
       "      <td>22.0</td>\n",
       "      <td>[gangrènes gazeuses]</td>\n",
       "      <td>4.0</td>\n",
       "      <td>22.0</td>\n",
       "      <td>[gangrènes gazeuses]</td>\n",
       "      <td>tp</td>\n",
       "      <td>{'db_name': 'UMLS', 'db_id': 'C0017105'}</td>\n",
       "      <td>DISO</td>\n",
       "      <td>0.0</td>\n",
       "      <td>0.935468</td>\n",
       "      <td>C0017105</td>\n",
       "      <td>0.935468</td>\n",
       "      <td>1009808</td>\n",
       "    </tr>\n",
       "    <tr>\n",
       "      <th>3</th>\n",
       "      <td>4.0</td>\n",
       "      <td>13.0</td>\n",
       "      <td>[gangrènes]</td>\n",
       "      <td>4.0</td>\n",
       "      <td>13.0</td>\n",
       "      <td>[gangrènes]</td>\n",
       "      <td>tp</td>\n",
       "      <td>{'db_name': 'UMLS', 'db_id': 'C0017086'}</td>\n",
       "      <td>DISO</td>\n",
       "      <td>0.0</td>\n",
       "      <td>0.97305</td>\n",
       "      <td>C0017086</td>\n",
       "      <td>0.973050</td>\n",
       "      <td>1009808</td>\n",
       "    </tr>\n",
       "    <tr>\n",
       "      <th>4</th>\n",
       "      <td>14.0</td>\n",
       "      <td>22.0</td>\n",
       "      <td>[gazeuses]</td>\n",
       "      <td>14.0</td>\n",
       "      <td>22.0</td>\n",
       "      <td>[gazeuses]</td>\n",
       "      <td>tp</td>\n",
       "      <td>{'db_name': 'UMLS', 'db_id': 'C0017110'}</td>\n",
       "      <td>CHEM</td>\n",
       "      <td>5.0</td>\n",
       "      <td>0.808053</td>\n",
       "      <td>C0537495</td>\n",
       "      <td>0.858878</td>\n",
       "      <td>1009808</td>\n",
       "    </tr>\n",
       "    <tr>\n",
       "      <th>5</th>\n",
       "      <td>35.0</td>\n",
       "      <td>53.0</td>\n",
       "      <td>[tuberculose bovine]</td>\n",
       "      <td>35.0</td>\n",
       "      <td>53.0</td>\n",
       "      <td>[tuberculose bovine]</td>\n",
       "      <td>tp</td>\n",
       "      <td>{'db_name': 'UMLS', 'db_id': 'C0041307'}</td>\n",
       "      <td>DISO</td>\n",
       "      <td>0.0</td>\n",
       "      <td>0.990416</td>\n",
       "      <td>C0041307</td>\n",
       "      <td>0.990416</td>\n",
       "      <td>1019393</td>\n",
       "    </tr>\n",
       "    <tr>\n",
       "      <th>6</th>\n",
       "      <td>35.0</td>\n",
       "      <td>46.0</td>\n",
       "      <td>[tuberculose]</td>\n",
       "      <td>35.0</td>\n",
       "      <td>46.0</td>\n",
       "      <td>[tuberculose]</td>\n",
       "      <td>tp</td>\n",
       "      <td>{'db_name': 'UMLS', 'db_id': 'C0041296'}</td>\n",
       "      <td>DISO</td>\n",
       "      <td>0.0</td>\n",
       "      <td>0.983719</td>\n",
       "      <td>C0041296</td>\n",
       "      <td>0.983719</td>\n",
       "      <td>1019393</td>\n",
       "    </tr>\n",
       "    <tr>\n",
       "      <th>7</th>\n",
       "      <td>47.0</td>\n",
       "      <td>53.0</td>\n",
       "      <td>[bovine]</td>\n",
       "      <td>47.0</td>\n",
       "      <td>53.0</td>\n",
       "      <td>[bovine]</td>\n",
       "      <td>tp</td>\n",
       "      <td>{'db_name': 'UMLS', 'db_id': 'C0007452'}</td>\n",
       "      <td>LIVB</td>\n",
       "      <td>4.0</td>\n",
       "      <td>0.888269</td>\n",
       "      <td>C1140701</td>\n",
       "      <td>1.000000</td>\n",
       "      <td>1019393</td>\n",
       "    </tr>\n",
       "    <tr>\n",
       "      <th>8</th>\n",
       "      <td>56.0</td>\n",
       "      <td>75.0</td>\n",
       "      <td>[Mycobacterium bovis]</td>\n",
       "      <td>56.0</td>\n",
       "      <td>75.0</td>\n",
       "      <td>[Mycobacterium bovis]</td>\n",
       "      <td>tp</td>\n",
       "      <td>{'db_name': 'UMLS', 'db_id': 'C0026917'}</td>\n",
       "      <td>DISO</td>\n",
       "      <td>0.0</td>\n",
       "      <td>0.996538</td>\n",
       "      <td>C0026917</td>\n",
       "      <td>0.996538</td>\n",
       "      <td>1019393</td>\n",
       "    </tr>\n",
       "    <tr>\n",
       "      <th>9</th>\n",
       "      <td>78.0</td>\n",
       "      <td>86.0</td>\n",
       "      <td>[observés]</td>\n",
       "      <td>78.0</td>\n",
       "      <td>86.0</td>\n",
       "      <td>[observés]</td>\n",
       "      <td>tp</td>\n",
       "      <td>{'db_name': 'UMLS', 'db_id': 'C0302523'}</td>\n",
       "      <td>PROC</td>\n",
       "      <td>0.0</td>\n",
       "      <td>0.852574</td>\n",
       "      <td>C0302523</td>\n",
       "      <td>0.852574</td>\n",
       "      <td>1019393</td>\n",
       "    </tr>\n",
       "  </tbody>\n",
       "</table>\n",
       "</div>"
      ],
      "text/plain": [
       "   pred_start  pred_end              pred_text  gt_start  gt_end   \n",
       "0         0.0       5.0                [Etude]       0.0     5.0  \\\n",
       "1        47.0      55.0             [Africain]      47.0    55.0   \n",
       "2         4.0      22.0   [gangrènes gazeuses]       4.0    22.0   \n",
       "3         4.0      13.0            [gangrènes]       4.0    13.0   \n",
       "4        14.0      22.0             [gazeuses]      14.0    22.0   \n",
       "5        35.0      53.0   [tuberculose bovine]      35.0    53.0   \n",
       "6        35.0      46.0          [tuberculose]      35.0    46.0   \n",
       "7        47.0      53.0               [bovine]      47.0    53.0   \n",
       "8        56.0      75.0  [Mycobacterium bovis]      56.0    75.0   \n",
       "9        78.0      86.0             [observés]      78.0    86.0   \n",
       "\n",
       "                 gt_text entity_match_type   \n",
       "0                [Etude]                tp  \\\n",
       "1             [Africain]                tp   \n",
       "2   [gangrènes gazeuses]                tp   \n",
       "3            [gangrènes]                tp   \n",
       "4             [gazeuses]                tp   \n",
       "5   [tuberculose bovine]                tp   \n",
       "6          [tuberculose]                tp   \n",
       "7               [bovine]                tp   \n",
       "8  [Mycobacterium bovis]                tp   \n",
       "9             [observés]                tp   \n",
       "\n",
       "                               gold_concept gold_type  pred_index   \n",
       "0  {'db_name': 'UMLS', 'db_id': 'C0008972'}      PROC        -1.0  \\\n",
       "1  {'db_name': 'UMLS', 'db_id': 'C0027567'}      LIVB         1.0   \n",
       "2  {'db_name': 'UMLS', 'db_id': 'C0017105'}      DISO         0.0   \n",
       "3  {'db_name': 'UMLS', 'db_id': 'C0017086'}      DISO         0.0   \n",
       "4  {'db_name': 'UMLS', 'db_id': 'C0017110'}      CHEM         5.0   \n",
       "5  {'db_name': 'UMLS', 'db_id': 'C0041307'}      DISO         0.0   \n",
       "6  {'db_name': 'UMLS', 'db_id': 'C0041296'}      DISO         0.0   \n",
       "7  {'db_name': 'UMLS', 'db_id': 'C0007452'}      LIVB         4.0   \n",
       "8  {'db_name': 'UMLS', 'db_id': 'C0026917'}      DISO         0.0   \n",
       "9  {'db_name': 'UMLS', 'db_id': 'C0302523'}      PROC         0.0   \n",
       "\n",
       "  pred_index_score  pred_top  pred_top_score document_id  \n",
       "0              NaN  C1552232        0.795262     1009657  \n",
       "1         0.863724  C1452383        0.865642     1009657  \n",
       "2         0.935468  C0017105        0.935468     1009808  \n",
       "3          0.97305  C0017086        0.973050     1009808  \n",
       "4         0.808053  C0537495        0.858878     1009808  \n",
       "5         0.990416  C0041307        0.990416     1019393  \n",
       "6         0.983719  C0041296        0.983719     1019393  \n",
       "7         0.888269  C1140701        1.000000     1019393  \n",
       "8         0.996538  C0026917        0.996538     1019393  \n",
       "9         0.852574  C0302523        0.852574     1019393  "
      ]
     },
     "execution_count": 27,
     "metadata": {},
     "output_type": "execute_result"
    }
   ],
   "source": [
    "# Before re-ranking\n",
    "error_analysis = entity_linking_error_analysis(dataset['test'], candidates_64['test'])\n",
    "error_analysis.head(10)"
   ]
  },
  {
   "cell_type": "code",
   "execution_count": 28,
   "id": "56e3d2a6-0cb5-43d6-94e5-e5a25c36926b",
   "metadata": {},
   "outputs": [
    {
     "data": {
      "text/html": [
       "<div>\n",
       "<style scoped>\n",
       "    .dataframe tbody tr th:only-of-type {\n",
       "        vertical-align: middle;\n",
       "    }\n",
       "\n",
       "    .dataframe tbody tr th {\n",
       "        vertical-align: top;\n",
       "    }\n",
       "\n",
       "    .dataframe thead th {\n",
       "        text-align: right;\n",
       "    }\n",
       "</style>\n",
       "<table border=\"1\" class=\"dataframe\">\n",
       "  <thead>\n",
       "    <tr style=\"text-align: right;\">\n",
       "      <th></th>\n",
       "      <th>pred_start</th>\n",
       "      <th>pred_end</th>\n",
       "      <th>pred_text</th>\n",
       "      <th>gt_start</th>\n",
       "      <th>gt_end</th>\n",
       "      <th>gt_text</th>\n",
       "      <th>entity_match_type</th>\n",
       "      <th>gold_concept</th>\n",
       "      <th>gold_type</th>\n",
       "      <th>pred_index</th>\n",
       "      <th>pred_index_score</th>\n",
       "      <th>pred_top</th>\n",
       "      <th>pred_top_score</th>\n",
       "      <th>document_id</th>\n",
       "    </tr>\n",
       "  </thead>\n",
       "  <tbody>\n",
       "    <tr>\n",
       "      <th>0</th>\n",
       "      <td>0.0</td>\n",
       "      <td>5.0</td>\n",
       "      <td>[Etude]</td>\n",
       "      <td>0.0</td>\n",
       "      <td>5.0</td>\n",
       "      <td>[Etude]</td>\n",
       "      <td>tp</td>\n",
       "      <td>{'db_name': 'UMLS', 'db_id': 'C0008972'}</td>\n",
       "      <td>PROC</td>\n",
       "      <td>-1.0</td>\n",
       "      <td>NaN</td>\n",
       "      <td>C0036375</td>\n",
       "      <td>0.773245</td>\n",
       "      <td>1009657</td>\n",
       "    </tr>\n",
       "    <tr>\n",
       "      <th>1</th>\n",
       "      <td>47.0</td>\n",
       "      <td>55.0</td>\n",
       "      <td>[Africain]</td>\n",
       "      <td>47.0</td>\n",
       "      <td>55.0</td>\n",
       "      <td>[Africain]</td>\n",
       "      <td>tp</td>\n",
       "      <td>{'db_name': 'UMLS', 'db_id': 'C0027567'}</td>\n",
       "      <td>LIVB</td>\n",
       "      <td>7.0</td>\n",
       "      <td>0.000148</td>\n",
       "      <td>C0001737</td>\n",
       "      <td>0.991248</td>\n",
       "      <td>1009657</td>\n",
       "    </tr>\n",
       "    <tr>\n",
       "      <th>2</th>\n",
       "      <td>4.0</td>\n",
       "      <td>22.0</td>\n",
       "      <td>[gangrènes gazeuses]</td>\n",
       "      <td>4.0</td>\n",
       "      <td>22.0</td>\n",
       "      <td>[gangrènes gazeuses]</td>\n",
       "      <td>tp</td>\n",
       "      <td>{'db_name': 'UMLS', 'db_id': 'C0017105'}</td>\n",
       "      <td>DISO</td>\n",
       "      <td>0.0</td>\n",
       "      <td>1.0</td>\n",
       "      <td>C0017105</td>\n",
       "      <td>1.000000</td>\n",
       "      <td>1009808</td>\n",
       "    </tr>\n",
       "    <tr>\n",
       "      <th>3</th>\n",
       "      <td>4.0</td>\n",
       "      <td>13.0</td>\n",
       "      <td>[gangrènes]</td>\n",
       "      <td>4.0</td>\n",
       "      <td>13.0</td>\n",
       "      <td>[gangrènes]</td>\n",
       "      <td>tp</td>\n",
       "      <td>{'db_name': 'UMLS', 'db_id': 'C0017086'}</td>\n",
       "      <td>DISO</td>\n",
       "      <td>0.0</td>\n",
       "      <td>1.0</td>\n",
       "      <td>C0017086</td>\n",
       "      <td>1.000000</td>\n",
       "      <td>1009808</td>\n",
       "    </tr>\n",
       "    <tr>\n",
       "      <th>4</th>\n",
       "      <td>14.0</td>\n",
       "      <td>22.0</td>\n",
       "      <td>[gazeuses]</td>\n",
       "      <td>14.0</td>\n",
       "      <td>22.0</td>\n",
       "      <td>[gazeuses]</td>\n",
       "      <td>tp</td>\n",
       "      <td>{'db_name': 'UMLS', 'db_id': 'C0017110'}</td>\n",
       "      <td>CHEM</td>\n",
       "      <td>0.0</td>\n",
       "      <td>0.999963</td>\n",
       "      <td>C0017110</td>\n",
       "      <td>0.999963</td>\n",
       "      <td>1009808</td>\n",
       "    </tr>\n",
       "    <tr>\n",
       "      <th>5</th>\n",
       "      <td>35.0</td>\n",
       "      <td>53.0</td>\n",
       "      <td>[tuberculose bovine]</td>\n",
       "      <td>35.0</td>\n",
       "      <td>53.0</td>\n",
       "      <td>[tuberculose bovine]</td>\n",
       "      <td>tp</td>\n",
       "      <td>{'db_name': 'UMLS', 'db_id': 'C0041307'}</td>\n",
       "      <td>DISO</td>\n",
       "      <td>1.0</td>\n",
       "      <td>0.000719</td>\n",
       "      <td>C0026917</td>\n",
       "      <td>0.999281</td>\n",
       "      <td>1019393</td>\n",
       "    </tr>\n",
       "    <tr>\n",
       "      <th>6</th>\n",
       "      <td>35.0</td>\n",
       "      <td>46.0</td>\n",
       "      <td>[tuberculose]</td>\n",
       "      <td>35.0</td>\n",
       "      <td>46.0</td>\n",
       "      <td>[tuberculose]</td>\n",
       "      <td>tp</td>\n",
       "      <td>{'db_name': 'UMLS', 'db_id': 'C0041296'}</td>\n",
       "      <td>DISO</td>\n",
       "      <td>0.0</td>\n",
       "      <td>0.999996</td>\n",
       "      <td>C0041296</td>\n",
       "      <td>0.999996</td>\n",
       "      <td>1019393</td>\n",
       "    </tr>\n",
       "    <tr>\n",
       "      <th>7</th>\n",
       "      <td>47.0</td>\n",
       "      <td>53.0</td>\n",
       "      <td>[bovine]</td>\n",
       "      <td>47.0</td>\n",
       "      <td>53.0</td>\n",
       "      <td>[bovine]</td>\n",
       "      <td>tp</td>\n",
       "      <td>{'db_name': 'UMLS', 'db_id': 'C0007452'}</td>\n",
       "      <td>LIVB</td>\n",
       "      <td>0.0</td>\n",
       "      <td>0.962225</td>\n",
       "      <td>C0007452</td>\n",
       "      <td>0.962225</td>\n",
       "      <td>1019393</td>\n",
       "    </tr>\n",
       "    <tr>\n",
       "      <th>8</th>\n",
       "      <td>56.0</td>\n",
       "      <td>75.0</td>\n",
       "      <td>[Mycobacterium bovis]</td>\n",
       "      <td>56.0</td>\n",
       "      <td>75.0</td>\n",
       "      <td>[Mycobacterium bovis]</td>\n",
       "      <td>tp</td>\n",
       "      <td>{'db_name': 'UMLS', 'db_id': 'C0026917'}</td>\n",
       "      <td>DISO</td>\n",
       "      <td>0.0</td>\n",
       "      <td>0.999692</td>\n",
       "      <td>C0026917</td>\n",
       "      <td>0.999692</td>\n",
       "      <td>1019393</td>\n",
       "    </tr>\n",
       "    <tr>\n",
       "      <th>9</th>\n",
       "      <td>78.0</td>\n",
       "      <td>86.0</td>\n",
       "      <td>[observés]</td>\n",
       "      <td>78.0</td>\n",
       "      <td>86.0</td>\n",
       "      <td>[observés]</td>\n",
       "      <td>tp</td>\n",
       "      <td>{'db_name': 'UMLS', 'db_id': 'C0302523'}</td>\n",
       "      <td>PROC</td>\n",
       "      <td>3.0</td>\n",
       "      <td>0.023871</td>\n",
       "      <td>C2347379</td>\n",
       "      <td>0.725774</td>\n",
       "      <td>1019393</td>\n",
       "    </tr>\n",
       "  </tbody>\n",
       "</table>\n",
       "</div>"
      ],
      "text/plain": [
       "   pred_start  pred_end              pred_text  gt_start  gt_end   \n",
       "0         0.0       5.0                [Etude]       0.0     5.0  \\\n",
       "1        47.0      55.0             [Africain]      47.0    55.0   \n",
       "2         4.0      22.0   [gangrènes gazeuses]       4.0    22.0   \n",
       "3         4.0      13.0            [gangrènes]       4.0    13.0   \n",
       "4        14.0      22.0             [gazeuses]      14.0    22.0   \n",
       "5        35.0      53.0   [tuberculose bovine]      35.0    53.0   \n",
       "6        35.0      46.0          [tuberculose]      35.0    46.0   \n",
       "7        47.0      53.0               [bovine]      47.0    53.0   \n",
       "8        56.0      75.0  [Mycobacterium bovis]      56.0    75.0   \n",
       "9        78.0      86.0             [observés]      78.0    86.0   \n",
       "\n",
       "                 gt_text entity_match_type   \n",
       "0                [Etude]                tp  \\\n",
       "1             [Africain]                tp   \n",
       "2   [gangrènes gazeuses]                tp   \n",
       "3            [gangrènes]                tp   \n",
       "4             [gazeuses]                tp   \n",
       "5   [tuberculose bovine]                tp   \n",
       "6          [tuberculose]                tp   \n",
       "7               [bovine]                tp   \n",
       "8  [Mycobacterium bovis]                tp   \n",
       "9             [observés]                tp   \n",
       "\n",
       "                               gold_concept gold_type  pred_index   \n",
       "0  {'db_name': 'UMLS', 'db_id': 'C0008972'}      PROC        -1.0  \\\n",
       "1  {'db_name': 'UMLS', 'db_id': 'C0027567'}      LIVB         7.0   \n",
       "2  {'db_name': 'UMLS', 'db_id': 'C0017105'}      DISO         0.0   \n",
       "3  {'db_name': 'UMLS', 'db_id': 'C0017086'}      DISO         0.0   \n",
       "4  {'db_name': 'UMLS', 'db_id': 'C0017110'}      CHEM         0.0   \n",
       "5  {'db_name': 'UMLS', 'db_id': 'C0041307'}      DISO         1.0   \n",
       "6  {'db_name': 'UMLS', 'db_id': 'C0041296'}      DISO         0.0   \n",
       "7  {'db_name': 'UMLS', 'db_id': 'C0007452'}      LIVB         0.0   \n",
       "8  {'db_name': 'UMLS', 'db_id': 'C0026917'}      DISO         0.0   \n",
       "9  {'db_name': 'UMLS', 'db_id': 'C0302523'}      PROC         3.0   \n",
       "\n",
       "  pred_index_score  pred_top  pred_top_score document_id  \n",
       "0              NaN  C0036375        0.773245     1009657  \n",
       "1         0.000148  C0001737        0.991248     1009657  \n",
       "2              1.0  C0017105        1.000000     1009808  \n",
       "3              1.0  C0017086        1.000000     1009808  \n",
       "4         0.999963  C0017110        0.999963     1009808  \n",
       "5         0.000719  C0026917        0.999281     1019393  \n",
       "6         0.999996  C0041296        0.999996     1019393  \n",
       "7         0.962225  C0007452        0.962225     1019393  \n",
       "8         0.999692  C0026917        0.999692     1019393  \n",
       "9         0.023871  C2347379        0.725774     1019393  "
      ]
     },
     "execution_count": 28,
     "metadata": {},
     "output_type": "execute_result"
    }
   ],
   "source": [
    "# After Re-Ranking\n",
    "error_analysis = entity_linking_error_analysis(dataset['test'], prediction)\n",
    "error_analysis.head(10)"
   ]
  },
  {
   "cell_type": "code",
   "execution_count": 29,
   "id": "d473f20a-998e-401b-bc16-42466d4de8b7",
   "metadata": {},
   "outputs": [
    {
     "data": {
      "text/plain": [
       "<Axes: xlabel='pred_index'>"
      ]
     },
     "execution_count": 29,
     "metadata": {},
     "output_type": "execute_result"
    },
    {
     "data": {
      "image/png": "[encoded data removed]",
      "text/plain": [
       "<Figure size 640x480 with 1 Axes>"
      ]
     },
     "metadata": {},
     "output_type": "display_data"
    }
   ],
   "source": [
    "error_analysis.pred_index.value_counts().sort_index().iloc[0:10].plot.bar()"
   ]
  },
  {
   "cell_type": "code",
   "execution_count": null,
   "id": "28b9f456-52d9-4de0-9647-60a3fa84f0b2",
   "metadata": {},
   "outputs": [],
   "source": []
  }
 ],
 "metadata": {
  "kernelspec": {
   "display_name": "Python [conda env:xmen_notebooks]",
   "language": "python",
   "name": "conda-env-xmen_notebooks-py"
  },
  "language_info": {
   "codemirror_mode": {
    "name": "ipython",
    "version": 3
   },
   "file_extension": ".py",
   "mimetype": "text/x-python",
   "name": "python",
   "nbconvert_exporter": "python",
   "pygments_lexer": "ipython3",
   "version": "3.10.11"
  }
 },
 "nbformat": 4,
 "nbformat_minor": 5
}
