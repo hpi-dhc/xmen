{
 "cells": [
  {
   "cell_type": "code",
   "execution_count": 1,
   "id": "d297559f-1693-448e-a786-482adfd1007f",
   "metadata": {},
   "outputs": [],
   "source": [
    "import os\n",
    "from pathlib import Path"
   ]
  },
  {
   "cell_type": "markdown",
   "id": "eb84db40-b21a-4fba-8174-a327a831ef76",
   "metadata": {},
   "source": [
    "# Preparation\n",
    "\n",
    "First of all, make sure to download the corresponding medical ontologies to build the term dictionaries for bronco.\n",
    " - Treatments: [OPS](https://www.bfarm.de/DE/Kodiersysteme/Services/Downloads/_node.html). Scroll to \"OPS\", \n",
    " - Medications: [ATC](https://www.wido.de/publikationen-produkte/arzneimittel-klassifikation/)\n",
    " - Diagnosis: [ICD10GM](https://www.bfarm.de/DE/Kodiersysteme/Services/Downloads/_node.html)\n",
    " \n",
    "In the config file for BRONCO `../conf/bronco.yaml`, modify the paths so they point the extracted ontologies.\n",
    "\n",
    "We can already use xMEN to prepare the term dictionaries. In your terminal, navigate to the xMEN root folder and run:\n",
    " - `xmen dict conf/bronco.yaml --code dicts/atc2017_de.py --output temp/ --key atc`\n",
    " - `xmen dict conf/bronco.yaml --code dicts/ops2017.py --output temp/ --key ops`\n",
    " - `xmen dict conf/bronco.yaml --code dicts/icd10gm2017.py --output temp/ --key icd10gm`\n",
    " \n",
    "Now use such dictionaries to build the indexes. For this example, we will use only SapBERT indexes and leave aside N-Gram:\n",
    " - `xmen index conf/bronco.yaml --dict temp/atc.jsonl --output temp/atc_index --sapbert`\n",
    " - `xmen index conf/bronco.yaml --dict temp/ops.jsonl --output temp/ops_index --sapbert`\n",
    " - `xmen index conf/bronco.yaml --dict temp/icd10gm.jsonl --output temp/icd10gm_index --sapbert`\n",
    " \n",
    "Finally, load the adapted config file and the BRONCO150 dataset using BigBIO:"
   ]
  },
  {
   "cell_type": "code",
   "execution_count": 2,
   "id": "23ee9165-ac06-4cbd-99de-1eb2b6a68d40",
   "metadata": {},
   "outputs": [
    {
     "name": "stderr",
     "output_type": "stream",
     "text": [
      "Found cached dataset bronco (/dhc/home/ignacio.rodriguez/.cache/huggingface/datasets/bigbio___bronco/bronco_bigbio_kb-data_dir=..%2F..%2FBRONCO150/1.0.0/cab8fc4a62807688cb5b36df7a24eb7f364314862c4196f6ff2db3813f2fe68b)\n"
     ]
    },
    {
     "data": {
      "application/vnd.jupyter.widget-view+json": {
       "model_id": "096169ef087d4ee090cb014de2d14fc4",
       "version_major": 2,
       "version_minor": 0
      },
      "text/plain": [
       "  0%|          | 0/1 [00:00<?, ?it/s]"
      ]
     },
     "metadata": {},
     "output_type": "display_data"
    },
    {
     "data": {
      "text/plain": [
       "DatasetDict({\n",
       "    train: Dataset({\n",
       "        features: ['id', 'document_id', 'passages', 'entities', 'events', 'coreferences', 'relations'],\n",
       "        num_rows: 5\n",
       "    })\n",
       "})"
      ]
     },
     "execution_count": 2,
     "metadata": {},
     "output_type": "execute_result"
    }
   ],
   "source": [
    "from xmen.confhelper import load_config\n",
    "config = load_config(\"../conf/bronco.yaml\")\n",
    "\n",
    "import datasets\n",
    "path_to_data = r\"../../BRONCO150\" # paste here the path to the local data\n",
    "ds = datasets.load_dataset(path = \"bigbio/bronco\", \n",
    "                           name = \"bronco_bigbio_kb\", \n",
    "                           data_dir=path_to_data)\n",
    "\n",
    "ds"
   ]
  },
  {
   "cell_type": "markdown",
   "id": "85ec4049-85cb-4a4b-996c-12142d13062a",
   "metadata": {},
   "source": [
    "# Candidate Generation\n",
    "We will use `SapBERTLinker`, which uses a Transformer model to retrieve candidates with dense embeddings.\n",
    "\n",
    "We could have also used `TFIDFNGramLinker` (see `xmen/notebooks/BioASQ_DisTEMIST.ipynb` for an example)."
   ]
  },
  {
   "cell_type": "code",
   "execution_count": 9,
   "id": "11662199-832c-49cf-9591-43eb82e5bc75",
   "metadata": {},
   "outputs": [],
   "source": [
    "from notebook_util import analyze\n",
    "from xmen.linkers import TFIDFNGramLinker, SapBERTLinker, EnsembleLinker\n",
    "from xmen.linkers.util import filter_and_apply_threshold\n",
    "from datasets import DatasetDict\n",
    "from xmen.evaluation import entity_linking_error_analysis, evaluate_at_k\n",
    "from xmen.linkers.util import filter_and_apply_threshold"
   ]
  },
  {
   "cell_type": "code",
   "execution_count": 4,
   "id": "bd373478-ee61-4879-9380-faa2ce02591a",
   "metadata": {},
   "outputs": [
    {
     "data": {
      "text/plain": [
       "True"
      ]
     },
     "execution_count": 4,
     "metadata": {},
     "output_type": "execute_result"
    }
   ],
   "source": [
    "embedding_model_name = 'cambridgeltl/SapBERT-UMLS-2020AB-all-lang-from-XLMR'\n",
    "index_path = Path(\"../temp/icd10gm_index/index/sapbert\")\n",
    "os.path.exists(index_path)"
   ]
  },
  {
   "cell_type": "code",
   "execution_count": 5,
   "id": "12537346-9e8c-4986-8a3b-5f4d068f6294",
   "metadata": {},
   "outputs": [
    {
     "data": {
      "text/html": [
       "<pre style=\"white-space:pre;overflow-x:auto;line-height:normal;font-family:Menlo,'DejaVu Sans Mono',consolas,'Courier New',monospace\"><span style=\"color: #7fbfbf; text-decoration-color: #7fbfbf\">[05/28/23 14:36:20] </span><span style=\"color: #000080; text-decoration-color: #000080\">INFO    </span> Loading hierarchical faiss index                                <a href=\"file:///dhc/home/ignacio.rodriguez/xmen/xmen/linkers/sap_bert_linker.py\" target=\"_blank\"><span style=\"color: #7f7f7f; text-decoration-color: #7f7f7f\">sap_bert_linker.py</span></a><span style=\"color: #7f7f7f; text-decoration-color: #7f7f7f\">:</span><a href=\"file:///dhc/home/ignacio.rodriguez/xmen/xmen/linkers/sap_bert_linker.py#148\" target=\"_blank\"><span style=\"color: #7f7f7f; text-decoration-color: #7f7f7f\">148</span></a>\n",
       "</pre>\n"
      ],
      "text/plain": [
       "\u001b[2;36m[05/28/23 14:36:20]\u001b[0m\u001b[2;36m \u001b[0m\u001b[34mINFO    \u001b[0m Loading hierarchical faiss index                                \u001b]8;id=847863;file:///dhc/home/ignacio.rodriguez/xmen/xmen/linkers/sap_bert_linker.py\u001b\\\u001b[2msap_bert_linker.py\u001b[0m\u001b]8;;\u001b\\\u001b[2m:\u001b[0m\u001b]8;id=230809;file:///dhc/home/ignacio.rodriguez/xmen/xmen/linkers/sap_bert_linker.py#148\u001b\\\u001b[2m148\u001b[0m\u001b]8;;\u001b\\\n"
      ]
     },
     "metadata": {},
     "output_type": "display_data"
    },
    {
     "data": {
      "text/html": [
       "<pre style=\"white-space:pre;overflow-x:auto;line-height:normal;font-family:Menlo,'DejaVu Sans Mono',consolas,'Courier New',monospace\"><span style=\"color: #7fbfbf; text-decoration-color: #7fbfbf\">                    </span><span style=\"color: #000080; text-decoration-color: #000080\">INFO    </span> Loading index from                                                 <a href=\"file:///dhc/home/ignacio.rodriguez/xmen/xmen/linkers/faiss_indexer.py\" target=\"_blank\"><span style=\"color: #7f7f7f; text-decoration-color: #7f7f7f\">faiss_indexer.py</span></a><span style=\"color: #7f7f7f; text-decoration-color: #7f7f7f\">:</span><a href=\"file:///dhc/home/ignacio.rodriguez/xmen/xmen/linkers/faiss_indexer.py#64\" target=\"_blank\"><span style=\"color: #7f7f7f; text-decoration-color: #7f7f7f\">64</span></a>\n",
       "<span style=\"color: #7fbfbf; text-decoration-color: #7fbfbf\">                    </span>         ..<span style=\"color: #800080; text-decoration-color: #800080\">/temp/icd10gm_index/index/sapbert/</span><span style=\"color: #ff00ff; text-decoration-color: #ff00ff\">embed_faiss_hier.pickle</span>        <span style=\"color: #7f7f7f; text-decoration-color: #7f7f7f\">                   </span>\n",
       "</pre>\n"
      ],
      "text/plain": [
       "\u001b[2;36m                   \u001b[0m\u001b[2;36m \u001b[0m\u001b[34mINFO    \u001b[0m Loading index from                                                 \u001b]8;id=822163;file:///dhc/home/ignacio.rodriguez/xmen/xmen/linkers/faiss_indexer.py\u001b\\\u001b[2mfaiss_indexer.py\u001b[0m\u001b]8;;\u001b\\\u001b[2m:\u001b[0m\u001b]8;id=413600;file:///dhc/home/ignacio.rodriguez/xmen/xmen/linkers/faiss_indexer.py#64\u001b\\\u001b[2m64\u001b[0m\u001b]8;;\u001b\\\n",
       "\u001b[2;36m                    \u001b[0m         ..\u001b[35m/temp/icd10gm_index/index/sapbert/\u001b[0m\u001b[95membed_faiss_hier.pickle\u001b[0m        \u001b[2m                   \u001b[0m\n"
      ]
     },
     "metadata": {},
     "output_type": "display_data"
    },
    {
     "data": {
      "text/html": [
       "<pre style=\"white-space:pre;overflow-x:auto;line-height:normal;font-family:Menlo,'DejaVu Sans Mono',consolas,'Courier New',monospace\"><span style=\"color: #7fbfbf; text-decoration-color: #7fbfbf\">[05/28/23 14:36:21] </span><span style=\"color: #000080; text-decoration-color: #000080\">INFO    </span> Loaded index of type <span style=\"font-weight: bold\">&lt;</span><span style=\"color: #ff00ff; text-decoration-color: #ff00ff; font-weight: bold\">class</span><span style=\"color: #000000; text-decoration-color: #000000\"> </span><span style=\"color: #008000; text-decoration-color: #008000\">'faiss.swigfaiss_avx2.IndexHNSWFlat'</span><span style=\"font-weight: bold\">&gt;</span>  <a href=\"file:///dhc/home/ignacio.rodriguez/xmen/xmen/linkers/faiss_indexer.py\" target=\"_blank\"><span style=\"color: #7f7f7f; text-decoration-color: #7f7f7f\">faiss_indexer.py</span></a><span style=\"color: #7f7f7f; text-decoration-color: #7f7f7f\">:</span><a href=\"file:///dhc/home/ignacio.rodriguez/xmen/xmen/linkers/faiss_indexer.py#66\" target=\"_blank\"><span style=\"color: #7f7f7f; text-decoration-color: #7f7f7f\">66</span></a>\n",
       "<span style=\"color: #7fbfbf; text-decoration-color: #7fbfbf\">                    </span>         and size <span style=\"color: #008080; text-decoration-color: #008080; font-weight: bold\">15930</span>                                                     <span style=\"color: #7f7f7f; text-decoration-color: #7f7f7f\">                   </span>\n",
       "</pre>\n"
      ],
      "text/plain": [
       "\u001b[2;36m[05/28/23 14:36:21]\u001b[0m\u001b[2;36m \u001b[0m\u001b[34mINFO    \u001b[0m Loaded index of type \u001b[1m<\u001b[0m\u001b[1;95mclass\u001b[0m\u001b[39m \u001b[0m\u001b[32m'faiss.swigfaiss_avx2.IndexHNSWFlat'\u001b[0m\u001b[1m>\u001b[0m  \u001b]8;id=105163;file:///dhc/home/ignacio.rodriguez/xmen/xmen/linkers/faiss_indexer.py\u001b\\\u001b[2mfaiss_indexer.py\u001b[0m\u001b]8;;\u001b\\\u001b[2m:\u001b[0m\u001b]8;id=409492;file:///dhc/home/ignacio.rodriguez/xmen/xmen/linkers/faiss_indexer.py#66\u001b\\\u001b[2m66\u001b[0m\u001b]8;;\u001b\\\n",
       "\u001b[2;36m                    \u001b[0m         and size \u001b[1;36m15930\u001b[0m                                                     \u001b[2m                   \u001b[0m\n"
      ]
     },
     "metadata": {},
     "output_type": "display_data"
    },
    {
     "data": {
      "application/vnd.jupyter.widget-view+json": {
       "model_id": "",
       "version_major": 2,
       "version_minor": 0
      },
      "text/plain": [
       "Map:   0%|          | 0/5 [00:00<?, ? examples/s]"
      ]
     },
     "metadata": {},
     "output_type": "display_data"
    }
   ],
   "source": [
    "# Clear singleton to free up memory\n",
    "SapBERTLinker.clear()\n",
    "sapbert_linker = SapBERTLinker(\n",
    "    embedding_model_name = embedding_model_name,\n",
    "    index_base_path = index_path,\n",
    "    k = 1000\n",
    ")\n",
    "\n",
    "pred_sapbert = sapbert_linker.predict_batch(ds, batch_size=128)"
   ]
  },
  {
   "cell_type": "code",
   "execution_count": 11,
   "id": "6dff5259-aa78-44a1-bbc8-e179eca95282",
   "metadata": {},
   "outputs": [
    {
     "data": {
      "text/plain": [
       "DatasetDict({\n",
       "    train: Dataset({\n",
       "        features: ['id', 'document_id', 'passages', 'entities', 'events', 'coreferences', 'relations'],\n",
       "        num_rows: 5\n",
       "    })\n",
       "})"
      ]
     },
     "execution_count": 11,
     "metadata": {},
     "output_type": "execute_result"
    }
   ],
   "source": [
    "pred_sapbert"
   ]
  },
  {
   "cell_type": "code",
   "execution_count": 14,
   "id": "ce63891e-8c6d-44f8-85c2-5d2b96ac897c",
   "metadata": {},
   "outputs": [
    {
     "name": "stdout",
     "output_type": "stream",
     "text": [
      "Perf@1 0.10778781038374718\n",
      "Perf@2 0.14221218961625282\n",
      "Perf@4 0.17099322799097066\n",
      "Perf@8 0.20033860045146726\n",
      "Perf@16 0.23306997742663657\n",
      "Perf@32 0.26297968397291194\n",
      "Perf@64 0.2979683972911964\n"
     ]
    }
   ],
   "source": [
    "# Recall for different numbers of candidates (k)\n",
    "_ = evaluate_at_k(ds['train'].select([0]), pred_sapbert['train'].select([0]))"
   ]
  },
  {
   "cell_type": "code",
   "execution_count": 3,
   "id": "6962a723-66d4-455f-830c-ba1f679cca59",
   "metadata": {},
   "outputs": [],
   "source": [
    "from xmen.evaluation import entity_linking_error_analysis, evaluate_at_k\n",
    "from xmen.linkers.util import filter_and_apply_threshold"
   ]
  }
 ],
 "metadata": {
  "kernelspec": {
   "display_name": "xmen",
   "language": "python",
   "name": "xmen"
  },
  "language_info": {
   "codemirror_mode": {
    "name": "ipython",
    "version": 3
   },
   "file_extension": ".py",
   "mimetype": "text/x-python",
   "name": "python",
   "nbconvert_exporter": "python",
   "pygments_lexer": "ipython3",
   "version": "3.8.16"
  }
 },
 "nbformat": 4,
 "nbformat_minor": 5
}
