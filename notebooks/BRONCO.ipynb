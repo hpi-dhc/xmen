{
 "cells": [
  {
   "cell_type": "markdown",
   "id": "eb84db40-b21a-4fba-8174-a327a831ef76",
   "metadata": {},
   "source": [
    "# Preparation\n",
    "\n",
    "Make sure to download the corresponding medical ontologies to build the term dictionaries. For each, look for the 2017 version.\n",
    " - Treatments: [OPS](https://www.bfarm.de/DE/Kodiersysteme/Services/Downloads/_node.html).\n",
    " - Medications: [ATC](https://www.wido.de/publikationen-produkte/arzneimittel-klassifikation/).\n",
    " - Diagnosis: [ICD10GM](https://www.bfarm.de/DE/Kodiersysteme/Services/Downloads/_node.html). \n",
    " \n",
    "In the config file for BRONCO `../conf/bronco.yaml`, modify the paths so they point the extracted folders. We assume they are located in `xmen/temp`. Otherwise, change the path here and correct accordingly the terminal commands below:"
   ]
  },
  {
   "cell_type": "code",
   "execution_count": 1,
   "id": "59201176-35cb-43ad-9c1e-2331e1137608",
   "metadata": {},
   "outputs": [],
   "source": [
    "base_path = \"../temp\""
   ]
  },
  {
   "cell_type": "markdown",
   "id": "065fa6f0-911d-4d9e-924a-faef1646e5d0",
   "metadata": {},
   "source": [
    "We can already use xMEN to prepare the term dictionaries. <u>This step only has to be performed the first time. </u> \n",
    "\n",
    "In your terminal, navigate to the xMEN root folder and run:\n",
    " - `xmen dict conf/bronco.yaml --code dicts/atc2017_de.py --output temp/ --key atc`\n",
    " - `xmen dict conf/bronco.yaml --code dicts/ops2017.py --output temp/ --key ops`\n",
    " - `xmen dict conf/bronco.yaml --code dicts/icd10gm2017.py --output temp/ --key icd10gm`\n",
    " \n",
    "Now use such dictionaries to build the indexes. For this example, we will use only SapBERT indexes and leave aside N-Gram:\n",
    " - `xmen index conf/bronco.yaml --dict temp/atc.jsonl --output temp/atc_index --sapbert`\n",
    " - `xmen index conf/bronco.yaml --dict temp/ops.jsonl --output temp/ops_index --sapbert`\n",
    " - `xmen index conf/bronco.yaml --dict temp/icd10gm.jsonl --output temp/icd10gm_index --sapbert`\n",
    " \n",
    "Now we can load the BRONCO150 dataset using BigBIO:"
   ]
  },
  {
   "cell_type": "code",
   "execution_count": 2,
   "id": "12fbc6ab-f65c-401d-bbe0-99bbcdb2cbfe",
   "metadata": {},
   "outputs": [
    {
     "name": "stderr",
     "output_type": "stream",
     "text": [
      "Found cached dataset bronco (/dhc/home/ignacio.rodriguez/.cache/huggingface/datasets/bigbio___bronco/bronco_bigbio_kb-data_dir=..%2F..%2FBRONCO150/1.0.0/cab8fc4a62807688cb5b36df7a24eb7f364314862c4196f6ff2db3813f2fe68b)\n"
     ]
    },
    {
     "data": {
      "application/vnd.jupyter.widget-view+json": {
       "model_id": "480655fec8164804838c16e368b50093",
       "version_major": 2,
       "version_minor": 0
      },
      "text/plain": [
       "  0%|          | 0/1 [00:00<?, ?it/s]"
      ]
     },
     "metadata": {},
     "output_type": "display_data"
    },
    {
     "data": {
      "text/plain": [
       "DatasetDict({\n",
       "    train: Dataset({\n",
       "        features: ['id', 'document_id', 'passages', 'entities', 'events', 'coreferences', 'relations'],\n",
       "        num_rows: 5\n",
       "    })\n",
       "})"
      ]
     },
     "execution_count": 2,
     "metadata": {},
     "output_type": "execute_result"
    }
   ],
   "source": [
    "import datasets\n",
    "\n",
    "path_to_data = r\"../../BRONCO150\" # paste here the path to the local data\n",
    "\n",
    "bronco = datasets.load_dataset(path = \"bigbio/bronco\", \n",
    "                               name = \"bronco_bigbio_kb\", \n",
    "                               data_dir=path_to_data)\n",
    "\n",
    "bronco"
   ]
  },
  {
   "cell_type": "markdown",
   "id": "79dc91db-df81-4a86-a601-19834659fdc7",
   "metadata": {},
   "source": [
    "Finally, we have to choose the semantic class we want to work on and reestructure the dataset in 5 folds for cross-validation, as originally intended."
   ]
  },
  {
   "cell_type": "code",
   "execution_count": 3,
   "id": "55afb5e6-4324-4ce7-b0ad-9980a6240b87",
   "metadata": {},
   "outputs": [],
   "source": [
    "label = \"MEDICATION\" # Choose here TREATMENT, MEDICATION or DIAGNOSIS"
   ]
  },
  {
   "cell_type": "code",
   "execution_count": 4,
   "id": "3ee0ed32-c4e0-46e5-a89f-03e29b81701a",
   "metadata": {},
   "outputs": [
    {
     "name": "stderr",
     "output_type": "stream",
     "text": [
      "Loading cached processed dataset at /dhc/home/ignacio.rodriguez/.cache/huggingface/datasets/bigbio___bronco/bronco_bigbio_kb-data_dir=..%2F..%2FBRONCO150/1.0.0/cab8fc4a62807688cb5b36df7a24eb7f364314862c4196f6ff2db3813f2fe68b/cache-55c726efdf31fa90.arrow\n"
     ]
    }
   ],
   "source": [
    "label2dict = {\n",
    "    \"TREATMENT\": \"ops\",\n",
    "    \"MEDICATION\": \"atc\",\n",
    "    \"DIAGNOSIS\": \"icd10gm\"\n",
    "}\n",
    "\n",
    "def filter_entities(bigbio_entities, valid_entities):\n",
    "    filtered_entities = []\n",
    "    for ent in bigbio_entities:\n",
    "        if ent['type'] in valid_entities:\n",
    "            filtered_entities.append(ent)\n",
    "    return filtered_entities\n",
    "\n",
    "ds = bronco.map(lambda row: {'entities': filter_entities(row['entities'], [label])})"
   ]
  },
  {
   "cell_type": "code",
   "execution_count": 5,
   "id": "3e8d4826-30d4-4752-83fa-fed2ae359fa0",
   "metadata": {},
   "outputs": [
    {
     "data": {
      "text/plain": [
       "DatasetDict({\n",
       "    k1: Dataset({\n",
       "        features: ['id', 'document_id', 'passages', 'entities', 'events', 'coreferences', 'relations'],\n",
       "        num_rows: 1\n",
       "    })\n",
       "    k2: Dataset({\n",
       "        features: ['id', 'document_id', 'passages', 'entities', 'events', 'coreferences', 'relations'],\n",
       "        num_rows: 1\n",
       "    })\n",
       "    k3: Dataset({\n",
       "        features: ['id', 'document_id', 'passages', 'entities', 'events', 'coreferences', 'relations'],\n",
       "        num_rows: 1\n",
       "    })\n",
       "    k4: Dataset({\n",
       "        features: ['id', 'document_id', 'passages', 'entities', 'events', 'coreferences', 'relations'],\n",
       "        num_rows: 1\n",
       "    })\n",
       "    k5: Dataset({\n",
       "        features: ['id', 'document_id', 'passages', 'entities', 'events', 'coreferences', 'relations'],\n",
       "        num_rows: 1\n",
       "    })\n",
       "})"
      ]
     },
     "execution_count": 5,
     "metadata": {},
     "output_type": "execute_result"
    }
   ],
   "source": [
    "from datasets import DatasetDict\n",
    "\n",
    "ground_truth = DatasetDict()\n",
    "for k in range(5):\n",
    "    ground_truth[f\"k{k+1}\"] = ds[\"train\"].select([k])\n",
    "    \n",
    "ds = ground_truth\n",
    "ds"
   ]
  },
  {
   "cell_type": "markdown",
   "id": "85ec4049-85cb-4a4b-996c-12142d13062a",
   "metadata": {},
   "source": [
    "# Run Candidate Generator\n",
    "We will use `SapBERTLinker`, which uses a Transformer model to retrieve candidates with dense embeddings."
   ]
  },
  {
   "cell_type": "code",
   "execution_count": 6,
   "id": "11662199-832c-49cf-9591-43eb82e5bc75",
   "metadata": {},
   "outputs": [
    {
     "name": "stderr",
     "output_type": "stream",
     "text": [
      "Your CPU supports instructions that this binary was not compiled to use: SSE3 SSE4.1 SSE4.2 AVX AVX2\n",
      "For maximum performance, you can install NMSLIB from sources \n",
      "pip install --no-binary :all: nmslib\n"
     ]
    }
   ],
   "source": [
    "from xmen.linkers import SapBERTLinker\n",
    "from xmen.evaluation import evaluate_at_k"
   ]
  },
  {
   "cell_type": "markdown",
   "id": "02fae00e-8bf7-46f1-ba22-875da377db85",
   "metadata": {},
   "source": [
    "<u>This cell can be run just once. For subsequent runs you can load the result with the cell below this one.</u>"
   ]
  },
  {
   "cell_type": "code",
   "execution_count": 7,
   "id": "12537346-9e8c-4986-8a3b-5f4d068f6294",
   "metadata": {},
   "outputs": [
    {
     "data": {
      "text/html": [
       "<pre style=\"white-space:pre;overflow-x:auto;line-height:normal;font-family:Menlo,'DejaVu Sans Mono',consolas,'Courier New',monospace\"><span style=\"color: #7fbfbf; text-decoration-color: #7fbfbf\">[06/14/23 11:33:26] </span><span style=\"color: #000080; text-decoration-color: #000080\">INFO    </span> Loading hierarchical faiss index                                <a href=\"file:///dhc/home/ignacio.rodriguez/xmen/xmen/linkers/sap_bert_linker.py\" target=\"_blank\"><span style=\"color: #7f7f7f; text-decoration-color: #7f7f7f\">sap_bert_linker.py</span></a><span style=\"color: #7f7f7f; text-decoration-color: #7f7f7f\">:</span><a href=\"file:///dhc/home/ignacio.rodriguez/xmen/xmen/linkers/sap_bert_linker.py#143\" target=\"_blank\"><span style=\"color: #7f7f7f; text-decoration-color: #7f7f7f\">143</span></a>\n",
       "</pre>\n"
      ],
      "text/plain": [
       "\u001b[2;36m[06/14/23 11:33:26]\u001b[0m\u001b[2;36m \u001b[0m\u001b[34mINFO    \u001b[0m Loading hierarchical faiss index                                \u001b]8;id=335948;file:///dhc/home/ignacio.rodriguez/xmen/xmen/linkers/sap_bert_linker.py\u001b\\\u001b[2msap_bert_linker.py\u001b[0m\u001b]8;;\u001b\\\u001b[2m:\u001b[0m\u001b]8;id=290625;file:///dhc/home/ignacio.rodriguez/xmen/xmen/linkers/sap_bert_linker.py#143\u001b\\\u001b[2m143\u001b[0m\u001b]8;;\u001b\\\n"
      ]
     },
     "metadata": {},
     "output_type": "display_data"
    },
    {
     "data": {
      "text/html": [
       "<pre style=\"white-space:pre;overflow-x:auto;line-height:normal;font-family:Menlo,'DejaVu Sans Mono',consolas,'Courier New',monospace\"><span style=\"color: #7fbfbf; text-decoration-color: #7fbfbf\">                    </span><span style=\"color: #000080; text-decoration-color: #000080\">INFO    </span> Loading index from                                                 <a href=\"file:///dhc/home/ignacio.rodriguez/xmen/xmen/linkers/faiss_indexer.py\" target=\"_blank\"><span style=\"color: #7f7f7f; text-decoration-color: #7f7f7f\">faiss_indexer.py</span></a><span style=\"color: #7f7f7f; text-decoration-color: #7f7f7f\">:</span><a href=\"file:///dhc/home/ignacio.rodriguez/xmen/xmen/linkers/faiss_indexer.py#64\" target=\"_blank\"><span style=\"color: #7f7f7f; text-decoration-color: #7f7f7f\">64</span></a>\n",
       "<span style=\"color: #7fbfbf; text-decoration-color: #7fbfbf\">                    </span>         ..<span style=\"color: #800080; text-decoration-color: #800080\">/temp/atc_index/index/sapbert/</span><span style=\"color: #ff00ff; text-decoration-color: #ff00ff\">embed_faiss_hier.pickle</span>            <span style=\"color: #7f7f7f; text-decoration-color: #7f7f7f\">                   </span>\n",
       "</pre>\n"
      ],
      "text/plain": [
       "\u001b[2;36m                   \u001b[0m\u001b[2;36m \u001b[0m\u001b[34mINFO    \u001b[0m Loading index from                                                 \u001b]8;id=203957;file:///dhc/home/ignacio.rodriguez/xmen/xmen/linkers/faiss_indexer.py\u001b\\\u001b[2mfaiss_indexer.py\u001b[0m\u001b]8;;\u001b\\\u001b[2m:\u001b[0m\u001b]8;id=801370;file:///dhc/home/ignacio.rodriguez/xmen/xmen/linkers/faiss_indexer.py#64\u001b\\\u001b[2m64\u001b[0m\u001b]8;;\u001b\\\n",
       "\u001b[2;36m                    \u001b[0m         ..\u001b[35m/temp/atc_index/index/sapbert/\u001b[0m\u001b[95membed_faiss_hier.pickle\u001b[0m            \u001b[2m                   \u001b[0m\n"
      ]
     },
     "metadata": {},
     "output_type": "display_data"
    },
    {
     "data": {
      "text/html": [
       "<pre style=\"white-space:pre;overflow-x:auto;line-height:normal;font-family:Menlo,'DejaVu Sans Mono',consolas,'Courier New',monospace\"><span style=\"color: #7fbfbf; text-decoration-color: #7fbfbf\">                    </span><span style=\"color: #000080; text-decoration-color: #000080\">INFO    </span> Loaded index of type <span style=\"font-weight: bold\">&lt;</span><span style=\"color: #ff00ff; text-decoration-color: #ff00ff; font-weight: bold\">class</span><span style=\"color: #000000; text-decoration-color: #000000\"> </span><span style=\"color: #008000; text-decoration-color: #008000\">'faiss.swigfaiss_avx2.IndexHNSWFlat'</span><span style=\"font-weight: bold\">&gt;</span>  <a href=\"file:///dhc/home/ignacio.rodriguez/xmen/xmen/linkers/faiss_indexer.py\" target=\"_blank\"><span style=\"color: #7f7f7f; text-decoration-color: #7f7f7f\">faiss_indexer.py</span></a><span style=\"color: #7f7f7f; text-decoration-color: #7f7f7f\">:</span><a href=\"file:///dhc/home/ignacio.rodriguez/xmen/xmen/linkers/faiss_indexer.py#66\" target=\"_blank\"><span style=\"color: #7f7f7f; text-decoration-color: #7f7f7f\">66</span></a>\n",
       "<span style=\"color: #7fbfbf; text-decoration-color: #7fbfbf\">                    </span>         and size <span style=\"color: #008080; text-decoration-color: #008080; font-weight: bold\">8044</span>                                                      <span style=\"color: #7f7f7f; text-decoration-color: #7f7f7f\">                   </span>\n",
       "</pre>\n"
      ],
      "text/plain": [
       "\u001b[2;36m                   \u001b[0m\u001b[2;36m \u001b[0m\u001b[34mINFO    \u001b[0m Loaded index of type \u001b[1m<\u001b[0m\u001b[1;95mclass\u001b[0m\u001b[39m \u001b[0m\u001b[32m'faiss.swigfaiss_avx2.IndexHNSWFlat'\u001b[0m\u001b[1m>\u001b[0m  \u001b]8;id=142352;file:///dhc/home/ignacio.rodriguez/xmen/xmen/linkers/faiss_indexer.py\u001b\\\u001b[2mfaiss_indexer.py\u001b[0m\u001b]8;;\u001b\\\u001b[2m:\u001b[0m\u001b]8;id=588702;file:///dhc/home/ignacio.rodriguez/xmen/xmen/linkers/faiss_indexer.py#66\u001b\\\u001b[2m66\u001b[0m\u001b]8;;\u001b\\\n",
       "\u001b[2;36m                    \u001b[0m         and size \u001b[1;36m8044\u001b[0m                                                      \u001b[2m                   \u001b[0m\n"
      ]
     },
     "metadata": {},
     "output_type": "display_data"
    },
    {
     "data": {
      "application/vnd.jupyter.widget-view+json": {
       "model_id": "",
       "version_major": 2,
       "version_minor": 0
      },
      "text/plain": [
       "Map:   0%|          | 0/1 [00:00<?, ? examples/s]"
      ]
     },
     "metadata": {},
     "output_type": "display_data"
    },
    {
     "data": {
      "application/vnd.jupyter.widget-view+json": {
       "model_id": "",
       "version_major": 2,
       "version_minor": 0
      },
      "text/plain": [
       "Map:   0%|          | 0/1 [00:00<?, ? examples/s]"
      ]
     },
     "metadata": {},
     "output_type": "display_data"
    },
    {
     "data": {
      "application/vnd.jupyter.widget-view+json": {
       "model_id": "",
       "version_major": 2,
       "version_minor": 0
      },
      "text/plain": [
       "Map:   0%|          | 0/1 [00:00<?, ? examples/s]"
      ]
     },
     "metadata": {},
     "output_type": "display_data"
    },
    {
     "data": {
      "application/vnd.jupyter.widget-view+json": {
       "model_id": "",
       "version_major": 2,
       "version_minor": 0
      },
      "text/plain": [
       "Map:   0%|          | 0/1 [00:00<?, ? examples/s]"
      ]
     },
     "metadata": {},
     "output_type": "display_data"
    },
    {
     "data": {
      "application/vnd.jupyter.widget-view+json": {
       "model_id": "",
       "version_major": 2,
       "version_minor": 0
      },
      "text/plain": [
       "Map:   0%|          | 0/1 [00:00<?, ? examples/s]"
      ]
     },
     "metadata": {},
     "output_type": "display_data"
    },
    {
     "data": {
      "application/vnd.jupyter.widget-view+json": {
       "model_id": "",
       "version_major": 2,
       "version_minor": 0
      },
      "text/plain": [
       "Saving the dataset (0/1 shards):   0%|          | 0/1 [00:00<?, ? examples/s]"
      ]
     },
     "metadata": {},
     "output_type": "display_data"
    },
    {
     "data": {
      "application/vnd.jupyter.widget-view+json": {
       "model_id": "",
       "version_major": 2,
       "version_minor": 0
      },
      "text/plain": [
       "Saving the dataset (0/1 shards):   0%|          | 0/1 [00:00<?, ? examples/s]"
      ]
     },
     "metadata": {},
     "output_type": "display_data"
    },
    {
     "data": {
      "application/vnd.jupyter.widget-view+json": {
       "model_id": "",
       "version_major": 2,
       "version_minor": 0
      },
      "text/plain": [
       "Saving the dataset (0/1 shards):   0%|          | 0/1 [00:00<?, ? examples/s]"
      ]
     },
     "metadata": {},
     "output_type": "display_data"
    },
    {
     "data": {
      "application/vnd.jupyter.widget-view+json": {
       "model_id": "",
       "version_major": 2,
       "version_minor": 0
      },
      "text/plain": [
       "Saving the dataset (0/1 shards):   0%|          | 0/1 [00:00<?, ? examples/s]"
      ]
     },
     "metadata": {},
     "output_type": "display_data"
    },
    {
     "data": {
      "application/vnd.jupyter.widget-view+json": {
       "model_id": "",
       "version_major": 2,
       "version_minor": 0
      },
      "text/plain": [
       "Saving the dataset (0/1 shards):   0%|          | 0/1 [00:00<?, ? examples/s]"
      ]
     },
     "metadata": {},
     "output_type": "display_data"
    }
   ],
   "source": [
    "embedding_model_name = 'cambridgeltl/SapBERT-UMLS-2020AB-all-lang-from-XLMR'\n",
    "\n",
    "SapBERTLinker.clear()\n",
    "sapbert_linker = SapBERTLinker(\n",
    "    model_name = embedding_model_name,\n",
    "    index_base_path = f\"{base_path}/{label2dict[label]}_index/index/sapbert\",\n",
    "    k = 1000\n",
    ")\n",
    "\n",
    "candidates = sapbert_linker.predict_batch(ds, batch_size=128)\n",
    "\n",
    "# Save locally to avoid running it every time\n",
    "candidates.save_to_disk(f\"{base_path}/{label2dict[label]}_index/pred_sapbert\")"
   ]
  },
  {
   "cell_type": "code",
   "execution_count": 8,
   "id": "fbf542b1-60e7-4cb6-810f-956935037be0",
   "metadata": {},
   "outputs": [
    {
     "name": "stdout",
     "output_type": "stream",
     "text": [
      "Perf@1 0.45\n",
      "Perf@2 0.490625\n",
      "Perf@4 0.50625\n",
      "Perf@8 0.53125\n",
      "Perf@16 0.571875\n",
      "Perf@32 0.58125\n",
      "Perf@64 0.59375\n"
     ]
    }
   ],
   "source": [
    "candidates = datasets.load_from_disk(f\"{base_path}/{label2dict[label]}_index/pred_sapbert\")\n",
    "\n",
    "# Recall for different numbers of candidates (k)\n",
    "_ = evaluate_at_k(ds['k5'], candidates['k5'])"
   ]
  },
  {
   "cell_type": "markdown",
   "id": "7840718b-0581-4267-a809-fe4af2d71bc6",
   "metadata": {},
   "source": [
    "# Train Cross-encoder\n",
    "We use a cross-encoder to embed the mention with their context together with all potential candidates. This way, we can learn the best ranking of candidates from the training data."
   ]
  },
  {
   "cell_type": "code",
   "execution_count": 9,
   "id": "575c872c-9bf7-42a2-aaff-3fa67551a8a1",
   "metadata": {},
   "outputs": [],
   "source": [
    "from xmen.reranking.cross_encoder import CrossEncoderReranker, CrossEncoderTrainingArgs\n",
    "from xmen.linkers.util import filter_and_apply_threshold\n",
    "from xmen.kb import load_kb\n",
    "from xmen.data.indexed_dataset import IndexedDatasetDict, IndexedDataset"
   ]
  },
  {
   "cell_type": "markdown",
   "id": "b1aa5022-c5fd-4fc0-9fd2-5d00acbb987e",
   "metadata": {},
   "source": [
    "<u>This cell can be run just once. For subsequent runs you can load the result with the cell below this one.</u>"
   ]
  },
  {
   "cell_type": "code",
   "execution_count": 10,
   "id": "32719dc5-35a4-48f9-82f7-d80cab1a4c46",
   "metadata": {},
   "outputs": [
    {
     "data": {
      "application/vnd.jupyter.widget-view+json": {
       "model_id": "",
       "version_major": 2,
       "version_minor": 0
      },
      "text/plain": [
       "Map:   0%|          | 0/1 [00:00<?, ? examples/s]"
      ]
     },
     "metadata": {},
     "output_type": "display_data"
    },
    {
     "data": {
      "application/vnd.jupyter.widget-view+json": {
       "model_id": "",
       "version_major": 2,
       "version_minor": 0
      },
      "text/plain": [
       "Map:   0%|          | 0/1 [00:00<?, ? examples/s]"
      ]
     },
     "metadata": {},
     "output_type": "display_data"
    },
    {
     "data": {
      "application/vnd.jupyter.widget-view+json": {
       "model_id": "",
       "version_major": 2,
       "version_minor": 0
      },
      "text/plain": [
       "Map:   0%|          | 0/1 [00:00<?, ? examples/s]"
      ]
     },
     "metadata": {},
     "output_type": "display_data"
    },
    {
     "data": {
      "application/vnd.jupyter.widget-view+json": {
       "model_id": "",
       "version_major": 2,
       "version_minor": 0
      },
      "text/plain": [
       "Map:   0%|          | 0/1 [00:00<?, ? examples/s]"
      ]
     },
     "metadata": {},
     "output_type": "display_data"
    },
    {
     "data": {
      "application/vnd.jupyter.widget-view+json": {
       "model_id": "",
       "version_major": 2,
       "version_minor": 0
      },
      "text/plain": [
       "Map:   0%|          | 0/1 [00:00<?, ? examples/s]"
      ]
     },
     "metadata": {},
     "output_type": "display_data"
    },
    {
     "name": "stdout",
     "output_type": "stream",
     "text": [
      "Context length: 128\n"
     ]
    },
    {
     "data": {
      "application/vnd.jupyter.widget-view+json": {
       "model_id": "0dd32b9f04d04dfcbb35a8389624741d",
       "version_major": 2,
       "version_minor": 0
      },
      "text/plain": [
       "  0%|          | 0/325 [00:00<?, ?it/s]"
      ]
     },
     "metadata": {},
     "output_type": "display_data"
    },
    {
     "data": {
      "application/vnd.jupyter.widget-view+json": {
       "model_id": "cbe1af93f52f4827af46578852dadaaa",
       "version_major": 2,
       "version_minor": 0
      },
      "text/plain": [
       "  0%|          | 0/325 [00:00<?, ?it/s]"
      ]
     },
     "metadata": {},
     "output_type": "display_data"
    },
    {
     "data": {
      "application/vnd.jupyter.widget-view+json": {
       "model_id": "db4f7e8714e84755a28d6fb6f619d703",
       "version_major": 2,
       "version_minor": 0
      },
      "text/plain": [
       "  0%|          | 0/325 [00:00<?, ?it/s]"
      ]
     },
     "metadata": {},
     "output_type": "display_data"
    },
    {
     "data": {
      "application/vnd.jupyter.widget-view+json": {
       "model_id": "5f3bd2902059425c8f44fcced1c20e11",
       "version_major": 2,
       "version_minor": 0
      },
      "text/plain": [
       "  0%|          | 0/333 [00:00<?, ?it/s]"
      ]
     },
     "metadata": {},
     "output_type": "display_data"
    },
    {
     "data": {
      "application/vnd.jupyter.widget-view+json": {
       "model_id": "d6aa283221234352a9a34b8df4422bb4",
       "version_major": 2,
       "version_minor": 0
      },
      "text/plain": [
       "  0%|          | 0/333 [00:00<?, ?it/s]"
      ]
     },
     "metadata": {},
     "output_type": "display_data"
    },
    {
     "data": {
      "application/vnd.jupyter.widget-view+json": {
       "model_id": "1cdc307373464a24a25e69711c3bf5cc",
       "version_major": 2,
       "version_minor": 0
      },
      "text/plain": [
       "  0%|          | 0/333 [00:00<?, ?it/s]"
      ]
     },
     "metadata": {},
     "output_type": "display_data"
    },
    {
     "data": {
      "application/vnd.jupyter.widget-view+json": {
       "model_id": "dc2e725720de41638cdd417b2154d4b7",
       "version_major": 2,
       "version_minor": 0
      },
      "text/plain": [
       "  0%|          | 0/338 [00:00<?, ?it/s]"
      ]
     },
     "metadata": {},
     "output_type": "display_data"
    },
    {
     "data": {
      "application/vnd.jupyter.widget-view+json": {
       "model_id": "608c084a66b14a1590fcffb1f9b0a4a8",
       "version_major": 2,
       "version_minor": 0
      },
      "text/plain": [
       "  0%|          | 0/338 [00:00<?, ?it/s]"
      ]
     },
     "metadata": {},
     "output_type": "display_data"
    },
    {
     "data": {
      "application/vnd.jupyter.widget-view+json": {
       "model_id": "ccd54d1afe90471093854613b74bb4cf",
       "version_major": 2,
       "version_minor": 0
      },
      "text/plain": [
       "  0%|          | 0/338 [00:00<?, ?it/s]"
      ]
     },
     "metadata": {},
     "output_type": "display_data"
    },
    {
     "data": {
      "application/vnd.jupyter.widget-view+json": {
       "model_id": "7a311cebebde49fdb98ae5768cc3e038",
       "version_major": 2,
       "version_minor": 0
      },
      "text/plain": [
       "  0%|          | 0/314 [00:00<?, ?it/s]"
      ]
     },
     "metadata": {},
     "output_type": "display_data"
    },
    {
     "data": {
      "application/vnd.jupyter.widget-view+json": {
       "model_id": "732385d5c7f34a18a5115784989ee61c",
       "version_major": 2,
       "version_minor": 0
      },
      "text/plain": [
       "  0%|          | 0/314 [00:00<?, ?it/s]"
      ]
     },
     "metadata": {},
     "output_type": "display_data"
    },
    {
     "data": {
      "application/vnd.jupyter.widget-view+json": {
       "model_id": "1a0de5aafc89403cba08702d41e340e0",
       "version_major": 2,
       "version_minor": 0
      },
      "text/plain": [
       "  0%|          | 0/314 [00:00<?, ?it/s]"
      ]
     },
     "metadata": {},
     "output_type": "display_data"
    },
    {
     "data": {
      "application/vnd.jupyter.widget-view+json": {
       "model_id": "b466ae0947a34f7fa5299a2ea38030d4",
       "version_major": 2,
       "version_minor": 0
      },
      "text/plain": [
       "  0%|          | 0/320 [00:00<?, ?it/s]"
      ]
     },
     "metadata": {},
     "output_type": "display_data"
    },
    {
     "data": {
      "application/vnd.jupyter.widget-view+json": {
       "model_id": "40940266bb544192bdaf443e84ceb886",
       "version_major": 2,
       "version_minor": 0
      },
      "text/plain": [
       "  0%|          | 0/320 [00:00<?, ?it/s]"
      ]
     },
     "metadata": {},
     "output_type": "display_data"
    },
    {
     "data": {
      "application/vnd.jupyter.widget-view+json": {
       "model_id": "c21e86ccd5b94e6ba625fd57bc5a202c",
       "version_major": 2,
       "version_minor": 0
      },
      "text/plain": [
       "  0%|          | 0/320 [00:00<?, ?it/s]"
      ]
     },
     "metadata": {},
     "output_type": "display_data"
    },
    {
     "data": {
      "text/plain": [
       "{'k1': [325 items],\n",
       " 'k2': [333 items],\n",
       " 'k3': [338 items],\n",
       " 'k4': [314 items],\n",
       " 'k5': [320 items]}"
      ]
     },
     "execution_count": 10,
     "metadata": {},
     "output_type": "execute_result"
    }
   ],
   "source": [
    "K_RERANKING = 64\n",
    "candidates = filter_and_apply_threshold(candidates, K_RERANKING, 0.0)\n",
    "kb = load_kb(f\"{base_path}/{label2dict[label]}.jsonl\")\n",
    "\n",
    "cross_enc_ds = CrossEncoderReranker.prepare_data(candidates, ds, kb)\n",
    "\n",
    "# Save locally to avoid running it every time\n",
    "cross_enc_ds.save_to_disk(f\"{base_path}/{label2dict[label]}_index/cross_encoded_dataset\")\n",
    "cross_enc_ds"
   ]
  },
  {
   "cell_type": "code",
   "execution_count": 13,
   "id": "068368bd-6e02-4949-af9d-0a56b19ad818",
   "metadata": {},
   "outputs": [
    {
     "data": {
      "text/plain": [
       "{'k1': [325 items],\n",
       " 'k2': [333 items],\n",
       " 'k5': [320 items],\n",
       " 'k4': [314 items],\n",
       " 'k3': [338 items]}"
      ]
     },
     "execution_count": 13,
     "metadata": {},
     "output_type": "execute_result"
    }
   ],
   "source": [
    "cross_enc_ds = IndexedDatasetDict.load_from_disk(f\"{base_path}/{label2dict[label]}_index/cross_encoded_dataset\")\n",
    "cross_enc_ds"
   ]
  },
  {
   "cell_type": "markdown",
   "id": "daae0c0c-da20-44fd-bed3-10afb8822049",
   "metadata": {},
   "source": [
    "Now we set the training arguments, train-eval splits and fit the model. Depending on the number of epochs, the training can take several hours."
   ]
  },
  {
   "cell_type": "code",
   "execution_count": 11,
   "id": "2e48b807-1758-4b02-9b97-f16cba80be7a",
   "metadata": {},
   "outputs": [],
   "source": [
    "train_args = CrossEncoderTrainingArgs(\n",
    "    num_train_epochs = 10,\n",
    "    model_name = \"SCAI-BIO/bio-gottbert-base\",\n",
    "    score_regularization=True,\n",
    ")\n",
    "\n",
    "rr = CrossEncoderReranker()\n",
    "output_dir = f'{base_path}/{label2dict[label]}_index/cross_encoder_training/'"
   ]
  },
  {
   "cell_type": "code",
   "execution_count": 12,
   "id": "6f959029-0cf1-4e8a-a11d-1f245c5b1347",
   "metadata": {
    "tags": []
   },
   "outputs": [],
   "source": [
    "# Choose train and evaluation folds\n",
    "train_folds = [\n",
    "    \"k1\",\n",
    "    \"k2\",\n",
    "    \"k3\",\n",
    "    \"k4\",\n",
    "    #\"k5\",\n",
    "]\n",
    "train = []\n",
    "train = sum([train + cross_enc_ds[k].dataset for k in train_folds],[])\n",
    "\n",
    "\n",
    "val_fold = \"k4\"\n",
    "val = cross_enc_ds[val_fold].dataset\n",
    "\n",
    "test_fold = \"k5\""
   ]
  },
  {
   "cell_type": "markdown",
   "id": "9df7e93a-0c75-47f4-8571-4be7aa281dcc",
   "metadata": {},
   "source": [
    "<u>This cell can be run just once. For subsequent runs you can load the result with the cell below this one.</u> (Unless you changed something in the model/input data and you want to train a new one)"
   ]
  },
  {
   "cell_type": "code",
   "execution_count": 13,
   "id": "c319a6fb-d34e-4df7-a322-c8f179424e3c",
   "metadata": {
    "tags": []
   },
   "outputs": [
    {
     "name": "stdout",
     "output_type": "stream",
     "text": [
      "model_name := SCAI-BIO/bio-gottbert-base\n",
      "num_train_epochs := 10\n",
      "fp16 := True\n",
      "label_smoothing := False\n",
      "score_regularization := True\n",
      "train_layers := None\n",
      "softmax_loss := True\n",
      "random_seed := 42\n"
     ]
    },
    {
     "name": "stderr",
     "output_type": "stream",
     "text": [
      "Some weights of the model checkpoint at SCAI-BIO/bio-gottbert-base were not used when initializing RobertaForSequenceClassification: ['lm_head.bias', 'lm_head.decoder.weight', 'lm_head.decoder.bias', 'lm_head.dense.bias', 'lm_head.layer_norm.weight', 'lm_head.layer_norm.bias', 'lm_head.dense.weight']\n",
      "- This IS expected if you are initializing RobertaForSequenceClassification from the checkpoint of a model trained on another task or with another architecture (e.g. initializing a BertForSequenceClassification model from a BertForPreTraining model).\n",
      "- This IS NOT expected if you are initializing RobertaForSequenceClassification from the checkpoint of a model that you expect to be exactly identical (initializing a BertForSequenceClassification model from a BertForSequenceClassification model).\n",
      "Some weights of RobertaForSequenceClassification were not initialized from the model checkpoint at SCAI-BIO/bio-gottbert-base and are newly initialized: ['classifier.out_proj.weight', 'classifier.dense.weight', 'classifier.out_proj.bias', 'classifier.dense.bias']\n",
      "You should probably TRAIN this model on a down-stream task to be able to use it for predictions and inference.\n"
     ]
    },
    {
     "data": {
      "application/vnd.jupyter.widget-view+json": {
       "model_id": "2ed641a5ee6d4c93a42d877c867560d6",
       "version_major": 2,
       "version_minor": 0
      },
      "text/plain": [
       "Epoch:   0%|          | 0/10 [00:00<?, ?it/s]"
      ]
     },
     "metadata": {},
     "output_type": "display_data"
    },
    {
     "data": {
      "application/vnd.jupyter.widget-view+json": {
       "model_id": "85707cb5b1f04c099d008882b3377e1c",
       "version_major": 2,
       "version_minor": 0
      },
      "text/plain": [
       "Iteration:   0%|          | 0/1310 [00:00<?, ?it/s]"
      ]
     },
     "metadata": {},
     "output_type": "display_data"
    },
    {
     "name": "stdout",
     "output_type": "stream",
     "text": [
      "2023-06-14 11:39:33 - EntityLinkingEvaluator: Evaluating the model on eval dataset after epoch 0:\n",
      "2023-06-14 11:39:44 - Accuracy: 0.5127388535031847\n",
      "2023-06-14 11:39:44 - Accuracy @ 5: 0.5636942675159236\n",
      "2023-06-14 11:39:44 - Accuracy @ 64: 0.5923566878980892\n",
      "2023-06-14 11:39:44 - Baseline Accuracy: 0.4745222929936306\n",
      "2023-06-14 11:39:44 - Save model to ../temp/atc_index/cross_encoder_training/\n"
     ]
    },
    {
     "data": {
      "application/vnd.jupyter.widget-view+json": {
       "model_id": "9aaceba61437452c82da2cec31bd3149",
       "version_major": 2,
       "version_minor": 0
      },
      "text/plain": [
       "Iteration:   0%|          | 0/1310 [00:00<?, ?it/s]"
      ]
     },
     "metadata": {},
     "output_type": "display_data"
    },
    {
     "name": "stdout",
     "output_type": "stream",
     "text": [
      "2023-06-14 11:41:15 - EntityLinkingEvaluator: Evaluating the model on eval dataset after epoch 1:\n",
      "2023-06-14 11:41:26 - Accuracy: 0.5254777070063694\n",
      "2023-06-14 11:41:26 - Accuracy @ 5: 0.5700636942675159\n",
      "2023-06-14 11:41:26 - Accuracy @ 64: 0.5923566878980892\n",
      "2023-06-14 11:41:26 - Baseline Accuracy: 0.4745222929936306\n",
      "2023-06-14 11:41:26 - Save model to ../temp/atc_index/cross_encoder_training/\n"
     ]
    },
    {
     "data": {
      "application/vnd.jupyter.widget-view+json": {
       "model_id": "e226861e87794c61bbaad9b62ad65c9a",
       "version_major": 2,
       "version_minor": 0
      },
      "text/plain": [
       "Iteration:   0%|          | 0/1310 [00:00<?, ?it/s]"
      ]
     },
     "metadata": {},
     "output_type": "display_data"
    },
    {
     "name": "stdout",
     "output_type": "stream",
     "text": [
      "2023-06-14 11:42:57 - EntityLinkingEvaluator: Evaluating the model on eval dataset after epoch 2:\n",
      "2023-06-14 11:43:09 - Accuracy: 0.5318471337579618\n",
      "2023-06-14 11:43:09 - Accuracy @ 5: 0.5764331210191083\n",
      "2023-06-14 11:43:09 - Accuracy @ 64: 0.5923566878980892\n",
      "2023-06-14 11:43:09 - Baseline Accuracy: 0.4745222929936306\n",
      "2023-06-14 11:43:09 - Save model to ../temp/atc_index/cross_encoder_training/\n"
     ]
    },
    {
     "data": {
      "application/vnd.jupyter.widget-view+json": {
       "model_id": "e7815edb194e44c9a1d48667d32e43c9",
       "version_major": 2,
       "version_minor": 0
      },
      "text/plain": [
       "Iteration:   0%|          | 0/1310 [00:00<?, ?it/s]"
      ]
     },
     "metadata": {},
     "output_type": "display_data"
    },
    {
     "name": "stdout",
     "output_type": "stream",
     "text": [
      "2023-06-14 11:44:39 - EntityLinkingEvaluator: Evaluating the model on eval dataset after epoch 3:\n",
      "2023-06-14 11:44:50 - Accuracy: 0.5382165605095541\n",
      "2023-06-14 11:44:50 - Accuracy @ 5: 0.5764331210191083\n",
      "2023-06-14 11:44:50 - Accuracy @ 64: 0.5923566878980892\n",
      "2023-06-14 11:44:50 - Baseline Accuracy: 0.4745222929936306\n",
      "2023-06-14 11:44:50 - Save model to ../temp/atc_index/cross_encoder_training/\n"
     ]
    },
    {
     "data": {
      "application/vnd.jupyter.widget-view+json": {
       "model_id": "ab94ea2d10d645a78fdf3966a1329370",
       "version_major": 2,
       "version_minor": 0
      },
      "text/plain": [
       "Iteration:   0%|          | 0/1310 [00:00<?, ?it/s]"
      ]
     },
     "metadata": {},
     "output_type": "display_data"
    },
    {
     "name": "stdout",
     "output_type": "stream",
     "text": [
      "2023-06-14 11:46:21 - EntityLinkingEvaluator: Evaluating the model on eval dataset after epoch 4:\n",
      "2023-06-14 11:46:32 - Accuracy: 0.5414012738853503\n",
      "2023-06-14 11:46:32 - Accuracy @ 5: 0.5796178343949044\n",
      "2023-06-14 11:46:32 - Accuracy @ 64: 0.5923566878980892\n",
      "2023-06-14 11:46:32 - Baseline Accuracy: 0.4745222929936306\n",
      "2023-06-14 11:46:32 - Save model to ../temp/atc_index/cross_encoder_training/\n"
     ]
    },
    {
     "data": {
      "application/vnd.jupyter.widget-view+json": {
       "model_id": "42642a7ef59f43ac81ab6bc1e33a37ca",
       "version_major": 2,
       "version_minor": 0
      },
      "text/plain": [
       "Iteration:   0%|          | 0/1310 [00:00<?, ?it/s]"
      ]
     },
     "metadata": {},
     "output_type": "display_data"
    },
    {
     "name": "stdout",
     "output_type": "stream",
     "text": [
      "2023-06-14 11:48:02 - EntityLinkingEvaluator: Evaluating the model on eval dataset after epoch 5:\n",
      "2023-06-14 11:48:14 - Accuracy: 0.5382165605095541\n",
      "2023-06-14 11:48:14 - Accuracy @ 5: 0.5796178343949044\n",
      "2023-06-14 11:48:14 - Accuracy @ 64: 0.5923566878980892\n",
      "2023-06-14 11:48:14 - Baseline Accuracy: 0.4745222929936306\n"
     ]
    },
    {
     "data": {
      "application/vnd.jupyter.widget-view+json": {
       "model_id": "9dc1b703ac624623b20f2ce246dad55a",
       "version_major": 2,
       "version_minor": 0
      },
      "text/plain": [
       "Iteration:   0%|          | 0/1310 [00:00<?, ?it/s]"
      ]
     },
     "metadata": {},
     "output_type": "display_data"
    },
    {
     "name": "stdout",
     "output_type": "stream",
     "text": [
      "2023-06-14 11:49:44 - EntityLinkingEvaluator: Evaluating the model on eval dataset after epoch 6:\n",
      "2023-06-14 11:49:55 - Accuracy: 0.5414012738853503\n",
      "2023-06-14 11:49:55 - Accuracy @ 5: 0.5732484076433121\n",
      "2023-06-14 11:49:55 - Accuracy @ 64: 0.5923566878980892\n",
      "2023-06-14 11:49:55 - Baseline Accuracy: 0.4745222929936306\n"
     ]
    },
    {
     "data": {
      "application/vnd.jupyter.widget-view+json": {
       "model_id": "36c6f0807a0146f493f605a57f3c3649",
       "version_major": 2,
       "version_minor": 0
      },
      "text/plain": [
       "Iteration:   0%|          | 0/1310 [00:00<?, ?it/s]"
      ]
     },
     "metadata": {},
     "output_type": "display_data"
    },
    {
     "name": "stdout",
     "output_type": "stream",
     "text": [
      "2023-06-14 11:51:24 - EntityLinkingEvaluator: Evaluating the model on eval dataset after epoch 7:\n",
      "2023-06-14 11:51:36 - Accuracy: 0.5414012738853503\n",
      "2023-06-14 11:51:36 - Accuracy @ 5: 0.5732484076433121\n",
      "2023-06-14 11:51:36 - Accuracy @ 64: 0.5923566878980892\n",
      "2023-06-14 11:51:36 - Baseline Accuracy: 0.4745222929936306\n"
     ]
    },
    {
     "data": {
      "application/vnd.jupyter.widget-view+json": {
       "model_id": "a7f27bb1c4fb4345b4c963a9d9380fd6",
       "version_major": 2,
       "version_minor": 0
      },
      "text/plain": [
       "Iteration:   0%|          | 0/1310 [00:00<?, ?it/s]"
      ]
     },
     "metadata": {},
     "output_type": "display_data"
    },
    {
     "name": "stdout",
     "output_type": "stream",
     "text": [
      "2023-06-14 11:53:06 - EntityLinkingEvaluator: Evaluating the model on eval dataset after epoch 8:\n",
      "2023-06-14 11:53:17 - Accuracy: 0.5477707006369427\n",
      "2023-06-14 11:53:17 - Accuracy @ 5: 0.5764331210191083\n",
      "2023-06-14 11:53:17 - Accuracy @ 64: 0.5923566878980892\n",
      "2023-06-14 11:53:17 - Baseline Accuracy: 0.4745222929936306\n",
      "2023-06-14 11:53:17 - Save model to ../temp/atc_index/cross_encoder_training/\n"
     ]
    },
    {
     "data": {
      "application/vnd.jupyter.widget-view+json": {
       "model_id": "7c03c137c4884879a7890192ef488fc2",
       "version_major": 2,
       "version_minor": 0
      },
      "text/plain": [
       "Iteration:   0%|          | 0/1310 [00:00<?, ?it/s]"
      ]
     },
     "metadata": {},
     "output_type": "display_data"
    },
    {
     "name": "stdout",
     "output_type": "stream",
     "text": [
      "2023-06-14 11:54:48 - EntityLinkingEvaluator: Evaluating the model on eval dataset after epoch 9:\n",
      "2023-06-14 11:54:59 - Accuracy: 0.5414012738853503\n",
      "2023-06-14 11:54:59 - Accuracy @ 5: 0.5732484076433121\n",
      "2023-06-14 11:54:59 - Accuracy @ 64: 0.5923566878980892\n",
      "2023-06-14 11:54:59 - Baseline Accuracy: 0.4745222929936306\n"
     ]
    }
   ],
   "source": [
    "rr.fit(train_dataset = train,\n",
    "       val_dataset = val,\n",
    "       output_dir=output_dir,\n",
    "       training_args=train_args)"
   ]
  },
  {
   "cell_type": "markdown",
   "id": "1e84b2ad-4e5c-4af0-be37-3e29a4cc1a6f",
   "metadata": {},
   "source": [
    "# Evaluate Cross-encoder\n",
    "Now we can take our trained model and test it on data outside of training. Using the `xmen.evaluation` module, we gain insights into different error types."
   ]
  },
  {
   "cell_type": "code",
   "execution_count": 23,
   "id": "056b9c8d-f364-420f-8d54-b3986f8b567c",
   "metadata": {},
   "outputs": [
    {
     "name": "stdout",
     "output_type": "stream",
     "text": [
      "2023-06-13 20:01:59 - Use pytorch device: cuda\n"
     ]
    }
   ],
   "source": [
    "rr = CrossEncoderReranker.load(output_dir, device=0)"
   ]
  },
  {
   "cell_type": "code",
   "execution_count": 14,
   "id": "d3507f0e-8d45-4d78-a662-75a60363e19d",
   "metadata": {},
   "outputs": [
    {
     "data": {
      "application/vnd.jupyter.widget-view+json": {
       "model_id": "cb18841dcefc478181b03ae959c67953",
       "version_major": 2,
       "version_minor": 0
      },
      "text/plain": [
       "Batches:   0%|          | 0/314 [00:00<?, ?it/s]"
      ]
     },
     "metadata": {},
     "output_type": "display_data"
    },
    {
     "data": {
      "application/vnd.jupyter.widget-view+json": {
       "model_id": "",
       "version_major": 2,
       "version_minor": 0
      },
      "text/plain": [
       "Map:   0%|          | 0/1 [00:00<?, ? examples/s]"
      ]
     },
     "metadata": {},
     "output_type": "display_data"
    },
    {
     "name": "stdout",
     "output_type": "stream",
     "text": [
      "Perf@1 0.5414012738853503\n",
      "Perf@2 0.5668789808917197\n",
      "Perf@4 0.5700636942675159\n",
      "Perf@8 0.5859872611464968\n",
      "Perf@16 0.5859872611464968\n",
      "Perf@32 0.5923566878980892\n",
      "Perf@64 0.5923566878980892\n"
     ]
    }
   ],
   "source": [
    "cross_enc_pred_val = rr.rerank_batch(candidates[val_fold], cross_enc_ds[val_fold])\n",
    "_ = evaluate_at_k(ds[val_fold], cross_enc_pred_val)"
   ]
  },
  {
   "cell_type": "code",
   "execution_count": 15,
   "id": "f9f97c16-f19c-4e54-9b4d-108a3c8f83c1",
   "metadata": {},
   "outputs": [
    {
     "data": {
      "application/vnd.jupyter.widget-view+json": {
       "model_id": "309ab2ef77994dd4beef1470543af9c6",
       "version_major": 2,
       "version_minor": 0
      },
      "text/plain": [
       "Batches:   0%|          | 0/320 [00:00<?, ?it/s]"
      ]
     },
     "metadata": {},
     "output_type": "display_data"
    },
    {
     "data": {
      "application/vnd.jupyter.widget-view+json": {
       "model_id": "",
       "version_major": 2,
       "version_minor": 0
      },
      "text/plain": [
       "Map:   0%|          | 0/1 [00:00<?, ? examples/s]"
      ]
     },
     "metadata": {},
     "output_type": "display_data"
    },
    {
     "name": "stdout",
     "output_type": "stream",
     "text": [
      "Perf@1 0.490625\n",
      "Perf@2 0.5375\n",
      "Perf@4 0.54375\n",
      "Perf@8 0.571875\n",
      "Perf@16 0.578125\n",
      "Perf@32 0.5875\n",
      "Perf@64 0.59375\n"
     ]
    }
   ],
   "source": [
    "cross_enc_pred_test = rr.rerank_batch(candidates[test_fold], cross_enc_ds[test_fold])\n",
    "_ = evaluate_at_k(ds[test_fold], cross_enc_pred_test)"
   ]
  },
  {
   "cell_type": "code",
   "execution_count": 16,
   "id": "ee678d6e-4259-4eb9-bccb-f79355c705d7",
   "metadata": {},
   "outputs": [],
   "source": [
    "from notebook_util import analyze\n",
    "from xmen.evaluation import entity_linking_error_analysis"
   ]
  },
  {
   "cell_type": "code",
   "execution_count": 17,
   "id": "f950638c-032c-40a5-b37d-faf79e79fdb2",
   "metadata": {},
   "outputs": [],
   "source": [
    "cg_kb = load_kb(f\"{base_path}/{label2dict[label]}.jsonl\")\n",
    "error_cand = entity_linking_error_analysis(ds[test_fold], candidates[test_fold])\n",
    "edf_cand, _ = analyze(error_cand, cg_kb, 'eval', None)"
   ]
  },
  {
   "cell_type": "code",
   "execution_count": 18,
   "id": "ff1e5d1f-ba9b-4eaf-8cfc-068ad83468c3",
   "metadata": {},
   "outputs": [
    {
     "data": {
      "text/plain": [
       "error_type\n",
       "WRONG_SEMANTIC_TYPE    0.321875\n",
       "ABBREV                 0.075000\n",
       "MISSING_CUI_GOLD       0.009375\n",
       "Name: count, dtype: float64"
      ]
     },
     "execution_count": 18,
     "metadata": {},
     "output_type": "execute_result"
    }
   ],
   "source": [
    "# False negative (not part of top 64)\n",
    "fns_cand = edf_cand[edf_cand.pred_index == -1]\n",
    "fns_cand_counts = fns_cand.error_type.value_counts() / len(edf_cand)\n",
    "fns_cand_counts"
   ]
  },
  {
   "cell_type": "code",
   "execution_count": 19,
   "id": "e2faa75c-1835-41e4-848c-9bc340523018",
   "metadata": {},
   "outputs": [
    {
     "data": {
      "text/plain": [
       "error_type\n",
       "WRONG_SEMANTIC_TYPE    0.12500\n",
       "ABBREV                 0.01875\n",
       "Name: count, dtype: float64"
      ]
     },
     "execution_count": 19,
     "metadata": {},
     "output_type": "execute_result"
    }
   ],
   "source": [
    "# Ranking errors during candidate generation\n",
    "misranked_cand = edf_cand[edf_cand.pred_index > 0]\n",
    "misranked_cand_counts = misranked_cand.error_type.value_counts() / len(edf_cand)\n",
    "misranked_cand_counts"
   ]
  },
  {
   "cell_type": "code",
   "execution_count": 20,
   "id": "b7948e53-e8c5-49ab-b4f9-98e22d386fe9",
   "metadata": {},
   "outputs": [
    {
     "data": {
      "text/plain": [
       "error_type\n",
       "WRONG_SEMANTIC_TYPE    0.035032\n",
       "ABBREV                 0.015924\n",
       "Name: count, dtype: float64"
      ]
     },
     "execution_count": 20,
     "metadata": {},
     "output_type": "execute_result"
    }
   ],
   "source": [
    "# Ranking errors after reranking\n",
    "error_rr = entity_linking_error_analysis(ds[val_fold], cross_enc_pred_val)\n",
    "edf_rr, _ = analyze(error_rr, cg_kb, 'eval', None)\n",
    "\n",
    "misranked_rr = edf_rr[edf_rr.pred_index > 0]\n",
    "misranked_rr_counts = misranked_rr.error_type.value_counts() / len(edf_rr)\n",
    "misranked_rr_counts"
   ]
  },
  {
   "cell_type": "code",
   "execution_count": 21,
   "id": "792329ac-251a-405e-a701-11400dc5b944",
   "metadata": {},
   "outputs": [
    {
     "name": "stdout",
     "output_type": "stream",
     "text": [
      "Recall@1 0.5414012738853503\n",
      "Recall@64 0.5923566878980892\n"
     ]
    }
   ],
   "source": [
    "print('Recall@1', (edf_rr.pred_index == 0).sum() / len(edf_rr))\n",
    "print('Recall@64', (edf_rr.pred_index >= 0).sum() / len(edf_rr))"
   ]
  },
  {
   "cell_type": "code",
   "execution_count": 22,
   "id": "4442e571-9d17-4bf9-8d40-daee77e707a7",
   "metadata": {},
   "outputs": [
    {
     "data": {
      "image/png": "[encoded data removed]",
      "text/plain": [
       "<Figure size 800x200 with 5 Axes>"
      ]
     },
     "metadata": {},
     "output_type": "display_data"
    }
   ],
   "source": [
    "import matplotlib\n",
    "from matplotlib import pyplot as plt\n",
    "\n",
    "error_types = ['Complex Entity', 'Abbreviation', 'Wrong Type', 'Homonyms', 'Other Error']\n",
    "keys = ['COMPLEX_ENTITY', 'ABBREV', 'WRONG_SEMANTIC_TYPE', 'SAME_SYNONYMS', 'UNKNOWN_ERROR']\n",
    "counts = [fns_cand_counts, misranked_cand_counts, misranked_rr_counts]\n",
    "count_names = ['False Negatives', 'Candidate Generation Errors', 'Reranking Errors']\n",
    "\n",
    "hatches = ['', '\\\\\\\\\\\\', '///']\n",
    "colors = ['lightyellow', '#C0F5EC', '#118470']\n",
    "\n",
    "matplotlib.rcParams['hatch.linewidth'] = 0.3 \n",
    "matplotlib.rcParams.update({'font.size': 12})\n",
    "\n",
    "fig, axs = plt.subplots(1, len(keys), figsize=(8, 2))\n",
    "for i, (key, error) in enumerate(zip(keys, error_types)):\n",
    "    for j, bar in enumerate(axs[i].bar(x=count_names, height=[c.get(key, 0.0) for c in counts], color=colors, edgecolor = 'black', linewidth=0.2)):\n",
    "        bar.set_hatch(hatches[j])\n",
    "    axs[i].grid(axis='y')\n",
    "    axs[i].set_ylim([0.0, 0.2])\n",
    "    axs[i].set_xlabel(error, labelpad=10)\n",
    "    axs[i].get_xaxis().set_ticks([])\n",
    "handles = [plt.Rectangle((0,0),1,1, facecolor=color, linewidth=0.2, edgecolor='black', hatch=h) for color, h in zip(colors, hatches)]\n",
    "plt.legend(handles, count_names, loc='upper center', bbox_to_anchor=(-3.1, 1.4, 0, 0), ncol=len(counts))\n",
    "\n",
    "plt.subplots_adjust(wspace=0.7)"
   ]
  }
 ],
 "metadata": {
  "kernelspec": {
   "display_name": "xmen",
   "language": "python",
   "name": "xmen"
  },
  "language_info": {
   "codemirror_mode": {
    "name": "ipython",
    "version": 3
   },
   "file_extension": ".py",
   "mimetype": "text/x-python",
   "name": "python",
   "nbconvert_exporter": "python",
   "pygments_lexer": "ipython3",
   "version": "3.8.16"
  }
 },
 "nbformat": 4,
 "nbformat_minor": 5
}
