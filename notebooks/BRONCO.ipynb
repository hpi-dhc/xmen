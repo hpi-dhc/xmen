{
 "cells": [
  {
   "cell_type": "markdown",
   "id": "eb84db40-b21a-4fba-8174-a327a831ef76",
   "metadata": {},
   "source": [
    "# Preparation\n",
    "\n",
    "Make sure to download the corresponding medical ontologies to build the term dictionaries. For each, look for the 2017 version.\n",
    " - Treatments: [OPS](https://www.bfarm.de/DE/Kodiersysteme/Services/Downloads/_node.html). The required file is `\\p1smt2017\\Klassifikationsdateien\\ops2017syst_kodes.txt` \n",
    " - Medications: [ATC](https://www.wido.de/publikationen-produkte/arzneimittel-klassifikation/). The required file is `ATC GKV AI 2017.xlsx`\n",
    " - Diagnosis: [ICD10GM](https://www.bfarm.de/DE/Kodiersysteme/Services/Downloads/_node.html). The required file is `\\x1gmt2017\\Klassifikationsdateien\\icd10gm2017syst_kodes.txt`\n",
    " \n",
    "In the config file for BRONCO `../conf/bronco.yaml`, modify the paths so they point the extracted ontologies. We assume they are located in `xmen/temp`. Otherwise, change the path here and correct accordingly the terminal commands below:"
   ]
  },
  {
   "cell_type": "code",
   "execution_count": 1,
   "id": "59201176-35cb-43ad-9c1e-2331e1137608",
   "metadata": {},
   "outputs": [],
   "source": [
    "base_path = \"../temp\""
   ]
  },
  {
   "cell_type": "markdown",
   "id": "065fa6f0-911d-4d9e-924a-faef1646e5d0",
   "metadata": {},
   "source": [
    "We can already use xMEN to prepare the term dictionaries. <u>This step only has to be performed the first time. </u> \n",
    "\n",
    "In your terminal, navigate to the xMEN root folder and run:\n",
    " - `xmen dict conf/bronco.yaml --code dicts/atc2017_de.py --output temp/ --key atc`\n",
    " - `xmen dict conf/bronco.yaml --code dicts/ops2017.py --output temp/ --key ops`\n",
    " - `xmen dict conf/bronco.yaml --code dicts/icd10gm2017.py --output temp/ --key icd10gm`\n",
    " \n",
    "Now use such dictionaries to build the indexes. For this example, we will use only SapBERT indexes and leave aside N-Gram:\n",
    " - `xmen index conf/bronco.yaml --dict temp/atc.jsonl --output temp/atc_index --sapbert`\n",
    " - `xmen index conf/bronco.yaml --dict temp/ops.jsonl --output temp/ops_index --sapbert`\n",
    " - `xmen index conf/bronco.yaml --dict temp/icd10gm.jsonl --output temp/icd10gm_index --sapbert`\n",
    " \n",
    "Now we can load the BRONCO150 dataset using BigBIO:"
   ]
  },
  {
   "cell_type": "code",
   "execution_count": 2,
   "id": "12fbc6ab-f65c-401d-bbe0-99bbcdb2cbfe",
   "metadata": {},
   "outputs": [
    {
     "name": "stderr",
     "output_type": "stream",
     "text": [
      "Found cached dataset bronco (/dhc/home/ignacio.rodriguez/.cache/huggingface/datasets/bigbio___bronco/bronco_bigbio_kb-data_dir=..%2F..%2FBRONCO150/1.0.0/cab8fc4a62807688cb5b36df7a24eb7f364314862c4196f6ff2db3813f2fe68b)\n"
     ]
    },
    {
     "data": {
      "application/vnd.jupyter.widget-view+json": {
       "model_id": "18a1ddcd5ac54541a62a44d8858ddb27",
       "version_major": 2,
       "version_minor": 0
      },
      "text/plain": [
       "  0%|          | 0/1 [00:00<?, ?it/s]"
      ]
     },
     "metadata": {},
     "output_type": "display_data"
    },
    {
     "data": {
      "text/plain": [
       "DatasetDict({\n",
       "    train: Dataset({\n",
       "        features: ['id', 'document_id', 'passages', 'entities', 'events', 'coreferences', 'relations'],\n",
       "        num_rows: 5\n",
       "    })\n",
       "})"
      ]
     },
     "execution_count": 2,
     "metadata": {},
     "output_type": "execute_result"
    }
   ],
   "source": [
    "import datasets\n",
    "\n",
    "path_to_data = r\"../../BRONCO150\" # paste here the path to the local data\n",
    "\n",
    "bronco = datasets.load_dataset(path = \"bigbio/bronco\", \n",
    "                               name = \"bronco_bigbio_kb\", \n",
    "                               data_dir=path_to_data)\n",
    "\n",
    "bronco"
   ]
  },
  {
   "cell_type": "markdown",
   "id": "79dc91db-df81-4a86-a601-19834659fdc7",
   "metadata": {},
   "source": [
    "Finally, we have to choose the semantic class we want to work on and reestructure the dataset in 5 folds for cross-validation, as originally intended."
   ]
  },
  {
   "cell_type": "code",
   "execution_count": 3,
   "id": "55afb5e6-4324-4ce7-b0ad-9980a6240b87",
   "metadata": {},
   "outputs": [],
   "source": [
    "label = \"DIAGNOSIS\" # Choose here TREATMENT, MEDICATION or DIAGNOSIS"
   ]
  },
  {
   "cell_type": "code",
   "execution_count": 4,
   "id": "3ee0ed32-c4e0-46e5-a89f-03e29b81701a",
   "metadata": {},
   "outputs": [
    {
     "name": "stderr",
     "output_type": "stream",
     "text": [
      "Loading cached processed dataset at /dhc/home/ignacio.rodriguez/.cache/huggingface/datasets/bigbio___bronco/bronco_bigbio_kb-data_dir=..%2F..%2FBRONCO150/1.0.0/cab8fc4a62807688cb5b36df7a24eb7f364314862c4196f6ff2db3813f2fe68b/cache-a26fddd6429a662a.arrow\n"
     ]
    }
   ],
   "source": [
    "label2dict = {\n",
    "    \"TREATMENT\": \"ops\",\n",
    "    \"MEDICATION\": \"atc\",\n",
    "    \"DIAGNOSIS\": \"icd10gm\"\n",
    "}\n",
    "\n",
    "def filter_entities(bigbio_entities, valid_entities):\n",
    "    filtered_entities = []\n",
    "    for ent in bigbio_entities:\n",
    "        if ent['type'] in valid_entities:\n",
    "            filtered_entities.append(ent)\n",
    "    return filtered_entities\n",
    "\n",
    "ds = bronco.map(lambda row: {'entities': filter_entities(row['entities'], [label])})"
   ]
  },
  {
   "cell_type": "code",
   "execution_count": 5,
   "id": "3e8d4826-30d4-4752-83fa-fed2ae359fa0",
   "metadata": {},
   "outputs": [
    {
     "data": {
      "text/plain": [
       "DatasetDict({\n",
       "    k1: Dataset({\n",
       "        features: ['id', 'document_id', 'passages', 'entities', 'events', 'coreferences', 'relations'],\n",
       "        num_rows: 1\n",
       "    })\n",
       "    k2: Dataset({\n",
       "        features: ['id', 'document_id', 'passages', 'entities', 'events', 'coreferences', 'relations'],\n",
       "        num_rows: 1\n",
       "    })\n",
       "    k3: Dataset({\n",
       "        features: ['id', 'document_id', 'passages', 'entities', 'events', 'coreferences', 'relations'],\n",
       "        num_rows: 1\n",
       "    })\n",
       "    k4: Dataset({\n",
       "        features: ['id', 'document_id', 'passages', 'entities', 'events', 'coreferences', 'relations'],\n",
       "        num_rows: 1\n",
       "    })\n",
       "    k5: Dataset({\n",
       "        features: ['id', 'document_id', 'passages', 'entities', 'events', 'coreferences', 'relations'],\n",
       "        num_rows: 1\n",
       "    })\n",
       "})"
      ]
     },
     "execution_count": 5,
     "metadata": {},
     "output_type": "execute_result"
    }
   ],
   "source": [
    "from datasets import DatasetDict\n",
    "\n",
    "ground_truth = DatasetDict()\n",
    "for k in range(5):\n",
    "    ground_truth[f\"k{k+1}\"] = ds[\"train\"].select([k])\n",
    "    \n",
    "ds = ground_truth\n",
    "ds"
   ]
  },
  {
   "cell_type": "markdown",
   "id": "85ec4049-85cb-4a4b-996c-12142d13062a",
   "metadata": {},
   "source": [
    "# Run Candidate Generator\n",
    "We will use `SapBERTLinker`, which uses a Transformer model to retrieve candidates with dense embeddings."
   ]
  },
  {
   "cell_type": "code",
   "execution_count": 6,
   "id": "11662199-832c-49cf-9591-43eb82e5bc75",
   "metadata": {},
   "outputs": [
    {
     "name": "stderr",
     "output_type": "stream",
     "text": [
      "Your CPU supports instructions that this binary was not compiled to use: SSE3 SSE4.1 SSE4.2 AVX AVX2\n",
      "For maximum performance, you can install NMSLIB from sources \n",
      "pip install --no-binary :all: nmslib\n"
     ]
    }
   ],
   "source": [
    "from xmen.linkers import SapBERTLinker\n",
    "from xmen.evaluation import evaluate_at_k"
   ]
  },
  {
   "cell_type": "markdown",
   "id": "02fae00e-8bf7-46f1-ba22-875da377db85",
   "metadata": {},
   "source": [
    "<u>This cell can be run just once. For subsequent runs you can load the result with the cell below this one.</u>"
   ]
  },
  {
   "cell_type": "code",
   "execution_count": 7,
   "id": "12537346-9e8c-4986-8a3b-5f4d068f6294",
   "metadata": {},
   "outputs": [
    {
     "data": {
      "text/html": [
       "<pre style=\"white-space:pre;overflow-x:auto;line-height:normal;font-family:Menlo,'DejaVu Sans Mono',consolas,'Courier New',monospace\"><span style=\"color: #7fbfbf; text-decoration-color: #7fbfbf\">[05/31/23 16:12:16] </span><span style=\"color: #000080; text-decoration-color: #000080\">INFO    </span> Loading hierarchical faiss index                                <a href=\"file:///dhc/home/ignacio.rodriguez/xmen/xmen/linkers/sap_bert_linker.py\" target=\"_blank\"><span style=\"color: #7f7f7f; text-decoration-color: #7f7f7f\">sap_bert_linker.py</span></a><span style=\"color: #7f7f7f; text-decoration-color: #7f7f7f\">:</span><a href=\"file:///dhc/home/ignacio.rodriguez/xmen/xmen/linkers/sap_bert_linker.py#148\" target=\"_blank\"><span style=\"color: #7f7f7f; text-decoration-color: #7f7f7f\">148</span></a>\n",
       "</pre>\n"
      ],
      "text/plain": [
       "\u001b[2;36m[05/31/23 16:12:16]\u001b[0m\u001b[2;36m \u001b[0m\u001b[34mINFO    \u001b[0m Loading hierarchical faiss index                                \u001b]8;id=399795;file:///dhc/home/ignacio.rodriguez/xmen/xmen/linkers/sap_bert_linker.py\u001b\\\u001b[2msap_bert_linker.py\u001b[0m\u001b]8;;\u001b\\\u001b[2m:\u001b[0m\u001b]8;id=320053;file:///dhc/home/ignacio.rodriguez/xmen/xmen/linkers/sap_bert_linker.py#148\u001b\\\u001b[2m148\u001b[0m\u001b]8;;\u001b\\\n"
      ]
     },
     "metadata": {},
     "output_type": "display_data"
    },
    {
     "data": {
      "text/html": [
       "<pre style=\"white-space:pre;overflow-x:auto;line-height:normal;font-family:Menlo,'DejaVu Sans Mono',consolas,'Courier New',monospace\"><span style=\"color: #7fbfbf; text-decoration-color: #7fbfbf\">                    </span><span style=\"color: #000080; text-decoration-color: #000080\">INFO    </span> Loading index from                                                 <a href=\"file:///dhc/home/ignacio.rodriguez/xmen/xmen/linkers/faiss_indexer.py\" target=\"_blank\"><span style=\"color: #7f7f7f; text-decoration-color: #7f7f7f\">faiss_indexer.py</span></a><span style=\"color: #7f7f7f; text-decoration-color: #7f7f7f\">:</span><a href=\"file:///dhc/home/ignacio.rodriguez/xmen/xmen/linkers/faiss_indexer.py#64\" target=\"_blank\"><span style=\"color: #7f7f7f; text-decoration-color: #7f7f7f\">64</span></a>\n",
       "<span style=\"color: #7fbfbf; text-decoration-color: #7fbfbf\">                    </span>         ..<span style=\"color: #800080; text-decoration-color: #800080\">/temp/icd10gm_index/index/sapbert/</span><span style=\"color: #ff00ff; text-decoration-color: #ff00ff\">embed_faiss_hier.pickle</span>        <span style=\"color: #7f7f7f; text-decoration-color: #7f7f7f\">                   </span>\n",
       "</pre>\n"
      ],
      "text/plain": [
       "\u001b[2;36m                   \u001b[0m\u001b[2;36m \u001b[0m\u001b[34mINFO    \u001b[0m Loading index from                                                 \u001b]8;id=58647;file:///dhc/home/ignacio.rodriguez/xmen/xmen/linkers/faiss_indexer.py\u001b\\\u001b[2mfaiss_indexer.py\u001b[0m\u001b]8;;\u001b\\\u001b[2m:\u001b[0m\u001b]8;id=429611;file:///dhc/home/ignacio.rodriguez/xmen/xmen/linkers/faiss_indexer.py#64\u001b\\\u001b[2m64\u001b[0m\u001b]8;;\u001b\\\n",
       "\u001b[2;36m                    \u001b[0m         ..\u001b[35m/temp/icd10gm_index/index/sapbert/\u001b[0m\u001b[95membed_faiss_hier.pickle\u001b[0m        \u001b[2m                   \u001b[0m\n"
      ]
     },
     "metadata": {},
     "output_type": "display_data"
    },
    {
     "data": {
      "text/html": [
       "<pre style=\"white-space:pre;overflow-x:auto;line-height:normal;font-family:Menlo,'DejaVu Sans Mono',consolas,'Courier New',monospace\"><span style=\"color: #7fbfbf; text-decoration-color: #7fbfbf\">                    </span><span style=\"color: #000080; text-decoration-color: #000080\">INFO    </span> Loaded index of type <span style=\"font-weight: bold\">&lt;</span><span style=\"color: #ff00ff; text-decoration-color: #ff00ff; font-weight: bold\">class</span><span style=\"color: #000000; text-decoration-color: #000000\"> </span><span style=\"color: #008000; text-decoration-color: #008000\">'faiss.swigfaiss_avx2.IndexHNSWFlat'</span><span style=\"font-weight: bold\">&gt;</span>  <a href=\"file:///dhc/home/ignacio.rodriguez/xmen/xmen/linkers/faiss_indexer.py\" target=\"_blank\"><span style=\"color: #7f7f7f; text-decoration-color: #7f7f7f\">faiss_indexer.py</span></a><span style=\"color: #7f7f7f; text-decoration-color: #7f7f7f\">:</span><a href=\"file:///dhc/home/ignacio.rodriguez/xmen/xmen/linkers/faiss_indexer.py#66\" target=\"_blank\"><span style=\"color: #7f7f7f; text-decoration-color: #7f7f7f\">66</span></a>\n",
       "<span style=\"color: #7fbfbf; text-decoration-color: #7fbfbf\">                    </span>         and size <span style=\"color: #008080; text-decoration-color: #008080; font-weight: bold\">15930</span>                                                     <span style=\"color: #7f7f7f; text-decoration-color: #7f7f7f\">                   </span>\n",
       "</pre>\n"
      ],
      "text/plain": [
       "\u001b[2;36m                   \u001b[0m\u001b[2;36m \u001b[0m\u001b[34mINFO    \u001b[0m Loaded index of type \u001b[1m<\u001b[0m\u001b[1;95mclass\u001b[0m\u001b[39m \u001b[0m\u001b[32m'faiss.swigfaiss_avx2.IndexHNSWFlat'\u001b[0m\u001b[1m>\u001b[0m  \u001b]8;id=218972;file:///dhc/home/ignacio.rodriguez/xmen/xmen/linkers/faiss_indexer.py\u001b\\\u001b[2mfaiss_indexer.py\u001b[0m\u001b]8;;\u001b\\\u001b[2m:\u001b[0m\u001b]8;id=201499;file:///dhc/home/ignacio.rodriguez/xmen/xmen/linkers/faiss_indexer.py#66\u001b\\\u001b[2m66\u001b[0m\u001b]8;;\u001b\\\n",
       "\u001b[2;36m                    \u001b[0m         and size \u001b[1;36m15930\u001b[0m                                                     \u001b[2m                   \u001b[0m\n"
      ]
     },
     "metadata": {},
     "output_type": "display_data"
    },
    {
     "data": {
      "application/vnd.jupyter.widget-view+json": {
       "model_id": "",
       "version_major": 2,
       "version_minor": 0
      },
      "text/plain": [
       "Map:   0%|          | 0/1 [00:00<?, ? examples/s]"
      ]
     },
     "metadata": {},
     "output_type": "display_data"
    },
    {
     "data": {
      "application/vnd.jupyter.widget-view+json": {
       "model_id": "",
       "version_major": 2,
       "version_minor": 0
      },
      "text/plain": [
       "Map:   0%|          | 0/1 [00:00<?, ? examples/s]"
      ]
     },
     "metadata": {},
     "output_type": "display_data"
    },
    {
     "data": {
      "application/vnd.jupyter.widget-view+json": {
       "model_id": "",
       "version_major": 2,
       "version_minor": 0
      },
      "text/plain": [
       "Map:   0%|          | 0/1 [00:00<?, ? examples/s]"
      ]
     },
     "metadata": {},
     "output_type": "display_data"
    },
    {
     "data": {
      "application/vnd.jupyter.widget-view+json": {
       "model_id": "",
       "version_major": 2,
       "version_minor": 0
      },
      "text/plain": [
       "Map:   0%|          | 0/1 [00:00<?, ? examples/s]"
      ]
     },
     "metadata": {},
     "output_type": "display_data"
    },
    {
     "data": {
      "application/vnd.jupyter.widget-view+json": {
       "model_id": "",
       "version_major": 2,
       "version_minor": 0
      },
      "text/plain": [
       "Map:   0%|          | 0/1 [00:00<?, ? examples/s]"
      ]
     },
     "metadata": {},
     "output_type": "display_data"
    },
    {
     "data": {
      "application/vnd.jupyter.widget-view+json": {
       "model_id": "",
       "version_major": 2,
       "version_minor": 0
      },
      "text/plain": [
       "Saving the dataset (0/1 shards):   0%|          | 0/1 [00:00<?, ? examples/s]"
      ]
     },
     "metadata": {},
     "output_type": "display_data"
    },
    {
     "data": {
      "application/vnd.jupyter.widget-view+json": {
       "model_id": "",
       "version_major": 2,
       "version_minor": 0
      },
      "text/plain": [
       "Saving the dataset (0/1 shards):   0%|          | 0/1 [00:00<?, ? examples/s]"
      ]
     },
     "metadata": {},
     "output_type": "display_data"
    },
    {
     "data": {
      "application/vnd.jupyter.widget-view+json": {
       "model_id": "",
       "version_major": 2,
       "version_minor": 0
      },
      "text/plain": [
       "Saving the dataset (0/1 shards):   0%|          | 0/1 [00:00<?, ? examples/s]"
      ]
     },
     "metadata": {},
     "output_type": "display_data"
    },
    {
     "data": {
      "application/vnd.jupyter.widget-view+json": {
       "model_id": "",
       "version_major": 2,
       "version_minor": 0
      },
      "text/plain": [
       "Saving the dataset (0/1 shards):   0%|          | 0/1 [00:00<?, ? examples/s]"
      ]
     },
     "metadata": {},
     "output_type": "display_data"
    },
    {
     "data": {
      "application/vnd.jupyter.widget-view+json": {
       "model_id": "",
       "version_major": 2,
       "version_minor": 0
      },
      "text/plain": [
       "Saving the dataset (0/1 shards):   0%|          | 0/1 [00:00<?, ? examples/s]"
      ]
     },
     "metadata": {},
     "output_type": "display_data"
    }
   ],
   "source": [
    "embedding_model_name = 'cambridgeltl/SapBERT-UMLS-2020AB-all-lang-from-XLMR'\n",
    "\n",
    "SapBERTLinker.clear()\n",
    "sapbert_linker = SapBERTLinker(\n",
    "    embedding_model_name = embedding_model_name,\n",
    "    index_base_path = f\"{base_path}/{label2dict[label]}_index/index/sapbert\",\n",
    "    k = 1000\n",
    ")\n",
    "\n",
    "candidates = sapbert_linker.predict_batch(ds, batch_size=128)\n",
    "\n",
    "# Save locally to avoid running it every time\n",
    "candidates.save_to_disk(f\"{base_path}/{label2dict[label]}_index/pred_sapbert\")"
   ]
  },
  {
   "cell_type": "code",
   "execution_count": 10,
   "id": "fbf542b1-60e7-4cb6-810f-956935037be0",
   "metadata": {},
   "outputs": [
    {
     "name": "stdout",
     "output_type": "stream",
     "text": [
      "Perf@1 0.22677925211097708\n",
      "Perf@2 0.30639324487334135\n",
      "Perf@4 0.353437876960193\n",
      "Perf@8 0.4209891435464415\n",
      "Perf@16 0.4969843184559711\n",
      "Perf@32 0.5379975874547648\n",
      "Perf@64 0.6079613992762364\n"
     ]
    }
   ],
   "source": [
    "candidates = datasets.load_from_disk(f\"{base_path}/{label2dict[label]}_index/pred_sapbert\")\n",
    "\n",
    "# Recall for different numbers of candidates (k)\n",
    "_ = evaluate_at_k(ds['k5'], candidates['k5'])"
   ]
  },
  {
   "cell_type": "markdown",
   "id": "7840718b-0581-4267-a809-fe4af2d71bc6",
   "metadata": {},
   "source": [
    "# Train Cross-encoder\n",
    "We use a cross-encoder to embed the mention with their context together with all potential candidates. This way, we can learn the best ranking of candidates from the training data."
   ]
  },
  {
   "cell_type": "code",
   "execution_count": 11,
   "id": "575c872c-9bf7-42a2-aaff-3fa67551a8a1",
   "metadata": {},
   "outputs": [],
   "source": [
    "from xmen.reranking.cross_encoder import CrossEncoderReranker, CrossEncoderTrainingArgs\n",
    "from xmen.linkers.util import filter_and_apply_threshold\n",
    "from xmen.kb import load_kb\n",
    "from xmen.data.indexed_dataset import IndexedDatasetDict, IndexedDataset"
   ]
  },
  {
   "cell_type": "markdown",
   "id": "b1aa5022-c5fd-4fc0-9fd2-5d00acbb987e",
   "metadata": {},
   "source": [
    "<u>This cell can be run just once. For subsequent runs you can load the result with the cell below this one.</u>"
   ]
  },
  {
   "cell_type": "code",
   "execution_count": 12,
   "id": "32719dc5-35a4-48f9-82f7-d80cab1a4c46",
   "metadata": {},
   "outputs": [
    {
     "data": {
      "application/vnd.jupyter.widget-view+json": {
       "model_id": "",
       "version_major": 2,
       "version_minor": 0
      },
      "text/plain": [
       "Map:   0%|          | 0/1 [00:00<?, ? examples/s]"
      ]
     },
     "metadata": {},
     "output_type": "display_data"
    },
    {
     "data": {
      "application/vnd.jupyter.widget-view+json": {
       "model_id": "",
       "version_major": 2,
       "version_minor": 0
      },
      "text/plain": [
       "Map:   0%|          | 0/1 [00:00<?, ? examples/s]"
      ]
     },
     "metadata": {},
     "output_type": "display_data"
    },
    {
     "data": {
      "application/vnd.jupyter.widget-view+json": {
       "model_id": "",
       "version_major": 2,
       "version_minor": 0
      },
      "text/plain": [
       "Map:   0%|          | 0/1 [00:00<?, ? examples/s]"
      ]
     },
     "metadata": {},
     "output_type": "display_data"
    },
    {
     "data": {
      "application/vnd.jupyter.widget-view+json": {
       "model_id": "",
       "version_major": 2,
       "version_minor": 0
      },
      "text/plain": [
       "Map:   0%|          | 0/1 [00:00<?, ? examples/s]"
      ]
     },
     "metadata": {},
     "output_type": "display_data"
    },
    {
     "data": {
      "application/vnd.jupyter.widget-view+json": {
       "model_id": "",
       "version_major": 2,
       "version_minor": 0
      },
      "text/plain": [
       "Map:   0%|          | 0/1 [00:00<?, ? examples/s]"
      ]
     },
     "metadata": {},
     "output_type": "display_data"
    },
    {
     "name": "stdout",
     "output_type": "stream",
     "text": [
      "Context length: 128\n"
     ]
    },
    {
     "data": {
      "application/vnd.jupyter.widget-view+json": {
       "model_id": "5c64d105bc654eab8623b3d902f4e979",
       "version_major": 2,
       "version_minor": 0
      },
      "text/plain": [
       "  0%|          | 0/847 [00:00<?, ?it/s]"
      ]
     },
     "metadata": {},
     "output_type": "display_data"
    },
    {
     "data": {
      "application/vnd.jupyter.widget-view+json": {
       "model_id": "df70ac1bafcf44ca8e01edc6feef3ba7",
       "version_major": 2,
       "version_minor": 0
      },
      "text/plain": [
       "  0%|          | 0/847 [00:00<?, ?it/s]"
      ]
     },
     "metadata": {},
     "output_type": "display_data"
    },
    {
     "data": {
      "application/vnd.jupyter.widget-view+json": {
       "model_id": "13ee23803aea4d9095d2a314b66d32ae",
       "version_major": 2,
       "version_minor": 0
      },
      "text/plain": [
       "  0%|          | 0/847 [00:00<?, ?it/s]"
      ]
     },
     "metadata": {},
     "output_type": "display_data"
    },
    {
     "data": {
      "application/vnd.jupyter.widget-view+json": {
       "model_id": "e586bd7f178e48b7b7fe0b70941bbc94",
       "version_major": 2,
       "version_minor": 0
      },
      "text/plain": [
       "  0%|          | 0/771 [00:00<?, ?it/s]"
      ]
     },
     "metadata": {},
     "output_type": "display_data"
    },
    {
     "data": {
      "application/vnd.jupyter.widget-view+json": {
       "model_id": "6471a95acd0246ada36b9add52b3ae53",
       "version_major": 2,
       "version_minor": 0
      },
      "text/plain": [
       "  0%|          | 0/771 [00:00<?, ?it/s]"
      ]
     },
     "metadata": {},
     "output_type": "display_data"
    },
    {
     "data": {
      "application/vnd.jupyter.widget-view+json": {
       "model_id": "664df20106684c1eaef348d6645b0100",
       "version_major": 2,
       "version_minor": 0
      },
      "text/plain": [
       "  0%|          | 0/771 [00:00<?, ?it/s]"
      ]
     },
     "metadata": {},
     "output_type": "display_data"
    },
    {
     "data": {
      "application/vnd.jupyter.widget-view+json": {
       "model_id": "1afd960ddb564333bdd1128ff44e32cc",
       "version_major": 2,
       "version_minor": 0
      },
      "text/plain": [
       "  0%|          | 0/839 [00:00<?, ?it/s]"
      ]
     },
     "metadata": {},
     "output_type": "display_data"
    },
    {
     "data": {
      "application/vnd.jupyter.widget-view+json": {
       "model_id": "e0fca424d9a145eeb3ea4fc4d0f31056",
       "version_major": 2,
       "version_minor": 0
      },
      "text/plain": [
       "  0%|          | 0/839 [00:00<?, ?it/s]"
      ]
     },
     "metadata": {},
     "output_type": "display_data"
    },
    {
     "data": {
      "application/vnd.jupyter.widget-view+json": {
       "model_id": "4a16b9db3bda4d32bfa366d138a2d43f",
       "version_major": 2,
       "version_minor": 0
      },
      "text/plain": [
       "  0%|          | 0/839 [00:00<?, ?it/s]"
      ]
     },
     "metadata": {},
     "output_type": "display_data"
    },
    {
     "data": {
      "application/vnd.jupyter.widget-view+json": {
       "model_id": "fbff3308bd16415194ff4075132938cd",
       "version_major": 2,
       "version_minor": 0
      },
      "text/plain": [
       "  0%|          | 0/793 [00:00<?, ?it/s]"
      ]
     },
     "metadata": {},
     "output_type": "display_data"
    },
    {
     "data": {
      "application/vnd.jupyter.widget-view+json": {
       "model_id": "c6f6eef7b1134a67a9543db195e03a84",
       "version_major": 2,
       "version_minor": 0
      },
      "text/plain": [
       "  0%|          | 0/793 [00:00<?, ?it/s]"
      ]
     },
     "metadata": {},
     "output_type": "display_data"
    },
    {
     "data": {
      "application/vnd.jupyter.widget-view+json": {
       "model_id": "65f30d1a59f542d5935146749d3dcac2",
       "version_major": 2,
       "version_minor": 0
      },
      "text/plain": [
       "  0%|          | 0/793 [00:00<?, ?it/s]"
      ]
     },
     "metadata": {},
     "output_type": "display_data"
    },
    {
     "data": {
      "application/vnd.jupyter.widget-view+json": {
       "model_id": "2ef0aacf32e54c2a8c8a9b5cac1dddb1",
       "version_major": 2,
       "version_minor": 0
      },
      "text/plain": [
       "  0%|          | 0/830 [00:00<?, ?it/s]"
      ]
     },
     "metadata": {},
     "output_type": "display_data"
    },
    {
     "data": {
      "application/vnd.jupyter.widget-view+json": {
       "model_id": "fd2de70c3ab64ec79d082317e800e61a",
       "version_major": 2,
       "version_minor": 0
      },
      "text/plain": [
       "  0%|          | 0/830 [00:00<?, ?it/s]"
      ]
     },
     "metadata": {},
     "output_type": "display_data"
    },
    {
     "data": {
      "application/vnd.jupyter.widget-view+json": {
       "model_id": "2f6dfd827ab649bb8c7b709d5af7d0d1",
       "version_major": 2,
       "version_minor": 0
      },
      "text/plain": [
       "  0%|          | 0/830 [00:00<?, ?it/s]"
      ]
     },
     "metadata": {},
     "output_type": "display_data"
    },
    {
     "data": {
      "text/plain": [
       "{'k1': [847 items],\n",
       " 'k2': [771 items],\n",
       " 'k3': [839 items],\n",
       " 'k4': [793 items],\n",
       " 'k5': [830 items]}"
      ]
     },
     "execution_count": 12,
     "metadata": {},
     "output_type": "execute_result"
    }
   ],
   "source": [
    "K_RERANKING = 64\n",
    "candidates = filter_and_apply_threshold(candidates, K_RERANKING, 0.0)\n",
    "kb = load_kb(f\"{base_path}/{label2dict[label]}.jsonl\")\n",
    "\n",
    "cross_enc_ds = CrossEncoderReranker.prepare_data(candidates, ds, kb)\n",
    "\n",
    "# Save locally to avoid running it every time\n",
    "cross_enc_ds.save_to_disk(f\"{base_path}/{label2dict[label]}_index/cross_encoded_dataset\")\n",
    "cross_enc_ds"
   ]
  },
  {
   "cell_type": "code",
   "execution_count": 10,
   "id": "068368bd-6e02-4949-af9d-0a56b19ad818",
   "metadata": {},
   "outputs": [
    {
     "data": {
      "text/plain": [
       "{'k4': [793 items],\n",
       " 'k3': [839 items],\n",
       " 'k1': [847 items],\n",
       " 'k2': [771 items],\n",
       " 'k5': [830 items]}"
      ]
     },
     "execution_count": 10,
     "metadata": {},
     "output_type": "execute_result"
    }
   ],
   "source": [
    "cross_enc_ds = IndexedDatasetDict.load_from_disk(f\"{base_path}/{label2dict[label]}_index/cross_encoded_dataset\")\n",
    "cross_enc_ds"
   ]
  },
  {
   "cell_type": "markdown",
   "id": "daae0c0c-da20-44fd-bed3-10afb8822049",
   "metadata": {},
   "source": [
    "Now we set the training arguments, train-eval splits and fit the model. Depending on the number of epochs, the training can take several hours."
   ]
  },
  {
   "cell_type": "code",
   "execution_count": 13,
   "id": "2e48b807-1758-4b02-9b97-f16cba80be7a",
   "metadata": {},
   "outputs": [],
   "source": [
    "CROSS_ENC_MODEL = \"SCAI-BIO/bio-gottbert-base\" #'cross-encoder/msmarco-MiniLM-L6-en-de-v1'\n",
    "NUM_EPOCHS = 3\n",
    "train_args = CrossEncoderTrainingArgs(\n",
    "    CROSS_ENC_MODEL, \n",
    "    NUM_EPOCHS,\n",
    "    score_regularization=True,\n",
    ")\n",
    "\n",
    "rr = CrossEncoderReranker()\n",
    "output_dir = f'{base_path}/{label2dict[label]}_index/cross_encoder_training/'"
   ]
  },
  {
   "cell_type": "code",
   "execution_count": 32,
   "id": "6f959029-0cf1-4e8a-a11d-1f245c5b1347",
   "metadata": {
    "tags": []
   },
   "outputs": [],
   "source": [
    "# Choose train and evaluation folds\n",
    "train_folds = [\n",
    "    \"k1\",\n",
    "    \"k2\",\n",
    "    \"k3\",\n",
    "    \"k4\",\n",
    "    #\"k5\",\n",
    "]\n",
    "train = []\n",
    "train = sum([train + cross_enc_ds[k].dataset for k in train_folds],[])\n",
    "\n",
    "\n",
    "val_fold = \"k4\"\n",
    "val = cross_enc_ds[val_fold].dataset\n",
    "\n",
    "test_fold = \"k5\""
   ]
  },
  {
   "cell_type": "markdown",
   "id": "9df7e93a-0c75-47f4-8571-4be7aa281dcc",
   "metadata": {},
   "source": [
    "<u>This cell can be run just once. For subsequent runs you can load the result with the cell below this one.</u> (Unless you changed something in the model/input data and you want to train a new one)"
   ]
  },
  {
   "cell_type": "code",
   "execution_count": 15,
   "id": "c319a6fb-d34e-4df7-a322-c8f179424e3c",
   "metadata": {},
   "outputs": [
    {
     "name": "stdout",
     "output_type": "stream",
     "text": [
      "model_name := SCAI-BIO/bio-gottbert-base\n",
      "num_train_epochs := 3\n",
      "fp16 := True\n",
      "label_smoothing := False\n",
      "score_regularization := True\n",
      "train_layers := None\n",
      "softmax_loss := True\n"
     ]
    },
    {
     "name": "stderr",
     "output_type": "stream",
     "text": [
      "Some weights of the model checkpoint at SCAI-BIO/bio-gottbert-base were not used when initializing RobertaForSequenceClassification: ['lm_head.layer_norm.weight', 'lm_head.decoder.bias', 'lm_head.dense.bias', 'lm_head.decoder.weight', 'lm_head.bias', 'lm_head.dense.weight', 'lm_head.layer_norm.bias']\n",
      "- This IS expected if you are initializing RobertaForSequenceClassification from the checkpoint of a model trained on another task or with another architecture (e.g. initializing a BertForSequenceClassification model from a BertForPreTraining model).\n",
      "- This IS NOT expected if you are initializing RobertaForSequenceClassification from the checkpoint of a model that you expect to be exactly identical (initializing a BertForSequenceClassification model from a BertForSequenceClassification model).\n",
      "Some weights of RobertaForSequenceClassification were not initialized from the model checkpoint at SCAI-BIO/bio-gottbert-base and are newly initialized: ['classifier.dense.bias', 'classifier.out_proj.bias', 'classifier.dense.weight', 'classifier.out_proj.weight']\n",
      "You should probably TRAIN this model on a down-stream task to be able to use it for predictions and inference.\n"
     ]
    },
    {
     "name": "stdout",
     "output_type": "stream",
     "text": [
      "Using score regularization: True\n",
      "Using label smoothing factor: False\n"
     ]
    },
    {
     "data": {
      "application/vnd.jupyter.widget-view+json": {
       "model_id": "1a97321e782b4efbb2fafac6560da41d",
       "version_major": 2,
       "version_minor": 0
      },
      "text/plain": [
       "Epoch:   0%|          | 0/3 [00:00<?, ?it/s]"
      ]
     },
     "metadata": {},
     "output_type": "display_data"
    },
    {
     "data": {
      "application/vnd.jupyter.widget-view+json": {
       "model_id": "3cebb1e1d9694ec9a001ac8d1844a2ae",
       "version_major": 2,
       "version_minor": 0
      },
      "text/plain": [
       "Iteration:   0%|          | 0/3250 [00:00<?, ?it/s]"
      ]
     },
     "metadata": {},
     "output_type": "display_data"
    },
    {
     "name": "stdout",
     "output_type": "stream",
     "text": [
      "2023-05-31 16:24:47 - EntityLinkingEvaluator: Evaluating the model on eval dataset after epoch 0:\n",
      "2023-05-31 16:25:25 - Accuracy: 0.38461538461538464\n",
      "2023-05-31 16:25:25 - Accuracy @ 5: 0.501891551071879\n",
      "2023-05-31 16:25:25 - Accuracy @ 64: 0.5775535939470365\n",
      "2023-05-31 16:25:25 - Baseline Accuracy: 0.20933165195460277\n",
      "2023-05-31 16:25:25 - Save model to ../temp/icd10gm_index/cross_encoder_training/\n"
     ]
    },
    {
     "data": {
      "application/vnd.jupyter.widget-view+json": {
       "model_id": "5d6823d046d84f54a1842522e8699a47",
       "version_major": 2,
       "version_minor": 0
      },
      "text/plain": [
       "Iteration:   0%|          | 0/3250 [00:00<?, ?it/s]"
      ]
     },
     "metadata": {},
     "output_type": "display_data"
    },
    {
     "name": "stdout",
     "output_type": "stream",
     "text": [
      "2023-05-31 16:29:57 - EntityLinkingEvaluator: Evaluating the model on eval dataset after epoch 1:\n",
      "2023-05-31 16:30:35 - Accuracy: 0.47793190416141235\n",
      "2023-05-31 16:30:35 - Accuracy @ 5: 0.5435056746532156\n",
      "2023-05-31 16:30:35 - Accuracy @ 64: 0.5775535939470365\n",
      "2023-05-31 16:30:35 - Baseline Accuracy: 0.20933165195460277\n",
      "2023-05-31 16:30:35 - Save model to ../temp/icd10gm_index/cross_encoder_training/\n"
     ]
    },
    {
     "data": {
      "application/vnd.jupyter.widget-view+json": {
       "model_id": "f8bdd78c0f6c45f992cff8c255850320",
       "version_major": 2,
       "version_minor": 0
      },
      "text/plain": [
       "Iteration:   0%|          | 0/3250 [00:00<?, ?it/s]"
      ]
     },
     "metadata": {},
     "output_type": "display_data"
    },
    {
     "name": "stdout",
     "output_type": "stream",
     "text": [
      "2023-05-31 16:35:07 - EntityLinkingEvaluator: Evaluating the model on eval dataset after epoch 2:\n",
      "2023-05-31 16:35:45 - Accuracy: 0.48675914249684743\n",
      "2023-05-31 16:35:45 - Accuracy @ 5: 0.5485498108448928\n",
      "2023-05-31 16:35:45 - Accuracy @ 64: 0.5775535939470365\n",
      "2023-05-31 16:35:45 - Baseline Accuracy: 0.20933165195460277\n",
      "2023-05-31 16:35:45 - Save model to ../temp/icd10gm_index/cross_encoder_training/\n"
     ]
    }
   ],
   "source": [
    "rr.fit(train, val, output_dir=output_dir, training_args=train_args)"
   ]
  },
  {
   "cell_type": "markdown",
   "id": "1e84b2ad-4e5c-4af0-be37-3e29a4cc1a6f",
   "metadata": {},
   "source": [
    "# Evaluate Cross-encoder\n",
    "Now we can take our trained model and test it on data outside of training. Using the `xmen.evaluation` module, we gain insights into different error types."
   ]
  },
  {
   "cell_type": "code",
   "execution_count": 13,
   "id": "056b9c8d-f364-420f-8d54-b3986f8b567c",
   "metadata": {},
   "outputs": [],
   "source": [
    "rr = CrossEncoderReranker.load(output_dir, device=0)"
   ]
  },
  {
   "cell_type": "code",
   "execution_count": 33,
   "id": "d3507f0e-8d45-4d78-a662-75a60363e19d",
   "metadata": {},
   "outputs": [
    {
     "data": {
      "application/vnd.jupyter.widget-view+json": {
       "model_id": "7c4c5fb973574d489d00d4ba915b6a5f",
       "version_major": 2,
       "version_minor": 0
      },
      "text/plain": [
       "Batches:   0%|          | 0/793 [00:00<?, ?it/s]"
      ]
     },
     "metadata": {},
     "output_type": "display_data"
    },
    {
     "data": {
      "application/vnd.jupyter.widget-view+json": {
       "model_id": "",
       "version_major": 2,
       "version_minor": 0
      },
      "text/plain": [
       "Map:   0%|          | 0/1 [00:00<?, ? examples/s]"
      ]
     },
     "metadata": {},
     "output_type": "display_data"
    },
    {
     "name": "stdout",
     "output_type": "stream",
     "text": [
      "Perf@1 0.0156290033307712\n",
      "Perf@2 0.0312580066615424\n",
      "Perf@4 0.0625160133230848\n",
      "Perf@8 0.1250320266461696\n",
      "Perf@16 0.2500640532923392\n",
      "Perf@32 0.5001281065846784\n",
      "Perf@64 1.0\n"
     ]
    }
   ],
   "source": [
    "cross_enc_pred_val = rr.rerank_batch(candidates[val_fold], cross_enc_ds[val_fold])\n",
    "_ = evaluate_at_k(candidates[val_fold], cross_enc_pred_val)"
   ]
  },
  {
   "cell_type": "code",
   "execution_count": 25,
   "id": "f9f97c16-f19c-4e54-9b4d-108a3c8f83c1",
   "metadata": {},
   "outputs": [
    {
     "data": {
      "application/vnd.jupyter.widget-view+json": {
       "model_id": "5a41c89496914a8d816e52fd30c57186",
       "version_major": 2,
       "version_minor": 0
      },
      "text/plain": [
       "Batches:   0%|          | 0/830 [00:00<?, ?it/s]"
      ]
     },
     "metadata": {},
     "output_type": "display_data"
    },
    {
     "data": {
      "application/vnd.jupyter.widget-view+json": {
       "model_id": "",
       "version_major": 2,
       "version_minor": 0
      },
      "text/plain": [
       "Map:   0%|          | 0/1 [00:00<?, ? examples/s]"
      ]
     },
     "metadata": {},
     "output_type": "display_data"
    },
    {
     "name": "stdout",
     "output_type": "stream",
     "text": [
      "Perf@1 0.015628834066328166\n",
      "Perf@2 0.03125766813265633\n",
      "Perf@4 0.06251533626531267\n",
      "Perf@8 0.12503067253062533\n",
      "Perf@16 0.25006134506125066\n",
      "Perf@32 0.5001226901225013\n",
      "Perf@64 1.0\n"
     ]
    }
   ],
   "source": [
    "cross_enc_pred_test = rr.rerank_batch(candidates[test_fold], cross_enc_ds[test_fold])\n",
    "_ = evaluate_at_k(candidates[test_fold], cross_enc_pred_test)"
   ]
  },
  {
   "cell_type": "code",
   "execution_count": 26,
   "id": "ee678d6e-4259-4eb9-bccb-f79355c705d7",
   "metadata": {},
   "outputs": [],
   "source": [
    "from notebook_util import analyze\n",
    "from xmen.evaluation import entity_linking_error_analysis"
   ]
  },
  {
   "cell_type": "code",
   "execution_count": 27,
   "id": "f950638c-032c-40a5-b37d-faf79e79fdb2",
   "metadata": {},
   "outputs": [],
   "source": [
    "cg_kb = load_kb(f\"{base_path}/{label2dict[label]}.jsonl\")\n",
    "error_cand = entity_linking_error_analysis(ds[test_fold], candidates[test_fold])\n",
    "edf_cand, _ = analyze(error_cand, cg_kb, 'eval', None)"
   ]
  },
  {
   "cell_type": "code",
   "execution_count": 28,
   "id": "ff1e5d1f-ba9b-4eaf-8cfc-068ad83468c3",
   "metadata": {},
   "outputs": [
    {
     "data": {
      "text/plain": [
       "error_type\n",
       "WRONG_SEMANTIC_TYPE    0.180723\n",
       "ABBREV                 0.100000\n",
       "COMPLEX_ENTITY         0.077108\n",
       "UNKNOWN_ERROR          0.028916\n",
       "MISSING_CUI_GOLD       0.006024\n",
       "Name: count, dtype: float64"
      ]
     },
     "execution_count": 28,
     "metadata": {},
     "output_type": "execute_result"
    }
   ],
   "source": [
    "# False negative (not part of top 64)\n",
    "fns_cand = edf_cand[edf_cand.pred_index == -1]\n",
    "fns_cand_counts = fns_cand.error_type.value_counts() / len(edf_cand)\n",
    "fns_cand_counts"
   ]
  },
  {
   "cell_type": "code",
   "execution_count": 29,
   "id": "e2faa75c-1835-41e4-848c-9bc340523018",
   "metadata": {},
   "outputs": [
    {
     "data": {
      "text/plain": [
       "error_type\n",
       "UNKNOWN_ERROR          0.210843\n",
       "WRONG_SEMANTIC_TYPE    0.102410\n",
       "COMPLEX_ENTITY         0.054217\n",
       "ABBREV                 0.013253\n",
       "Name: count, dtype: float64"
      ]
     },
     "execution_count": 29,
     "metadata": {},
     "output_type": "execute_result"
    }
   ],
   "source": [
    "# Ranking errors during candidate generation\n",
    "misranked_cand = edf_cand[edf_cand.pred_index > 0]\n",
    "misranked_cand_counts = misranked_cand.error_type.value_counts() / len(edf_cand)\n",
    "misranked_cand_counts"
   ]
  },
  {
   "cell_type": "code",
   "execution_count": 34,
   "id": "b7948e53-e8c5-49ab-b4f9-98e22d386fe9",
   "metadata": {},
   "outputs": [
    {
     "data": {
      "text/plain": [
       "error_type\n",
       "UNKNOWN_ERROR          0.050441\n",
       "WRONG_SEMANTIC_TYPE    0.025221\n",
       "ABBREV                 0.007566\n",
       "COMPLEX_ENTITY         0.007566\n",
       "Name: count, dtype: float64"
      ]
     },
     "execution_count": 34,
     "metadata": {},
     "output_type": "execute_result"
    }
   ],
   "source": [
    "# Ranking errors after reranking\n",
    "error_rr = entity_linking_error_analysis(ds[val_fold], cross_enc_pred_val)\n",
    "edf_rr, _ = analyze(error_rr, cg_kb, 'eval', None)\n",
    "\n",
    "misranked_rr = edf_rr[edf_rr.pred_index > 0]\n",
    "misranked_rr_counts = misranked_rr.error_type.value_counts() / len(edf_rr)\n",
    "misranked_rr_counts"
   ]
  },
  {
   "cell_type": "code",
   "execution_count": 35,
   "id": "792329ac-251a-405e-a701-11400dc5b944",
   "metadata": {},
   "outputs": [
    {
     "name": "stdout",
     "output_type": "stream",
     "text": [
      "Recall@1 0.48675914249684743\n",
      "Recall@64 0.5775535939470365\n"
     ]
    }
   ],
   "source": [
    "print('Recall@1', (edf_rr.pred_index == 0).sum() / len(edf_rr))\n",
    "print('Recall@64', (edf_rr.pred_index >= 0).sum() / len(edf_rr))"
   ]
  },
  {
   "cell_type": "code",
   "execution_count": 36,
   "id": "4442e571-9d17-4bf9-8d40-daee77e707a7",
   "metadata": {},
   "outputs": [
    {
     "data": {
      "image/png": "[encoded data removed]",
      "text/plain": [
       "<Figure size 800x200 with 5 Axes>"
      ]
     },
     "metadata": {},
     "output_type": "display_data"
    }
   ],
   "source": [
    "import matplotlib\n",
    "from matplotlib import pyplot as plt\n",
    "\n",
    "error_types = ['Complex Entity', 'Abbreviation', 'Wrong Type', 'Homonyms', 'Other Error']\n",
    "keys = ['COMPLEX_ENTITY', 'ABBREV', 'WRONG_SEMANTIC_TYPE', 'SAME_SYNONYMS', 'UNKNOWN_ERROR']\n",
    "counts = [fns_cand_counts, misranked_cand_counts, misranked_rr_counts]\n",
    "count_names = ['False Negatives', 'Candidate Generation Errors', 'Reranking Errors']\n",
    "\n",
    "hatches = ['', '\\\\\\\\\\\\', '///']\n",
    "colors = ['lightyellow', '#C0F5EC', '#118470']\n",
    "\n",
    "matplotlib.rcParams['hatch.linewidth'] = 0.3 \n",
    "matplotlib.rcParams.update({'font.size': 12})\n",
    "\n",
    "fig, axs = plt.subplots(1, len(keys), figsize=(8, 2))\n",
    "for i, (key, error) in enumerate(zip(keys, error_types)):\n",
    "    for j, bar in enumerate(axs[i].bar(x=count_names, height=[c.get(key, 0.0) for c in counts], color=colors, edgecolor = 'black', linewidth=0.2)):\n",
    "        bar.set_hatch(hatches[j])\n",
    "    axs[i].grid(axis='y')\n",
    "    axs[i].set_ylim([0.0, 0.2])\n",
    "    axs[i].set_xlabel(error, labelpad=10)\n",
    "    axs[i].get_xaxis().set_ticks([])\n",
    "handles = [plt.Rectangle((0,0),1,1, facecolor=color, linewidth=0.2, edgecolor='black', hatch=h) for color, h in zip(colors, hatches)]\n",
    "plt.legend(handles, count_names, loc='upper center', bbox_to_anchor=(-3.1, 1.4, 0, 0), ncol=len(counts))\n",
    "\n",
    "plt.subplots_adjust(wspace=0.7)"
   ]
  }
 ],
 "metadata": {
  "kernelspec": {
   "display_name": "xmen",
   "language": "python",
   "name": "xmen"
  },
  "language_info": {
   "codemirror_mode": {
    "name": "ipython",
    "version": 3
   },
   "file_extension": ".py",
   "mimetype": "text/x-python",
   "name": "python",
   "nbconvert_exporter": "python",
   "pygments_lexer": "ipython3",
   "version": "3.8.16"
  }
 },
 "nbformat": 4,
 "nbformat_minor": 5
}
