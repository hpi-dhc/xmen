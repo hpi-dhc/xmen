{
 "cells": [
  {
   "cell_type": "code",
   "execution_count": 2,
   "id": "a10adb63-50d4-4f3e-835f-e2bc7bd0288f",
   "metadata": {},
   "outputs": [],
   "source": [
    "import pandas as pd"
   ]
  },
  {
   "cell_type": "code",
   "execution_count": 5,
   "id": "69b7e25c-0737-4222-a1df-18122fc161c3",
   "metadata": {},
   "outputs": [
    {
     "data": {
      "text/html": [
       "<div>\n",
       "<style scoped>\n",
       "    .dataframe tbody tr th:only-of-type {\n",
       "        vertical-align: middle;\n",
       "    }\n",
       "\n",
       "    .dataframe tbody tr th {\n",
       "        vertical-align: top;\n",
       "    }\n",
       "\n",
       "    .dataframe thead th {\n",
       "        text-align: right;\n",
       "    }\n",
       "</style>\n",
       "<table border=\"1\" class=\"dataframe\">\n",
       "  <thead>\n",
       "    <tr style=\"text-align: right;\">\n",
       "      <th></th>\n",
       "      <th>key</th>\n",
       "      <th>recall_1</th>\n",
       "      <th>recall_2</th>\n",
       "      <th>recall_4</th>\n",
       "      <th>recall_8</th>\n",
       "      <th>recall_16</th>\n",
       "      <th>recall_32</th>\n",
       "      <th>recall_64</th>\n",
       "    </tr>\n",
       "  </thead>\n",
       "  <tbody>\n",
       "    <tr>\n",
       "      <th>0</th>\n",
       "      <td>ngram</td>\n",
       "      <td>0.464497</td>\n",
       "      <td>0.636095</td>\n",
       "      <td>0.701183</td>\n",
       "      <td>0.751479</td>\n",
       "      <td>0.775148</td>\n",
       "      <td>0.804734</td>\n",
       "      <td>0.810651</td>\n",
       "    </tr>\n",
       "    <tr>\n",
       "      <th>1</th>\n",
       "      <td>sapbert</td>\n",
       "      <td>0.594675</td>\n",
       "      <td>0.633136</td>\n",
       "      <td>0.713018</td>\n",
       "      <td>0.757396</td>\n",
       "      <td>0.766272</td>\n",
       "      <td>0.766272</td>\n",
       "      <td>0.778107</td>\n",
       "    </tr>\n",
       "    <tr>\n",
       "      <th>2</th>\n",
       "      <td>ensemble</td>\n",
       "      <td>0.408284</td>\n",
       "      <td>0.497041</td>\n",
       "      <td>0.636095</td>\n",
       "      <td>0.715976</td>\n",
       "      <td>0.754438</td>\n",
       "      <td>0.786982</td>\n",
       "      <td>0.807692</td>\n",
       "    </tr>\n",
       "  </tbody>\n",
       "</table>\n",
       "</div>"
      ],
      "text/plain": [
       "        key  recall_1  recall_2  recall_4  recall_8  recall_16  recall_32  \\\n",
       "0     ngram  0.464497  0.636095  0.701183  0.751479   0.775148   0.804734   \n",
       "1   sapbert  0.594675  0.633136  0.713018  0.757396   0.766272   0.766272   \n",
       "2  ensemble  0.408284  0.497041  0.636095  0.715976   0.754438   0.786982   \n",
       "\n",
       "   recall_64  \n",
       "0   0.810651  \n",
       "1   0.778107  \n",
       "2   0.807692  "
      ]
     },
     "execution_count": 5,
     "metadata": {},
     "output_type": "execute_result"
    }
   ],
   "source": [
    "pd.read_csv('/dhc/home/florian.borchert/runs/xmen/bronco_medications_benchmark/outputs/2023-06-29_15-45-43/2-bronco_medications_benchmark_test_results.csv')"
   ]
  },
  {
   "cell_type": "code",
   "execution_count": null,
   "id": "13f4fde2-0004-4f41-9aaf-32927191b3c7",
   "metadata": {},
   "outputs": [],
   "source": []
  }
 ],
 "metadata": {
  "kernelspec": {
   "display_name": "Python [conda env:xmen100]",
   "language": "python",
   "name": "conda-env-xmen100-py"
  },
  "language_info": {
   "codemirror_mode": {
    "name": "ipython",
    "version": 3
   },
   "file_extension": ".py",
   "mimetype": "text/x-python",
   "name": "python",
   "nbconvert_exporter": "python",
   "pygments_lexer": "ipython3",
   "version": "3.10.11"
  }
 },
 "nbformat": 4,
 "nbformat_minor": 5
}
