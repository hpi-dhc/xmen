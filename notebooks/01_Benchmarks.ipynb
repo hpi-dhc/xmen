{
 "cells": [
  {
   "cell_type": "markdown",
   "id": "93fb8519-6747-4f42-af46-cf6353ac3836",
   "metadata": {},
   "source": [
    "# Benchmarks\n",
    "\n",
    "In this notebook, we structure the output of the benchmark runs (see `benchmarks` folder in the root directory)"
   ]
  },
  {
   "cell_type": "code",
   "execution_count": 3,
   "id": "a10adb63-50d4-4f3e-835f-e2bc7bd0288f",
   "metadata": {},
   "outputs": [],
   "source": [
    "import pandas as pd\n",
    "from pathlib import Path"
   ]
  },
  {
   "cell_type": "markdown",
   "id": "280a1628-8095-458e-9fe6-5370fd54b1df",
   "metadata": {},
   "source": [
    "# Quaero"
   ]
  },
  {
   "cell_type": "code",
   "execution_count": 64,
   "id": "41e92660-cb77-4c09-8abd-3eade8fac95b",
   "metadata": {},
   "outputs": [],
   "source": [
    "quaero_path = Path('/mnt/nfs/home/Florian.Borchert/runs/xmen/quaero_benchmark/outputs/2023-07-11_20-09-52')"
   ]
  },
  {
   "cell_type": "markdown",
   "id": "456ff8eb-ad6e-4e9e-87ce-0485990ff4de",
   "metadata": {},
   "source": [
    "### Test Set"
   ]
  },
  {
   "cell_type": "code",
   "execution_count": 66,
   "id": "69b7e25c-0737-4222-a1df-18122fc161c3",
   "metadata": {},
   "outputs": [],
   "source": [
    "quaero_all = pd.read_csv(quaero_path / '0-quaero_benchmark_test_results.csv').set_index(['key', 'subset'])"
   ]
  },
  {
   "cell_type": "code",
   "execution_count": 67,
   "id": "13f4fde2-0004-4f41-9aaf-32927191b3c7",
   "metadata": {},
   "outputs": [
    {
     "data": {
      "text/html": [
       "<div>\n",
       "<style scoped>\n",
       "    .dataframe tbody tr th:only-of-type {\n",
       "        vertical-align: middle;\n",
       "    }\n",
       "\n",
       "    .dataframe tbody tr th {\n",
       "        vertical-align: top;\n",
       "    }\n",
       "\n",
       "    .dataframe thead th {\n",
       "        text-align: right;\n",
       "    }\n",
       "</style>\n",
       "<table border=\"1\" class=\"dataframe\">\n",
       "  <thead>\n",
       "    <tr style=\"text-align: right;\">\n",
       "      <th></th>\n",
       "      <th></th>\n",
       "      <th>recall_1</th>\n",
       "      <th>recall_2</th>\n",
       "      <th>recall_4</th>\n",
       "      <th>recall_8</th>\n",
       "      <th>recall_16</th>\n",
       "      <th>recall_32</th>\n",
       "      <th>recall_64</th>\n",
       "    </tr>\n",
       "    <tr>\n",
       "      <th>key</th>\n",
       "      <th>subset</th>\n",
       "      <th></th>\n",
       "      <th></th>\n",
       "      <th></th>\n",
       "      <th></th>\n",
       "      <th></th>\n",
       "      <th></th>\n",
       "      <th></th>\n",
       "    </tr>\n",
       "  </thead>\n",
       "  <tbody>\n",
       "    <tr>\n",
       "      <th>ngram</th>\n",
       "      <th>NaN</th>\n",
       "      <td>0.557841</td>\n",
       "      <td>0.609738</td>\n",
       "      <td>0.641253</td>\n",
       "      <td>0.672014</td>\n",
       "      <td>0.704095</td>\n",
       "      <td>0.733912</td>\n",
       "      <td>0.759011</td>\n",
       "    </tr>\n",
       "    <tr>\n",
       "      <th>sapbert</th>\n",
       "      <th>NaN</th>\n",
       "      <td>0.599358</td>\n",
       "      <td>0.729572</td>\n",
       "      <td>0.806567</td>\n",
       "      <td>0.844122</td>\n",
       "      <td>0.870919</td>\n",
       "      <td>0.889036</td>\n",
       "      <td>0.901680</td>\n",
       "    </tr>\n",
       "    <tr>\n",
       "      <th>ensemble</th>\n",
       "      <th>NaN</th>\n",
       "      <td>0.577279</td>\n",
       "      <td>0.712965</td>\n",
       "      <td>0.792980</td>\n",
       "      <td>0.843178</td>\n",
       "      <td>0.873184</td>\n",
       "      <td>0.889602</td>\n",
       "      <td>0.906397</td>\n",
       "    </tr>\n",
       "    <tr>\n",
       "      <th>candidates</th>\n",
       "      <th>NaN</th>\n",
       "      <td>0.652387</td>\n",
       "      <td>0.775429</td>\n",
       "      <td>0.832987</td>\n",
       "      <td>0.859407</td>\n",
       "      <td>0.879411</td>\n",
       "      <td>0.895452</td>\n",
       "      <td>0.906964</td>\n",
       "    </tr>\n",
       "  </tbody>\n",
       "</table>\n",
       "</div>"
      ],
      "text/plain": [
       "                   recall_1  recall_2  recall_4  recall_8  recall_16  \\\n",
       "key        subset                                                      \n",
       "ngram      NaN     0.557841  0.609738  0.641253  0.672014   0.704095   \n",
       "sapbert    NaN     0.599358  0.729572  0.806567  0.844122   0.870919   \n",
       "ensemble   NaN     0.577279  0.712965  0.792980  0.843178   0.873184   \n",
       "candidates NaN     0.652387  0.775429  0.832987  0.859407   0.879411   \n",
       "\n",
       "                   recall_32  recall_64  \n",
       "key        subset                        \n",
       "ngram      NaN      0.733912   0.759011  \n",
       "sapbert    NaN      0.889036   0.901680  \n",
       "ensemble   NaN      0.889602   0.906397  \n",
       "candidates NaN      0.895452   0.906964  "
      ]
     },
     "execution_count": 67,
     "metadata": {},
     "output_type": "execute_result"
    }
   ],
   "source": [
    "quaero_all.query('subset.isnull()')"
   ]
  },
  {
   "cell_type": "markdown",
   "id": "e186ae18-0ba4-4283-9224-a7928e32290c",
   "metadata": {},
   "source": [
    "# BRONCO"
   ]
  },
  {
   "cell_type": "code",
   "execution_count": 68,
   "id": "c41bf980-7e93-46f0-aa58-9ea0ac679d51",
   "metadata": {},
   "outputs": [],
   "source": [
    "n_splits = 5"
   ]
  },
  {
   "cell_type": "markdown",
   "id": "832305eb-8e99-4dee-ae22-fbd17ccad60d",
   "metadata": {},
   "source": [
    "## Medications"
   ]
  },
  {
   "cell_type": "markdown",
   "id": "f52e116f-988e-40ff-92c9-f1402a2bcece",
   "metadata": {},
   "source": [
    "### Test Set"
   ]
  },
  {
   "cell_type": "code",
   "execution_count": 16,
   "id": "633c1579-f766-49fc-a52f-7ba853460646",
   "metadata": {},
   "outputs": [],
   "source": [
    "bronco_med_path = Path('/mnt/nfs/home/Florian.Borchert/runs/xmen/bronco_medications_benchmark/outputs/2023-07-07_21-35-25/1')"
   ]
  },
  {
   "cell_type": "code",
   "execution_count": 30,
   "id": "8fa4a896-4c34-4ceb-834c-47894216b8d4",
   "metadata": {},
   "outputs": [],
   "source": [
    "split_res = [pd.read_csv(bronco_med_path / f'{i}-bronco_medications_benchmark_results.csv').set_index('key') for i in range(0, n_splits)]"
   ]
  },
  {
   "cell_type": "code",
   "execution_count": 33,
   "id": "fbc80ef6-129b-47c7-9a2a-a74e9a15059d",
   "metadata": {},
   "outputs": [
    {
     "data": {
      "text/html": [
       "<div>\n",
       "<style scoped>\n",
       "    .dataframe tbody tr th:only-of-type {\n",
       "        vertical-align: middle;\n",
       "    }\n",
       "\n",
       "    .dataframe tbody tr th {\n",
       "        vertical-align: top;\n",
       "    }\n",
       "\n",
       "    .dataframe thead th {\n",
       "        text-align: right;\n",
       "    }\n",
       "</style>\n",
       "<table border=\"1\" class=\"dataframe\">\n",
       "  <thead>\n",
       "    <tr style=\"text-align: right;\">\n",
       "      <th></th>\n",
       "      <th>recall_1</th>\n",
       "      <th>recall_2</th>\n",
       "      <th>recall_4</th>\n",
       "      <th>recall_8</th>\n",
       "      <th>recall_16</th>\n",
       "      <th>recall_32</th>\n",
       "      <th>recall_64</th>\n",
       "    </tr>\n",
       "    <tr>\n",
       "      <th>key</th>\n",
       "      <th></th>\n",
       "      <th></th>\n",
       "      <th></th>\n",
       "      <th></th>\n",
       "      <th></th>\n",
       "      <th></th>\n",
       "      <th></th>\n",
       "    </tr>\n",
       "  </thead>\n",
       "  <tbody>\n",
       "    <tr>\n",
       "      <th>ngram</th>\n",
       "      <td>0.494467</td>\n",
       "      <td>0.656981</td>\n",
       "      <td>0.701576</td>\n",
       "      <td>0.740179</td>\n",
       "      <td>0.761011</td>\n",
       "      <td>0.801469</td>\n",
       "      <td>0.820708</td>\n",
       "    </tr>\n",
       "    <tr>\n",
       "      <th>ngram</th>\n",
       "      <td>0.494467</td>\n",
       "      <td>0.656981</td>\n",
       "      <td>0.701576</td>\n",
       "      <td>0.740179</td>\n",
       "      <td>0.761011</td>\n",
       "      <td>0.801469</td>\n",
       "      <td>0.820708</td>\n",
       "    </tr>\n",
       "    <tr>\n",
       "      <th>sapbert</th>\n",
       "      <td>0.416403</td>\n",
       "      <td>0.590728</td>\n",
       "      <td>0.654420</td>\n",
       "      <td>0.721061</td>\n",
       "      <td>0.740135</td>\n",
       "      <td>0.770886</td>\n",
       "      <td>0.783823</td>\n",
       "    </tr>\n",
       "    <tr>\n",
       "      <th>sapbert</th>\n",
       "      <td>0.416403</td>\n",
       "      <td>0.590728</td>\n",
       "      <td>0.654420</td>\n",
       "      <td>0.721061</td>\n",
       "      <td>0.740135</td>\n",
       "      <td>0.770886</td>\n",
       "      <td>0.783823</td>\n",
       "    </tr>\n",
       "    <tr>\n",
       "      <th>ensemble</th>\n",
       "      <td>0.409821</td>\n",
       "      <td>0.499285</td>\n",
       "      <td>0.634872</td>\n",
       "      <td>0.707690</td>\n",
       "      <td>0.745035</td>\n",
       "      <td>0.784367</td>\n",
       "      <td>0.804602</td>\n",
       "    </tr>\n",
       "    <tr>\n",
       "      <th>ensemble</th>\n",
       "      <td>0.409821</td>\n",
       "      <td>0.499285</td>\n",
       "      <td>0.634872</td>\n",
       "      <td>0.707690</td>\n",
       "      <td>0.745035</td>\n",
       "      <td>0.784367</td>\n",
       "      <td>0.804602</td>\n",
       "    </tr>\n",
       "    <tr>\n",
       "      <th>cross_encoder</th>\n",
       "      <td>0.698093</td>\n",
       "      <td>0.752040</td>\n",
       "      <td>0.769056</td>\n",
       "      <td>0.788589</td>\n",
       "      <td>0.795897</td>\n",
       "      <td>0.799045</td>\n",
       "      <td>0.804602</td>\n",
       "    </tr>\n",
       "    <tr>\n",
       "      <th>cross_encoder</th>\n",
       "      <td>0.697669</td>\n",
       "      <td>0.752103</td>\n",
       "      <td>0.768449</td>\n",
       "      <td>0.791132</td>\n",
       "      <td>0.795454</td>\n",
       "      <td>0.800943</td>\n",
       "      <td>0.804602</td>\n",
       "    </tr>\n",
       "  </tbody>\n",
       "</table>\n",
       "</div>"
      ],
      "text/plain": [
       "               recall_1  recall_2  recall_4  recall_8  recall_16  recall_32  \\\n",
       "key                                                                           \n",
       "ngram          0.494467  0.656981  0.701576  0.740179   0.761011   0.801469   \n",
       "ngram          0.494467  0.656981  0.701576  0.740179   0.761011   0.801469   \n",
       "sapbert        0.416403  0.590728  0.654420  0.721061   0.740135   0.770886   \n",
       "sapbert        0.416403  0.590728  0.654420  0.721061   0.740135   0.770886   \n",
       "ensemble       0.409821  0.499285  0.634872  0.707690   0.745035   0.784367   \n",
       "ensemble       0.409821  0.499285  0.634872  0.707690   0.745035   0.784367   \n",
       "cross_encoder  0.698093  0.752040  0.769056  0.788589   0.795897   0.799045   \n",
       "cross_encoder  0.697669  0.752103  0.768449  0.791132   0.795454   0.800943   \n",
       "\n",
       "               recall_64  \n",
       "key                       \n",
       "ngram           0.820708  \n",
       "ngram           0.820708  \n",
       "sapbert         0.783823  \n",
       "sapbert         0.783823  \n",
       "ensemble        0.804602  \n",
       "ensemble        0.804602  \n",
       "cross_encoder   0.804602  \n",
       "cross_encoder   0.804602  "
      ]
     },
     "execution_count": 33,
     "metadata": {},
     "output_type": "execute_result"
    }
   ],
   "source": [
    "sum(split_res) / n_splits"
   ]
  },
  {
   "cell_type": "code",
   "execution_count": 17,
   "id": "6235e129-871e-4948-91ce-df4880ce671b",
   "metadata": {},
   "outputs": [
    {
     "data": {
      "text/plain": [
       "[PosixPath('/mnt/nfs/home/Florian.Borchert/runs/xmen/bronco_medications_benchmark/outputs/2023-07-07_21-35-25/1/run_benchmark.log'),\n",
       " PosixPath('/mnt/nfs/home/Florian.Borchert/runs/xmen/bronco_medications_benchmark/outputs/2023-07-07_21-35-25/1/.hydra'),\n",
       " PosixPath('/mnt/nfs/home/Florian.Borchert/runs/xmen/bronco_medications_benchmark/outputs/2023-07-07_21-35-25/1/wandb'),\n",
       " PosixPath('/mnt/nfs/home/Florian.Borchert/runs/xmen/bronco_medications_benchmark/outputs/2023-07-07_21-35-25/1/0-bronco_medications_benchmark_results.csv'),\n",
       " PosixPath('/mnt/nfs/home/Florian.Borchert/runs/xmen/bronco_medications_benchmark/outputs/2023-07-07_21-35-25/1/0-bronco_medications_benchmark_dataset'),\n",
       " PosixPath('/mnt/nfs/home/Florian.Borchert/runs/xmen/bronco_medications_benchmark/outputs/2023-07-07_21-35-25/1/0-bronco_medications_benchmark_cross_enc_pred_val'),\n",
       " PosixPath('/mnt/nfs/home/Florian.Borchert/runs/xmen/bronco_medications_benchmark/outputs/2023-07-07_21-35-25/1/0-bronco_medications_benchmark_cross_enc_pred_test'),\n",
       " PosixPath('/mnt/nfs/home/Florian.Borchert/runs/xmen/bronco_medications_benchmark/outputs/2023-07-07_21-35-25/1/1-bronco_medications_benchmark_results.csv'),\n",
       " PosixPath('/mnt/nfs/home/Florian.Borchert/runs/xmen/bronco_medications_benchmark/outputs/2023-07-07_21-35-25/1/1-bronco_medications_benchmark_dataset'),\n",
       " PosixPath('/mnt/nfs/home/Florian.Borchert/runs/xmen/bronco_medications_benchmark/outputs/2023-07-07_21-35-25/1/1-bronco_medications_benchmark_cross_enc_pred_val'),\n",
       " PosixPath('/mnt/nfs/home/Florian.Borchert/runs/xmen/bronco_medications_benchmark/outputs/2023-07-07_21-35-25/1/1-bronco_medications_benchmark_cross_enc_pred_test'),\n",
       " PosixPath('/mnt/nfs/home/Florian.Borchert/runs/xmen/bronco_medications_benchmark/outputs/2023-07-07_21-35-25/1/2-bronco_medications_benchmark_results.csv'),\n",
       " PosixPath('/mnt/nfs/home/Florian.Borchert/runs/xmen/bronco_medications_benchmark/outputs/2023-07-07_21-35-25/1/2-bronco_medications_benchmark_dataset'),\n",
       " PosixPath('/mnt/nfs/home/Florian.Borchert/runs/xmen/bronco_medications_benchmark/outputs/2023-07-07_21-35-25/1/2-bronco_medications_benchmark_cross_enc_pred_val'),\n",
       " PosixPath('/mnt/nfs/home/Florian.Borchert/runs/xmen/bronco_medications_benchmark/outputs/2023-07-07_21-35-25/1/2-bronco_medications_benchmark_cross_enc_pred_test'),\n",
       " PosixPath('/mnt/nfs/home/Florian.Borchert/runs/xmen/bronco_medications_benchmark/outputs/2023-07-07_21-35-25/1/3-bronco_medications_benchmark_results.csv'),\n",
       " PosixPath('/mnt/nfs/home/Florian.Borchert/runs/xmen/bronco_medications_benchmark/outputs/2023-07-07_21-35-25/1/3-bronco_medications_benchmark_dataset'),\n",
       " PosixPath('/mnt/nfs/home/Florian.Borchert/runs/xmen/bronco_medications_benchmark/outputs/2023-07-07_21-35-25/1/3-bronco_medications_benchmark_cross_enc_pred_val'),\n",
       " PosixPath('/mnt/nfs/home/Florian.Borchert/runs/xmen/bronco_medications_benchmark/outputs/2023-07-07_21-35-25/1/3-bronco_medications_benchmark_cross_enc_pred_test'),\n",
       " PosixPath('/mnt/nfs/home/Florian.Borchert/runs/xmen/bronco_medications_benchmark/outputs/2023-07-07_21-35-25/1/4-bronco_medications_benchmark_results.csv'),\n",
       " PosixPath('/mnt/nfs/home/Florian.Borchert/runs/xmen/bronco_medications_benchmark/outputs/2023-07-07_21-35-25/1/4-bronco_medications_benchmark_dataset'),\n",
       " PosixPath('/mnt/nfs/home/Florian.Borchert/runs/xmen/bronco_medications_benchmark/outputs/2023-07-07_21-35-25/1/4-bronco_medications_benchmark_cross_enc_pred_val'),\n",
       " PosixPath('/mnt/nfs/home/Florian.Borchert/runs/xmen/bronco_medications_benchmark/outputs/2023-07-07_21-35-25/1/4-bronco_medications_benchmark_cross_enc_pred_test')]"
      ]
     },
     "execution_count": 17,
     "metadata": {},
     "output_type": "execute_result"
    }
   ],
   "source": [
    "list(bronco_med_path.glob('*'))"
   ]
  },
  {
   "cell_type": "markdown",
   "id": "3e6f7f86-dd53-43e6-9445-d134d7b3b3d9",
   "metadata": {},
   "source": [
    "# DisTEMIST"
   ]
  },
  {
   "cell_type": "code",
   "execution_count": 55,
   "id": "aa37b675-7ead-4c6c-93ac-32d124db2ff4",
   "metadata": {},
   "outputs": [],
   "source": [
    "distemist_path = Path('/mnt/nfs/home/Florian.Borchert/runs/xmen/distemist_benchmark/outputs/2023-07-11_18-44-50/')"
   ]
  },
  {
   "cell_type": "code",
   "execution_count": 56,
   "id": "a285aeaa-84e6-4d10-9854-5566abe8feee",
   "metadata": {},
   "outputs": [
    {
     "data": {
      "text/plain": [
       "[PosixPath('/mnt/nfs/home/Florian.Borchert/runs/xmen/distemist_benchmark/outputs/2023-07-11_18-44-50/run_benchmark.log'),\n",
       " PosixPath('/mnt/nfs/home/Florian.Borchert/runs/xmen/distemist_benchmark/outputs/2023-07-11_18-44-50/.hydra'),\n",
       " PosixPath('/mnt/nfs/home/Florian.Borchert/runs/xmen/distemist_benchmark/outputs/2023-07-11_18-44-50/wandb'),\n",
       " PosixPath('/mnt/nfs/home/Florian.Borchert/runs/xmen/distemist_benchmark/outputs/2023-07-11_18-44-50/0-distemist_benchmark_validation_results.csv'),\n",
       " PosixPath('/mnt/nfs/home/Florian.Borchert/runs/xmen/distemist_benchmark/outputs/2023-07-11_18-44-50/0-distemist_benchmark_test_results.csv'),\n",
       " PosixPath('/mnt/nfs/home/Florian.Borchert/runs/xmen/distemist_benchmark/outputs/2023-07-11_18-44-50/0-distemist_benchmark_dataset'),\n",
       " PosixPath('/mnt/nfs/home/Florian.Borchert/runs/xmen/distemist_benchmark/outputs/2023-07-11_18-44-50/0-distemist_benchmark_candidates')]"
      ]
     },
     "execution_count": 56,
     "metadata": {},
     "output_type": "execute_result"
    }
   ],
   "source": [
    "list(distemist_path.glob('*'))"
   ]
  },
  {
   "cell_type": "code",
   "execution_count": 59,
   "id": "95f235a4-e2c6-4b4b-98ef-73954dfd4e2d",
   "metadata": {},
   "outputs": [
    {
     "data": {
      "text/html": [
       "<div>\n",
       "<style scoped>\n",
       "    .dataframe tbody tr th:only-of-type {\n",
       "        vertical-align: middle;\n",
       "    }\n",
       "\n",
       "    .dataframe tbody tr th {\n",
       "        vertical-align: top;\n",
       "    }\n",
       "\n",
       "    .dataframe thead th {\n",
       "        text-align: right;\n",
       "    }\n",
       "</style>\n",
       "<table border=\"1\" class=\"dataframe\">\n",
       "  <thead>\n",
       "    <tr style=\"text-align: right;\">\n",
       "      <th></th>\n",
       "      <th>key</th>\n",
       "      <th>subset</th>\n",
       "      <th>recall_1</th>\n",
       "      <th>recall_2</th>\n",
       "      <th>recall_4</th>\n",
       "      <th>recall_8</th>\n",
       "      <th>recall_16</th>\n",
       "      <th>recall_32</th>\n",
       "      <th>recall_64</th>\n",
       "    </tr>\n",
       "  </thead>\n",
       "  <tbody>\n",
       "    <tr>\n",
       "      <th>0</th>\n",
       "      <td>ngram</td>\n",
       "      <td>NaN</td>\n",
       "      <td>0.292949</td>\n",
       "      <td>0.416087</td>\n",
       "      <td>0.588878</td>\n",
       "      <td>0.680238</td>\n",
       "      <td>0.723932</td>\n",
       "      <td>0.762661</td>\n",
       "      <td>0.796425</td>\n",
       "    </tr>\n",
       "    <tr>\n",
       "      <th>1</th>\n",
       "      <td>sapbert</td>\n",
       "      <td>NaN</td>\n",
       "      <td>0.344588</td>\n",
       "      <td>0.511420</td>\n",
       "      <td>0.644489</td>\n",
       "      <td>0.749752</td>\n",
       "      <td>0.790467</td>\n",
       "      <td>0.813307</td>\n",
       "      <td>0.835154</td>\n",
       "    </tr>\n",
       "    <tr>\n",
       "      <th>2</th>\n",
       "      <td>ensemble</td>\n",
       "      <td>NaN</td>\n",
       "      <td>0.424032</td>\n",
       "      <td>0.543198</td>\n",
       "      <td>0.662363</td>\n",
       "      <td>0.749752</td>\n",
       "      <td>0.798411</td>\n",
       "      <td>0.818272</td>\n",
       "      <td>0.846077</td>\n",
       "    </tr>\n",
       "    <tr>\n",
       "      <th>3</th>\n",
       "      <td>candidates</td>\n",
       "      <td>NaN</td>\n",
       "      <td>0.424032</td>\n",
       "      <td>0.543198</td>\n",
       "      <td>0.662363</td>\n",
       "      <td>0.749752</td>\n",
       "      <td>0.798411</td>\n",
       "      <td>0.818272</td>\n",
       "      <td>0.846077</td>\n",
       "    </tr>\n",
       "  </tbody>\n",
       "</table>\n",
       "</div>"
      ],
      "text/plain": [
       "          key  subset  recall_1  recall_2  recall_4  recall_8  recall_16  \\\n",
       "0       ngram     NaN  0.292949  0.416087  0.588878  0.680238   0.723932   \n",
       "1     sapbert     NaN  0.344588  0.511420  0.644489  0.749752   0.790467   \n",
       "2    ensemble     NaN  0.424032  0.543198  0.662363  0.749752   0.798411   \n",
       "3  candidates     NaN  0.424032  0.543198  0.662363  0.749752   0.798411   \n",
       "\n",
       "   recall_32  recall_64  \n",
       "0   0.762661   0.796425  \n",
       "1   0.813307   0.835154  \n",
       "2   0.818272   0.846077  \n",
       "3   0.818272   0.846077  "
      ]
     },
     "execution_count": 59,
     "metadata": {},
     "output_type": "execute_result"
    }
   ],
   "source": [
    "pd.read_csv(distemist_path / '0-distemist_benchmark_validation_results.csv')"
   ]
  },
  {
   "cell_type": "code",
   "execution_count": null,
   "id": "f20d1c91-9df5-4a2a-9b4f-b2726ff3e5e7",
   "metadata": {},
   "outputs": [],
   "source": [
    "# TODO"
   ]
  },
  {
   "cell_type": "markdown",
   "id": "676296ac-5310-4af2-be47-847ef9b4d7c5",
   "metadata": {},
   "source": [
    "# MedMentions"
   ]
  },
  {
   "cell_type": "code",
   "execution_count": null,
   "id": "5c55c6ed-2d5c-4dac-83cb-fbffb45cbc16",
   "metadata": {},
   "outputs": [],
   "source": [
    "# TODO"
   ]
  },
  {
   "cell_type": "markdown",
   "id": "20f95e04-1fd9-41b0-ae70-511e9321a204",
   "metadata": {},
   "source": [
    "# Mantra GSC"
   ]
  },
  {
   "cell_type": "code",
   "execution_count": null,
   "id": "f874c0d9-fc83-45c2-b31d-d6f4625775e1",
   "metadata": {},
   "outputs": [],
   "source": [
    "# TODO"
   ]
  }
 ],
 "metadata": {
  "kernelspec": {
   "display_name": "Python [conda env:xmen_notebooks]",
   "language": "python",
   "name": "conda-env-xmen_notebooks-py"
  },
  "language_info": {
   "codemirror_mode": {
    "name": "ipython",
    "version": 3
   },
   "file_extension": ".py",
   "mimetype": "text/x-python",
   "name": "python",
   "nbconvert_exporter": "python",
   "pygments_lexer": "ipython3",
   "version": "3.10.11"
  }
 },
 "nbformat": 4,
 "nbformat_minor": 5
}
