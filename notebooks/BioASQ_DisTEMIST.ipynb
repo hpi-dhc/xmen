{
 "cells": [
  {
   "cell_type": "markdown",
   "metadata": {},
   "source": [
    "# Entity Linking Pipeline for [DisTEMIST](https://temu.bsc.es/distemist/) Shared Task (10th BioASQ Workshop)\n",
    "\n",
    "The goal is to link disease mentions in Spanish case reports to SNOMED CT IDs.\n",
    "\n",
    "Highlights:\n",
    "- Building a custom dictionary based on the (non-UMLS) DisTEMIST gazetteer + multilingual UMLS synonyms\n",
    "- Using an Ensemble of TFIDFNgramLinker + SapBERTLinker\n",
    "- Reranking with a trainable CrossEncoderReranker\n",
    "- Evaluation and Error Analysis"
   ]
  },
  {
   "cell_type": "code",
   "execution_count": 2,
   "metadata": {},
   "outputs": [],
   "source": [
    "from pathlib import Path"
   ]
  },
  {
   "cell_type": "code",
   "execution_count": 3,
   "metadata": {},
   "outputs": [],
   "source": [
    "from xmen.evaluation import entity_linking_error_analysis, evaluate_at_k\n",
    "from xmen.linkers.util import filter_and_apply_threshold"
   ]
  },
  {
   "cell_type": "markdown",
   "metadata": {},
   "source": [
    "**Note**: adapt `umls_meta_path` in `../conf/distemist.yaml` to point to the location of your UMLS release (you might want to set the environment variable `$UMLS_HOME`)"
   ]
  },
  {
   "cell_type": "code",
   "execution_count": 4,
   "metadata": {},
   "outputs": [],
   "source": [
    "from xmen.confhelper import load_config\n",
    "config = load_config('../conf/distemist.yaml')\n",
    "base_path = Path(config.cache_dir)\n",
    "tmp_path = Path('..') / 'temp' / 'distemist'"
   ]
  },
  {
   "cell_type": "code",
   "execution_count": 5,
   "metadata": {},
   "outputs": [
    {
     "name": "stderr",
     "output_type": "stream",
     "text": [
      "Using the latest cached version of the module from /home/Florian.Borchert/.cache/huggingface/modules/datasets_modules/datasets/distemist/f63b2c6775932c342d7bff59d751d6139c0c52c5255f7fbb3e458d255728a8dd (last modified on Thu Apr 20 13:14:35 2023) since it couldn't be found locally at distemist., or remotely on the Hugging Face Hub.\n",
      "Found cached dataset distemist (/home/Florian.Borchert/.cache/huggingface/datasets/distemist/distemist_linking_bigbio_kb/1.0.0/f63b2c6775932c342d7bff59d751d6139c0c52c5255f7fbb3e458d255728a8dd)\n"
     ]
    },
    {
     "data": {
      "application/vnd.jupyter.widget-view+json": {
       "model_id": "24e769868e1b422f8f0c1d23d3616d0f",
       "version_major": 2,
       "version_minor": 0
      },
      "text/plain": [
       "  0%|          | 0/2 [00:00<?, ?it/s]"
      ]
     },
     "metadata": {},
     "output_type": "display_data"
    },
    {
     "name": "stderr",
     "output_type": "stream",
     "text": [
      "Loading cached processed dataset at /home/Florian.Borchert/.cache/huggingface/datasets/distemist/distemist_linking_bigbio_kb/1.0.0/f63b2c6775932c342d7bff59d751d6139c0c52c5255f7fbb3e458d255728a8dd/cache-39869da4ad369074.arrow\n",
      "Loading cached processed dataset at /home/Florian.Borchert/.cache/huggingface/datasets/distemist/distemist_linking_bigbio_kb/1.0.0/f63b2c6775932c342d7bff59d751d6139c0c52c5255f7fbb3e458d255728a8dd/cache-955d26b050eff51d.arrow\n"
     ]
    },
    {
     "data": {
      "text/plain": [
       "DatasetDict({\n",
       "    train: Dataset({\n",
       "        features: ['id', 'document_id', 'passages', 'entities', 'events', 'coreferences', 'relations'],\n",
       "        num_rows: 466\n",
       "    })\n",
       "    test: Dataset({\n",
       "        features: ['id', 'document_id', 'passages', 'entities', 'events', 'coreferences', 'relations'],\n",
       "        num_rows: 250\n",
       "    })\n",
       "    validation: Dataset({\n",
       "        features: ['id', 'document_id', 'passages', 'entities', 'events', 'coreferences', 'relations'],\n",
       "        num_rows: 117\n",
       "    })\n",
       "})"
      ]
     },
     "execution_count": 5,
     "metadata": {},
     "output_type": "execute_result"
    }
   ],
   "source": [
    "import datasets\n",
    "\n",
    "ds = datasets.load_dataset('distemist', 'distemist_linking_bigbio_kb')\n",
    "\n",
    "# Own validation set (20% of distemist training set / EL sub-track)\n",
    "with open('distemist_validation_docs.txt', 'r') as fh:\n",
    "    valid_ids = [l.strip() for l in fh.readlines()]\n",
    "    \n",
    "ds_train = ds['train'].filter(lambda d: d['document_id'] not in valid_ids)\n",
    "ds_valid = ds['train'].filter(lambda d: d['document_id'] in valid_ids)\n",
    "\n",
    "ds['train'] = ds_train\n",
    "ds['validation'] = ds_valid\n",
    "\n",
    "ds"
   ]
  },
  {
   "cell_type": "markdown",
   "metadata": {
    "tags": []
   },
   "source": [
    "# Preparation - Just run once\n",
    "\n",
    "__Note__: This is a bit more involved, because we dynamically explore different combinations of DisTEMIST gazetteer and UMLS subsets.\n",
    "\n",
    "In most normal cases, you just want to configure the target dictionary in your .yaml file and run `xmen dict` and `xmen index` with default settings."
   ]
  },
  {
   "cell_type": "markdown",
   "metadata": {},
   "source": [
    "## Download Distemist gazetteer"
   ]
  },
  {
   "cell_type": "code",
   "execution_count": 6,
   "metadata": {},
   "outputs": [
    {
     "name": "stdout",
     "output_type": "stream",
     "text": [
      "--2023-06-06 21:02:55--  https://zenodo.org/record/6505583/files/dictionary_distemist.tsv?download=0\n",
      "Resolving zenodo.org (zenodo.org)... 188.185.124.72\n",
      "Connecting to zenodo.org (zenodo.org)|188.185.124.72|:443... connected.\n",
      "HTTP request sent, awaiting response... 200 OK\n",
      "Length: 9885605 (9.4M) [application/octet-stream]\n",
      "Saving to: ‘../temp/dictionary_distemist.tsv’\n",
      "\n",
      "../temp/dictionary_ 100%[===================>]   9.43M  3.44MB/s    in 2.7s    \n",
      "\n",
      "2023-06-06 21:02:58 (3.44 MB/s) - ‘../temp/dictionary_distemist.tsv’ saved [9885605/9885605]\n",
      "\n"
     ]
    }
   ],
   "source": [
    "!mkdir -p ../temp; wget https://zenodo.org/record/6505583/files/dictionary_distemist.tsv?download=0 -O ../temp/dictionary_distemist.tsv"
   ]
  },
  {
   "cell_type": "markdown",
   "metadata": {},
   "source": [
    "## Setup dictionaries"
   ]
  },
  {
   "cell_type": "markdown",
   "metadata": {},
   "source": [
    "Since the DisTEMIST Task only covers a subset of SNOMED CT codes, we retrieve only additional synonyms for the UMLS for these codes.\n",
    "Thus, we need to map CUIs to SNOMED CT IDs and merge them with the DisTEMIST gazetteer."
   ]
  },
  {
   "cell_type": "code",
   "execution_count": 7,
   "metadata": {},
   "outputs": [],
   "source": [
    "dict_configs = ['distemist_gazetteer', 'distemist_umls_es', 'distemist_umls_en_es', 'distemist_umls_all'] "
   ]
  },
  {
   "cell_type": "code",
   "execution_count": 8,
   "metadata": {},
   "outputs": [
    {
     "data": {
      "text/markdown": [
       "`xmen dict conf/distemist.yaml --code dicts/distemist.py --key distemist_gazetteer`"
      ],
      "text/plain": [
       "<IPython.core.display.Markdown object>"
      ]
     },
     "metadata": {},
     "output_type": "display_data"
    },
    {
     "data": {
      "text/markdown": [
       "`xmen dict conf/distemist.yaml --code dicts/distemist.py --key distemist_umls_es`"
      ],
      "text/plain": [
       "<IPython.core.display.Markdown object>"
      ]
     },
     "metadata": {},
     "output_type": "display_data"
    },
    {
     "data": {
      "text/markdown": [
       "`xmen dict conf/distemist.yaml --code dicts/distemist.py --key distemist_umls_en_es`"
      ],
      "text/plain": [
       "<IPython.core.display.Markdown object>"
      ]
     },
     "metadata": {},
     "output_type": "display_data"
    },
    {
     "data": {
      "text/markdown": [
       "`xmen dict conf/distemist.yaml --code dicts/distemist.py --key distemist_umls_all`"
      ],
      "text/plain": [
       "<IPython.core.display.Markdown object>"
      ]
     },
     "metadata": {},
     "output_type": "display_data"
    }
   ],
   "source": [
    "from IPython.display import Markdown, display\n",
    "\n",
    "# Run these commands from the root folder\n",
    "for d in dict_configs:\n",
    "    display(Markdown(f\"`xmen dict conf/distemist.yaml --code dicts/distemist.py --key {d}`\"))"
   ]
  },
  {
   "cell_type": "code",
   "execution_count": 9,
   "metadata": {},
   "outputs": [],
   "source": [
    "meta_path = Path(config.umls_meta_path)"
   ]
  },
  {
   "cell_type": "code",
   "execution_count": 10,
   "metadata": {},
   "outputs": [],
   "source": [
    "from collections import defaultdict\n",
    "from tqdm.auto import tqdm\n",
    "from xmen.umls import read_umls_file_headers\n",
    "\n",
    "def read_cui2snomed_mapping(meta_path):\n",
    "    mrconso = 'MRCONSO.RRF'\n",
    "    cui2snomed = defaultdict(list)\n",
    "    headers = read_umls_file_headers(meta_path, mrconso)\n",
    "    with open(f\"{meta_path}/{mrconso}\") as fin:\n",
    "        for line in tqdm(fin.readlines()):\n",
    "            splits = line.strip().split(\"|\")\n",
    "            assert len(headers) == len(splits)\n",
    "            concept = dict(zip(headers, splits))\n",
    "            if concept['SAB'] in ['SNOMEDCT_US', 'SCTSPA']:\n",
    "                cui2snomed[concept['CUI']].append(concept['SCUI'])\n",
    "    return cui2snomed"
   ]
  },
  {
   "cell_type": "code",
   "execution_count": 11,
   "metadata": {},
   "outputs": [
    {
     "data": {
      "application/vnd.jupyter.widget-view+json": {
       "model_id": "37868462c401436bb158bd9fcfafc778",
       "version_major": 2,
       "version_minor": 0
      },
      "text/plain": [
       "  0%|          | 0/16857345 [00:00<?, ?it/s]"
      ]
     },
     "metadata": {},
     "output_type": "display_data"
    }
   ],
   "source": [
    "cui2snomed_mapping = read_cui2snomed_mapping(meta_path)"
   ]
  },
  {
   "cell_type": "code",
   "execution_count": 12,
   "metadata": {},
   "outputs": [],
   "source": [
    "import json\n",
    "from tqdm.auto import tqdm\n",
    "from xmen.kb import CompositeKnowledgebase\n",
    "\n",
    "def cui2snomed(entry):\n",
    "    res = []\n",
    "    cui = entry['concept_id']\n",
    "    for sctid in cui2snomed_mapping[cui]:\n",
    "        r = entry.copy()\n",
    "        r['concept_id'] = sctid\n",
    "        res.append(r)\n",
    "    return res\n",
    "\n",
    "def merge_and_write_dicts(target_jsonl, added_jsonl, output_jsonl):\n",
    "    print(f'Writing to {output_jsonl}')\n",
    "    output_jsonl.parent.mkdir(exist_ok=True, parents=True)\n",
    "    cui_count = alias_count = 0\n",
    "    kb = CompositeKnowledgebase([added_jsonl], mappers=[cui2snomed])\n",
    "    with open(output_jsonl, 'w') as fo:\n",
    "        for l in tqdm(list(open(target_jsonl).readlines())):\n",
    "            cui_count += 1\n",
    "            entry = json.loads(l)\n",
    "            sctid = str(entry['concept_id'])\n",
    "            if sctid in kb.cui_to_entity:\n",
    "                concept = kb.cui_to_entity[sctid]\n",
    "                known_aliases = [entry['canonical_name']] + entry['aliases']\n",
    "                new_aliases = [c for c in [concept.canonical_name] + concept.aliases if c not in known_aliases]\n",
    "            else:\n",
    "                new_aliases = []\n",
    "            entry['aliases'] += new_aliases\n",
    "            alias_count += (len(entry['aliases']) + 1)\n",
    "            fo.write(json.dumps(entry) + '\\n')\n",
    "    print(f'Written {cui_count} concepts with {alias_count} aliases')"
   ]
  },
  {
   "cell_type": "code",
   "execution_count": 13,
   "metadata": {},
   "outputs": [],
   "source": [
    "distemist_gazetteer_jsonl = base_path / 'distemist_gazetteer' / 'distemist_gazetteer.jsonl'"
   ]
  },
  {
   "cell_type": "code",
   "execution_count": 14,
   "metadata": {},
   "outputs": [
    {
     "name": "stdout",
     "output_type": "stream",
     "text": [
      "Writing to /home/Florian.Borchert/.cache/xmen/distemist/merged/distemist_umls_es.jsonl\n"
     ]
    },
    {
     "data": {
      "application/vnd.jupyter.widget-view+json": {
       "model_id": "3ef18384bc8646d4a217fc90be2849b0",
       "version_major": 2,
       "version_minor": 0
      },
      "text/plain": [
       "  0%|          | 0/111179 [00:00<?, ?it/s]"
      ]
     },
     "metadata": {},
     "output_type": "display_data"
    },
    {
     "name": "stdout",
     "output_type": "stream",
     "text": [
      "Written 111179 concepts with 495324 aliases\n",
      "Writing to /home/Florian.Borchert/.cache/xmen/distemist/merged/distemist_umls_en_es.jsonl\n"
     ]
    },
    {
     "data": {
      "application/vnd.jupyter.widget-view+json": {
       "model_id": "5c0d78daf9b142a58b4396b86fc6e737",
       "version_major": 2,
       "version_minor": 0
      },
      "text/plain": [
       "  0%|          | 0/111179 [00:00<?, ?it/s]"
      ]
     },
     "metadata": {},
     "output_type": "display_data"
    },
    {
     "name": "stdout",
     "output_type": "stream",
     "text": [
      "Written 111179 concepts with 1520890 aliases\n",
      "Writing to /home/Florian.Borchert/.cache/xmen/distemist/merged/distemist_umls_all.jsonl\n"
     ]
    },
    {
     "data": {
      "application/vnd.jupyter.widget-view+json": {
       "model_id": "37334e9c032545e3b4dc7254a98bc363",
       "version_major": 2,
       "version_minor": 0
      },
      "text/plain": [
       "  0%|          | 0/111179 [00:00<?, ?it/s]"
      ]
     },
     "metadata": {},
     "output_type": "display_data"
    },
    {
     "name": "stdout",
     "output_type": "stream",
     "text": [
      "Written 111179 concepts with 2482643 aliases\n"
     ]
    }
   ],
   "source": [
    "for d in dict_configs[1:]:\n",
    "    merge_and_write_dicts(distemist_gazetteer_jsonl, base_path / d / f'{d}.jsonl', base_path / 'distemist' / 'merged' / f'{d}.jsonl')"
   ]
  },
  {
   "cell_type": "markdown",
   "metadata": {
    "tags": []
   },
   "source": [
    "## Prepare TF-IDF NGram and SapBERT indices for all configurations"
   ]
  },
  {
   "cell_type": "code",
   "execution_count": 15,
   "metadata": {},
   "outputs": [
    {
     "data": {
      "text/markdown": [
       "`xmen index conf/distemist.yaml --dict /home/Florian.Borchert/.cache/xmen/distemist_gazetteer/distemist_gazetteer.jsonl --output /home/Florian.Borchert/.cache/xmen/distemist/merged/distemist_gazetteer --all`"
      ],
      "text/plain": [
       "<IPython.core.display.Markdown object>"
      ]
     },
     "metadata": {},
     "output_type": "display_data"
    },
    {
     "data": {
      "text/markdown": [
       "`xmen index conf/distemist.yaml --dict /home/Florian.Borchert/.cache/xmen/distemist/merged/distemist_umls_es.jsonl --output /home/Florian.Borchert/.cache/xmen/distemist/merged/distemist_umls_es --all`"
      ],
      "text/plain": [
       "<IPython.core.display.Markdown object>"
      ]
     },
     "metadata": {},
     "output_type": "display_data"
    },
    {
     "data": {
      "text/markdown": [
       "`xmen index conf/distemist.yaml --dict /home/Florian.Borchert/.cache/xmen/distemist/merged/distemist_umls_en_es.jsonl --output /home/Florian.Borchert/.cache/xmen/distemist/merged/distemist_umls_en_es --all`"
      ],
      "text/plain": [
       "<IPython.core.display.Markdown object>"
      ]
     },
     "metadata": {},
     "output_type": "display_data"
    },
    {
     "data": {
      "text/markdown": [
       "`xmen index conf/distemist.yaml --dict /home/Florian.Borchert/.cache/xmen/distemist/merged/distemist_umls_all.jsonl --output /home/Florian.Borchert/.cache/xmen/distemist/merged/distemist_umls_all --all`"
      ],
      "text/plain": [
       "<IPython.core.display.Markdown object>"
      ]
     },
     "metadata": {},
     "output_type": "display_data"
    }
   ],
   "source": [
    "# Run these commands from the root folder\n",
    "display(Markdown(f\"`xmen index conf/distemist.yaml --dict {base_path / 'distemist_gazetteer' / 'distemist_gazetteer.jsonl'} --output {base_path / 'distemist' / 'merged' / 'distemist_gazetteer'} --all`\"))\n",
    "for d in dict_configs[1:]:\n",
    "    display(Markdown(f\"`xmen index conf/distemist.yaml --dict {base_path / 'distemist' / 'merged' / f'{d}.jsonl'} --output {base_path / 'distemist' / 'merged' / f'{d}'} --all`\"))"
   ]
  },
  {
   "cell_type": "markdown",
   "metadata": {},
   "source": [
    "# Pre-Processing"
   ]
  },
  {
   "cell_type": "code",
   "execution_count": 16,
   "metadata": {},
   "outputs": [
    {
     "name": "stderr",
     "output_type": "stream",
     "text": [
      "Loading cached processed dataset at /home/Florian.Borchert/.cache/huggingface/datasets/distemist/distemist_linking_bigbio_kb/1.0.0/f63b2c6775932c342d7bff59d751d6139c0c52c5255f7fbb3e458d255728a8dd/cache-ebcef6df9b7ffc92.arrow\n",
      "Loading cached processed dataset at /home/Florian.Borchert/.cache/huggingface/datasets/distemist/distemist_linking_bigbio_kb/1.0.0/f63b2c6775932c342d7bff59d751d6139c0c52c5255f7fbb3e458d255728a8dd/cache-2119267e890fbfb9.arrow\n",
      "Loading cached processed dataset at /home/Florian.Borchert/.cache/huggingface/datasets/distemist/distemist_linking_bigbio_kb/1.0.0/f63b2c6775932c342d7bff59d751d6139c0c52c5255f7fbb3e458d255728a8dd/cache-f045e9486a31575e.arrow\n"
     ]
    }
   ],
   "source": [
    "from xmen.data import AbbreviationExpander\n",
    "\n",
    "ds = AbbreviationExpander().transform_batch(ds)"
   ]
  },
  {
   "cell_type": "markdown",
   "metadata": {},
   "source": [
    "# Candidate Generation\n",
    "\n",
    "We configure two candidate generators:\n",
    "1. `TFIDFNGramLinker`, which links surface forms based on TF-IDF scores over character ngrams\n",
    "2. `SapBERTLinker`, which uses a Transformer model to retrieve candidates with dense embeddings\n",
    "\n",
    "Finally, we combine their predictions using an `EnsembleLinker`"
   ]
  },
  {
   "cell_type": "code",
   "execution_count": 17,
   "metadata": {},
   "outputs": [],
   "source": [
    "dict_config = 'distemist_umls_en_es'"
   ]
  },
  {
   "cell_type": "code",
   "execution_count": 18,
   "metadata": {},
   "outputs": [],
   "source": [
    "from xmen.linkers import TFIDFNGramLinker, SapBERTLinker, EnsembleLinker\n",
    "from xmen.linkers.util import filter_and_apply_threshold\n",
    "from datasets import DatasetDict"
   ]
  },
  {
   "cell_type": "code",
   "execution_count": 19,
   "metadata": {},
   "outputs": [],
   "source": [
    "index_base_path = base_path / 'distemist' / 'merged' / dict_config / 'index'"
   ]
  },
  {
   "cell_type": "markdown",
   "metadata": {},
   "source": [
    "#### TF-IDF over character n-grams"
   ]
  },
  {
   "cell_type": "code",
   "execution_count": 20,
   "metadata": {},
   "outputs": [
    {
     "data": {
      "application/vnd.jupyter.widget-view+json": {
       "model_id": "",
       "version_major": 2,
       "version_minor": 0
      },
      "text/plain": [
       "Map:   0%|          | 0/466 [00:00<?, ? examples/s]"
      ]
     },
     "metadata": {},
     "output_type": "display_data"
    },
    {
     "data": {
      "application/vnd.jupyter.widget-view+json": {
       "model_id": "",
       "version_major": 2,
       "version_minor": 0
      },
      "text/plain": [
       "Map:   0%|          | 0/250 [00:00<?, ? examples/s]"
      ]
     },
     "metadata": {},
     "output_type": "display_data"
    },
    {
     "data": {
      "application/vnd.jupyter.widget-view+json": {
       "model_id": "",
       "version_major": 2,
       "version_minor": 0
      },
      "text/plain": [
       "Map:   0%|          | 0/117 [00:00<?, ? examples/s]"
      ]
     },
     "metadata": {},
     "output_type": "display_data"
    }
   ],
   "source": [
    "ngram_linker = TFIDFNGramLinker(index_base_path=index_base_path / 'ngrams', k=100)\n",
    "pred_ngram = ngram_linker.predict_batch(ds)"
   ]
  },
  {
   "cell_type": "code",
   "execution_count": 21,
   "metadata": {},
   "outputs": [
    {
     "name": "stdout",
     "output_type": "stream",
     "text": [
      "Perf@1 0.2919563058589871\n",
      "Perf@2 0.41509433962264153\n",
      "Perf@4 0.5868917576961271\n",
      "Perf@8 0.6772591857000994\n",
      "Perf@16 0.7259185700099305\n",
      "Perf@32 0.7656405163853028\n",
      "Perf@64 0.7974180734856008\n"
     ]
    }
   ],
   "source": [
    "# Recall for different numbers of candidates (k)\n",
    "_ = evaluate_at_k(ds['validation'], pred_ngram['validation'])"
   ]
  },
  {
   "cell_type": "markdown",
   "metadata": {},
   "source": [
    "#### Dense Retrieval with SapBERT"
   ]
  },
  {
   "cell_type": "code",
   "execution_count": 22,
   "metadata": {},
   "outputs": [
    {
     "data": {
      "text/html": [
       "<pre style=\"white-space:pre;overflow-x:auto;line-height:normal;font-family:Menlo,'DejaVu Sans Mono',consolas,'Courier New',monospace\"><span style=\"color: #7fbfbf; text-decoration-color: #7fbfbf\">[06/06/23 21:06:22] </span><span style=\"color: #000080; text-decoration-color: #000080\">INFO    </span> Loading hierarchical faiss index                                <a href=\"file:///home/Florian.Borchert/miniconda3/envs/xmen_notebooks/lib/python3.10/site-packages/xmen/linkers/sap_bert_linker.py\" target=\"_blank\"><span style=\"color: #7f7f7f; text-decoration-color: #7f7f7f\">sap_bert_linker.py</span></a><span style=\"color: #7f7f7f; text-decoration-color: #7f7f7f\">:</span><a href=\"file:///home/Florian.Borchert/miniconda3/envs/xmen_notebooks/lib/python3.10/site-packages/xmen/linkers/sap_bert_linker.py#143\" target=\"_blank\"><span style=\"color: #7f7f7f; text-decoration-color: #7f7f7f\">143</span></a>\n",
       "</pre>\n"
      ],
      "text/plain": [
       "\u001b[2;36m[06/06/23 21:06:22]\u001b[0m\u001b[2;36m \u001b[0m\u001b[34mINFO    \u001b[0m Loading hierarchical faiss index                                \u001b]8;id=801310;file:///home/Florian.Borchert/miniconda3/envs/xmen_notebooks/lib/python3.10/site-packages/xmen/linkers/sap_bert_linker.py\u001b\\\u001b[2msap_bert_linker.py\u001b[0m\u001b]8;;\u001b\\\u001b[2m:\u001b[0m\u001b]8;id=524444;file:///home/Florian.Borchert/miniconda3/envs/xmen_notebooks/lib/python3.10/site-packages/xmen/linkers/sap_bert_linker.py#143\u001b\\\u001b[2m143\u001b[0m\u001b]8;;\u001b\\\n"
      ]
     },
     "metadata": {},
     "output_type": "display_data"
    },
    {
     "data": {
      "text/html": [
       "<pre style=\"white-space:pre;overflow-x:auto;line-height:normal;font-family:Menlo,'DejaVu Sans Mono',consolas,'Courier New',monospace\"><span style=\"color: #7fbfbf; text-decoration-color: #7fbfbf\">                    </span><span style=\"color: #000080; text-decoration-color: #000080\">INFO    </span> Loading index from                                                 <a href=\"file:///home/Florian.Borchert/miniconda3/envs/xmen_notebooks/lib/python3.10/site-packages/xmen/linkers/faiss_indexer.py\" target=\"_blank\"><span style=\"color: #7f7f7f; text-decoration-color: #7f7f7f\">faiss_indexer.py</span></a><span style=\"color: #7f7f7f; text-decoration-color: #7f7f7f\">:</span><a href=\"file:///home/Florian.Borchert/miniconda3/envs/xmen_notebooks/lib/python3.10/site-packages/xmen/linkers/faiss_indexer.py#64\" target=\"_blank\"><span style=\"color: #7f7f7f; text-decoration-color: #7f7f7f\">64</span></a>\n",
       "<span style=\"color: #7fbfbf; text-decoration-color: #7fbfbf\">                    </span>         <span style=\"color: #800080; text-decoration-color: #800080\">/home/Florian.Borchert/.cache/xmen/distemist/merged/distemist_umls</span> <span style=\"color: #7f7f7f; text-decoration-color: #7f7f7f\">                   </span>\n",
       "<span style=\"color: #7fbfbf; text-decoration-color: #7fbfbf\">                    </span>         <span style=\"color: #800080; text-decoration-color: #800080\">_en_es/index/sapbert/</span><span style=\"color: #ff00ff; text-decoration-color: #ff00ff\">embed_faiss_hier.pickle</span>                       <span style=\"color: #7f7f7f; text-decoration-color: #7f7f7f\">                   </span>\n",
       "</pre>\n"
      ],
      "text/plain": [
       "\u001b[2;36m                   \u001b[0m\u001b[2;36m \u001b[0m\u001b[34mINFO    \u001b[0m Loading index from                                                 \u001b]8;id=36955;file:///home/Florian.Borchert/miniconda3/envs/xmen_notebooks/lib/python3.10/site-packages/xmen/linkers/faiss_indexer.py\u001b\\\u001b[2mfaiss_indexer.py\u001b[0m\u001b]8;;\u001b\\\u001b[2m:\u001b[0m\u001b]8;id=946263;file:///home/Florian.Borchert/miniconda3/envs/xmen_notebooks/lib/python3.10/site-packages/xmen/linkers/faiss_indexer.py#64\u001b\\\u001b[2m64\u001b[0m\u001b]8;;\u001b\\\n",
       "\u001b[2;36m                    \u001b[0m         \u001b[35m/home/Florian.Borchert/.cache/xmen/distemist/merged/distemist_umls\u001b[0m \u001b[2m                   \u001b[0m\n",
       "\u001b[2;36m                    \u001b[0m         \u001b[35m_en_es/index/sapbert/\u001b[0m\u001b[95membed_faiss_hier.pickle\u001b[0m                       \u001b[2m                   \u001b[0m\n"
      ]
     },
     "metadata": {},
     "output_type": "display_data"
    },
    {
     "data": {
      "text/html": [
       "<pre style=\"white-space:pre;overflow-x:auto;line-height:normal;font-family:Menlo,'DejaVu Sans Mono',consolas,'Courier New',monospace\"><span style=\"color: #7fbfbf; text-decoration-color: #7fbfbf\">[06/06/23 21:06:24] </span><span style=\"color: #000080; text-decoration-color: #000080\">INFO    </span> Loaded index of type <span style=\"font-weight: bold\">&lt;</span><span style=\"color: #ff00ff; text-decoration-color: #ff00ff; font-weight: bold\">class</span><span style=\"color: #000000; text-decoration-color: #000000\"> </span><span style=\"color: #008000; text-decoration-color: #008000\">'faiss.swigfaiss.IndexHNSWFlat'</span><span style=\"font-weight: bold\">&gt;</span> and   <a href=\"file:///home/Florian.Borchert/miniconda3/envs/xmen_notebooks/lib/python3.10/site-packages/xmen/linkers/faiss_indexer.py\" target=\"_blank\"><span style=\"color: #7f7f7f; text-decoration-color: #7f7f7f\">faiss_indexer.py</span></a><span style=\"color: #7f7f7f; text-decoration-color: #7f7f7f\">:</span><a href=\"file:///home/Florian.Borchert/miniconda3/envs/xmen_notebooks/lib/python3.10/site-packages/xmen/linkers/faiss_indexer.py#66\" target=\"_blank\"><span style=\"color: #7f7f7f; text-decoration-color: #7f7f7f\">66</span></a>\n",
       "<span style=\"color: #7fbfbf; text-decoration-color: #7fbfbf\">                    </span>         size <span style=\"color: #008080; text-decoration-color: #008080; font-weight: bold\">1518833</span>                                                       <span style=\"color: #7f7f7f; text-decoration-color: #7f7f7f\">                   </span>\n",
       "</pre>\n"
      ],
      "text/plain": [
       "\u001b[2;36m[06/06/23 21:06:24]\u001b[0m\u001b[2;36m \u001b[0m\u001b[34mINFO    \u001b[0m Loaded index of type \u001b[1m<\u001b[0m\u001b[1;95mclass\u001b[0m\u001b[39m \u001b[0m\u001b[32m'faiss.swigfaiss.IndexHNSWFlat'\u001b[0m\u001b[1m>\u001b[0m and   \u001b]8;id=229130;file:///home/Florian.Borchert/miniconda3/envs/xmen_notebooks/lib/python3.10/site-packages/xmen/linkers/faiss_indexer.py\u001b\\\u001b[2mfaiss_indexer.py\u001b[0m\u001b]8;;\u001b\\\u001b[2m:\u001b[0m\u001b]8;id=583477;file:///home/Florian.Borchert/miniconda3/envs/xmen_notebooks/lib/python3.10/site-packages/xmen/linkers/faiss_indexer.py#66\u001b\\\u001b[2m66\u001b[0m\u001b]8;;\u001b\\\n",
       "\u001b[2;36m                    \u001b[0m         size \u001b[1;36m1518833\u001b[0m                                                       \u001b[2m                   \u001b[0m\n"
      ]
     },
     "metadata": {},
     "output_type": "display_data"
    },
    {
     "data": {
      "application/vnd.jupyter.widget-view+json": {
       "model_id": "",
       "version_major": 2,
       "version_minor": 0
      },
      "text/plain": [
       "Map:   0%|          | 0/466 [00:00<?, ? examples/s]"
      ]
     },
     "metadata": {},
     "output_type": "display_data"
    },
    {
     "data": {
      "application/vnd.jupyter.widget-view+json": {
       "model_id": "",
       "version_major": 2,
       "version_minor": 0
      },
      "text/plain": [
       "Map:   0%|          | 0/250 [00:00<?, ? examples/s]"
      ]
     },
     "metadata": {},
     "output_type": "display_data"
    },
    {
     "data": {
      "application/vnd.jupyter.widget-view+json": {
       "model_id": "",
       "version_major": 2,
       "version_minor": 0
      },
      "text/plain": [
       "Map:   0%|          | 0/117 [00:00<?, ? examples/s]"
      ]
     },
     "metadata": {},
     "output_type": "display_data"
    }
   ],
   "source": [
    "# Clear singleton to free up memory\n",
    "SapBERTLinker.clear()\n",
    "sapbert_linker = SapBERTLinker(\n",
    "    index_base_path = index_base_path / 'sapbert',\n",
    "    k = 1000,\n",
    "    expand_abbreviations=True,\n",
    ")\n",
    "\n",
    "pred_sapbert = sapbert_linker.predict_batch(ds, batch_size=128)"
   ]
  },
  {
   "cell_type": "code",
   "execution_count": 23,
   "metadata": {},
   "outputs": [
    {
     "name": "stdout",
     "output_type": "stream",
     "text": [
      "Perf@1 0.38629592850049654\n",
      "Perf@2 0.5322740814299901\n",
      "Perf@4 0.6623634558093346\n",
      "Perf@8 0.7477656405163853\n",
      "Perf@16 0.7944389275074478\n",
      "Perf@32 0.817279046673287\n",
      "Perf@64 0.8361469712015889\n"
     ]
    }
   ],
   "source": [
    "# Recall for different numbers of candidates (k)\n",
    "_ = evaluate_at_k(ds['validation'], pred_sapbert['validation'])"
   ]
  },
  {
   "cell_type": "markdown",
   "metadata": {},
   "source": [
    "#### Ensemble"
   ]
  },
  {
   "cell_type": "code",
   "execution_count": 24,
   "metadata": {},
   "outputs": [
    {
     "data": {
      "application/vnd.jupyter.widget-view+json": {
       "model_id": "",
       "version_major": 2,
       "version_minor": 0
      },
      "text/plain": [
       "Map:   0%|          | 0/466 [00:00<?, ? examples/s]"
      ]
     },
     "metadata": {},
     "output_type": "display_data"
    },
    {
     "data": {
      "application/vnd.jupyter.widget-view+json": {
       "model_id": "",
       "version_major": 2,
       "version_minor": 0
      },
      "text/plain": [
       "Map:   0%|          | 0/117 [00:00<?, ? examples/s]"
      ]
     },
     "metadata": {},
     "output_type": "display_data"
    },
    {
     "data": {
      "application/vnd.jupyter.widget-view+json": {
       "model_id": "",
       "version_major": 2,
       "version_minor": 0
      },
      "text/plain": [
       "Map:   0%|          | 0/250 [00:00<?, ? examples/s]"
      ]
     },
     "metadata": {},
     "output_type": "display_data"
    },
    {
     "data": {
      "application/vnd.jupyter.widget-view+json": {
       "model_id": "",
       "version_major": 2,
       "version_minor": 0
      },
      "text/plain": [
       "Saving the dataset (0/1 shards):   0%|          | 0/466 [00:00<?, ? examples/s]"
      ]
     },
     "metadata": {},
     "output_type": "display_data"
    },
    {
     "data": {
      "application/vnd.jupyter.widget-view+json": {
       "model_id": "",
       "version_major": 2,
       "version_minor": 0
      },
      "text/plain": [
       "Saving the dataset (0/1 shards):   0%|          | 0/117 [00:00<?, ? examples/s]"
      ]
     },
     "metadata": {},
     "output_type": "display_data"
    },
    {
     "data": {
      "application/vnd.jupyter.widget-view+json": {
       "model_id": "",
       "version_major": 2,
       "version_minor": 0
      },
      "text/plain": [
       "Saving the dataset (0/1 shards):   0%|          | 0/250 [00:00<?, ? examples/s]"
      ]
     },
     "metadata": {},
     "output_type": "display_data"
    }
   ],
   "source": [
    "ensemble_linker = EnsembleLinker()\n",
    "ensemble_linker.add_linker('sapbert', sapbert_linker, k=100)\n",
    "ensemble_linker.add_linker('ngram', ngram_linker, k=100)\n",
    "\n",
    "# Re-use predictions for efficiency\n",
    "# TODO: reuse_preds currently does not work with dataset dicts\n",
    "pred_ensemble = DatasetDict()\n",
    "pred_ensemble['train'] = ensemble_linker.predict_batch(ds['train'], 128, 100, reuse_preds={'sapbert' : pred_sapbert['train'], 'ngram' : pred_ngram['train']})\n",
    "pred_ensemble['validation'] = ensemble_linker.predict_batch(ds['validation'], 128, 100, reuse_preds={'sapbert' : pred_sapbert['validation'], 'ngram' : pred_ngram['validation']})\n",
    "pred_ensemble['test'] = ensemble_linker.predict_batch(ds['test'], 128, 100, reuse_preds={'sapbert' : pred_sapbert['test'], 'ngram' : pred_ngram['test']})\n",
    "\n",
    "pred_ensemble.save_to_disk(tmp_path / dict_config / 'pred_ensemble')"
   ]
  },
  {
   "cell_type": "code",
   "execution_count": 25,
   "metadata": {},
   "outputs": [
    {
     "name": "stdout",
     "output_type": "stream",
     "text": [
      "Perf@1 0.42800397219463754\n",
      "Perf@2 0.5441906653426017\n",
      "Perf@4 0.663356504468719\n",
      "Perf@8 0.7517378351539226\n",
      "Perf@16 0.8003972194637538\n",
      "Perf@32 0.82025819265144\n",
      "Perf@64 0.846077457795432\n"
     ]
    }
   ],
   "source": [
    "# Recall for different numbers of candidates (k)\n",
    "_ = evaluate_at_k(ds['validation'], pred_ensemble['validation'])"
   ]
  },
  {
   "cell_type": "markdown",
   "metadata": {},
   "source": [
    "# Reranking\n",
    "\n",
    "We use a cross-encoder to embed the mention with their context together with all potential candidates. This way, we can learn the best ranking of candidates from the training data"
   ]
  },
  {
   "cell_type": "code",
   "execution_count": 26,
   "metadata": {},
   "outputs": [],
   "source": [
    "from xmen.reranking.cross_encoder import CrossEncoderReranker, CrossEncoderTrainingArgs"
   ]
  },
  {
   "cell_type": "code",
   "execution_count": 27,
   "metadata": {},
   "outputs": [],
   "source": [
    "K_RERANKING = 64\n",
    "CROSS_ENC_MODEL = 'PlanTL-GOB-ES/roberta-base-biomedical-clinical-es'\n",
    "NUM_EPOCHS = 20"
   ]
  },
  {
   "cell_type": "markdown",
   "metadata": {},
   "source": [
    "## Prepare Data for Cross-Encoder Training\n",
    "Create a dataset of samples for each instance with all potential candidates"
   ]
  },
  {
   "cell_type": "code",
   "execution_count": 28,
   "metadata": {},
   "outputs": [],
   "source": [
    "# Dictionary used for synonyms in entity representation. \n",
    "# Note: You may or may not use the config used for candidate generation here. We used a different one, to demonstrate the available options.\n",
    "dict_config_rr = 'distemist_umls_es'"
   ]
  },
  {
   "cell_type": "markdown",
   "metadata": {},
   "source": [
    "Use the ensemble predictions as candidates"
   ]
  },
  {
   "cell_type": "code",
   "execution_count": 29,
   "metadata": {},
   "outputs": [
    {
     "data": {
      "application/vnd.jupyter.widget-view+json": {
       "model_id": "",
       "version_major": 2,
       "version_minor": 0
      },
      "text/plain": [
       "Map:   0%|          | 0/466 [00:00<?, ? examples/s]"
      ]
     },
     "metadata": {},
     "output_type": "display_data"
    },
    {
     "data": {
      "application/vnd.jupyter.widget-view+json": {
       "model_id": "",
       "version_major": 2,
       "version_minor": 0
      },
      "text/plain": [
       "Map:   0%|          | 0/117 [00:00<?, ? examples/s]"
      ]
     },
     "metadata": {},
     "output_type": "display_data"
    },
    {
     "data": {
      "application/vnd.jupyter.widget-view+json": {
       "model_id": "",
       "version_major": 2,
       "version_minor": 0
      },
      "text/plain": [
       "Map:   0%|          | 0/250 [00:00<?, ? examples/s]"
      ]
     },
     "metadata": {},
     "output_type": "display_data"
    }
   ],
   "source": [
    "from xmen.linkers.util import filter_and_apply_threshold\n",
    "\n",
    "candidates = datasets.load_from_disk(tmp_path / dict_config / 'pred_ensemble')\n",
    "candidates = filter_and_apply_threshold(candidates, K_RERANKING, 0.0)"
   ]
  },
  {
   "cell_type": "markdown",
   "metadata": {},
   "source": [
    "We use the prepared KB to retrieve the synonyms per concept"
   ]
  },
  {
   "cell_type": "code",
   "execution_count": 30,
   "metadata": {},
   "outputs": [],
   "source": [
    "from xmen.kb import load_kb\n",
    "kb = load_kb(base_path / 'distemist' / 'merged' / f'{dict_config_rr}.jsonl')"
   ]
  },
  {
   "cell_type": "code",
   "execution_count": 31,
   "metadata": {},
   "outputs": [
    {
     "name": "stdout",
     "output_type": "stream",
     "text": [
      "Context length: 128\n"
     ]
    },
    {
     "data": {
      "application/vnd.jupyter.widget-view+json": {
       "model_id": "97dc5dc6de9f4badac7b8ff278bfb62e",
       "version_major": 2,
       "version_minor": 0
      },
      "text/plain": [
       "  0%|          | 0/4180 [00:00<?, ?it/s]"
      ]
     },
     "metadata": {},
     "output_type": "display_data"
    },
    {
     "data": {
      "application/vnd.jupyter.widget-view+json": {
       "model_id": "2ebc2251e76847ceaabc4e40bc30f94f",
       "version_major": 2,
       "version_minor": 0
      },
      "text/plain": [
       "  0%|          | 0/4180 [00:00<?, ?it/s]"
      ]
     },
     "metadata": {},
     "output_type": "display_data"
    },
    {
     "data": {
      "application/vnd.jupyter.widget-view+json": {
       "model_id": "10ba1bcf2c674b89828b5d5f84afc532",
       "version_major": 2,
       "version_minor": 0
      },
      "text/plain": [
       "  0%|          | 0/4180 [00:00<?, ?it/s]"
      ]
     },
     "metadata": {},
     "output_type": "display_data"
    },
    {
     "data": {
      "application/vnd.jupyter.widget-view+json": {
       "model_id": "e46bc3076132477fa4c257d66dbd255b",
       "version_major": 2,
       "version_minor": 0
      },
      "text/plain": [
       "  0%|          | 0/956 [00:00<?, ?it/s]"
      ]
     },
     "metadata": {},
     "output_type": "display_data"
    },
    {
     "data": {
      "application/vnd.jupyter.widget-view+json": {
       "model_id": "30300f88b2ab4ea3943fd3ebc95718bc",
       "version_major": 2,
       "version_minor": 0
      },
      "text/plain": [
       "  0%|          | 0/956 [00:00<?, ?it/s]"
      ]
     },
     "metadata": {},
     "output_type": "display_data"
    },
    {
     "data": {
      "application/vnd.jupyter.widget-view+json": {
       "model_id": "da99d0acec5e4a73aa27ff8bab9e54d4",
       "version_major": 2,
       "version_minor": 0
      },
      "text/plain": [
       "  0%|          | 0/956 [00:00<?, ?it/s]"
      ]
     },
     "metadata": {},
     "output_type": "display_data"
    },
    {
     "data": {
      "application/vnd.jupyter.widget-view+json": {
       "model_id": "a73ccb2fae59479684feeed3d14d0366",
       "version_major": 2,
       "version_minor": 0
      },
      "text/plain": [
       "  0%|          | 0/2598 [00:00<?, ?it/s]"
      ]
     },
     "metadata": {},
     "output_type": "display_data"
    },
    {
     "data": {
      "application/vnd.jupyter.widget-view+json": {
       "model_id": "c047d0f6125d4da2b1440312ed2b4eb4",
       "version_major": 2,
       "version_minor": 0
      },
      "text/plain": [
       "  0%|          | 0/2598 [00:00<?, ?it/s]"
      ]
     },
     "metadata": {},
     "output_type": "display_data"
    },
    {
     "data": {
      "application/vnd.jupyter.widget-view+json": {
       "model_id": "193143029a214696b04e848c355898bf",
       "version_major": 2,
       "version_minor": 0
      },
      "text/plain": [
       "  0%|          | 0/2598 [00:00<?, ?it/s]"
      ]
     },
     "metadata": {},
     "output_type": "display_data"
    }
   ],
   "source": [
    "cross_enc_ds = CrossEncoderReranker.prepare_data(candidates, ds, kb, encode_sem_type=True)\n",
    "cross_enc_ds.save_to_disk(tmp_path / f'cross_enc_ds_{dict_config_rr}')"
   ]
  },
  {
   "cell_type": "markdown",
   "metadata": {},
   "source": [
    "## Train Cross Encoder\n",
    "\n",
    "The cross-encoder is trained for 20 epochs, the final model is saved to `output_dir`"
   ]
  },
  {
   "cell_type": "code",
   "execution_count": 32,
   "metadata": {},
   "outputs": [
    {
     "data": {
      "text/plain": [
       "{'train': [4180 items], 'validation': [956 items], 'test': [2598 items]}"
      ]
     },
     "execution_count": 32,
     "metadata": {},
     "output_type": "execute_result"
    }
   ],
   "source": [
    "from xmen.data.indexed_dataset import IndexedDatasetDict\n",
    "cross_enc_ds = IndexedDatasetDict.load_from_disk(tmp_path / f'cross_enc_ds_{dict_config_rr}')\n",
    "cross_enc_ds"
   ]
  },
  {
   "cell_type": "code",
   "execution_count": 33,
   "metadata": {},
   "outputs": [
    {
     "data": {
      "text/plain": [
       "[<ScoredInputExample> label: 0, score: 0.6854951977729797, texts:  dado de alta a los diez días de la intervención quirúrgica.\n",
       " El estudio anatomopatológico del apéndice cecal fue informado como  [START] apéndice cecal con signos inflamatorios [END] \n",
       " \n",
       " ; disorder [TYPE] inflamación de apéndice epiploico [TITLE] inflamación de apéndice epiploico (trastorno) [SEP] Apendicitis epiploica,\n",
       " <ScoredInputExample> label: 0, score: 0.6809297800064087, texts:  dado de alta a los diez días de la intervención quirúrgica.\n",
       " El estudio anatomopatológico del apéndice cecal fue informado como  [START] apéndice cecal con signos inflamatorios [END] \n",
       " \n",
       " ; disorder [TYPE] apendicitis crónica [TITLE] inflamación crónica del apéndice [SEP] Apendicitis crónica [SEP] apendicitis crónica (trastorno),\n",
       " <ScoredInputExample> label: 0, score: 0.6728464961051941, texts:  dado de alta a los diez días de la intervención quirúrgica.\n",
       " El estudio anatomopatológico del apéndice cecal fue informado como  [START] apéndice cecal con signos inflamatorios [END] \n",
       " \n",
       " ; disorder [TYPE] inflamación de apéndice epiploico debida a isquemia [TITLE] inflamación de apéndice epiploico debida a isquemia (trastorno),\n",
       " <ScoredInputExample> label: 0, score: 0.6708012819290161, texts:  dado de alta a los diez días de la intervención quirúrgica.\n",
       " El estudio anatomopatológico del apéndice cecal fue informado como  [START] apéndice cecal con signos inflamatorios [END] \n",
       " \n",
       " ; disorder [TYPE] apendicitis atípica [TITLE] inflamación atípica del apéndice [SEP] apendicitis atípica (trastorno),\n",
       " <ScoredInputExample> label: 0, score: 0.6643346548080444, texts:  dado de alta a los diez días de la intervención quirúrgica.\n",
       " El estudio anatomopatológico del apéndice cecal fue informado como  [START] apéndice cecal con signos inflamatorios [END] \n",
       " \n",
       " ; disorder [TYPE] apendicitis aguda [TITLE] Acute appendicitis NOS [SEP] apendicitis aguda (trastorno) [SEP] apendicitis aguda, SAI [SEP] apendicitis aguda, SAI (trastorno) [SEP] Apendicitis aguda,\n",
       " <ScoredInputExample> label: 0, score: 0.6643346548080444, texts:  dado de alta a los diez días de la intervención quirúrgica.\n",
       " El estudio anatomopatológico del apéndice cecal fue informado como  [START] apéndice cecal con signos inflamatorios [END] \n",
       " \n",
       " ; disorder [TYPE] apendicitis aguda, SAI [TITLE] apendicitis aguda [SEP] Acute appendicitis NOS [SEP] apendicitis aguda (trastorno) [SEP] apendicitis aguda, SAI (trastorno) [SEP] Apendicitis aguda,\n",
       " <ScoredInputExample> label: 0, score: 0.6643346548080444, texts:  dado de alta a los diez días de la intervención quirúrgica.\n",
       " El estudio anatomopatológico del apéndice cecal fue informado como  [START] apéndice cecal con signos inflamatorios [END] \n",
       " \n",
       " ; disorder [TYPE] apendicitis aguda, SAI [TITLE] apendicitis aguda [SEP] Acute appendicitis NOS [SEP] apendicitis aguda (trastorno) [SEP] apendicitis aguda, SAI (trastorno) [SEP] Apendicitis aguda,\n",
       " <ScoredInputExample> label: 0, score: 0.6624893546104431, texts:  dado de alta a los diez días de la intervención quirúrgica.\n",
       " El estudio anatomopatológico del apéndice cecal fue informado como  [START] apéndice cecal con signos inflamatorios [END] \n",
       " \n",
       " ; disorder [TYPE] apendicitis aguda con peritonitis generalizada [TITLE] Apendicitis aguda con peritonitis generalizada [SEP] apendicitis aguda con peritonitis generalizada (trastorno),\n",
       " <ScoredInputExample> label: 0, score: 0.6615241765975952, texts:  dado de alta a los diez días de la intervención quirúrgica.\n",
       " El estudio anatomopatológico del apéndice cecal fue informado como  [START] apéndice cecal con signos inflamatorios [END] \n",
       " \n",
       " ; disorder [TYPE] apendicitis aguda con absceso apendicular [TITLE] apendicitis aguda con absceso apendicular (trastorno),\n",
       " <ScoredInputExample> label: 0, score: 0.6500575542449951, texts:  dado de alta a los diez días de la intervención quirúrgica.\n",
       " El estudio anatomopatológico del apéndice cecal fue informado como  [START] apéndice cecal con signos inflamatorios [END] \n",
       " \n",
       " ; disorder [TYPE] apendicitis curada [TITLE] apendicitis curada (trastorno)]"
      ]
     },
     "execution_count": 33,
     "metadata": {},
     "output_type": "execute_result"
    }
   ],
   "source": [
    "cross_enc_ds['train'].dataset[0][0:10]"
   ]
  },
  {
   "cell_type": "code",
   "execution_count": 34,
   "metadata": {},
   "outputs": [],
   "source": [
    "train_args = CrossEncoderTrainingArgs( \n",
    "    NUM_EPOCHS,\n",
    "    CROSS_ENC_MODEL,\n",
    "    score_regularization=True,\n",
    ")"
   ]
  },
  {
   "cell_type": "code",
   "execution_count": 35,
   "metadata": {},
   "outputs": [],
   "source": [
    "rr = CrossEncoderReranker()\n",
    "output_dir = f'{tmp_path}/{dict_config_rr}/cross_encoder_training/'"
   ]
  },
  {
   "cell_type": "code",
   "execution_count": 36,
   "metadata": {},
   "outputs": [
    {
     "name": "stdout",
     "output_type": "stream",
     "text": [
      "model_name := PlanTL-GOB-ES/roberta-base-biomedical-clinical-es\n",
      "num_train_epochs := 20\n",
      "fp16 := True\n",
      "label_smoothing := False\n",
      "score_regularization := True\n",
      "train_layers := None\n",
      "softmax_loss := True\n",
      "random_seed := 42\n"
     ]
    },
    {
     "name": "stderr",
     "output_type": "stream",
     "text": [
      "Some weights of the model checkpoint at PlanTL-GOB-ES/roberta-base-biomedical-clinical-es were not used when initializing RobertaForSequenceClassification: ['lm_head.dense.weight', 'lm_head.layer_norm.bias', 'lm_head.dense.bias', 'lm_head.layer_norm.weight', 'lm_head.decoder.weight', 'lm_head.decoder.bias', 'lm_head.bias']\n",
      "- This IS expected if you are initializing RobertaForSequenceClassification from the checkpoint of a model trained on another task or with another architecture (e.g. initializing a BertForSequenceClassification model from a BertForPreTraining model).\n",
      "- This IS NOT expected if you are initializing RobertaForSequenceClassification from the checkpoint of a model that you expect to be exactly identical (initializing a BertForSequenceClassification model from a BertForSequenceClassification model).\n",
      "Some weights of RobertaForSequenceClassification were not initialized from the model checkpoint at PlanTL-GOB-ES/roberta-base-biomedical-clinical-es and are newly initialized: ['classifier.out_proj.bias', 'classifier.dense.bias', 'classifier.out_proj.weight', 'classifier.dense.weight']\n",
      "You should probably TRAIN this model on a down-stream task to be able to use it for predictions and inference.\n"
     ]
    },
    {
     "name": "stdout",
     "output_type": "stream",
     "text": [
      "2023-06-06 21:52:55 - EntityLinkingEvaluator: Evaluating the model on eval dataset after epoch 0:\n",
      "2023-06-06 21:58:11 - Accuracy: 0.5805439330543933\n",
      "2023-06-06 21:58:11 - Accuracy @ 5: 0.7813807531380753\n",
      "2023-06-06 21:58:11 - Accuracy @ 64: 0.8744769874476988\n",
      "2023-06-06 21:58:11 - Baseline Accuracy: 0.45083682008368203\n",
      "2023-06-06 21:58:11 - Save model to ../temp/distemist/distemist_umls_es/cross_encoder_training/\n",
      "2023-06-06 22:33:50 - EntityLinkingEvaluator: Evaluating the model on eval dataset after epoch 1:\n",
      "2023-06-06 22:39:06 - Accuracy: 0.5983263598326359\n",
      "2023-06-06 22:39:06 - Accuracy @ 5: 0.7918410041841004\n",
      "2023-06-06 22:39:06 - Accuracy @ 64: 0.8744769874476988\n",
      "2023-06-06 22:39:06 - Baseline Accuracy: 0.45083682008368203\n",
      "2023-06-06 22:39:06 - Save model to ../temp/distemist/distemist_umls_es/cross_encoder_training/\n",
      "2023-06-06 23:14:45 - EntityLinkingEvaluator: Evaluating the model on eval dataset after epoch 2:\n",
      "2023-06-06 23:20:02 - Accuracy: 0.6150627615062761\n",
      "2023-06-06 23:20:02 - Accuracy @ 5: 0.799163179916318\n",
      "2023-06-06 23:20:02 - Accuracy @ 64: 0.8744769874476988\n",
      "2023-06-06 23:20:02 - Baseline Accuracy: 0.45083682008368203\n",
      "2023-06-06 23:20:02 - Save model to ../temp/distemist/distemist_umls_es/cross_encoder_training/\n",
      "2023-06-06 23:55:40 - EntityLinkingEvaluator: Evaluating the model on eval dataset after epoch 3:\n",
      "2023-06-07 00:00:56 - Accuracy: 0.641213389121339\n",
      "2023-06-07 00:00:56 - Accuracy @ 5: 0.8117154811715481\n",
      "2023-06-07 00:00:56 - Accuracy @ 64: 0.8744769874476988\n",
      "2023-06-07 00:00:56 - Baseline Accuracy: 0.45083682008368203\n",
      "2023-06-07 00:00:56 - Save model to ../temp/distemist/distemist_umls_es/cross_encoder_training/\n",
      "2023-06-07 00:36:34 - EntityLinkingEvaluator: Evaluating the model on eval dataset after epoch 4:\n",
      "2023-06-07 00:41:50 - Accuracy: 0.6359832635983264\n",
      "2023-06-07 00:41:50 - Accuracy @ 5: 0.8002092050209205\n",
      "2023-06-07 00:41:50 - Accuracy @ 64: 0.8744769874476988\n",
      "2023-06-07 00:41:50 - Baseline Accuracy: 0.45083682008368203\n",
      "2023-06-07 01:17:25 - EntityLinkingEvaluator: Evaluating the model on eval dataset after epoch 5:\n",
      "2023-06-07 01:22:41 - Accuracy: 0.641213389121339\n",
      "2023-06-07 01:22:41 - Accuracy @ 5: 0.801255230125523\n",
      "2023-06-07 01:22:41 - Accuracy @ 64: 0.8744769874476988\n",
      "2023-06-07 01:22:41 - Baseline Accuracy: 0.45083682008368203\n",
      "2023-06-07 01:58:15 - EntityLinkingEvaluator: Evaluating the model on eval dataset after epoch 6:\n",
      "2023-06-07 02:03:31 - Accuracy: 0.6558577405857741\n",
      "2023-06-07 02:03:31 - Accuracy @ 5: 0.801255230125523\n",
      "2023-06-07 02:03:31 - Accuracy @ 64: 0.8744769874476988\n",
      "2023-06-07 02:03:31 - Baseline Accuracy: 0.45083682008368203\n",
      "2023-06-07 02:03:31 - Save model to ../temp/distemist/distemist_umls_es/cross_encoder_training/\n",
      "2023-06-07 02:39:14 - EntityLinkingEvaluator: Evaluating the model on eval dataset after epoch 7:\n",
      "2023-06-07 02:44:30 - Accuracy: 0.647489539748954\n",
      "2023-06-07 02:44:30 - Accuracy @ 5: 0.805439330543933\n",
      "2023-06-07 02:44:30 - Accuracy @ 64: 0.8744769874476988\n",
      "2023-06-07 02:44:30 - Baseline Accuracy: 0.45083682008368203\n",
      "2023-06-07 03:20:07 - EntityLinkingEvaluator: Evaluating the model on eval dataset after epoch 8:\n",
      "2023-06-07 03:25:23 - Accuracy: 0.6579497907949791\n",
      "2023-06-07 03:25:23 - Accuracy @ 5: 0.805439330543933\n",
      "2023-06-07 03:25:23 - Accuracy @ 64: 0.8744769874476988\n",
      "2023-06-07 03:25:23 - Baseline Accuracy: 0.45083682008368203\n",
      "2023-06-07 03:25:23 - Save model to ../temp/distemist/distemist_umls_es/cross_encoder_training/\n",
      "2023-06-07 04:01:04 - EntityLinkingEvaluator: Evaluating the model on eval dataset after epoch 9:\n",
      "2023-06-07 04:06:20 - Accuracy: 0.6558577405857741\n",
      "2023-06-07 04:06:20 - Accuracy @ 5: 0.7960251046025104\n",
      "2023-06-07 04:06:20 - Accuracy @ 64: 0.8744769874476988\n",
      "2023-06-07 04:06:20 - Baseline Accuracy: 0.45083682008368203\n",
      "2023-06-07 04:41:56 - EntityLinkingEvaluator: Evaluating the model on eval dataset after epoch 10:\n",
      "2023-06-07 04:47:13 - Accuracy: 0.6589958158995816\n",
      "2023-06-07 04:47:13 - Accuracy @ 5: 0.8043933054393305\n",
      "2023-06-07 04:47:13 - Accuracy @ 64: 0.8744769874476988\n",
      "2023-06-07 04:47:13 - Baseline Accuracy: 0.45083682008368203\n",
      "2023-06-07 04:47:13 - Save model to ../temp/distemist/distemist_umls_es/cross_encoder_training/\n",
      "2023-06-07 05:22:51 - EntityLinkingEvaluator: Evaluating the model on eval dataset after epoch 11:\n",
      "2023-06-07 05:28:07 - Accuracy: 0.6579497907949791\n",
      "2023-06-07 05:28:07 - Accuracy @ 5: 0.8043933054393305\n",
      "2023-06-07 05:28:07 - Accuracy @ 64: 0.8744769874476988\n",
      "2023-06-07 05:28:07 - Baseline Accuracy: 0.45083682008368203\n",
      "2023-06-07 06:03:40 - EntityLinkingEvaluator: Evaluating the model on eval dataset after epoch 12:\n",
      "2023-06-07 06:08:56 - Accuracy: 0.6589958158995816\n",
      "2023-06-07 06:08:56 - Accuracy @ 5: 0.803347280334728\n",
      "2023-06-07 06:08:56 - Accuracy @ 64: 0.8744769874476988\n",
      "2023-06-07 06:08:56 - Baseline Accuracy: 0.45083682008368203\n",
      "2023-06-07 06:44:33 - EntityLinkingEvaluator: Evaluating the model on eval dataset after epoch 13:\n",
      "2023-06-07 06:49:50 - Accuracy: 0.6600418410041841\n",
      "2023-06-07 06:49:50 - Accuracy @ 5: 0.8023012552301255\n",
      "2023-06-07 06:49:50 - Accuracy @ 64: 0.8744769874476988\n",
      "2023-06-07 06:49:50 - Baseline Accuracy: 0.45083682008368203\n",
      "2023-06-07 06:49:50 - Save model to ../temp/distemist/distemist_umls_es/cross_encoder_training/\n",
      "2023-06-07 07:25:29 - EntityLinkingEvaluator: Evaluating the model on eval dataset after epoch 14:\n",
      "2023-06-07 07:30:45 - Accuracy: 0.6610878661087866\n",
      "2023-06-07 07:30:45 - Accuracy @ 5: 0.799163179916318\n",
      "2023-06-07 07:30:45 - Accuracy @ 64: 0.8744769874476988\n",
      "2023-06-07 07:30:45 - Baseline Accuracy: 0.45083682008368203\n",
      "2023-06-07 07:30:45 - Save model to ../temp/distemist/distemist_umls_es/cross_encoder_training/\n",
      "2023-06-07 08:06:23 - EntityLinkingEvaluator: Evaluating the model on eval dataset after epoch 15:\n",
      "2023-06-07 08:11:39 - Accuracy: 0.6516736401673641\n",
      "2023-06-07 08:11:39 - Accuracy @ 5: 0.797071129707113\n",
      "2023-06-07 08:11:39 - Accuracy @ 64: 0.8744769874476988\n",
      "2023-06-07 08:11:39 - Baseline Accuracy: 0.45083682008368203\n",
      "2023-06-07 08:47:12 - EntityLinkingEvaluator: Evaluating the model on eval dataset after epoch 16:\n",
      "2023-06-07 08:52:29 - Accuracy: 0.649581589958159\n",
      "2023-06-07 08:52:29 - Accuracy @ 5: 0.7981171548117155\n",
      "2023-06-07 08:52:29 - Accuracy @ 64: 0.8744769874476988\n",
      "2023-06-07 08:52:29 - Baseline Accuracy: 0.45083682008368203\n",
      "2023-06-07 09:28:05 - EntityLinkingEvaluator: Evaluating the model on eval dataset after epoch 17:\n",
      "2023-06-07 09:33:21 - Accuracy: 0.6537656903765691\n",
      "2023-06-07 09:33:21 - Accuracy @ 5: 0.797071129707113\n",
      "2023-06-07 09:33:21 - Accuracy @ 64: 0.8744769874476988\n",
      "2023-06-07 09:33:21 - Baseline Accuracy: 0.45083682008368203\n",
      "2023-06-07 10:08:58 - EntityLinkingEvaluator: Evaluating the model on eval dataset after epoch 18:\n",
      "2023-06-07 10:14:14 - Accuracy: 0.6621338912133892\n",
      "2023-06-07 10:14:14 - Accuracy @ 5: 0.797071129707113\n",
      "2023-06-07 10:14:14 - Accuracy @ 64: 0.8744769874476988\n",
      "2023-06-07 10:14:14 - Baseline Accuracy: 0.45083682008368203\n",
      "2023-06-07 10:14:14 - Save model to ../temp/distemist/distemist_umls_es/cross_encoder_training/\n",
      "2023-06-07 10:49:53 - EntityLinkingEvaluator: Evaluating the model on eval dataset after epoch 19:\n",
      "2023-06-07 10:55:10 - Accuracy: 0.6621338912133892\n",
      "2023-06-07 10:55:10 - Accuracy @ 5: 0.7981171548117155\n",
      "2023-06-07 10:55:10 - Accuracy @ 64: 0.8744769874476988\n",
      "2023-06-07 10:55:10 - Baseline Accuracy: 0.45083682008368203\n"
     ]
    }
   ],
   "source": [
    "# Depending on the number of epochs, this can take a few hours\n",
    "rr.fit(train_args, cross_enc_ds['train'].dataset, cross_enc_ds['validation'].dataset, output_dir=output_dir, show_progress_bar=False)"
   ]
  },
  {
   "cell_type": "markdown",
   "metadata": {},
   "source": [
    "## Predict on Test Set\n",
    "\n",
    "We load the final model to get predictions on the test set and run the evaluation"
   ]
  },
  {
   "cell_type": "code",
   "execution_count": 37,
   "metadata": {},
   "outputs": [
    {
     "name": "stdout",
     "output_type": "stream",
     "text": [
      "2023-06-07 10:55:13 - Use pytorch device: cuda\n"
     ]
    }
   ],
   "source": [
    "rr = CrossEncoderReranker.load(output_dir, device=0)"
   ]
  },
  {
   "cell_type": "code",
   "execution_count": 38,
   "metadata": {},
   "outputs": [
    {
     "data": {
      "application/vnd.jupyter.widget-view+json": {
       "model_id": "daf65bcf44df43ee8fb91984b07e670c",
       "version_major": 2,
       "version_minor": 0
      },
      "text/plain": [
       "Batches:   0%|          | 0/956 [00:00<?, ?it/s]"
      ]
     },
     "metadata": {},
     "output_type": "display_data"
    },
    {
     "data": {
      "application/vnd.jupyter.widget-view+json": {
       "model_id": "",
       "version_major": 2,
       "version_minor": 0
      },
      "text/plain": [
       "Map:   0%|          | 0/117 [00:00<?, ? examples/s]"
      ]
     },
     "metadata": {},
     "output_type": "display_data"
    }
   ],
   "source": [
    "cross_enc_pred_valid = rr.rerank_batch(candidates['validation'], cross_enc_ds['validation'])"
   ]
  },
  {
   "cell_type": "code",
   "execution_count": 39,
   "metadata": {},
   "outputs": [
    {
     "name": "stdout",
     "output_type": "stream",
     "text": [
      "Perf@1 0.6305858987090367\n",
      "Perf@2 0.6931479642502483\n",
      "Perf@4 0.7586891757696127\n",
      "Perf@8 0.788480635551142\n",
      "Perf@16 0.8083416087388282\n",
      "Perf@32 0.8341608738828202\n",
      "Perf@64 0.846077457795432\n"
     ]
    }
   ],
   "source": [
    "_ = evaluate_at_k(ds['validation'], cross_enc_pred_valid)"
   ]
  },
  {
   "cell_type": "code",
   "execution_count": 40,
   "metadata": {},
   "outputs": [
    {
     "data": {
      "application/vnd.jupyter.widget-view+json": {
       "model_id": "c63d10270f2145edbcda2c7b5341b452",
       "version_major": 2,
       "version_minor": 0
      },
      "text/plain": [
       "Batches:   0%|          | 0/2598 [00:00<?, ?it/s]"
      ]
     },
     "metadata": {},
     "output_type": "display_data"
    },
    {
     "data": {
      "application/vnd.jupyter.widget-view+json": {
       "model_id": "",
       "version_major": 2,
       "version_minor": 0
      },
      "text/plain": [
       "Map:   0%|          | 0/250 [00:00<?, ? examples/s]"
      ]
     },
     "metadata": {},
     "output_type": "display_data"
    }
   ],
   "source": [
    "cross_enc_pred = rr.rerank_batch(candidates['test'], cross_enc_ds['test'])"
   ]
  },
  {
   "cell_type": "code",
   "execution_count": 41,
   "metadata": {},
   "outputs": [
    {
     "name": "stdout",
     "output_type": "stream",
     "text": [
      "Perf@1 0.5941761887209731\n",
      "Perf@2 0.6634721710283819\n",
      "Perf@4 0.7169185403612237\n",
      "Perf@8 0.7464061924069296\n",
      "Perf@16 0.7736822705492076\n",
      "Perf@32 0.7906376704754884\n",
      "Perf@64 0.8020641356431994\n"
     ]
    }
   ],
   "source": [
    "_ = evaluate_at_k(ds['test'], cross_enc_pred)"
   ]
  },
  {
   "cell_type": "markdown",
   "metadata": {},
   "source": [
    "# Error Analysis\n",
    "\n",
    "Using the `xmen.evaluation` module, we gain insights into different error types"
   ]
  },
  {
   "cell_type": "code",
   "execution_count": 42,
   "metadata": {},
   "outputs": [],
   "source": [
    "from notebook_util import analyze\n",
    "from xmen.kb import load_kb\n",
    "from xmen.evaluation import entity_linking_error_analysis"
   ]
  },
  {
   "cell_type": "code",
   "execution_count": 43,
   "metadata": {},
   "outputs": [],
   "source": [
    "cg_kb = load_kb(base_path / 'distemist' / 'merged' / f'{dict_config}.jsonl')"
   ]
  },
  {
   "cell_type": "code",
   "execution_count": 44,
   "metadata": {},
   "outputs": [],
   "source": [
    "error_cand = entity_linking_error_analysis(ds['validation'], candidates['validation'])\n",
    "edf_cand, _ = analyze(error_cand, cg_kb, 'eval', None)"
   ]
  },
  {
   "cell_type": "code",
   "execution_count": 45,
   "metadata": {},
   "outputs": [
    {
     "data": {
      "text/plain": [
       "error_type\n",
       "COMPLEX_ENTITY         0.117180\n",
       "ABBREV                 0.014896\n",
       "UNKNOWN_ERROR          0.011917\n",
       "WRONG_SEMANTIC_TYPE    0.009930\n",
       "Name: count, dtype: float64"
      ]
     },
     "execution_count": 45,
     "metadata": {},
     "output_type": "execute_result"
    }
   ],
   "source": [
    "# False negative (not part of top 64)\n",
    "fns_cand = edf_cand[edf_cand.pred_index == -1]\n",
    "fns_cand_counts = fns_cand.error_type.value_counts() / len(edf_cand)\n",
    "fns_cand_counts"
   ]
  },
  {
   "cell_type": "code",
   "execution_count": 46,
   "metadata": {},
   "outputs": [
    {
     "data": {
      "text/plain": [
       "error_type\n",
       "COMPLEX_ENTITY         0.173784\n",
       "WRONG_SEMANTIC_TYPE    0.119166\n",
       "SAME_SYNONYMS          0.070506\n",
       "UNKNOWN_ERROR          0.041708\n",
       "ABBREV                 0.012910\n",
       "Name: count, dtype: float64"
      ]
     },
     "execution_count": 46,
     "metadata": {},
     "output_type": "execute_result"
    }
   ],
   "source": [
    "# Ranking errors during candidate generation\n",
    "misranked_cand = edf_cand[edf_cand.pred_index > 0]\n",
    "misranked_cand_counts = misranked_cand.error_type.value_counts() / len(edf_cand)\n",
    "misranked_cand_counts"
   ]
  },
  {
   "cell_type": "code",
   "execution_count": 47,
   "metadata": {},
   "outputs": [
    {
     "data": {
      "text/plain": [
       "error_type\n",
       "COMPLEX_ENTITY         0.126117\n",
       "WRONG_SEMANTIC_TYPE    0.031778\n",
       "SAME_SYNONYMS          0.024826\n",
       "UNKNOWN_ERROR          0.020854\n",
       "ABBREV                 0.011917\n",
       "Name: count, dtype: float64"
      ]
     },
     "execution_count": 47,
     "metadata": {},
     "output_type": "execute_result"
    }
   ],
   "source": [
    "# Ranking errors after reranking\n",
    "error_rr = entity_linking_error_analysis(ds['validation'], cross_enc_pred_valid)\n",
    "edf_rr, _ = analyze(error_rr, cg_kb, 'eval', None)\n",
    "\n",
    "misranked_rr = edf_rr[edf_rr.pred_index > 0]\n",
    "misranked_rr_counts = misranked_rr.error_type.value_counts() / len(edf_rr)\n",
    "misranked_rr_counts"
   ]
  },
  {
   "cell_type": "code",
   "execution_count": 48,
   "metadata": {},
   "outputs": [
    {
     "name": "stdout",
     "output_type": "stream",
     "text": [
      "Recall@1 0.6305858987090367\n",
      "Recall@64 0.846077457795432\n"
     ]
    }
   ],
   "source": [
    "print('Recall@1', (edf_rr.pred_index == 0).sum() / len(edf_rr))\n",
    "print('Recall@64', (edf_rr.pred_index >= 0).sum() / len(edf_rr))"
   ]
  },
  {
   "cell_type": "code",
   "execution_count": 49,
   "metadata": {},
   "outputs": [
    {
     "data": {
      "image/png": "[encoded data removed]",
      "text/plain": [
       "<Figure size 800x200 with 5 Axes>"
      ]
     },
     "metadata": {},
     "output_type": "display_data"
    }
   ],
   "source": [
    "import matplotlib\n",
    "from matplotlib import pyplot as plt\n",
    "\n",
    "error_types = ['Complex Entity', 'Abbreviation', 'Wrong Type', 'Homonyms', 'Other Error']\n",
    "keys = ['COMPLEX_ENTITY', 'ABBREV', 'WRONG_SEMANTIC_TYPE', 'SAME_SYNONYMS', 'UNKNOWN_ERROR']\n",
    "counts = [fns_cand_counts, misranked_cand_counts, misranked_rr_counts]\n",
    "count_names = ['False Negatives', 'Candidate Generation Errors', 'Reranking Errors']\n",
    "\n",
    "hatches = ['', '\\\\\\\\\\\\', '///']\n",
    "colors = ['lightyellow', '#C0F5EC', '#118470']\n",
    "\n",
    "matplotlib.rcParams['hatch.linewidth'] = 0.3 \n",
    "matplotlib.rcParams.update({'font.size': 12})\n",
    "\n",
    "fig, axs = plt.subplots(1, len(keys), figsize=(8, 2))\n",
    "for i, (key, error) in enumerate(zip(keys, error_types)):\n",
    "    for j, bar in enumerate(axs[i].bar(x=count_names, height=[c.get(key, 0.0) for c in counts], color=colors, edgecolor = 'black', linewidth=0.2)):\n",
    "        bar.set_hatch(hatches[j])\n",
    "    axs[i].grid(axis='y')\n",
    "    axs[i].set_ylim([0.0, 0.2])\n",
    "    axs[i].set_xlabel(error, labelpad=10)\n",
    "    axs[i].get_xaxis().set_ticks([])\n",
    "handles = [plt.Rectangle((0,0),1,1, facecolor=color, linewidth=0.2, edgecolor='black', hatch=h) for color, h in zip(colors, hatches)]\n",
    "plt.legend(handles, count_names, loc='upper center', bbox_to_anchor=(-3.1, 1.4, 0, 0), ncol=len(counts))\n",
    "\n",
    "plt.subplots_adjust(wspace=0.7)"
   ]
  },
  {
   "cell_type": "code",
   "execution_count": null,
   "metadata": {},
   "outputs": [],
   "source": []
  }
 ],
 "metadata": {
  "kernelspec": {
   "display_name": "Python [conda env:xmen_notebooks]",
   "language": "python",
   "name": "conda-env-xmen_notebooks-py"
  },
  "language_info": {
   "codemirror_mode": {
    "name": "ipython",
    "version": 3
   },
   "file_extension": ".py",
   "mimetype": "text/x-python",
   "name": "python",
   "nbconvert_exporter": "python",
   "pygments_lexer": "ipython3",
   "version": "3.10.11"
  }
 },
 "nbformat": 4,
 "nbformat_minor": 4
}
