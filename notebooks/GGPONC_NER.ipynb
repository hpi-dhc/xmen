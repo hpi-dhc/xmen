{
 "cells": [
  {
   "cell_type": "markdown",
   "id": "6a3e8444-54ec-41a2-aaef-3849a22cde57",
   "metadata": {},
   "source": [
    "# Combinining NER models with xMEN for German Clinical Entity Linking"
   ]
  },
  {
   "cell_type": "markdown",
   "id": "eace0372-6610-4a03-bab6-32e186911bac",
   "metadata": {},
   "source": [
    "## Preparation"
   ]
  },
  {
   "cell_type": "markdown",
   "id": "eea526a0-3ee4-4a8c-87e2-b5420c33934a",
   "metadata": {},
   "source": [
    "### Get access to GGPONC Models\n",
    "\n",
    "https://www.leitlinienprogramm-onkologie.de/projekte/ggponc-english/\n",
    "\n",
    "Download the spaCy model from the v2.0 release (`models` folder) into a location of your choice (we assume `../temp/ggponc/spacy`)."
   ]
  },
  {
   "cell_type": "markdown",
   "id": "f216b159-7112-473e-a09e-6eff33fa7a34",
   "metadata": {},
   "source": [
    "### Prepare dicts and index\n",
    "\n",
    "`xmen dict conf/ggponc.yaml`\n",
    "\n",
    "`xmen index conf/ggponc.yaml --all --overwrite`"
   ]
  },
  {
   "cell_type": "code",
   "execution_count": null,
   "id": "36ccc48a-b6fa-4f89-8152-38b336560d92",
   "metadata": {},
   "outputs": [],
   "source": [
    "!pip install spacy-transformers"
   ]
  },
  {
   "cell_type": "code",
   "execution_count": null,
   "id": "90f3383e-69f6-4128-8dee-5743d7595ebf",
   "metadata": {},
   "outputs": [],
   "source": [
    "!git clone https://github.com/hpi-dhc/ggponc_annotation ../temp/ggponc/ggponc_annotation"
   ]
  },
  {
   "cell_type": "markdown",
   "id": "407e49a2-7a40-4982-bf1b-d15de505d039",
   "metadata": {},
   "source": [
    "# Run GGPONC NER Model on sample data"
   ]
  },
  {
   "cell_type": "code",
   "execution_count": 1,
   "id": "5793b041-e0c2-4671-bce4-1d957ac35a4a",
   "metadata": {},
   "outputs": [],
   "source": [
    "from pathlib import Path\n",
    "GGPONC_PROJECT_PATH = Path(\"../temp/ggponc/ggponc_annotation\")\n",
    "GGPONC_MODEL_PATH = Path('../temp/ggponc/spacy')"
   ]
  },
  {
   "cell_type": "code",
   "execution_count": 2,
   "id": "de30f132-1482-4ad7-adf7-4d598852f3c0",
   "metadata": {},
   "outputs": [],
   "source": [
    "import sys\n",
    "sys.path.append(str(GGPONC_PROJECT_PATH / 'spacy'))"
   ]
  },
  {
   "cell_type": "code",
   "execution_count": 3,
   "id": "521b389e-ce31-4e1f-9e37-29986d475a82",
   "metadata": {},
   "outputs": [
    {
     "name": "stderr",
     "output_type": "stream",
     "text": [
      "/home/Florian.Borchert/miniconda3/envs/xmen_notebooks/lib/python3.10/site-packages/spacy/util.py:877: UserWarning: [W095] Model 'de_pipeline' (0.0.0) was trained with spaCy v3.2 and may not be 100% compatible with the current version (3.4.4). If you see errors or degraded performance, download a newer compatible model or retrain your custom model with the current spaCy version. For more details and available updates, run: python -m spacy validate\n",
      "  warnings.warn(warn_msg)\n"
     ]
    }
   ],
   "source": [
    "import spacy\n",
    "import snomed_spans # Import custom span suggester and scorer for spaCy spancat \n",
    "\n",
    "nlp = spacy.load(GGPONC_MODEL_PATH)"
   ]
  },
  {
   "cell_type": "code",
   "execution_count": 4,
   "id": "8049cf19-4a70-4bac-af9a-416c4e7a60e5",
   "metadata": {},
   "outputs": [
    {
     "data": {
      "text/plain": [
       "['Cetuximab ist ein monoklonaler Antikörper, der gegen den epidermalen Wachstumsfaktorrezeptor (EGFR) gerichtet ist unddient zur Therapie des fortgeschrittenen kolorektalen Karzinoms zusammen mit Irinotecan oder in Kombination mit FOLFOX bzw. allein nach Versagen einer Behandlung mit Oxaliplatin und Irinotecan.',\n",
       " 'Die HPV-Diagnostik hat beim Plattenepithelkarzinom der Mundhöhle keinen validen Nutzen als prognostischer Faktor.',\n",
       " 'Als Alternative empfiehlt die ASCCP bei zytologischem Verdacht auf CIN 1/2 die sofortige Kolposkopie.']"
      ]
     },
     "execution_count": 4,
     "metadata": {},
     "output_type": "execute_result"
    }
   ],
   "source": [
    "sentences = [\n",
    "    \"Cetuximab ist ein monoklonaler Antikörper, der gegen den epidermalen Wachstumsfaktorrezeptor (EGFR) gerichtet ist und\" \\\n",
    "       \"dient zur Therapie des fortgeschrittenen kolorektalen Karzinoms zusammen mit Irinotecan oder in Kombination mit FOLFOX bzw. \" \\\n",
    "       \"allein nach Versagen einer Behandlung mit Oxaliplatin und Irinotecan.\",\n",
    "    \"Die HPV-Diagnostik hat beim Plattenepithelkarzinom der Mundhöhle keinen validen Nutzen als prognostischer Faktor.\",\n",
    "    \"Als Alternative empfiehlt die ASCCP bei zytologischem Verdacht auf CIN 1/2 die sofortige Kolposkopie.\"\n",
    "]\n",
    "sentences"
   ]
  },
  {
   "cell_type": "code",
   "execution_count": 5,
   "id": "5feca36d-cff3-4e02-858e-8d46c0c3d579",
   "metadata": {},
   "outputs": [],
   "source": [
    "docs = list(nlp.pipe(sentences))"
   ]
  },
  {
   "cell_type": "code",
   "execution_count": 6,
   "id": "bd0ab2ae-bd78-4c4f-bec7-e8fc119690e1",
   "metadata": {},
   "outputs": [
    {
     "name": "stdout",
     "output_type": "stream",
     "text": [
      "Cetuximab --- Clinical_Drug\n",
      "monoklonaler Antikörper --- Clinical_Drug\n",
      "epidermalen Wachstumsfaktorrezeptor --- Nutrient_or_Body_Substance\n",
      "EGFR --- Nutrient_or_Body_Substance\n",
      "Therapie des fortgeschrittenen kolorektalen Karzinoms --- Therapeutic\n",
      "fortgeschrittenen kolorektalen Karzinoms --- Diagnosis_or_Pathology\n",
      "Irinotecan --- Clinical_Drug\n",
      "FOLFOX --- Therapeutic\n",
      "Versagen --- Diagnosis_or_Pathology\n",
      "Behandlung mit Oxaliplatin und Irinotecan --- Therapeutic\n",
      "Oxaliplatin --- Clinical_Drug\n",
      "Irinotecan --- Clinical_Drug\n",
      "HPV-Diagnostik --- Diagnostic\n",
      "Plattenepithelkarzinom der Mundhöhle --- Diagnosis_or_Pathology\n",
      "zytologischem Verdacht auf CIN 1/2 --- Other_Finding\n",
      "sofortige Kolposkopie --- Diagnostic\n"
     ]
    }
   ],
   "source": [
    "for d in docs:\n",
    "    for span in sorted(d.spans['snomed'], key=lambda s: s.start):\n",
    "        print(span, '---', span.label_)"
   ]
  },
  {
   "cell_type": "markdown",
   "id": "0ae82793-8135-41a2-b6f5-75e39e1e57b1",
   "metadata": {},
   "source": [
    "# Run Entity Linker"
   ]
  },
  {
   "cell_type": "code",
   "execution_count": 7,
   "id": "f5b0add5-9fb7-4eb4-9495-91ee5a5c95ea",
   "metadata": {},
   "outputs": [],
   "source": [
    "from xmen.data import from_spacy\n",
    "from xmen.linkers import SapBERTLinker, TFIDFNGramLinker, EnsembleLinker\n",
    "from xmen.confhelper import load_config"
   ]
  },
  {
   "cell_type": "code",
   "execution_count": 8,
   "id": "46831d66-e521-4225-9b92-a40d7b7582e4",
   "metadata": {},
   "outputs": [],
   "source": [
    "dataset = from_spacy(docs, span_key='snomed')"
   ]
  },
  {
   "cell_type": "code",
   "execution_count": 9,
   "id": "fe0976ee-7951-49cf-b582-08489f8b2918",
   "metadata": {},
   "outputs": [
    {
     "data": {
      "text/plain": [
       "{'id': 0,\n",
       " 'document_id': 0,\n",
       " 'passages': [{'id': 0,\n",
       "   'offsets': [[0, 310]],\n",
       "   'text': ['Cetuximab ist ein monoklonaler Antikörper, der gegen den epidermalen Wachstumsfaktorrezeptor (EGFR) gerichtet ist unddient zur Therapie des fortgeschrittenen kolorektalen Karzinoms zusammen mit Irinotecan oder in Kombination mit FOLFOX bzw. allein nach Versagen einer Behandlung mit Oxaliplatin und Irinotecan.'],\n",
       "   'type': 'sentence'}],\n",
       " 'entities': [{'id': 0,\n",
       "   'normalized': [],\n",
       "   'offsets': [[0, 9]],\n",
       "   'text': ['Cetuximab'],\n",
       "   'type': 'Clinical_Drug'},\n",
       "  {'id': 1,\n",
       "   'normalized': [],\n",
       "   'offsets': [[18, 41]],\n",
       "   'text': ['monoklonaler Antikörper'],\n",
       "   'type': 'Clinical_Drug'},\n",
       "  {'id': 2,\n",
       "   'normalized': [],\n",
       "   'offsets': [[57, 92]],\n",
       "   'text': ['epidermalen Wachstumsfaktorrezeptor'],\n",
       "   'type': 'Nutrient_or_Body_Substance'},\n",
       "  {'id': 3,\n",
       "   'normalized': [],\n",
       "   'offsets': [[94, 98]],\n",
       "   'text': ['EGFR'],\n",
       "   'type': 'Nutrient_or_Body_Substance'},\n",
       "  {'id': 4,\n",
       "   'normalized': [],\n",
       "   'offsets': [[127, 180]],\n",
       "   'text': ['Therapie des fortgeschrittenen kolorektalen Karzinoms'],\n",
       "   'type': 'Therapeutic'},\n",
       "  {'id': 5,\n",
       "   'normalized': [],\n",
       "   'offsets': [[140, 180]],\n",
       "   'text': ['fortgeschrittenen kolorektalen Karzinoms'],\n",
       "   'type': 'Diagnosis_or_Pathology'},\n",
       "  {'id': 6,\n",
       "   'normalized': [],\n",
       "   'offsets': [[194, 204]],\n",
       "   'text': ['Irinotecan'],\n",
       "   'type': 'Clinical_Drug'},\n",
       "  {'id': 7,\n",
       "   'normalized': [],\n",
       "   'offsets': [[229, 235]],\n",
       "   'text': ['FOLFOX'],\n",
       "   'type': 'Therapeutic'},\n",
       "  {'id': 8,\n",
       "   'normalized': [],\n",
       "   'offsets': [[253, 261]],\n",
       "   'text': ['Versagen'],\n",
       "   'type': 'Diagnosis_or_Pathology'},\n",
       "  {'id': 9,\n",
       "   'normalized': [],\n",
       "   'offsets': [[268, 309]],\n",
       "   'text': ['Behandlung mit Oxaliplatin und Irinotecan'],\n",
       "   'type': 'Therapeutic'},\n",
       "  {'id': 10,\n",
       "   'normalized': [],\n",
       "   'offsets': [[283, 294]],\n",
       "   'text': ['Oxaliplatin'],\n",
       "   'type': 'Clinical_Drug'},\n",
       "  {'id': 11,\n",
       "   'normalized': [],\n",
       "   'offsets': [[299, 309]],\n",
       "   'text': ['Irinotecan'],\n",
       "   'type': 'Clinical_Drug'}]}"
      ]
     },
     "execution_count": 9,
     "metadata": {},
     "output_type": "execute_result"
    }
   ],
   "source": [
    "dataset[0]"
   ]
  },
  {
   "cell_type": "code",
   "execution_count": 10,
   "id": "286a07dc-e5a3-42af-89f7-b48e035f0d25",
   "metadata": {},
   "outputs": [],
   "source": [
    "conf = load_config('../conf/ggponc.yaml')"
   ]
  },
  {
   "cell_type": "code",
   "execution_count": 11,
   "id": "e3abe18e-4774-4832-972c-5ad80c305f8c",
   "metadata": {},
   "outputs": [],
   "source": [
    "ngram_linker = TFIDFNGramLinker(**conf.linker.candidate_generation.ngram)"
   ]
  },
  {
   "cell_type": "code",
   "execution_count": 12,
   "id": "c932a252-1fd0-4f3c-bf7d-ac20095aa440",
   "metadata": {},
   "outputs": [
    {
     "data": {
      "text/html": [
       "<pre style=\"white-space:pre;overflow-x:auto;line-height:normal;font-family:Menlo,'DejaVu Sans Mono',consolas,'Courier New',monospace\"><span style=\"color: #7fbfbf; text-decoration-color: #7fbfbf\">[05/24/23 15:20:07] </span><span style=\"color: #000080; text-decoration-color: #000080\">INFO    </span> Loading hierarchical faiss index                                <a href=\"file:///home/Florian.Borchert/miniconda3/envs/xmen_notebooks/lib/python3.10/site-packages/xmen/linkers/sap_bert_linker.py\" target=\"_blank\"><span style=\"color: #7f7f7f; text-decoration-color: #7f7f7f\">sap_bert_linker.py</span></a><span style=\"color: #7f7f7f; text-decoration-color: #7f7f7f\">:</span><a href=\"file:///home/Florian.Borchert/miniconda3/envs/xmen_notebooks/lib/python3.10/site-packages/xmen/linkers/sap_bert_linker.py#148\" target=\"_blank\"><span style=\"color: #7f7f7f; text-decoration-color: #7f7f7f\">148</span></a>\n",
       "</pre>\n"
      ],
      "text/plain": [
       "\u001b[2;36m[05/24/23 15:20:07]\u001b[0m\u001b[2;36m \u001b[0m\u001b[34mINFO    \u001b[0m Loading hierarchical faiss index                                \u001b]8;id=386988;file:///home/Florian.Borchert/miniconda3/envs/xmen_notebooks/lib/python3.10/site-packages/xmen/linkers/sap_bert_linker.py\u001b\\\u001b[2msap_bert_linker.py\u001b[0m\u001b]8;;\u001b\\\u001b[2m:\u001b[0m\u001b]8;id=63155;file:///home/Florian.Borchert/miniconda3/envs/xmen_notebooks/lib/python3.10/site-packages/xmen/linkers/sap_bert_linker.py#148\u001b\\\u001b[2m148\u001b[0m\u001b]8;;\u001b\\\n"
      ]
     },
     "metadata": {},
     "output_type": "display_data"
    },
    {
     "data": {
      "text/html": [
       "<pre style=\"white-space:pre;overflow-x:auto;line-height:normal;font-family:Menlo,'DejaVu Sans Mono',consolas,'Courier New',monospace\"><span style=\"color: #7fbfbf; text-decoration-color: #7fbfbf\">                    </span><span style=\"color: #000080; text-decoration-color: #000080\">INFO    </span> Loading index from                                                 <a href=\"file:///home/Florian.Borchert/miniconda3/envs/xmen_notebooks/lib/python3.10/site-packages/xmen/linkers/faiss_indexer.py\" target=\"_blank\"><span style=\"color: #7f7f7f; text-decoration-color: #7f7f7f\">faiss_indexer.py</span></a><span style=\"color: #7f7f7f; text-decoration-color: #7f7f7f\">:</span><a href=\"file:///home/Florian.Borchert/miniconda3/envs/xmen_notebooks/lib/python3.10/site-packages/xmen/linkers/faiss_indexer.py#64\" target=\"_blank\"><span style=\"color: #7f7f7f; text-decoration-color: #7f7f7f\">64</span></a>\n",
       "<span style=\"color: #7fbfbf; text-decoration-color: #7fbfbf\">                    </span>         <span style=\"color: #800080; text-decoration-color: #800080\">/home/Florian.Borchert/.cache/xmen/ggponc/index/sapbert/</span><span style=\"color: #ff00ff; text-decoration-color: #ff00ff\">embed_fais</span> <span style=\"color: #7f7f7f; text-decoration-color: #7f7f7f\">                   </span>\n",
       "<span style=\"color: #7fbfbf; text-decoration-color: #7fbfbf\">                    </span>         <span style=\"color: #ff00ff; text-decoration-color: #ff00ff\">s_hier.pickle</span>                                                      <span style=\"color: #7f7f7f; text-decoration-color: #7f7f7f\">                   </span>\n",
       "</pre>\n"
      ],
      "text/plain": [
       "\u001b[2;36m                   \u001b[0m\u001b[2;36m \u001b[0m\u001b[34mINFO    \u001b[0m Loading index from                                                 \u001b]8;id=463744;file:///home/Florian.Borchert/miniconda3/envs/xmen_notebooks/lib/python3.10/site-packages/xmen/linkers/faiss_indexer.py\u001b\\\u001b[2mfaiss_indexer.py\u001b[0m\u001b]8;;\u001b\\\u001b[2m:\u001b[0m\u001b]8;id=796767;file:///home/Florian.Borchert/miniconda3/envs/xmen_notebooks/lib/python3.10/site-packages/xmen/linkers/faiss_indexer.py#64\u001b\\\u001b[2m64\u001b[0m\u001b]8;;\u001b\\\n",
       "\u001b[2;36m                    \u001b[0m         \u001b[35m/home/Florian.Borchert/.cache/xmen/ggponc/index/sapbert/\u001b[0m\u001b[95membed_fais\u001b[0m \u001b[2m                   \u001b[0m\n",
       "\u001b[2;36m                    \u001b[0m         \u001b[95ms_hier.pickle\u001b[0m                                                      \u001b[2m                   \u001b[0m\n"
      ]
     },
     "metadata": {},
     "output_type": "display_data"
    },
    {
     "data": {
      "text/html": [
       "<pre style=\"white-space:pre;overflow-x:auto;line-height:normal;font-family:Menlo,'DejaVu Sans Mono',consolas,'Courier New',monospace\"><span style=\"color: #7fbfbf; text-decoration-color: #7fbfbf\">[05/24/23 15:20:10] </span><span style=\"color: #000080; text-decoration-color: #000080\">INFO    </span> Loaded index of type <span style=\"font-weight: bold\">&lt;</span><span style=\"color: #ff00ff; text-decoration-color: #ff00ff; font-weight: bold\">class</span><span style=\"color: #000000; text-decoration-color: #000000\"> </span><span style=\"color: #008000; text-decoration-color: #008000\">'faiss.swigfaiss.IndexHNSWFlat'</span><span style=\"font-weight: bold\">&gt;</span> and   <a href=\"file:///home/Florian.Borchert/miniconda3/envs/xmen_notebooks/lib/python3.10/site-packages/xmen/linkers/faiss_indexer.py\" target=\"_blank\"><span style=\"color: #7f7f7f; text-decoration-color: #7f7f7f\">faiss_indexer.py</span></a><span style=\"color: #7f7f7f; text-decoration-color: #7f7f7f\">:</span><a href=\"file:///home/Florian.Borchert/miniconda3/envs/xmen_notebooks/lib/python3.10/site-packages/xmen/linkers/faiss_indexer.py#66\" target=\"_blank\"><span style=\"color: #7f7f7f; text-decoration-color: #7f7f7f\">66</span></a>\n",
       "<span style=\"color: #7fbfbf; text-decoration-color: #7fbfbf\">                    </span>         size <span style=\"color: #008080; text-decoration-color: #008080; font-weight: bold\">2906321</span>                                                       <span style=\"color: #7f7f7f; text-decoration-color: #7f7f7f\">                   </span>\n",
       "</pre>\n"
      ],
      "text/plain": [
       "\u001b[2;36m[05/24/23 15:20:10]\u001b[0m\u001b[2;36m \u001b[0m\u001b[34mINFO    \u001b[0m Loaded index of type \u001b[1m<\u001b[0m\u001b[1;95mclass\u001b[0m\u001b[39m \u001b[0m\u001b[32m'faiss.swigfaiss.IndexHNSWFlat'\u001b[0m\u001b[1m>\u001b[0m and   \u001b]8;id=716804;file:///home/Florian.Borchert/miniconda3/envs/xmen_notebooks/lib/python3.10/site-packages/xmen/linkers/faiss_indexer.py\u001b\\\u001b[2mfaiss_indexer.py\u001b[0m\u001b]8;;\u001b\\\u001b[2m:\u001b[0m\u001b]8;id=757282;file:///home/Florian.Borchert/miniconda3/envs/xmen_notebooks/lib/python3.10/site-packages/xmen/linkers/faiss_indexer.py#66\u001b\\\u001b[2m66\u001b[0m\u001b]8;;\u001b\\\n",
       "\u001b[2;36m                    \u001b[0m         size \u001b[1;36m2906321\u001b[0m                                                       \u001b[2m                   \u001b[0m\n"
      ]
     },
     "metadata": {},
     "output_type": "display_data"
    }
   ],
   "source": [
    "SapBERTLinker.clear()\n",
    "sap_linker = SapBERTLinker(cuda=False, **conf.linker.candidate_generation.sapbert)"
   ]
  },
  {
   "cell_type": "code",
   "execution_count": 13,
   "id": "ec6cd089-3a63-45e8-9178-86999e7f0441",
   "metadata": {},
   "outputs": [
    {
     "data": {
      "application/vnd.jupyter.widget-view+json": {
       "model_id": "",
       "version_major": 2,
       "version_minor": 0
      },
      "text/plain": [
       "Map:   0%|          | 0/3 [00:00<?, ? examples/s]"
      ]
     },
     "metadata": {},
     "output_type": "display_data"
    }
   ],
   "source": [
    "linker = EnsembleLinker()\n",
    "linker.add_linker('ngram', ngram_linker, k=10, threshold=0.9)\n",
    "linker.add_linker('sap', sap_linker, k=10, threshold=0.8)\n",
    "\n",
    "prediction = linker.predict_batch(dataset, batch_size=1)"
   ]
  },
  {
   "cell_type": "markdown",
   "id": "b3689a61-2ee1-4c81-afc7-6f6751654020",
   "metadata": {},
   "source": [
    "## Semantic Type Filtering\n",
    "\n",
    "We filter the generated output to make sure the semantic type of the predicted concepts actually matches the semantic class of the named entity.\n",
    "\n",
    "As the GGPONC entity classes are based on SNOMED CT top level concepts, while we link against UMLS CUIS, we provide a mapping of GGPONC enitity types to UMLS TUIs in `ggponc2tui.tsv`\n",
    "\n",
    "Semantic Type Filtering is particularly useful for ambiguous abbreviations (e.g., \"EGFR\" as in the example)"
   ]
  },
  {
   "cell_type": "code",
   "execution_count": 14,
   "id": "515adb34-e2de-4f7f-b133-41ddf8ca421d",
   "metadata": {},
   "outputs": [],
   "source": [
    "from xmen.kb import load_kb\n",
    "from xmen.data import SemanticTypeFilter\n",
    "import pandas as pd"
   ]
  },
  {
   "cell_type": "code",
   "execution_count": 15,
   "id": "29f28a60-d5d4-4ee3-bedb-55e71d15fe84",
   "metadata": {},
   "outputs": [],
   "source": [
    "kb = load_kb(Path(conf.cache_dir) / 'ggponc' / 'ggponc.jsonl')"
   ]
  },
  {
   "cell_type": "code",
   "execution_count": 16,
   "id": "df540489-bdb6-4e60-a4bf-59860861d284",
   "metadata": {},
   "outputs": [],
   "source": [
    "tui_df = pd.read_csv('ggponc2tui.csv')\n",
    "type2tui = {}\n",
    "for c in ['Diagnosis_or_Pathology', 'Other_Finding', 'Clinical_Drug', 'Nutrient_or_Body_Substance',\n",
    "       'External_Substance', 'Therapeutic', 'Diagnostic']:\n",
    "    type2tui[c] = list(tui_df.TUI[tui_df[c] == 'x'].values)"
   ]
  },
  {
   "cell_type": "code",
   "execution_count": 17,
   "id": "0b7f48f2-9b8d-41f7-a526-49b9ff318170",
   "metadata": {},
   "outputs": [],
   "source": [
    "type_filter = SemanticTypeFilter(type2tui, kb)"
   ]
  },
  {
   "cell_type": "code",
   "execution_count": 18,
   "id": "14ebda62-a868-4bc9-8c84-a0580935b0c7",
   "metadata": {},
   "outputs": [
    {
     "data": {
      "application/vnd.jupyter.widget-view+json": {
       "model_id": "",
       "version_major": 2,
       "version_minor": 0
      },
      "text/plain": [
       "Map:   0%|          | 0/3 [00:00<?, ? examples/s]"
      ]
     },
     "metadata": {},
     "output_type": "display_data"
    }
   ],
   "source": [
    "filtered_prediction = type_filter.transform_batch(prediction)"
   ]
  },
  {
   "cell_type": "code",
   "execution_count": 19,
   "id": "308b40e7-d97a-4b58-b933-ecc8083fcc97",
   "metadata": {},
   "outputs": [
    {
     "name": "stdout",
     "output_type": "stream",
     "text": [
      "['EGFR']\n",
      "{'db_id': 'C3811844', 'db_name': 'UMLS', 'predicted_by': ['ngram', 'sap'], 'score': 1.0}\n",
      "CUI: C3811844, Name: Geschaetzte glomerulaere Filtrationsrate\n",
      "Definition: A laboratory test that estimates kidney function. It is calculated using an individual's serum creatinine measurement, age, gender, and race. Actual results are reported when the estimated glomerular filtration rate is less than 60 ml/min.\n",
      "TUI(s): T059\n",
      "Aliases: (total: 3): \n",
      "\t eGFR, Estimated Glomerular Filtration Rate, Estimated glomerular filtration rate\n"
     ]
    }
   ],
   "source": [
    "# Before Filtering\n",
    "entity = prediction[0]['entities'][3]\n",
    "print(entity['text'])\n",
    "print(entity['normalized'][0])\n",
    "print(kb.cui_to_entity['C3811844'])"
   ]
  },
  {
   "cell_type": "code",
   "execution_count": 20,
   "id": "bc358d6c-c1a6-4b8a-9839-3a527c3f2a67",
   "metadata": {},
   "outputs": [
    {
     "name": "stdout",
     "output_type": "stream",
     "text": [
      "['EGFR']\n",
      "{'db_id': 'C1739039', 'db_name': 'UMLS', 'predicted_by': ['ngram', 'sap'], 'score': 1.0}\n",
      "CUI: C1739039, Name: EGFR\n",
      "Definition: The protein found on the surface of some cells and to which epidermal growth factor binds, causing the cells to divide. It is found at abnormally high levels on the surface of many types of cancer cells, so these cells may divide excessively in the presence of epidermal growth factor.\n",
      "TUI(s): T116, T192\n",
      "Aliases (abbreviated, total: 20): \n",
      "\t EGF Receptor, ERBB Protein, HER1 protein, human, epidermal growth factor receptor related protein, human, EGFR protein, human, HER-1, epidermal growth factor receptor (erythroblastic leukemia viral (v-erb-b) oncogene homolog, avian) protein, human, Proto-Oncogene c-erbB-1, ERRP protein, human, Erb-B2 Receptor Tyrosine Kinase 1\n"
     ]
    }
   ],
   "source": [
    "# After Filtering\n",
    "entity = filtered_prediction[0]['entities'][3]\n",
    "print(entity['text'])\n",
    "print(entity['normalized'][0])\n",
    "print(kb.cui_to_entity['C1739039'])"
   ]
  },
  {
   "cell_type": "markdown",
   "id": "b43d94d5-63b6-478a-8bc6-fdee335c9046",
   "metadata": {},
   "source": [
    "# Final Output"
   ]
  },
  {
   "cell_type": "code",
   "execution_count": 21,
   "id": "c3a659c4-0371-4b6f-9544-8b1fc6615c61",
   "metadata": {},
   "outputs": [
    {
     "name": "stdout",
     "output_type": "stream",
     "text": [
      "Cetuximab --- Clinical_Drug ---> C0995188 (Cetuximab), Score: 1.00\n",
      "monoklonaler Antikörper --- Clinical_Drug ---> C0003250 (Antikörper, monoklonale), Score: 0.98\n",
      "epidermalen Wachstumsfaktorrezeptor --- Nutrient_or_Body_Substance ---> C3812393 (ErbB-Rezeptoren), Score: 0.96\n",
      "EGFR --- Nutrient_or_Body_Substance ---> C1739039 (EGFR), Score: 1.00\n",
      "Therapie des fortgeschrittenen kolorektalen Karzinoms --- Therapeutic -/- ### Not linkable ###\n",
      "fortgeschrittenen kolorektalen Karzinoms --- Diagnosis_or_Pathology ---> C4721579 (Kolorektalkarzinom mit Metastasen), Score: 0.84\n",
      "Irinotecan --- Clinical_Drug ---> C0123931 (Irinotecan), Score: 1.00\n",
      "FOLFOX --- Therapeutic ---> C0309154 (FUROX), Score: 0.84\n",
      "Versagen --- Diagnosis_or_Pathology -/- ### Not linkable ###\n",
      "Behandlung mit Oxaliplatin und Irinotecan --- Therapeutic ---> C0796324 (IROX Regimen), Score: 0.88\n",
      "Oxaliplatin --- Clinical_Drug ---> C0069717 (Oxaliplatin), Score: 1.00\n",
      "Irinotecan --- Clinical_Drug ---> C0123931 (Irinotecan), Score: 1.00\n",
      "HPV-Diagnostik --- Diagnostic ---> C3839551 (Human papilloma virus screening), Score: 0.91\n",
      "Plattenepithelkarzinom der Mundhöhle --- Diagnosis_or_Pathology ---> C0585362 (Plattenepithelkarzinom der Mundhoehle), Score: 0.99\n",
      "zytologischem Verdacht auf CIN 1/2 --- Other_Finding -/- ### Not linkable ###\n",
      "sofortige Kolposkopie --- Diagnostic ---> C0009417 (Kolposkopie), Score: 0.82\n"
     ]
    }
   ],
   "source": [
    "for d in filtered_prediction:\n",
    "    for e in d['entities']:\n",
    "        span = ' '.join(e['text'])\n",
    "        label = e['type']\n",
    "        top_concept = e['normalized'][0] if len(e['normalized']) > 0 else None\n",
    "        if top_concept:\n",
    "            cui = top_concept['db_id']\n",
    "            print(span, '---', label, '--->', f\"{cui} ({kb.cui_to_entity[cui].canonical_name}), Score: {top_concept['score']:.2f}\", )\n",
    "        else:\n",
    "            print(span, '---', label, '-/-', '### Not linkable ###')"
   ]
  },
  {
   "cell_type": "code",
   "execution_count": null,
   "id": "805ac193-f451-44ac-9647-6e96e5bf9f16",
   "metadata": {},
   "outputs": [],
   "source": []
  }
 ],
 "metadata": {
  "kernelspec": {
   "display_name": "Python [conda env:xmen_notebooks]",
   "language": "python",
   "name": "conda-env-xmen_notebooks-py"
  },
  "language_info": {
   "codemirror_mode": {
    "name": "ipython",
    "version": 3
   },
   "file_extension": ".py",
   "mimetype": "text/x-python",
   "name": "python",
   "nbconvert_exporter": "python",
   "pygments_lexer": "ipython3",
   "version": "3.10.11"
  }
 },
 "nbformat": 4,
 "nbformat_minor": 5
}
